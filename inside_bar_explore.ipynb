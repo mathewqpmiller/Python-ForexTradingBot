{
 "cells": [
  {
   "cell_type": "code",
   "execution_count": 22,
   "metadata": {},
   "outputs": [],
   "source": [
    "import pandas as pd\n",
    "import plotly.graph_objects as go\n",
    "import utils\n"
   ]
  },
  {
   "cell_type": "code",
   "execution_count": 23,
   "metadata": {},
   "outputs": [],
   "source": [
    "pair = \"USD_JPY\"\n",
    "granularity = \"H4\"\n",
    "df_raw = pd.read_pickle(utils.get_his_data_filename(pair, granularity))\n"
   ]
  },
  {
   "cell_type": "code",
   "execution_count": 24,
   "metadata": {},
   "outputs": [],
   "source": [
    "non_cols = ['time', 'volume']\n",
    "mod_cols = [x for x in df_raw.columns if x not in non_cols]\n",
    "df_raw[mod_cols] = df_raw[mod_cols].apply(pd.to_numeric)"
   ]
  },
  {
   "cell_type": "code",
   "execution_count": 25,
   "metadata": {},
   "outputs": [
    {
     "data": {
      "text/plain": [
       "Index(['time', 'volume', 'mid_o', 'mid_h', 'mid_l', 'mid_c', 'bid_o', 'bid_h',\n",
       "       'bid_l', 'bid_c', 'ask_o', 'ask_h', 'ask_l', 'ask_c'],\n",
       "      dtype='object')"
      ]
     },
     "execution_count": 25,
     "metadata": {},
     "output_type": "execute_result"
    }
   ],
   "source": [
    "df_raw.columns"
   ]
  },
  {
   "cell_type": "code",
   "execution_count": 26,
   "metadata": {},
   "outputs": [],
   "source": [
    "df = df_raw[['time', 'mid_o', 'mid_h', 'mid_l', 'mid_c', 'bid_c', 'ask_c']].copy()"
   ]
  },
  {
   "cell_type": "code",
   "execution_count": 27,
   "metadata": {},
   "outputs": [
    {
     "data": {
      "text/html": [
       "<div>\n",
       "<style scoped>\n",
       "    .dataframe tbody tr th:only-of-type {\n",
       "        vertical-align: middle;\n",
       "    }\n",
       "\n",
       "    .dataframe tbody tr th {\n",
       "        vertical-align: top;\n",
       "    }\n",
       "\n",
       "    .dataframe thead th {\n",
       "        text-align: right;\n",
       "    }\n",
       "</style>\n",
       "<table border=\"1\" class=\"dataframe\">\n",
       "  <thead>\n",
       "    <tr style=\"text-align: right;\">\n",
       "      <th></th>\n",
       "      <th>time</th>\n",
       "      <th>mid_o</th>\n",
       "      <th>mid_h</th>\n",
       "      <th>mid_l</th>\n",
       "      <th>mid_c</th>\n",
       "      <th>bid_c</th>\n",
       "      <th>ask_c</th>\n",
       "    </tr>\n",
       "  </thead>\n",
       "  <tbody>\n",
       "    <tr>\n",
       "      <th>0</th>\n",
       "      <td>2020-01-01T22:00:00.000000000Z</td>\n",
       "      <td>108.651</td>\n",
       "      <td>108.761</td>\n",
       "      <td>108.607</td>\n",
       "      <td>108.673</td>\n",
       "      <td>108.667</td>\n",
       "      <td>108.679</td>\n",
       "    </tr>\n",
       "    <tr>\n",
       "      <th>1</th>\n",
       "      <td>2020-01-02T02:00:00.000000000Z</td>\n",
       "      <td>108.671</td>\n",
       "      <td>108.758</td>\n",
       "      <td>108.658</td>\n",
       "      <td>108.742</td>\n",
       "      <td>108.736</td>\n",
       "      <td>108.747</td>\n",
       "    </tr>\n",
       "    <tr>\n",
       "      <th>2</th>\n",
       "      <td>2020-01-02T06:00:00.000000000Z</td>\n",
       "      <td>108.744</td>\n",
       "      <td>108.842</td>\n",
       "      <td>108.696</td>\n",
       "      <td>108.839</td>\n",
       "      <td>108.833</td>\n",
       "      <td>108.845</td>\n",
       "    </tr>\n",
       "    <tr>\n",
       "      <th>3</th>\n",
       "      <td>2020-01-02T10:00:00.000000000Z</td>\n",
       "      <td>108.836</td>\n",
       "      <td>108.866</td>\n",
       "      <td>108.658</td>\n",
       "      <td>108.694</td>\n",
       "      <td>108.688</td>\n",
       "      <td>108.700</td>\n",
       "    </tr>\n",
       "    <tr>\n",
       "      <th>4</th>\n",
       "      <td>2020-01-02T14:00:00.000000000Z</td>\n",
       "      <td>108.697</td>\n",
       "      <td>108.748</td>\n",
       "      <td>108.212</td>\n",
       "      <td>108.529</td>\n",
       "      <td>108.523</td>\n",
       "      <td>108.535</td>\n",
       "    </tr>\n",
       "  </tbody>\n",
       "</table>\n",
       "</div>"
      ],
      "text/plain": [
       "                             time    mid_o    mid_h    mid_l    mid_c  \\\n",
       "0  2020-01-01T22:00:00.000000000Z  108.651  108.761  108.607  108.673   \n",
       "1  2020-01-02T02:00:00.000000000Z  108.671  108.758  108.658  108.742   \n",
       "2  2020-01-02T06:00:00.000000000Z  108.744  108.842  108.696  108.839   \n",
       "3  2020-01-02T10:00:00.000000000Z  108.836  108.866  108.658  108.694   \n",
       "4  2020-01-02T14:00:00.000000000Z  108.697  108.748  108.212  108.529   \n",
       "\n",
       "     bid_c    ask_c  \n",
       "0  108.667  108.679  \n",
       "1  108.736  108.747  \n",
       "2  108.833  108.845  \n",
       "3  108.688  108.700  \n",
       "4  108.523  108.535  "
      ]
     },
     "execution_count": 27,
     "metadata": {},
     "output_type": "execute_result"
    }
   ],
   "source": [
    "df.head()"
   ]
  },
  {
   "cell_type": "code",
   "execution_count": 28,
   "metadata": {},
   "outputs": [
    {
     "data": {
      "text/plain": [
       "Index(['time', 'volume', 'mid_o', 'mid_h', 'mid_l', 'mid_c', 'bid_o', 'bid_h',\n",
       "       'bid_l', 'bid_c', 'ask_o', 'ask_h', 'ask_l', 'ask_c'],\n",
       "      dtype='object')"
      ]
     },
     "execution_count": 28,
     "metadata": {},
     "output_type": "execute_result"
    }
   ],
   "source": [
    "df_raw.columns"
   ]
  },
  {
   "cell_type": "code",
   "execution_count": null,
   "metadata": {},
   "outputs": [],
   "source": []
  },
  {
   "cell_type": "code",
   "execution_count": 29,
   "metadata": {},
   "outputs": [
    {
     "data": {
      "text/html": [
       "<div>\n",
       "<style scoped>\n",
       "    .dataframe tbody tr th:only-of-type {\n",
       "        vertical-align: middle;\n",
       "    }\n",
       "\n",
       "    .dataframe tbody tr th {\n",
       "        vertical-align: top;\n",
       "    }\n",
       "\n",
       "    .dataframe thead th {\n",
       "        text-align: right;\n",
       "    }\n",
       "</style>\n",
       "<table border=\"1\" class=\"dataframe\">\n",
       "  <thead>\n",
       "    <tr style=\"text-align: right;\">\n",
       "      <th></th>\n",
       "      <th>time</th>\n",
       "      <th>mid_o</th>\n",
       "      <th>mid_h</th>\n",
       "      <th>mid_l</th>\n",
       "      <th>mid_c</th>\n",
       "      <th>bid_c</th>\n",
       "      <th>ask_c</th>\n",
       "    </tr>\n",
       "  </thead>\n",
       "  <tbody>\n",
       "    <tr>\n",
       "      <th>0</th>\n",
       "      <td>2020-01-01T22:00:00.000000000Z</td>\n",
       "      <td>108.651</td>\n",
       "      <td>108.761</td>\n",
       "      <td>108.607</td>\n",
       "      <td>108.673</td>\n",
       "      <td>108.667</td>\n",
       "      <td>108.679</td>\n",
       "    </tr>\n",
       "    <tr>\n",
       "      <th>1</th>\n",
       "      <td>2020-01-02T02:00:00.000000000Z</td>\n",
       "      <td>108.671</td>\n",
       "      <td>108.758</td>\n",
       "      <td>108.658</td>\n",
       "      <td>108.742</td>\n",
       "      <td>108.736</td>\n",
       "      <td>108.747</td>\n",
       "    </tr>\n",
       "    <tr>\n",
       "      <th>2</th>\n",
       "      <td>2020-01-02T06:00:00.000000000Z</td>\n",
       "      <td>108.744</td>\n",
       "      <td>108.842</td>\n",
       "      <td>108.696</td>\n",
       "      <td>108.839</td>\n",
       "      <td>108.833</td>\n",
       "      <td>108.845</td>\n",
       "    </tr>\n",
       "    <tr>\n",
       "      <th>3</th>\n",
       "      <td>2020-01-02T10:00:00.000000000Z</td>\n",
       "      <td>108.836</td>\n",
       "      <td>108.866</td>\n",
       "      <td>108.658</td>\n",
       "      <td>108.694</td>\n",
       "      <td>108.688</td>\n",
       "      <td>108.700</td>\n",
       "    </tr>\n",
       "    <tr>\n",
       "      <th>4</th>\n",
       "      <td>2020-01-02T14:00:00.000000000Z</td>\n",
       "      <td>108.697</td>\n",
       "      <td>108.748</td>\n",
       "      <td>108.212</td>\n",
       "      <td>108.529</td>\n",
       "      <td>108.523</td>\n",
       "      <td>108.535</td>\n",
       "    </tr>\n",
       "  </tbody>\n",
       "</table>\n",
       "</div>"
      ],
      "text/plain": [
       "                             time    mid_o    mid_h    mid_l    mid_c  \\\n",
       "0  2020-01-01T22:00:00.000000000Z  108.651  108.761  108.607  108.673   \n",
       "1  2020-01-02T02:00:00.000000000Z  108.671  108.758  108.658  108.742   \n",
       "2  2020-01-02T06:00:00.000000000Z  108.744  108.842  108.696  108.839   \n",
       "3  2020-01-02T10:00:00.000000000Z  108.836  108.866  108.658  108.694   \n",
       "4  2020-01-02T14:00:00.000000000Z  108.697  108.748  108.212  108.529   \n",
       "\n",
       "     bid_c    ask_c  \n",
       "0  108.667  108.679  \n",
       "1  108.736  108.747  \n",
       "2  108.833  108.845  \n",
       "3  108.688  108.700  \n",
       "4  108.523  108.535  "
      ]
     },
     "execution_count": 29,
     "metadata": {},
     "output_type": "execute_result"
    }
   ],
   "source": [
    "df.head()"
   ]
  },
  {
   "cell_type": "code",
   "execution_count": 36,
   "metadata": {},
   "outputs": [],
   "source": [
    "def direction(row):\n",
    "    if row.mid_c > row.mid_o:\n",
    "        return 1\n",
    "    return -1\n",
    "\n",
    "def get_signal(row):\n",
    "    if row.mid_h_prev > row.mid_h and row.mid_l_prev < row.mid_l:\n",
    "        return row.DIRECTION_prev\n",
    "    return 0"
   ]
  },
  {
   "cell_type": "code",
   "execution_count": 39,
   "metadata": {},
   "outputs": [],
   "source": [
    "df = df_raw[['time', 'mid_o', 'mid_h', 'mid_l', 'mid_c', 'bid_c', 'ask_c']].copy()\n",
    "df['RANGE'] = df.mid_h - df.mid_l\n",
    "df['mid_h_prev'] = df.mid_h.shift(1)\n",
    "df['mid_l_prev'] = df.mid_l.shift(1)\n",
    "df['RANGE_prev'] = df.RANGE.shift(1)\n",
    "df['DIRECTION'] = df.apply(direction, axis=1)\n",
    "df['DIRECTION_prev'] = df.DIRECTION.shift(1).fillna(0).astype(int)\n",
    "df.dropna(inplace=True)\n",
    "df['SIGNAL'] = df.apply(get_signal, axis=1)\n",
    "df.reset_index(drop=True, inplace=True)\n"
   ]
  },
  {
   "cell_type": "code",
   "execution_count": 40,
   "metadata": {},
   "outputs": [
    {
     "data": {
      "text/html": [
       "<div>\n",
       "<style scoped>\n",
       "    .dataframe tbody tr th:only-of-type {\n",
       "        vertical-align: middle;\n",
       "    }\n",
       "\n",
       "    .dataframe tbody tr th {\n",
       "        vertical-align: top;\n",
       "    }\n",
       "\n",
       "    .dataframe thead th {\n",
       "        text-align: right;\n",
       "    }\n",
       "</style>\n",
       "<table border=\"1\" class=\"dataframe\">\n",
       "  <thead>\n",
       "    <tr style=\"text-align: right;\">\n",
       "      <th></th>\n",
       "      <th>time</th>\n",
       "      <th>mid_o</th>\n",
       "      <th>mid_h</th>\n",
       "      <th>mid_l</th>\n",
       "      <th>mid_c</th>\n",
       "      <th>bid_c</th>\n",
       "      <th>ask_c</th>\n",
       "      <th>RANGE</th>\n",
       "      <th>mid_h_prev</th>\n",
       "      <th>mid_l_prev</th>\n",
       "      <th>RANGE_prev</th>\n",
       "      <th>DIRECTION</th>\n",
       "      <th>DIRECTION_prev</th>\n",
       "      <th>SIGNAL</th>\n",
       "    </tr>\n",
       "  </thead>\n",
       "  <tbody>\n",
       "    <tr>\n",
       "      <th>0</th>\n",
       "      <td>2020-01-02T02:00:00.000000000Z</td>\n",
       "      <td>108.671</td>\n",
       "      <td>108.758</td>\n",
       "      <td>108.658</td>\n",
       "      <td>108.742</td>\n",
       "      <td>108.736</td>\n",
       "      <td>108.747</td>\n",
       "      <td>0.100</td>\n",
       "      <td>108.761</td>\n",
       "      <td>108.607</td>\n",
       "      <td>0.154</td>\n",
       "      <td>1</td>\n",
       "      <td>1</td>\n",
       "      <td>1</td>\n",
       "    </tr>\n",
       "    <tr>\n",
       "      <th>1</th>\n",
       "      <td>2020-01-02T06:00:00.000000000Z</td>\n",
       "      <td>108.744</td>\n",
       "      <td>108.842</td>\n",
       "      <td>108.696</td>\n",
       "      <td>108.839</td>\n",
       "      <td>108.833</td>\n",
       "      <td>108.845</td>\n",
       "      <td>0.146</td>\n",
       "      <td>108.758</td>\n",
       "      <td>108.658</td>\n",
       "      <td>0.100</td>\n",
       "      <td>1</td>\n",
       "      <td>1</td>\n",
       "      <td>0</td>\n",
       "    </tr>\n",
       "    <tr>\n",
       "      <th>2</th>\n",
       "      <td>2020-01-02T10:00:00.000000000Z</td>\n",
       "      <td>108.836</td>\n",
       "      <td>108.866</td>\n",
       "      <td>108.658</td>\n",
       "      <td>108.694</td>\n",
       "      <td>108.688</td>\n",
       "      <td>108.700</td>\n",
       "      <td>0.208</td>\n",
       "      <td>108.842</td>\n",
       "      <td>108.696</td>\n",
       "      <td>0.146</td>\n",
       "      <td>-1</td>\n",
       "      <td>1</td>\n",
       "      <td>0</td>\n",
       "    </tr>\n",
       "    <tr>\n",
       "      <th>3</th>\n",
       "      <td>2020-01-02T14:00:00.000000000Z</td>\n",
       "      <td>108.697</td>\n",
       "      <td>108.748</td>\n",
       "      <td>108.212</td>\n",
       "      <td>108.529</td>\n",
       "      <td>108.523</td>\n",
       "      <td>108.535</td>\n",
       "      <td>0.536</td>\n",
       "      <td>108.866</td>\n",
       "      <td>108.658</td>\n",
       "      <td>0.208</td>\n",
       "      <td>-1</td>\n",
       "      <td>-1</td>\n",
       "      <td>0</td>\n",
       "    </tr>\n",
       "    <tr>\n",
       "      <th>4</th>\n",
       "      <td>2020-01-02T18:00:00.000000000Z</td>\n",
       "      <td>108.526</td>\n",
       "      <td>108.572</td>\n",
       "      <td>108.494</td>\n",
       "      <td>108.561</td>\n",
       "      <td>108.511</td>\n",
       "      <td>108.611</td>\n",
       "      <td>0.078</td>\n",
       "      <td>108.748</td>\n",
       "      <td>108.212</td>\n",
       "      <td>0.536</td>\n",
       "      <td>1</td>\n",
       "      <td>-1</td>\n",
       "      <td>-1</td>\n",
       "    </tr>\n",
       "  </tbody>\n",
       "</table>\n",
       "</div>"
      ],
      "text/plain": [
       "                             time    mid_o    mid_h    mid_l    mid_c  \\\n",
       "0  2020-01-02T02:00:00.000000000Z  108.671  108.758  108.658  108.742   \n",
       "1  2020-01-02T06:00:00.000000000Z  108.744  108.842  108.696  108.839   \n",
       "2  2020-01-02T10:00:00.000000000Z  108.836  108.866  108.658  108.694   \n",
       "3  2020-01-02T14:00:00.000000000Z  108.697  108.748  108.212  108.529   \n",
       "4  2020-01-02T18:00:00.000000000Z  108.526  108.572  108.494  108.561   \n",
       "\n",
       "     bid_c    ask_c  RANGE  mid_h_prev  mid_l_prev  RANGE_prev  DIRECTION  \\\n",
       "0  108.736  108.747  0.100     108.761     108.607       0.154          1   \n",
       "1  108.833  108.845  0.146     108.758     108.658       0.100          1   \n",
       "2  108.688  108.700  0.208     108.842     108.696       0.146         -1   \n",
       "3  108.523  108.535  0.536     108.866     108.658       0.208         -1   \n",
       "4  108.511  108.611  0.078     108.748     108.212       0.536          1   \n",
       "\n",
       "   DIRECTION_prev  SIGNAL  \n",
       "0               1       1  \n",
       "1               1       0  \n",
       "2               1       0  \n",
       "3              -1       0  \n",
       "4              -1      -1  "
      ]
     },
     "execution_count": 40,
     "metadata": {},
     "output_type": "execute_result"
    }
   ],
   "source": [
    "df.head()"
   ]
  },
  {
   "cell_type": "code",
   "execution_count": 42,
   "metadata": {},
   "outputs": [
    {
     "data": {
      "text/plain": [
       "(804, 14)"
      ]
     },
     "execution_count": 42,
     "metadata": {},
     "output_type": "execute_result"
    }
   ],
   "source": [
    "df[df.SIGNAL!=0].shape"
   ]
  },
  {
   "cell_type": "code",
   "execution_count": 43,
   "metadata": {},
   "outputs": [
    {
     "data": {
      "text/plain": [
       "(4674, 14)"
      ]
     },
     "execution_count": 43,
     "metadata": {},
     "output_type": "execute_result"
    }
   ],
   "source": [
    "df.shape"
   ]
  },
  {
   "cell_type": "code",
   "execution_count": null,
   "metadata": {},
   "outputs": [],
   "source": []
  }
 ],
 "metadata": {
  "kernelspec": {
   "display_name": "venv",
   "language": "python",
   "name": "python3"
  },
  "language_info": {
   "codemirror_mode": {
    "name": "ipython",
    "version": 3
   },
   "file_extension": ".py",
   "mimetype": "text/x-python",
   "name": "python",
   "nbconvert_exporter": "python",
   "pygments_lexer": "ipython3",
   "version": "3.11.1"
  },
  "orig_nbformat": 4,
  "vscode": {
   "interpreter": {
    "hash": "fda0f0fb60ecb5fc85efacd84e1859512479306cf791e683553414edd7237eac"
   }
  }
 },
 "nbformat": 4,
 "nbformat_minor": 2
}
