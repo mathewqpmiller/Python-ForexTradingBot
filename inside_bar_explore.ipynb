{
 "cells": [
  {
   "cell_type": "code",
   "execution_count": 20,
   "metadata": {},
   "outputs": [],
   "source": [
    "import pandas as pd\n",
    "import plotly.graph_objects as go\n",
    "import utils\n"
   ]
  },
  {
   "cell_type": "code",
   "execution_count": 21,
   "metadata": {},
   "outputs": [],
   "source": [
    "plot_cols = ['ENTRY', 'STOPLOSS', 'TAKEPROFIT']\n",
    "plot_colours = ['#043ef9', '#eb5334', '#34eb37']\n",
    "\n",
    "def plot_candles(df_plot):\n",
    "    fig = go.Figure()\n",
    "    fig.add_trace(go.Candlestick(\n",
    "        x=df_plot.time, open=df_plot.mid_o, high=df_plot.mid_h, low=df_plot.mid_l, close=df_plot.mid_c,\n",
    "        line=dict(width=1), opacity=1,\n",
    "        increasing_fillcolor='#24A06B',\n",
    "        decreasing_fillcolor=\"#CC2E3C\",\n",
    "        increasing_line_color='#2EC886',\n",
    "        decreasing_line_color='#FF3A4C'\n",
    "    ))\n",
    "    for i in range(0, 3):\n",
    "        fig.add_trace(go.Scatter(\n",
    "            x=df_buys.time,\n",
    "            y=df_buys[plot_cols[i]],\n",
    "            mode='markers',\n",
    "            marker=dict(color=plot_colours[i],size=12)\n",
    "        ))\n",
    "    for i in range(0, 3):\n",
    "        fig.add_trace(go.Scatter(\n",
    "            x=df_sells.time,\n",
    "            y=df_sells[plot_cols[i]],\n",
    "            mode='markers',\n",
    "            marker=dict(color=plot_colours[i],size=12)\n",
    "        ))\n",
    "    fig.update_layout(width=1000,height=400,\n",
    "        margin=dict(l=10,b=10,t=10),\n",
    "        font=dict(size=10,color=\"#e1e1e1\"),\n",
    "        paper_bgcolor=\"#1e1e1e\",\n",
    "        plot_bgcolor=\"#1e1e1e\")\n",
    "    fig.update_xaxes(\n",
    "        gridcolor=\"#1f292f\",\n",
    "        showgrid=True,fixedrange=True,rangeslider=dict(visible=False),\n",
    "        rangebreaks=[\n",
    "            dict(bounds=[\"sat\", \"mon\"])\n",
    "        ]\n",
    "    )\n",
    "    fig.update_yaxes(\n",
    "        gridcolor=\"#1f292f\",\n",
    "        showgrid=True,\n",
    "    )\n",
    "    fig.show()"
   ]
  },
  {
   "cell_type": "code",
   "execution_count": 22,
   "metadata": {},
   "outputs": [],
   "source": [
    "pair = \"USD_JPY\"\n",
    "granularity = \"H4\"\n",
    "df_raw = pd.read_pickle(utils.get_his_data_filename(pair, granularity))\n"
   ]
  },
  {
   "cell_type": "code",
   "execution_count": 23,
   "metadata": {},
   "outputs": [],
   "source": [
    "non_cols = ['time', 'volume']\n",
    "mod_cols = [x for x in df_raw.columns if x not in non_cols]\n",
    "df_raw[mod_cols] = df_raw[mod_cols].apply(pd.to_numeric)"
   ]
  },
  {
   "cell_type": "code",
   "execution_count": 24,
   "metadata": {},
   "outputs": [
    {
     "data": {
      "text/plain": [
       "Index(['time', 'volume', 'mid_o', 'mid_h', 'mid_l', 'mid_c', 'bid_o', 'bid_h',\n",
       "       'bid_l', 'bid_c', 'ask_o', 'ask_h', 'ask_l', 'ask_c'],\n",
       "      dtype='object')"
      ]
     },
     "execution_count": 24,
     "metadata": {},
     "output_type": "execute_result"
    }
   ],
   "source": [
    "df_raw.columns"
   ]
  },
  {
   "cell_type": "code",
   "execution_count": 25,
   "metadata": {},
   "outputs": [],
   "source": [
    "df = df_raw[['time', 'mid_o', 'mid_h', 'mid_l', 'mid_c', 'bid_c', 'ask_c']].copy()"
   ]
  },
  {
   "cell_type": "code",
   "execution_count": 26,
   "metadata": {},
   "outputs": [
    {
     "data": {
      "text/html": [
       "<div>\n",
       "<style scoped>\n",
       "    .dataframe tbody tr th:only-of-type {\n",
       "        vertical-align: middle;\n",
       "    }\n",
       "\n",
       "    .dataframe tbody tr th {\n",
       "        vertical-align: top;\n",
       "    }\n",
       "\n",
       "    .dataframe thead th {\n",
       "        text-align: right;\n",
       "    }\n",
       "</style>\n",
       "<table border=\"1\" class=\"dataframe\">\n",
       "  <thead>\n",
       "    <tr style=\"text-align: right;\">\n",
       "      <th></th>\n",
       "      <th>time</th>\n",
       "      <th>mid_o</th>\n",
       "      <th>mid_h</th>\n",
       "      <th>mid_l</th>\n",
       "      <th>mid_c</th>\n",
       "      <th>bid_c</th>\n",
       "      <th>ask_c</th>\n",
       "    </tr>\n",
       "  </thead>\n",
       "  <tbody>\n",
       "    <tr>\n",
       "      <th>0</th>\n",
       "      <td>2020-01-01T22:00:00.000000000Z</td>\n",
       "      <td>108.651</td>\n",
       "      <td>108.761</td>\n",
       "      <td>108.607</td>\n",
       "      <td>108.673</td>\n",
       "      <td>108.667</td>\n",
       "      <td>108.679</td>\n",
       "    </tr>\n",
       "    <tr>\n",
       "      <th>1</th>\n",
       "      <td>2020-01-02T02:00:00.000000000Z</td>\n",
       "      <td>108.671</td>\n",
       "      <td>108.758</td>\n",
       "      <td>108.658</td>\n",
       "      <td>108.742</td>\n",
       "      <td>108.736</td>\n",
       "      <td>108.747</td>\n",
       "    </tr>\n",
       "    <tr>\n",
       "      <th>2</th>\n",
       "      <td>2020-01-02T06:00:00.000000000Z</td>\n",
       "      <td>108.744</td>\n",
       "      <td>108.842</td>\n",
       "      <td>108.696</td>\n",
       "      <td>108.839</td>\n",
       "      <td>108.833</td>\n",
       "      <td>108.845</td>\n",
       "    </tr>\n",
       "    <tr>\n",
       "      <th>3</th>\n",
       "      <td>2020-01-02T10:00:00.000000000Z</td>\n",
       "      <td>108.836</td>\n",
       "      <td>108.866</td>\n",
       "      <td>108.658</td>\n",
       "      <td>108.694</td>\n",
       "      <td>108.688</td>\n",
       "      <td>108.700</td>\n",
       "    </tr>\n",
       "    <tr>\n",
       "      <th>4</th>\n",
       "      <td>2020-01-02T14:00:00.000000000Z</td>\n",
       "      <td>108.697</td>\n",
       "      <td>108.748</td>\n",
       "      <td>108.212</td>\n",
       "      <td>108.529</td>\n",
       "      <td>108.523</td>\n",
       "      <td>108.535</td>\n",
       "    </tr>\n",
       "  </tbody>\n",
       "</table>\n",
       "</div>"
      ],
      "text/plain": [
       "                             time    mid_o    mid_h    mid_l    mid_c  \\\n",
       "0  2020-01-01T22:00:00.000000000Z  108.651  108.761  108.607  108.673   \n",
       "1  2020-01-02T02:00:00.000000000Z  108.671  108.758  108.658  108.742   \n",
       "2  2020-01-02T06:00:00.000000000Z  108.744  108.842  108.696  108.839   \n",
       "3  2020-01-02T10:00:00.000000000Z  108.836  108.866  108.658  108.694   \n",
       "4  2020-01-02T14:00:00.000000000Z  108.697  108.748  108.212  108.529   \n",
       "\n",
       "     bid_c    ask_c  \n",
       "0  108.667  108.679  \n",
       "1  108.736  108.747  \n",
       "2  108.833  108.845  \n",
       "3  108.688  108.700  \n",
       "4  108.523  108.535  "
      ]
     },
     "execution_count": 26,
     "metadata": {},
     "output_type": "execute_result"
    }
   ],
   "source": [
    "df.head()"
   ]
  },
  {
   "cell_type": "code",
   "execution_count": 27,
   "metadata": {},
   "outputs": [],
   "source": [
    "SLOSS = 0.4\n",
    "TPROFIT = 0.8\n",
    "ENTRY_PRC = 0.1\n",
    "\n",
    "def direction(row):\n",
    "    if row.mid_c > row.mid_o:\n",
    "        return 1\n",
    "    return -1\n",
    "\n",
    "def get_signal(row):\n",
    "    if row.mid_h_prev > row.mid_h and row.mid_l_prev < row.mid_l:\n",
    "        return row.DIRECTION_prev\n",
    "    return 0\n",
    "\n",
    "def get_entry_stop(row):\n",
    "    if row.SIGNAL == 1:\n",
    "        return (row.RANGE_prev * ENTRY_PRC) + row.mid_h_prev\n",
    "    elif row.SIGNAL == -1:\n",
    "        return row.mid_l_prev - (row.RANGE_prev * ENTRY_PRC)\n",
    "    else:\n",
    "        return 0\n",
    "    \n",
    "def get_stop_loss(row):\n",
    "    if row.SIGNAL == 1:\n",
    "        return row.ENTRY - (row.RANGE_prev * SLOSS)\n",
    "    elif row.SIGNAL == -1:\n",
    "        return row.ENTRY + (row.RANGE_prev * SLOSS)\n",
    "    else:\n",
    "        return 0\n",
    "    \n",
    "def get_take_profit(row):\n",
    "    if row.SIGNAL == 1:\n",
    "        return row.ENTRY + (row.RANGE_prev * TPROFIT)\n",
    "    elif row.SIGNAL == -1:\n",
    "        return row.ENTRY - (row.RANGE_prev * TPROFIT)\n",
    "    else:\n",
    "        return 0   "
   ]
  },
  {
   "cell_type": "code",
   "execution_count": 28,
   "metadata": {},
   "outputs": [],
   "source": [
    "df = df_raw[['time', 'mid_o', 'mid_h', 'mid_l', 'mid_c', 'bid_c', 'ask_c']].copy()\n",
    "df['RANGE'] = df.mid_h - df.mid_l\n",
    "df['mid_h_prev'] = df.mid_h.shift(1)\n",
    "df['mid_l_prev'] = df.mid_l.shift(1)\n",
    "df['RANGE_prev'] = df.RANGE.shift(1)\n",
    "df['DIRECTION'] = df.apply(direction, axis=1)\n",
    "df['DIRECTION_prev'] = df.DIRECTION.shift(1).fillna(0).astype(int)\n",
    "df.dropna(inplace=True)\n",
    "df['SIGNAL'] = df.apply(get_signal, axis=1)\n",
    "df.reset_index(drop=True, inplace=True)\n"
   ]
  },
  {
   "cell_type": "code",
   "execution_count": 29,
   "metadata": {},
   "outputs": [],
   "source": [
    "df['ENTRY'] = df.apply(get_entry_stop, axis=1)\n",
    "df['STOPLOSS'] = df.apply(get_stop_loss, axis=1)\n",
    "df['TAKEPROFIT'] = df.apply(get_take_profit, axis=1)"
   ]
  },
  {
   "cell_type": "code",
   "execution_count": 30,
   "metadata": {},
   "outputs": [
    {
     "data": {
      "text/html": [
       "<div>\n",
       "<style scoped>\n",
       "    .dataframe tbody tr th:only-of-type {\n",
       "        vertical-align: middle;\n",
       "    }\n",
       "\n",
       "    .dataframe tbody tr th {\n",
       "        vertical-align: top;\n",
       "    }\n",
       "\n",
       "    .dataframe thead th {\n",
       "        text-align: right;\n",
       "    }\n",
       "</style>\n",
       "<table border=\"1\" class=\"dataframe\">\n",
       "  <thead>\n",
       "    <tr style=\"text-align: right;\">\n",
       "      <th></th>\n",
       "      <th>time</th>\n",
       "      <th>mid_o</th>\n",
       "      <th>mid_h</th>\n",
       "      <th>mid_l</th>\n",
       "      <th>mid_c</th>\n",
       "      <th>bid_c</th>\n",
       "      <th>ask_c</th>\n",
       "      <th>RANGE</th>\n",
       "      <th>mid_h_prev</th>\n",
       "      <th>mid_l_prev</th>\n",
       "      <th>RANGE_prev</th>\n",
       "      <th>DIRECTION</th>\n",
       "      <th>DIRECTION_prev</th>\n",
       "      <th>SIGNAL</th>\n",
       "      <th>ENTRY</th>\n",
       "      <th>STOPLOSS</th>\n",
       "      <th>TAKEPROFIT</th>\n",
       "    </tr>\n",
       "  </thead>\n",
       "  <tbody>\n",
       "    <tr>\n",
       "      <th>0</th>\n",
       "      <td>2020-01-02T02:00:00.000000000Z</td>\n",
       "      <td>108.671</td>\n",
       "      <td>108.758</td>\n",
       "      <td>108.658</td>\n",
       "      <td>108.742</td>\n",
       "      <td>108.736</td>\n",
       "      <td>108.747</td>\n",
       "      <td>0.100</td>\n",
       "      <td>108.761</td>\n",
       "      <td>108.607</td>\n",
       "      <td>0.154</td>\n",
       "      <td>1</td>\n",
       "      <td>1</td>\n",
       "      <td>1</td>\n",
       "      <td>108.7764</td>\n",
       "      <td>108.7148</td>\n",
       "      <td>108.8996</td>\n",
       "    </tr>\n",
       "    <tr>\n",
       "      <th>4</th>\n",
       "      <td>2020-01-02T18:00:00.000000000Z</td>\n",
       "      <td>108.526</td>\n",
       "      <td>108.572</td>\n",
       "      <td>108.494</td>\n",
       "      <td>108.561</td>\n",
       "      <td>108.511</td>\n",
       "      <td>108.611</td>\n",
       "      <td>0.078</td>\n",
       "      <td>108.748</td>\n",
       "      <td>108.212</td>\n",
       "      <td>0.536</td>\n",
       "      <td>1</td>\n",
       "      <td>-1</td>\n",
       "      <td>-1</td>\n",
       "      <td>108.1584</td>\n",
       "      <td>108.3728</td>\n",
       "      <td>107.7296</td>\n",
       "    </tr>\n",
       "    <tr>\n",
       "      <th>12</th>\n",
       "      <td>2020-01-06T02:00:00.000000000Z</td>\n",
       "      <td>107.950</td>\n",
       "      <td>108.104</td>\n",
       "      <td>107.932</td>\n",
       "      <td>108.058</td>\n",
       "      <td>108.052</td>\n",
       "      <td>108.064</td>\n",
       "      <td>0.172</td>\n",
       "      <td>108.122</td>\n",
       "      <td>107.772</td>\n",
       "      <td>0.350</td>\n",
       "      <td>1</td>\n",
       "      <td>1</td>\n",
       "      <td>1</td>\n",
       "      <td>108.1570</td>\n",
       "      <td>108.0170</td>\n",
       "      <td>108.4370</td>\n",
       "    </tr>\n",
       "    <tr>\n",
       "      <th>14</th>\n",
       "      <td>2020-01-06T10:00:00.000000000Z</td>\n",
       "      <td>107.988</td>\n",
       "      <td>108.164</td>\n",
       "      <td>107.982</td>\n",
       "      <td>108.120</td>\n",
       "      <td>108.114</td>\n",
       "      <td>108.126</td>\n",
       "      <td>0.182</td>\n",
       "      <td>108.179</td>\n",
       "      <td>107.926</td>\n",
       "      <td>0.253</td>\n",
       "      <td>1</td>\n",
       "      <td>-1</td>\n",
       "      <td>-1</td>\n",
       "      <td>107.9007</td>\n",
       "      <td>108.0019</td>\n",
       "      <td>107.6983</td>\n",
       "    </tr>\n",
       "    <tr>\n",
       "      <th>20</th>\n",
       "      <td>2020-01-07T10:00:00.000000000Z</td>\n",
       "      <td>108.466</td>\n",
       "      <td>108.483</td>\n",
       "      <td>108.368</td>\n",
       "      <td>108.438</td>\n",
       "      <td>108.432</td>\n",
       "      <td>108.444</td>\n",
       "      <td>0.115</td>\n",
       "      <td>108.500</td>\n",
       "      <td>108.262</td>\n",
       "      <td>0.238</td>\n",
       "      <td>-1</td>\n",
       "      <td>1</td>\n",
       "      <td>1</td>\n",
       "      <td>108.5238</td>\n",
       "      <td>108.4286</td>\n",
       "      <td>108.7142</td>\n",
       "    </tr>\n",
       "  </tbody>\n",
       "</table>\n",
       "</div>"
      ],
      "text/plain": [
       "                              time    mid_o    mid_h    mid_l    mid_c  \\\n",
       "0   2020-01-02T02:00:00.000000000Z  108.671  108.758  108.658  108.742   \n",
       "4   2020-01-02T18:00:00.000000000Z  108.526  108.572  108.494  108.561   \n",
       "12  2020-01-06T02:00:00.000000000Z  107.950  108.104  107.932  108.058   \n",
       "14  2020-01-06T10:00:00.000000000Z  107.988  108.164  107.982  108.120   \n",
       "20  2020-01-07T10:00:00.000000000Z  108.466  108.483  108.368  108.438   \n",
       "\n",
       "      bid_c    ask_c  RANGE  mid_h_prev  mid_l_prev  RANGE_prev  DIRECTION  \\\n",
       "0   108.736  108.747  0.100     108.761     108.607       0.154          1   \n",
       "4   108.511  108.611  0.078     108.748     108.212       0.536          1   \n",
       "12  108.052  108.064  0.172     108.122     107.772       0.350          1   \n",
       "14  108.114  108.126  0.182     108.179     107.926       0.253          1   \n",
       "20  108.432  108.444  0.115     108.500     108.262       0.238         -1   \n",
       "\n",
       "    DIRECTION_prev  SIGNAL     ENTRY  STOPLOSS  TAKEPROFIT  \n",
       "0                1       1  108.7764  108.7148    108.8996  \n",
       "4               -1      -1  108.1584  108.3728    107.7296  \n",
       "12               1       1  108.1570  108.0170    108.4370  \n",
       "14              -1      -1  107.9007  108.0019    107.6983  \n",
       "20               1       1  108.5238  108.4286    108.7142  "
      ]
     },
     "execution_count": 30,
     "metadata": {},
     "output_type": "execute_result"
    }
   ],
   "source": [
    "df[df.SIGNAL!=0].head()"
   ]
  },
  {
   "cell_type": "code",
   "execution_count": 31,
   "metadata": {},
   "outputs": [],
   "source": [
    "class Trade():\n",
    "    def __init__(self, row):\n",
    "        self.candle_date = row.time\n",
    "        self.direction = row.SIGNAL\n",
    "        self.entry = row.ENTRY\n",
    "        self.TP = row.TAKEPROFIT\n",
    "        self.SL = row.STOPLOSS\n",
    "        self.running = False\n",
    "        self.result = None\n",
    "        self.stopped = None\n",
    "        \n",
    "    def update(self, row):\n",
    "        if self.running == True:\n",
    "            self.update_result(row)\n",
    "        else:\n",
    "            self.check_entry(row)\n",
    "            \n",
    "    def check_entry(self, row):\n",
    "        if self.direction == 1 and row.mid_c >= self.entry or self.direction == -1 and row.mid_c <= self.entry:\n",
    "            self.index = row.name\n",
    "            self.opened = row.time\n",
    "            self.running = True\n",
    "            \n",
    "    def update_result(self, row):\n",
    "        if self.direction == 1:\n",
    "            if row.mid_c >= self.TP:\n",
    "                self.result = 2.0\n",
    "            elif row.mid_c <= self.SL:\n",
    "                self.result = -1.0\n",
    "        else:\n",
    "            if row.mid_c <= self.TP:\n",
    "                self.result = 2.0\n",
    "            elif row.mid_c >= self.SL:\n",
    "                self.result = -1.0\n",
    "        \n",
    "        if self.result is not None:\n",
    "            self.running = False\n",
    "            self.stopped = row.time"
   ]
  },
  {
   "cell_type": "code",
   "execution_count": 32,
   "metadata": {},
   "outputs": [],
   "source": [
    "open_trades = []\n",
    "closed_trades = []\n",
    "\n",
    "for index, row in df.iterrows():\n",
    "    for ot in open_trades:\n",
    "        ot.update(row)\n",
    "        if ot.stopped is not None:\n",
    "            closed_trades.append(ot)\n",
    "    \n",
    "    open_trades = [x for x in open_trades if x.stopped is None]\n",
    "    \n",
    "    if row.SIGNAL != 0:\n",
    "        ope_trades = [x for x in open_trades if x.running == True]\n",
    "        open_trades.append(Trade(row))\n"
   ]
  },
  {
   "cell_type": "code",
   "execution_count": 33,
   "metadata": {},
   "outputs": [
    {
     "data": {
      "text/plain": [
       "747"
      ]
     },
     "execution_count": 33,
     "metadata": {},
     "output_type": "execute_result"
    }
   ],
   "source": [
    "len(closed_trades)"
   ]
  },
  {
   "cell_type": "code",
   "execution_count": 34,
   "metadata": {},
   "outputs": [],
   "source": [
    "df_trades = pd.DataFrame.from_dict([vars(x) for x in closed_trades])"
   ]
  },
  {
   "cell_type": "code",
   "execution_count": 35,
   "metadata": {},
   "outputs": [],
   "source": [
    "df[df.SIGNAL!=0].to_pickle(\"USD_JPY_H4_trades.pkl\")"
   ]
  },
  {
   "cell_type": "code",
   "execution_count": 36,
   "metadata": {},
   "outputs": [],
   "source": [
    "df_plot = df.iloc[0:60]\n",
    "df_buys = df_plot[df_plot.SIGNAL ==1]\n",
    "df_sells = df_plot[df_plot.SIGNAL == -1]"
   ]
  },
  {
   "cell_type": "code",
   "execution_count": 37,
   "metadata": {},
   "outputs": [
    {
     "data": {
      "text/html": [
       "<div>\n",
       "<style scoped>\n",
       "    .dataframe tbody tr th:only-of-type {\n",
       "        vertical-align: middle;\n",
       "    }\n",
       "\n",
       "    .dataframe tbody tr th {\n",
       "        vertical-align: top;\n",
       "    }\n",
       "\n",
       "    .dataframe thead th {\n",
       "        text-align: right;\n",
       "    }\n",
       "</style>\n",
       "<table border=\"1\" class=\"dataframe\">\n",
       "  <thead>\n",
       "    <tr style=\"text-align: right;\">\n",
       "      <th></th>\n",
       "      <th>candle_date</th>\n",
       "      <th>direction</th>\n",
       "      <th>entry</th>\n",
       "      <th>TP</th>\n",
       "      <th>SL</th>\n",
       "      <th>running</th>\n",
       "      <th>result</th>\n",
       "      <th>stopped</th>\n",
       "      <th>index</th>\n",
       "      <th>opened</th>\n",
       "    </tr>\n",
       "  </thead>\n",
       "  <tbody>\n",
       "    <tr>\n",
       "      <th>0</th>\n",
       "      <td>2020-01-02T02:00:00.000000000Z</td>\n",
       "      <td>1</td>\n",
       "      <td>108.7764</td>\n",
       "      <td>108.8996</td>\n",
       "      <td>108.7148</td>\n",
       "      <td>False</td>\n",
       "      <td>-1.0</td>\n",
       "      <td>2020-01-02T10:00:00.000000000Z</td>\n",
       "      <td>1</td>\n",
       "      <td>2020-01-02T06:00:00.000000000Z</td>\n",
       "    </tr>\n",
       "    <tr>\n",
       "      <th>1</th>\n",
       "      <td>2020-01-02T18:00:00.000000000Z</td>\n",
       "      <td>-1</td>\n",
       "      <td>108.1584</td>\n",
       "      <td>107.7296</td>\n",
       "      <td>108.3728</td>\n",
       "      <td>False</td>\n",
       "      <td>-1.0</td>\n",
       "      <td>2020-01-06T22:00:00.000000000Z</td>\n",
       "      <td>6</td>\n",
       "      <td>2020-01-03T02:00:00.000000000Z</td>\n",
       "    </tr>\n",
       "    <tr>\n",
       "      <th>2</th>\n",
       "      <td>2020-01-06T02:00:00.000000000Z</td>\n",
       "      <td>1</td>\n",
       "      <td>108.1570</td>\n",
       "      <td>108.4370</td>\n",
       "      <td>108.0170</td>\n",
       "      <td>False</td>\n",
       "      <td>2.0</td>\n",
       "      <td>2020-01-07T06:00:00.000000000Z</td>\n",
       "      <td>15</td>\n",
       "      <td>2020-01-06T14:00:00.000000000Z</td>\n",
       "    </tr>\n",
       "    <tr>\n",
       "      <th>3</th>\n",
       "      <td>2020-01-07T10:00:00.000000000Z</td>\n",
       "      <td>1</td>\n",
       "      <td>108.5238</td>\n",
       "      <td>108.7142</td>\n",
       "      <td>108.4286</td>\n",
       "      <td>False</td>\n",
       "      <td>-1.0</td>\n",
       "      <td>2020-01-07T22:00:00.000000000Z</td>\n",
       "      <td>21</td>\n",
       "      <td>2020-01-07T14:00:00.000000000Z</td>\n",
       "    </tr>\n",
       "    <tr>\n",
       "      <th>4</th>\n",
       "      <td>2020-01-07T18:00:00.000000000Z</td>\n",
       "      <td>1</td>\n",
       "      <td>108.6610</td>\n",
       "      <td>108.9090</td>\n",
       "      <td>108.5370</td>\n",
       "      <td>False</td>\n",
       "      <td>2.0</td>\n",
       "      <td>2020-01-08T14:00:00.000000000Z</td>\n",
       "      <td>26</td>\n",
       "      <td>2020-01-08T10:00:00.000000000Z</td>\n",
       "    </tr>\n",
       "  </tbody>\n",
       "</table>\n",
       "</div>"
      ],
      "text/plain": [
       "                      candle_date  direction     entry        TP        SL  \\\n",
       "0  2020-01-02T02:00:00.000000000Z          1  108.7764  108.8996  108.7148   \n",
       "1  2020-01-02T18:00:00.000000000Z         -1  108.1584  107.7296  108.3728   \n",
       "2  2020-01-06T02:00:00.000000000Z          1  108.1570  108.4370  108.0170   \n",
       "3  2020-01-07T10:00:00.000000000Z          1  108.5238  108.7142  108.4286   \n",
       "4  2020-01-07T18:00:00.000000000Z          1  108.6610  108.9090  108.5370   \n",
       "\n",
       "   running  result                         stopped  index  \\\n",
       "0    False    -1.0  2020-01-02T10:00:00.000000000Z      1   \n",
       "1    False    -1.0  2020-01-06T22:00:00.000000000Z      6   \n",
       "2    False     2.0  2020-01-07T06:00:00.000000000Z     15   \n",
       "3    False    -1.0  2020-01-07T22:00:00.000000000Z     21   \n",
       "4    False     2.0  2020-01-08T14:00:00.000000000Z     26   \n",
       "\n",
       "                           opened  \n",
       "0  2020-01-02T06:00:00.000000000Z  \n",
       "1  2020-01-03T02:00:00.000000000Z  \n",
       "2  2020-01-06T14:00:00.000000000Z  \n",
       "3  2020-01-07T14:00:00.000000000Z  \n",
       "4  2020-01-08T10:00:00.000000000Z  "
      ]
     },
     "execution_count": 37,
     "metadata": {},
     "output_type": "execute_result"
    }
   ],
   "source": [
    "df_trades.head()"
   ]
  },
  {
   "cell_type": "code",
   "execution_count": 38,
   "metadata": {},
   "outputs": [
    {
     "data": {
      "application/vnd.plotly.v1+json": {
       "config": {
        "plotlyServerURL": "https://plot.ly"
       },
       "data": [
        {
         "close": [
          108.742,
          108.839,
          108.694,
          108.529,
          108.561,
          108.204,
          108.123,
          108.068,
          108.158,
          107.968,
          108.11,
          107.948,
          108.058,
          107.986,
          108.12,
          108.348,
          108.372,
          108.434,
          108.436,
          108.468,
          108.438,
          108.546,
          108.46,
          108.033,
          108.305,
          108.449,
          108.67,
          109.096,
          109.134,
          109.238,
          109.275,
          109.434,
          109.432,
          109.512,
          109.524,
          109.543,
          109.563,
          109.64,
          109.652,
          109.479,
          109.471,
          109.602,
          109.637,
          109.85,
          109.849,
          109.918,
          109.944,
          110.066,
          110.06,
          110.02,
          110.008,
          110.095,
          109.996,
          109.95,
          109.92,
          109.869,
          109.833,
          109.887,
          109.9,
          109.93
         ],
         "decreasing": {
          "fillcolor": "#CC2E3C",
          "line": {
           "color": "#FF3A4C"
          }
         },
         "high": [
          108.758,
          108.842,
          108.866,
          108.748,
          108.572,
          108.63,
          108.244,
          108.152,
          108.164,
          108.268,
          108.126,
          108.122,
          108.104,
          108.179,
          108.164,
          108.416,
          108.506,
          108.461,
          108.506,
          108.5,
          108.483,
          108.63,
          108.594,
          108.522,
          108.461,
          108.489,
          108.816,
          109.134,
          109.246,
          109.256,
          109.284,
          109.434,
          109.489,
          109.58,
          109.538,
          109.58,
          109.606,
          109.649,
          109.688,
          109.688,
          109.556,
          109.636,
          109.649,
          109.882,
          109.924,
          109.946,
          109.947,
          110.214,
          110.11,
          110.134,
          110.113,
          110.11,
          110.114,
          110.01,
          109.962,
          109.95,
          109.919,
          110.002,
          109.928,
          109.99
         ],
         "increasing": {
          "fillcolor": "#24A06B",
          "line": {
           "color": "#2EC886"
          }
         },
         "line": {
          "width": 1
         },
         "low": [
          108.658,
          108.696,
          108.658,
          108.212,
          108.494,
          108.168,
          108.002,
          107.916,
          107.999,
          107.916,
          107.842,
          107.772,
          107.932,
          107.926,
          107.982,
          108.065,
          108.342,
          108.33,
          108.423,
          108.262,
          108.368,
          108.32,
          108.354,
          107.65,
          108.007,
          108.276,
          108.424,
          108.616,
          109,
          109.014,
          109.15,
          109.252,
          109.317,
          109.429,
          109.392,
          109.456,
          109.508,
          109.554,
          109.504,
          109.433,
          109.463,
          109.512,
          109.586,
          109.618,
          109.828,
          109.8,
          109.892,
          109.915,
          110.016,
          109.885,
          109.948,
          109.932,
          109.854,
          109.816,
          109.868,
          109.848,
          109.822,
          109.79,
          109.85,
          109.857
         ],
         "opacity": 1,
         "open": [
          108.671,
          108.744,
          108.836,
          108.697,
          108.526,
          108.568,
          108.202,
          108.126,
          108.071,
          108.156,
          107.966,
          107.879,
          107.95,
          108.06,
          107.988,
          108.118,
          108.351,
          108.353,
          108.431,
          108.438,
          108.466,
          108.441,
          108.549,
          108.455,
          108.03,
          108.308,
          108.446,
          108.673,
          109.099,
          109.092,
          109.236,
          109.278,
          109.432,
          109.43,
          109.51,
          109.517,
          109.546,
          109.566,
          109.643,
          109.654,
          109.482,
          109.528,
          109.601,
          109.638,
          109.848,
          109.848,
          109.917,
          109.946,
          110.068,
          110.061,
          110.02,
          110.006,
          110.096,
          109.99,
          109.952,
          109.922,
          109.868,
          109.832,
          109.888,
          109.896
         ],
         "type": "candlestick",
         "x": [
          "2020-01-02T02:00:00.000000000Z",
          "2020-01-02T06:00:00.000000000Z",
          "2020-01-02T10:00:00.000000000Z",
          "2020-01-02T14:00:00.000000000Z",
          "2020-01-02T18:00:00.000000000Z",
          "2020-01-02T22:00:00.000000000Z",
          "2020-01-03T02:00:00.000000000Z",
          "2020-01-03T06:00:00.000000000Z",
          "2020-01-03T10:00:00.000000000Z",
          "2020-01-03T14:00:00.000000000Z",
          "2020-01-03T18:00:00.000000000Z",
          "2020-01-05T22:00:00.000000000Z",
          "2020-01-06T02:00:00.000000000Z",
          "2020-01-06T06:00:00.000000000Z",
          "2020-01-06T10:00:00.000000000Z",
          "2020-01-06T14:00:00.000000000Z",
          "2020-01-06T18:00:00.000000000Z",
          "2020-01-06T22:00:00.000000000Z",
          "2020-01-07T02:00:00.000000000Z",
          "2020-01-07T06:00:00.000000000Z",
          "2020-01-07T10:00:00.000000000Z",
          "2020-01-07T14:00:00.000000000Z",
          "2020-01-07T18:00:00.000000000Z",
          "2020-01-07T22:00:00.000000000Z",
          "2020-01-08T02:00:00.000000000Z",
          "2020-01-08T06:00:00.000000000Z",
          "2020-01-08T10:00:00.000000000Z",
          "2020-01-08T14:00:00.000000000Z",
          "2020-01-08T18:00:00.000000000Z",
          "2020-01-08T22:00:00.000000000Z",
          "2020-01-09T02:00:00.000000000Z",
          "2020-01-09T06:00:00.000000000Z",
          "2020-01-09T10:00:00.000000000Z",
          "2020-01-09T14:00:00.000000000Z",
          "2020-01-09T18:00:00.000000000Z",
          "2020-01-09T22:00:00.000000000Z",
          "2020-01-10T02:00:00.000000000Z",
          "2020-01-10T06:00:00.000000000Z",
          "2020-01-10T10:00:00.000000000Z",
          "2020-01-10T14:00:00.000000000Z",
          "2020-01-10T18:00:00.000000000Z",
          "2020-01-12T22:00:00.000000000Z",
          "2020-01-13T02:00:00.000000000Z",
          "2020-01-13T06:00:00.000000000Z",
          "2020-01-13T10:00:00.000000000Z",
          "2020-01-13T14:00:00.000000000Z",
          "2020-01-13T18:00:00.000000000Z",
          "2020-01-13T22:00:00.000000000Z",
          "2020-01-14T02:00:00.000000000Z",
          "2020-01-14T06:00:00.000000000Z",
          "2020-01-14T10:00:00.000000000Z",
          "2020-01-14T14:00:00.000000000Z",
          "2020-01-14T18:00:00.000000000Z",
          "2020-01-14T22:00:00.000000000Z",
          "2020-01-15T02:00:00.000000000Z",
          "2020-01-15T06:00:00.000000000Z",
          "2020-01-15T10:00:00.000000000Z",
          "2020-01-15T14:00:00.000000000Z",
          "2020-01-15T18:00:00.000000000Z",
          "2020-01-15T22:00:00.000000000Z"
         ]
        },
        {
         "marker": {
          "color": "#043ef9",
          "size": 12
         },
         "mode": "markers",
         "type": "scatter",
         "x": [
          "2020-01-02T02:00:00.000000000Z",
          "2020-01-06T02:00:00.000000000Z",
          "2020-01-07T10:00:00.000000000Z",
          "2020-01-07T18:00:00.000000000Z",
          "2020-01-14T02:00:00.000000000Z",
          "2020-01-15T18:00:00.000000000Z"
         ],
         "y": [
          108.7764,
          108.157,
          108.5238,
          108.661,
          110.2439,
          110.02319999999999
         ]
        },
        {
         "marker": {
          "color": "#eb5334",
          "size": 12
         },
         "mode": "markers",
         "type": "scatter",
         "x": [
          "2020-01-02T02:00:00.000000000Z",
          "2020-01-06T02:00:00.000000000Z",
          "2020-01-07T10:00:00.000000000Z",
          "2020-01-07T18:00:00.000000000Z",
          "2020-01-14T02:00:00.000000000Z",
          "2020-01-15T18:00:00.000000000Z"
         ],
         "y": [
          108.7148,
          108.017,
          108.42859999999999,
          108.537,
          110.1243,
          109.93839999999999
         ]
        },
        {
         "marker": {
          "color": "#34eb37",
          "size": 12
         },
         "mode": "markers",
         "type": "scatter",
         "x": [
          "2020-01-02T02:00:00.000000000Z",
          "2020-01-06T02:00:00.000000000Z",
          "2020-01-07T10:00:00.000000000Z",
          "2020-01-07T18:00:00.000000000Z",
          "2020-01-14T02:00:00.000000000Z",
          "2020-01-15T18:00:00.000000000Z"
         ],
         "y": [
          108.89959999999999,
          108.437,
          108.71419999999999,
          108.909,
          110.4831,
          110.19279999999998
         ]
        },
        {
         "marker": {
          "color": "#043ef9",
          "size": 12
         },
         "mode": "markers",
         "type": "scatter",
         "x": [
          "2020-01-02T18:00:00.000000000Z",
          "2020-01-06T10:00:00.000000000Z",
          "2020-01-08T02:00:00.000000000Z",
          "2020-01-10T18:00:00.000000000Z",
          "2020-01-14T10:00:00.000000000Z",
          "2020-01-15T02:00:00.000000000Z"
         ],
         "y": [
          108.1584,
          107.9007,
          107.56280000000001,
          109.40750000000001,
          109.8601,
          109.7966
         ]
        },
        {
         "marker": {
          "color": "#eb5334",
          "size": 12
         },
         "mode": "markers",
         "type": "scatter",
         "x": [
          "2020-01-02T18:00:00.000000000Z",
          "2020-01-06T10:00:00.000000000Z",
          "2020-01-08T02:00:00.000000000Z",
          "2020-01-10T18:00:00.000000000Z",
          "2020-01-14T10:00:00.000000000Z",
          "2020-01-15T02:00:00.000000000Z"
         ],
         "y": [
          108.3728,
          108.0019,
          107.9116,
          109.50950000000002,
          109.9597,
          109.8742
         ]
        },
        {
         "marker": {
          "color": "#34eb37",
          "size": 12
         },
         "mode": "markers",
         "type": "scatter",
         "x": [
          "2020-01-02T18:00:00.000000000Z",
          "2020-01-06T10:00:00.000000000Z",
          "2020-01-08T02:00:00.000000000Z",
          "2020-01-10T18:00:00.000000000Z",
          "2020-01-14T10:00:00.000000000Z",
          "2020-01-15T02:00:00.000000000Z"
         ],
         "y": [
          107.7296,
          107.6983,
          106.86520000000002,
          109.20350000000002,
          109.66090000000001,
          109.64139999999999
         ]
        }
       ],
       "layout": {
        "font": {
         "color": "#e1e1e1",
         "size": 10
        },
        "height": 400,
        "margin": {
         "b": 10,
         "l": 10,
         "t": 10
        },
        "paper_bgcolor": "#1e1e1e",
        "plot_bgcolor": "#1e1e1e",
        "template": {
         "data": {
          "bar": [
           {
            "error_x": {
             "color": "#2a3f5f"
            },
            "error_y": {
             "color": "#2a3f5f"
            },
            "marker": {
             "line": {
              "color": "#E5ECF6",
              "width": 0.5
             },
             "pattern": {
              "fillmode": "overlay",
              "size": 10,
              "solidity": 0.2
             }
            },
            "type": "bar"
           }
          ],
          "barpolar": [
           {
            "marker": {
             "line": {
              "color": "#E5ECF6",
              "width": 0.5
             },
             "pattern": {
              "fillmode": "overlay",
              "size": 10,
              "solidity": 0.2
             }
            },
            "type": "barpolar"
           }
          ],
          "carpet": [
           {
            "aaxis": {
             "endlinecolor": "#2a3f5f",
             "gridcolor": "white",
             "linecolor": "white",
             "minorgridcolor": "white",
             "startlinecolor": "#2a3f5f"
            },
            "baxis": {
             "endlinecolor": "#2a3f5f",
             "gridcolor": "white",
             "linecolor": "white",
             "minorgridcolor": "white",
             "startlinecolor": "#2a3f5f"
            },
            "type": "carpet"
           }
          ],
          "choropleth": [
           {
            "colorbar": {
             "outlinewidth": 0,
             "ticks": ""
            },
            "type": "choropleth"
           }
          ],
          "contour": [
           {
            "colorbar": {
             "outlinewidth": 0,
             "ticks": ""
            },
            "colorscale": [
             [
              0,
              "#0d0887"
             ],
             [
              0.1111111111111111,
              "#46039f"
             ],
             [
              0.2222222222222222,
              "#7201a8"
             ],
             [
              0.3333333333333333,
              "#9c179e"
             ],
             [
              0.4444444444444444,
              "#bd3786"
             ],
             [
              0.5555555555555556,
              "#d8576b"
             ],
             [
              0.6666666666666666,
              "#ed7953"
             ],
             [
              0.7777777777777778,
              "#fb9f3a"
             ],
             [
              0.8888888888888888,
              "#fdca26"
             ],
             [
              1,
              "#f0f921"
             ]
            ],
            "type": "contour"
           }
          ],
          "contourcarpet": [
           {
            "colorbar": {
             "outlinewidth": 0,
             "ticks": ""
            },
            "type": "contourcarpet"
           }
          ],
          "heatmap": [
           {
            "colorbar": {
             "outlinewidth": 0,
             "ticks": ""
            },
            "colorscale": [
             [
              0,
              "#0d0887"
             ],
             [
              0.1111111111111111,
              "#46039f"
             ],
             [
              0.2222222222222222,
              "#7201a8"
             ],
             [
              0.3333333333333333,
              "#9c179e"
             ],
             [
              0.4444444444444444,
              "#bd3786"
             ],
             [
              0.5555555555555556,
              "#d8576b"
             ],
             [
              0.6666666666666666,
              "#ed7953"
             ],
             [
              0.7777777777777778,
              "#fb9f3a"
             ],
             [
              0.8888888888888888,
              "#fdca26"
             ],
             [
              1,
              "#f0f921"
             ]
            ],
            "type": "heatmap"
           }
          ],
          "heatmapgl": [
           {
            "colorbar": {
             "outlinewidth": 0,
             "ticks": ""
            },
            "colorscale": [
             [
              0,
              "#0d0887"
             ],
             [
              0.1111111111111111,
              "#46039f"
             ],
             [
              0.2222222222222222,
              "#7201a8"
             ],
             [
              0.3333333333333333,
              "#9c179e"
             ],
             [
              0.4444444444444444,
              "#bd3786"
             ],
             [
              0.5555555555555556,
              "#d8576b"
             ],
             [
              0.6666666666666666,
              "#ed7953"
             ],
             [
              0.7777777777777778,
              "#fb9f3a"
             ],
             [
              0.8888888888888888,
              "#fdca26"
             ],
             [
              1,
              "#f0f921"
             ]
            ],
            "type": "heatmapgl"
           }
          ],
          "histogram": [
           {
            "marker": {
             "pattern": {
              "fillmode": "overlay",
              "size": 10,
              "solidity": 0.2
             }
            },
            "type": "histogram"
           }
          ],
          "histogram2d": [
           {
            "colorbar": {
             "outlinewidth": 0,
             "ticks": ""
            },
            "colorscale": [
             [
              0,
              "#0d0887"
             ],
             [
              0.1111111111111111,
              "#46039f"
             ],
             [
              0.2222222222222222,
              "#7201a8"
             ],
             [
              0.3333333333333333,
              "#9c179e"
             ],
             [
              0.4444444444444444,
              "#bd3786"
             ],
             [
              0.5555555555555556,
              "#d8576b"
             ],
             [
              0.6666666666666666,
              "#ed7953"
             ],
             [
              0.7777777777777778,
              "#fb9f3a"
             ],
             [
              0.8888888888888888,
              "#fdca26"
             ],
             [
              1,
              "#f0f921"
             ]
            ],
            "type": "histogram2d"
           }
          ],
          "histogram2dcontour": [
           {
            "colorbar": {
             "outlinewidth": 0,
             "ticks": ""
            },
            "colorscale": [
             [
              0,
              "#0d0887"
             ],
             [
              0.1111111111111111,
              "#46039f"
             ],
             [
              0.2222222222222222,
              "#7201a8"
             ],
             [
              0.3333333333333333,
              "#9c179e"
             ],
             [
              0.4444444444444444,
              "#bd3786"
             ],
             [
              0.5555555555555556,
              "#d8576b"
             ],
             [
              0.6666666666666666,
              "#ed7953"
             ],
             [
              0.7777777777777778,
              "#fb9f3a"
             ],
             [
              0.8888888888888888,
              "#fdca26"
             ],
             [
              1,
              "#f0f921"
             ]
            ],
            "type": "histogram2dcontour"
           }
          ],
          "mesh3d": [
           {
            "colorbar": {
             "outlinewidth": 0,
             "ticks": ""
            },
            "type": "mesh3d"
           }
          ],
          "parcoords": [
           {
            "line": {
             "colorbar": {
              "outlinewidth": 0,
              "ticks": ""
             }
            },
            "type": "parcoords"
           }
          ],
          "pie": [
           {
            "automargin": true,
            "type": "pie"
           }
          ],
          "scatter": [
           {
            "fillpattern": {
             "fillmode": "overlay",
             "size": 10,
             "solidity": 0.2
            },
            "type": "scatter"
           }
          ],
          "scatter3d": [
           {
            "line": {
             "colorbar": {
              "outlinewidth": 0,
              "ticks": ""
             }
            },
            "marker": {
             "colorbar": {
              "outlinewidth": 0,
              "ticks": ""
             }
            },
            "type": "scatter3d"
           }
          ],
          "scattercarpet": [
           {
            "marker": {
             "colorbar": {
              "outlinewidth": 0,
              "ticks": ""
             }
            },
            "type": "scattercarpet"
           }
          ],
          "scattergeo": [
           {
            "marker": {
             "colorbar": {
              "outlinewidth": 0,
              "ticks": ""
             }
            },
            "type": "scattergeo"
           }
          ],
          "scattergl": [
           {
            "marker": {
             "colorbar": {
              "outlinewidth": 0,
              "ticks": ""
             }
            },
            "type": "scattergl"
           }
          ],
          "scattermapbox": [
           {
            "marker": {
             "colorbar": {
              "outlinewidth": 0,
              "ticks": ""
             }
            },
            "type": "scattermapbox"
           }
          ],
          "scatterpolar": [
           {
            "marker": {
             "colorbar": {
              "outlinewidth": 0,
              "ticks": ""
             }
            },
            "type": "scatterpolar"
           }
          ],
          "scatterpolargl": [
           {
            "marker": {
             "colorbar": {
              "outlinewidth": 0,
              "ticks": ""
             }
            },
            "type": "scatterpolargl"
           }
          ],
          "scatterternary": [
           {
            "marker": {
             "colorbar": {
              "outlinewidth": 0,
              "ticks": ""
             }
            },
            "type": "scatterternary"
           }
          ],
          "surface": [
           {
            "colorbar": {
             "outlinewidth": 0,
             "ticks": ""
            },
            "colorscale": [
             [
              0,
              "#0d0887"
             ],
             [
              0.1111111111111111,
              "#46039f"
             ],
             [
              0.2222222222222222,
              "#7201a8"
             ],
             [
              0.3333333333333333,
              "#9c179e"
             ],
             [
              0.4444444444444444,
              "#bd3786"
             ],
             [
              0.5555555555555556,
              "#d8576b"
             ],
             [
              0.6666666666666666,
              "#ed7953"
             ],
             [
              0.7777777777777778,
              "#fb9f3a"
             ],
             [
              0.8888888888888888,
              "#fdca26"
             ],
             [
              1,
              "#f0f921"
             ]
            ],
            "type": "surface"
           }
          ],
          "table": [
           {
            "cells": {
             "fill": {
              "color": "#EBF0F8"
             },
             "line": {
              "color": "white"
             }
            },
            "header": {
             "fill": {
              "color": "#C8D4E3"
             },
             "line": {
              "color": "white"
             }
            },
            "type": "table"
           }
          ]
         },
         "layout": {
          "annotationdefaults": {
           "arrowcolor": "#2a3f5f",
           "arrowhead": 0,
           "arrowwidth": 1
          },
          "autotypenumbers": "strict",
          "coloraxis": {
           "colorbar": {
            "outlinewidth": 0,
            "ticks": ""
           }
          },
          "colorscale": {
           "diverging": [
            [
             0,
             "#8e0152"
            ],
            [
             0.1,
             "#c51b7d"
            ],
            [
             0.2,
             "#de77ae"
            ],
            [
             0.3,
             "#f1b6da"
            ],
            [
             0.4,
             "#fde0ef"
            ],
            [
             0.5,
             "#f7f7f7"
            ],
            [
             0.6,
             "#e6f5d0"
            ],
            [
             0.7,
             "#b8e186"
            ],
            [
             0.8,
             "#7fbc41"
            ],
            [
             0.9,
             "#4d9221"
            ],
            [
             1,
             "#276419"
            ]
           ],
           "sequential": [
            [
             0,
             "#0d0887"
            ],
            [
             0.1111111111111111,
             "#46039f"
            ],
            [
             0.2222222222222222,
             "#7201a8"
            ],
            [
             0.3333333333333333,
             "#9c179e"
            ],
            [
             0.4444444444444444,
             "#bd3786"
            ],
            [
             0.5555555555555556,
             "#d8576b"
            ],
            [
             0.6666666666666666,
             "#ed7953"
            ],
            [
             0.7777777777777778,
             "#fb9f3a"
            ],
            [
             0.8888888888888888,
             "#fdca26"
            ],
            [
             1,
             "#f0f921"
            ]
           ],
           "sequentialminus": [
            [
             0,
             "#0d0887"
            ],
            [
             0.1111111111111111,
             "#46039f"
            ],
            [
             0.2222222222222222,
             "#7201a8"
            ],
            [
             0.3333333333333333,
             "#9c179e"
            ],
            [
             0.4444444444444444,
             "#bd3786"
            ],
            [
             0.5555555555555556,
             "#d8576b"
            ],
            [
             0.6666666666666666,
             "#ed7953"
            ],
            [
             0.7777777777777778,
             "#fb9f3a"
            ],
            [
             0.8888888888888888,
             "#fdca26"
            ],
            [
             1,
             "#f0f921"
            ]
           ]
          },
          "colorway": [
           "#636efa",
           "#EF553B",
           "#00cc96",
           "#ab63fa",
           "#FFA15A",
           "#19d3f3",
           "#FF6692",
           "#B6E880",
           "#FF97FF",
           "#FECB52"
          ],
          "font": {
           "color": "#2a3f5f"
          },
          "geo": {
           "bgcolor": "white",
           "lakecolor": "white",
           "landcolor": "#E5ECF6",
           "showlakes": true,
           "showland": true,
           "subunitcolor": "white"
          },
          "hoverlabel": {
           "align": "left"
          },
          "hovermode": "closest",
          "mapbox": {
           "style": "light"
          },
          "paper_bgcolor": "white",
          "plot_bgcolor": "#E5ECF6",
          "polar": {
           "angularaxis": {
            "gridcolor": "white",
            "linecolor": "white",
            "ticks": ""
           },
           "bgcolor": "#E5ECF6",
           "radialaxis": {
            "gridcolor": "white",
            "linecolor": "white",
            "ticks": ""
           }
          },
          "scene": {
           "xaxis": {
            "backgroundcolor": "#E5ECF6",
            "gridcolor": "white",
            "gridwidth": 2,
            "linecolor": "white",
            "showbackground": true,
            "ticks": "",
            "zerolinecolor": "white"
           },
           "yaxis": {
            "backgroundcolor": "#E5ECF6",
            "gridcolor": "white",
            "gridwidth": 2,
            "linecolor": "white",
            "showbackground": true,
            "ticks": "",
            "zerolinecolor": "white"
           },
           "zaxis": {
            "backgroundcolor": "#E5ECF6",
            "gridcolor": "white",
            "gridwidth": 2,
            "linecolor": "white",
            "showbackground": true,
            "ticks": "",
            "zerolinecolor": "white"
           }
          },
          "shapedefaults": {
           "line": {
            "color": "#2a3f5f"
           }
          },
          "ternary": {
           "aaxis": {
            "gridcolor": "white",
            "linecolor": "white",
            "ticks": ""
           },
           "baxis": {
            "gridcolor": "white",
            "linecolor": "white",
            "ticks": ""
           },
           "bgcolor": "#E5ECF6",
           "caxis": {
            "gridcolor": "white",
            "linecolor": "white",
            "ticks": ""
           }
          },
          "title": {
           "x": 0.05
          },
          "xaxis": {
           "automargin": true,
           "gridcolor": "white",
           "linecolor": "white",
           "ticks": "",
           "title": {
            "standoff": 15
           },
           "zerolinecolor": "white",
           "zerolinewidth": 2
          },
          "yaxis": {
           "automargin": true,
           "gridcolor": "white",
           "linecolor": "white",
           "ticks": "",
           "title": {
            "standoff": 15
           },
           "zerolinecolor": "white",
           "zerolinewidth": 2
          }
         }
        },
        "width": 1000,
        "xaxis": {
         "fixedrange": true,
         "gridcolor": "#1f292f",
         "rangebreaks": [
          {
           "bounds": [
            "sat",
            "mon"
           ]
          }
         ],
         "rangeslider": {
          "visible": false
         },
         "showgrid": true
        },
        "yaxis": {
         "gridcolor": "#1f292f",
         "showgrid": true
        }
       }
      }
     },
     "metadata": {},
     "output_type": "display_data"
    }
   ],
   "source": [
    "plot_candles(df_plot)"
   ]
  }
 ],
 "metadata": {
  "kernelspec": {
   "display_name": "venv",
   "language": "python",
   "name": "python3"
  },
  "language_info": {
   "codemirror_mode": {
    "name": "ipython",
    "version": 3
   },
   "file_extension": ".py",
   "mimetype": "text/x-python",
   "name": "python",
   "nbconvert_exporter": "python",
   "pygments_lexer": "ipython3",
   "version": "3.11.1"
  },
  "orig_nbformat": 4,
  "vscode": {
   "interpreter": {
    "hash": "fda0f0fb60ecb5fc85efacd84e1859512479306cf791e683553414edd7237eac"
   }
  }
 },
 "nbformat": 4,
 "nbformat_minor": 2
}
