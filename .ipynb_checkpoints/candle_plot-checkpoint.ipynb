{
 "cells": [
  {
   "cell_type": "code",
   "execution_count": 102,
   "metadata": {},
   "outputs": [],
   "source": [
    "import pandas as pd\n",
    "import utils\n",
    "import plotly.graph_objects as go\n",
    "import plotly.io as pio"
   ]
  },
  {
   "cell_type": "code",
   "execution_count": 103,
   "metadata": {},
   "outputs": [
    {
     "data": {
      "text/plain": [
       "Renderers configuration\n",
       "-----------------------\n",
       "    Default renderer: 'vscode'\n",
       "    Available renderers:\n",
       "        ['plotly_mimetype', 'jupyterlab', 'nteract', 'vscode',\n",
       "         'notebook', 'notebook_connected', 'kaggle', 'azure', 'colab',\n",
       "         'cocalc', 'databricks', 'json', 'png', 'jpeg', 'jpg', 'svg',\n",
       "         'pdf', 'browser', 'firefox', 'chrome', 'chromium', 'iframe',\n",
       "         'iframe_connected', 'sphinx_gallery', 'sphinx_gallery_png']"
      ]
     },
     "execution_count": 103,
     "metadata": {},
     "output_type": "execute_result"
    }
   ],
   "source": [
    "pio.renderers"
   ]
  },
  {
   "cell_type": "code",
   "execution_count": 104,
   "metadata": {},
   "outputs": [],
   "source": [
    "pio.renderers.default=\"notebook_connected\""
   ]
  },
  {
   "cell_type": "code",
   "execution_count": 105,
   "metadata": {},
   "outputs": [],
   "source": [
    "pair = \"EUR_USD\"\n",
    "granularity = \"H1\""
   ]
  },
  {
   "cell_type": "code",
   "execution_count": 106,
   "metadata": {},
   "outputs": [],
   "source": [
    "df = pd.read_pickle(utils.get_his_data_filename(pair, granularity))"
   ]
  },
  {
   "cell_type": "code",
   "execution_count": 107,
   "metadata": {},
   "outputs": [],
   "source": [
    "non_cols = ['time', 'volume']"
   ]
  },
  {
   "cell_type": "code",
   "execution_count": 108,
   "metadata": {},
   "outputs": [],
   "source": [
    "mod_cols = [x for x in df.columns if x not in non_cols]"
   ]
  },
  {
   "cell_type": "code",
   "execution_count": 109,
   "metadata": {},
   "outputs": [],
   "source": [
    "df[mod_cols] = df[mod_cols].apply(pd.to_numeric)"
   ]
  },
  {
   "cell_type": "code",
   "execution_count": 110,
   "metadata": {},
   "outputs": [],
   "source": [
    "df_plot = df.iloc[-100:].copy()"
   ]
  },
  {
   "cell_type": "code",
   "execution_count": 111,
   "metadata": {},
   "outputs": [
    {
     "data": {
      "text/plain": [
       "(100, 14)"
      ]
     },
     "execution_count": 111,
     "metadata": {},
     "output_type": "execute_result"
    }
   ],
   "source": [
    "df_plot.shape"
   ]
  },
  {
   "cell_type": "code",
   "execution_count": 112,
   "metadata": {},
   "outputs": [
    {
     "data": {
      "text/html": [
       "        <script type=\"text/javascript\">\n",
       "        window.PlotlyConfig = {MathJaxConfig: 'local'};\n",
       "        if (window.MathJax && window.MathJax.Hub && window.MathJax.Hub.Config) {window.MathJax.Hub.Config({SVG: {font: \"STIX-Web\"}});}\n",
       "        if (typeof require !== 'undefined') {\n",
       "        require.undef(\"plotly\");\n",
       "        requirejs.config({\n",
       "            paths: {\n",
       "                'plotly': ['https://cdn.plot.ly/plotly-2.18.0.min']\n",
       "            }\n",
       "        });\n",
       "        require(['plotly'], function(Plotly) {\n",
       "            window._Plotly = Plotly;\n",
       "        });\n",
       "        }\n",
       "        </script>\n",
       "        "
      ]
     },
     "metadata": {},
     "output_type": "display_data"
    },
    {
     "data": {
      "text/html": [
       "<div>                            <div id=\"4bf83281-7f1d-4d6e-b021-fb88428a605e\" class=\"plotly-graph-div\" style=\"height:525px; width:100%;\"></div>            <script type=\"text/javascript\">                require([\"plotly\"], function(Plotly) {                    window.PLOTLYENV=window.PLOTLYENV || {};                                    if (document.getElementById(\"4bf83281-7f1d-4d6e-b021-fb88428a605e\")) {                    Plotly.newPlot(                        \"4bf83281-7f1d-4d6e-b021-fb88428a605e\",                        [{\"close\":[1.08352,1.08247,1.08402,1.08408,1.0831,1.08388,1.0825,1.08185,1.08066,1.0822,1.08311,1.08306,1.08439,1.08477,1.0854,1.08566,1.08555,1.08683,1.08644,1.08851,1.08948,1.08924,1.08986,1.0895,1.08923,1.09008,1.09142,1.08999,1.09118,1.08994,1.08813,1.0871,1.0859,1.08617,1.08648,1.08642,1.08626,1.08664,1.08592,1.08682,1.08718,1.08708,1.08714,1.08737,1.0881,1.08789,1.08746,1.08766,1.08782,1.0888,1.08889,1.08753,1.0861,1.0864,1.08668,1.08598,1.0866,1.08422,1.08753,1.08718,1.08835,1.08792,1.08839,1.08815,1.08882,1.08865,1.08899,1.08872,1.08932,1.08967,1.08972,1.08989,1.08976,1.09064,1.08811,1.08774,1.08814,1.08659,1.08647,1.08738,1.08722,1.08939,1.09024,1.09002,1.08992,1.09092,1.09146,1.09146,1.09152,1.09148,1.09207,1.09158,1.09192,1.09154,1.09132,1.09144,1.09188,1.09204,1.09194,1.09091],\"high\":[1.08357,1.08368,1.08467,1.0859,1.0852,1.08474,1.08417,1.08278,1.08276,1.0826,1.08478,1.08451,1.08474,1.08504,1.08585,1.08584,1.08582,1.08684,1.08699,1.08874,1.08998,1.0899,1.09033,1.08987,1.08984,1.09122,1.0927,1.09157,1.09205,1.09155,1.09025,1.08834,1.08778,1.08684,1.08692,1.0876,1.0865,1.08732,1.08673,1.08684,1.08718,1.08735,1.08761,1.0875,1.08827,1.0883,1.08805,1.08766,1.08828,1.08919,1.08981,1.0896,1.08832,1.08666,1.0876,1.08766,1.0881,1.08701,1.08807,1.08835,1.0887,1.0889,1.08847,1.08848,1.08891,1.08893,1.08905,1.08905,1.08942,1.09016,1.08996,1.09028,1.08995,1.09112,1.09114,1.08914,1.0892,1.08814,1.08698,1.08772,1.0885,1.09004,1.09237,1.09034,1.09038,1.09182,1.09152,1.09176,1.09179,1.09185,1.09232,1.09248,1.09213,1.09218,1.09179,1.09184,1.09189,1.09296,1.09226,1.09282],\"low\":[1.08251,1.0824,1.08209,1.08386,1.08285,1.0826,1.08247,1.0814,1.08024,1.08046,1.08184,1.08273,1.08295,1.08337,1.08458,1.08521,1.08548,1.08617,1.08622,1.08644,1.0881,1.08901,1.08926,1.08892,1.08902,1.08872,1.08922,1.08933,1.08933,1.08956,1.0879,1.08669,1.08532,1.08462,1.0847,1.08598,1.0857,1.08623,1.08475,1.08572,1.0865,1.08696,1.0868,1.08678,1.08718,1.08778,1.08732,1.08694,1.08756,1.08774,1.08834,1.08665,1.0852,1.08521,1.08538,1.08591,1.08542,1.08405,1.08352,1.08672,1.08703,1.08767,1.0874,1.08792,1.08808,1.08825,1.0883,1.08808,1.0884,1.0893,1.08926,1.0897,1.0892,1.0896,1.08786,1.0868,1.087,1.08632,1.08574,1.08585,1.08644,1.08687,1.0891,1.08742,1.08941,1.08995,1.09068,1.09065,1.09114,1.09134,1.09137,1.09158,1.0907,1.09108,1.09113,1.09128,1.09092,1.09172,1.09066,1.09058],\"open\":[1.08293,1.08352,1.08247,1.08403,1.08406,1.0831,1.08388,1.08252,1.08182,1.08066,1.08218,1.0831,1.08304,1.08438,1.08476,1.08542,1.08564,1.0865,1.08674,1.08644,1.08848,1.08946,1.08926,1.08987,1.08948,1.08922,1.09006,1.09143,1.09,1.09118,1.08995,1.08814,1.08713,1.08587,1.08618,1.08649,1.0864,1.08626,1.08662,1.08594,1.08682,1.08718,1.08706,1.08714,1.08739,1.08811,1.08786,1.08744,1.08768,1.08784,1.08875,1.08889,1.08752,1.08606,1.08638,1.08668,1.086,1.0866,1.08424,1.08754,1.08719,1.08836,1.0879,1.08842,1.08812,1.08866,1.08864,1.089,1.08871,1.08932,1.08963,1.08976,1.08988,1.08978,1.09068,1.08808,1.08764,1.08814,1.08657,1.08646,1.08738,1.08721,1.08938,1.09022,1.09004,1.08995,1.09093,1.09148,1.09142,1.09168,1.0914,1.09208,1.0916,1.09192,1.09154,1.09128,1.09142,1.09185,1.09204,1.09196],\"x\":[\"2023-01-20T05:00:00.000000000Z\",\"2023-01-20T06:00:00.000000000Z\",\"2023-01-20T07:00:00.000000000Z\",\"2023-01-20T08:00:00.000000000Z\",\"2023-01-20T09:00:00.000000000Z\",\"2023-01-20T10:00:00.000000000Z\",\"2023-01-20T11:00:00.000000000Z\",\"2023-01-20T12:00:00.000000000Z\",\"2023-01-20T13:00:00.000000000Z\",\"2023-01-20T14:00:00.000000000Z\",\"2023-01-20T15:00:00.000000000Z\",\"2023-01-20T16:00:00.000000000Z\",\"2023-01-20T17:00:00.000000000Z\",\"2023-01-20T18:00:00.000000000Z\",\"2023-01-20T19:00:00.000000000Z\",\"2023-01-20T20:00:00.000000000Z\",\"2023-01-20T21:00:00.000000000Z\",\"2023-01-22T22:00:00.000000000Z\",\"2023-01-22T23:00:00.000000000Z\",\"2023-01-23T00:00:00.000000000Z\",\"2023-01-23T01:00:00.000000000Z\",\"2023-01-23T02:00:00.000000000Z\",\"2023-01-23T03:00:00.000000000Z\",\"2023-01-23T04:00:00.000000000Z\",\"2023-01-23T05:00:00.000000000Z\",\"2023-01-23T06:00:00.000000000Z\",\"2023-01-23T07:00:00.000000000Z\",\"2023-01-23T08:00:00.000000000Z\",\"2023-01-23T09:00:00.000000000Z\",\"2023-01-23T10:00:00.000000000Z\",\"2023-01-23T11:00:00.000000000Z\",\"2023-01-23T12:00:00.000000000Z\",\"2023-01-23T13:00:00.000000000Z\",\"2023-01-23T14:00:00.000000000Z\",\"2023-01-23T15:00:00.000000000Z\",\"2023-01-23T16:00:00.000000000Z\",\"2023-01-23T17:00:00.000000000Z\",\"2023-01-23T18:00:00.000000000Z\",\"2023-01-23T19:00:00.000000000Z\",\"2023-01-23T20:00:00.000000000Z\",\"2023-01-23T21:00:00.000000000Z\",\"2023-01-23T22:00:00.000000000Z\",\"2023-01-23T23:00:00.000000000Z\",\"2023-01-24T00:00:00.000000000Z\",\"2023-01-24T01:00:00.000000000Z\",\"2023-01-24T02:00:00.000000000Z\",\"2023-01-24T03:00:00.000000000Z\",\"2023-01-24T04:00:00.000000000Z\",\"2023-01-24T05:00:00.000000000Z\",\"2023-01-24T06:00:00.000000000Z\",\"2023-01-24T07:00:00.000000000Z\",\"2023-01-24T08:00:00.000000000Z\",\"2023-01-24T09:00:00.000000000Z\",\"2023-01-24T10:00:00.000000000Z\",\"2023-01-24T11:00:00.000000000Z\",\"2023-01-24T12:00:00.000000000Z\",\"2023-01-24T13:00:00.000000000Z\",\"2023-01-24T14:00:00.000000000Z\",\"2023-01-24T15:00:00.000000000Z\",\"2023-01-24T16:00:00.000000000Z\",\"2023-01-24T17:00:00.000000000Z\",\"2023-01-24T18:00:00.000000000Z\",\"2023-01-24T19:00:00.000000000Z\",\"2023-01-24T20:00:00.000000000Z\",\"2023-01-24T21:00:00.000000000Z\",\"2023-01-24T22:00:00.000000000Z\",\"2023-01-24T23:00:00.000000000Z\",\"2023-01-25T00:00:00.000000000Z\",\"2023-01-25T01:00:00.000000000Z\",\"2023-01-25T02:00:00.000000000Z\",\"2023-01-25T03:00:00.000000000Z\",\"2023-01-25T04:00:00.000000000Z\",\"2023-01-25T05:00:00.000000000Z\",\"2023-01-25T06:00:00.000000000Z\",\"2023-01-25T07:00:00.000000000Z\",\"2023-01-25T08:00:00.000000000Z\",\"2023-01-25T09:00:00.000000000Z\",\"2023-01-25T10:00:00.000000000Z\",\"2023-01-25T11:00:00.000000000Z\",\"2023-01-25T12:00:00.000000000Z\",\"2023-01-25T13:00:00.000000000Z\",\"2023-01-25T14:00:00.000000000Z\",\"2023-01-25T15:00:00.000000000Z\",\"2023-01-25T16:00:00.000000000Z\",\"2023-01-25T17:00:00.000000000Z\",\"2023-01-25T18:00:00.000000000Z\",\"2023-01-25T19:00:00.000000000Z\",\"2023-01-25T20:00:00.000000000Z\",\"2023-01-25T21:00:00.000000000Z\",\"2023-01-25T22:00:00.000000000Z\",\"2023-01-25T23:00:00.000000000Z\",\"2023-01-26T00:00:00.000000000Z\",\"2023-01-26T01:00:00.000000000Z\",\"2023-01-26T02:00:00.000000000Z\",\"2023-01-26T03:00:00.000000000Z\",\"2023-01-26T04:00:00.000000000Z\",\"2023-01-26T05:00:00.000000000Z\",\"2023-01-26T06:00:00.000000000Z\",\"2023-01-26T07:00:00.000000000Z\",\"2023-01-26T08:00:00.000000000Z\"],\"type\":\"candlestick\"}],                        {\"template\":{\"data\":{\"histogram2dcontour\":[{\"type\":\"histogram2dcontour\",\"colorbar\":{\"outlinewidth\":0,\"ticks\":\"\"},\"colorscale\":[[0.0,\"#0d0887\"],[0.1111111111111111,\"#46039f\"],[0.2222222222222222,\"#7201a8\"],[0.3333333333333333,\"#9c179e\"],[0.4444444444444444,\"#bd3786\"],[0.5555555555555556,\"#d8576b\"],[0.6666666666666666,\"#ed7953\"],[0.7777777777777778,\"#fb9f3a\"],[0.8888888888888888,\"#fdca26\"],[1.0,\"#f0f921\"]]}],\"choropleth\":[{\"type\":\"choropleth\",\"colorbar\":{\"outlinewidth\":0,\"ticks\":\"\"}}],\"histogram2d\":[{\"type\":\"histogram2d\",\"colorbar\":{\"outlinewidth\":0,\"ticks\":\"\"},\"colorscale\":[[0.0,\"#0d0887\"],[0.1111111111111111,\"#46039f\"],[0.2222222222222222,\"#7201a8\"],[0.3333333333333333,\"#9c179e\"],[0.4444444444444444,\"#bd3786\"],[0.5555555555555556,\"#d8576b\"],[0.6666666666666666,\"#ed7953\"],[0.7777777777777778,\"#fb9f3a\"],[0.8888888888888888,\"#fdca26\"],[1.0,\"#f0f921\"]]}],\"heatmap\":[{\"type\":\"heatmap\",\"colorbar\":{\"outlinewidth\":0,\"ticks\":\"\"},\"colorscale\":[[0.0,\"#0d0887\"],[0.1111111111111111,\"#46039f\"],[0.2222222222222222,\"#7201a8\"],[0.3333333333333333,\"#9c179e\"],[0.4444444444444444,\"#bd3786\"],[0.5555555555555556,\"#d8576b\"],[0.6666666666666666,\"#ed7953\"],[0.7777777777777778,\"#fb9f3a\"],[0.8888888888888888,\"#fdca26\"],[1.0,\"#f0f921\"]]}],\"heatmapgl\":[{\"type\":\"heatmapgl\",\"colorbar\":{\"outlinewidth\":0,\"ticks\":\"\"},\"colorscale\":[[0.0,\"#0d0887\"],[0.1111111111111111,\"#46039f\"],[0.2222222222222222,\"#7201a8\"],[0.3333333333333333,\"#9c179e\"],[0.4444444444444444,\"#bd3786\"],[0.5555555555555556,\"#d8576b\"],[0.6666666666666666,\"#ed7953\"],[0.7777777777777778,\"#fb9f3a\"],[0.8888888888888888,\"#fdca26\"],[1.0,\"#f0f921\"]]}],\"contourcarpet\":[{\"type\":\"contourcarpet\",\"colorbar\":{\"outlinewidth\":0,\"ticks\":\"\"}}],\"contour\":[{\"type\":\"contour\",\"colorbar\":{\"outlinewidth\":0,\"ticks\":\"\"},\"colorscale\":[[0.0,\"#0d0887\"],[0.1111111111111111,\"#46039f\"],[0.2222222222222222,\"#7201a8\"],[0.3333333333333333,\"#9c179e\"],[0.4444444444444444,\"#bd3786\"],[0.5555555555555556,\"#d8576b\"],[0.6666666666666666,\"#ed7953\"],[0.7777777777777778,\"#fb9f3a\"],[0.8888888888888888,\"#fdca26\"],[1.0,\"#f0f921\"]]}],\"surface\":[{\"type\":\"surface\",\"colorbar\":{\"outlinewidth\":0,\"ticks\":\"\"},\"colorscale\":[[0.0,\"#0d0887\"],[0.1111111111111111,\"#46039f\"],[0.2222222222222222,\"#7201a8\"],[0.3333333333333333,\"#9c179e\"],[0.4444444444444444,\"#bd3786\"],[0.5555555555555556,\"#d8576b\"],[0.6666666666666666,\"#ed7953\"],[0.7777777777777778,\"#fb9f3a\"],[0.8888888888888888,\"#fdca26\"],[1.0,\"#f0f921\"]]}],\"mesh3d\":[{\"type\":\"mesh3d\",\"colorbar\":{\"outlinewidth\":0,\"ticks\":\"\"}}],\"scatter\":[{\"fillpattern\":{\"fillmode\":\"overlay\",\"size\":10,\"solidity\":0.2},\"type\":\"scatter\"}],\"parcoords\":[{\"type\":\"parcoords\",\"line\":{\"colorbar\":{\"outlinewidth\":0,\"ticks\":\"\"}}}],\"scatterpolargl\":[{\"type\":\"scatterpolargl\",\"marker\":{\"colorbar\":{\"outlinewidth\":0,\"ticks\":\"\"}}}],\"bar\":[{\"error_x\":{\"color\":\"#2a3f5f\"},\"error_y\":{\"color\":\"#2a3f5f\"},\"marker\":{\"line\":{\"color\":\"#E5ECF6\",\"width\":0.5},\"pattern\":{\"fillmode\":\"overlay\",\"size\":10,\"solidity\":0.2}},\"type\":\"bar\"}],\"scattergeo\":[{\"type\":\"scattergeo\",\"marker\":{\"colorbar\":{\"outlinewidth\":0,\"ticks\":\"\"}}}],\"scatterpolar\":[{\"type\":\"scatterpolar\",\"marker\":{\"colorbar\":{\"outlinewidth\":0,\"ticks\":\"\"}}}],\"histogram\":[{\"marker\":{\"pattern\":{\"fillmode\":\"overlay\",\"size\":10,\"solidity\":0.2}},\"type\":\"histogram\"}],\"scattergl\":[{\"type\":\"scattergl\",\"marker\":{\"colorbar\":{\"outlinewidth\":0,\"ticks\":\"\"}}}],\"scatter3d\":[{\"type\":\"scatter3d\",\"line\":{\"colorbar\":{\"outlinewidth\":0,\"ticks\":\"\"}},\"marker\":{\"colorbar\":{\"outlinewidth\":0,\"ticks\":\"\"}}}],\"scattermapbox\":[{\"type\":\"scattermapbox\",\"marker\":{\"colorbar\":{\"outlinewidth\":0,\"ticks\":\"\"}}}],\"scatterternary\":[{\"type\":\"scatterternary\",\"marker\":{\"colorbar\":{\"outlinewidth\":0,\"ticks\":\"\"}}}],\"scattercarpet\":[{\"type\":\"scattercarpet\",\"marker\":{\"colorbar\":{\"outlinewidth\":0,\"ticks\":\"\"}}}],\"carpet\":[{\"aaxis\":{\"endlinecolor\":\"#2a3f5f\",\"gridcolor\":\"white\",\"linecolor\":\"white\",\"minorgridcolor\":\"white\",\"startlinecolor\":\"#2a3f5f\"},\"baxis\":{\"endlinecolor\":\"#2a3f5f\",\"gridcolor\":\"white\",\"linecolor\":\"white\",\"minorgridcolor\":\"white\",\"startlinecolor\":\"#2a3f5f\"},\"type\":\"carpet\"}],\"table\":[{\"cells\":{\"fill\":{\"color\":\"#EBF0F8\"},\"line\":{\"color\":\"white\"}},\"header\":{\"fill\":{\"color\":\"#C8D4E3\"},\"line\":{\"color\":\"white\"}},\"type\":\"table\"}],\"barpolar\":[{\"marker\":{\"line\":{\"color\":\"#E5ECF6\",\"width\":0.5},\"pattern\":{\"fillmode\":\"overlay\",\"size\":10,\"solidity\":0.2}},\"type\":\"barpolar\"}],\"pie\":[{\"automargin\":true,\"type\":\"pie\"}]},\"layout\":{\"autotypenumbers\":\"strict\",\"colorway\":[\"#636efa\",\"#EF553B\",\"#00cc96\",\"#ab63fa\",\"#FFA15A\",\"#19d3f3\",\"#FF6692\",\"#B6E880\",\"#FF97FF\",\"#FECB52\"],\"font\":{\"color\":\"#2a3f5f\"},\"hovermode\":\"closest\",\"hoverlabel\":{\"align\":\"left\"},\"paper_bgcolor\":\"white\",\"plot_bgcolor\":\"#E5ECF6\",\"polar\":{\"bgcolor\":\"#E5ECF6\",\"angularaxis\":{\"gridcolor\":\"white\",\"linecolor\":\"white\",\"ticks\":\"\"},\"radialaxis\":{\"gridcolor\":\"white\",\"linecolor\":\"white\",\"ticks\":\"\"}},\"ternary\":{\"bgcolor\":\"#E5ECF6\",\"aaxis\":{\"gridcolor\":\"white\",\"linecolor\":\"white\",\"ticks\":\"\"},\"baxis\":{\"gridcolor\":\"white\",\"linecolor\":\"white\",\"ticks\":\"\"},\"caxis\":{\"gridcolor\":\"white\",\"linecolor\":\"white\",\"ticks\":\"\"}},\"coloraxis\":{\"colorbar\":{\"outlinewidth\":0,\"ticks\":\"\"}},\"colorscale\":{\"sequential\":[[0.0,\"#0d0887\"],[0.1111111111111111,\"#46039f\"],[0.2222222222222222,\"#7201a8\"],[0.3333333333333333,\"#9c179e\"],[0.4444444444444444,\"#bd3786\"],[0.5555555555555556,\"#d8576b\"],[0.6666666666666666,\"#ed7953\"],[0.7777777777777778,\"#fb9f3a\"],[0.8888888888888888,\"#fdca26\"],[1.0,\"#f0f921\"]],\"sequentialminus\":[[0.0,\"#0d0887\"],[0.1111111111111111,\"#46039f\"],[0.2222222222222222,\"#7201a8\"],[0.3333333333333333,\"#9c179e\"],[0.4444444444444444,\"#bd3786\"],[0.5555555555555556,\"#d8576b\"],[0.6666666666666666,\"#ed7953\"],[0.7777777777777778,\"#fb9f3a\"],[0.8888888888888888,\"#fdca26\"],[1.0,\"#f0f921\"]],\"diverging\":[[0,\"#8e0152\"],[0.1,\"#c51b7d\"],[0.2,\"#de77ae\"],[0.3,\"#f1b6da\"],[0.4,\"#fde0ef\"],[0.5,\"#f7f7f7\"],[0.6,\"#e6f5d0\"],[0.7,\"#b8e186\"],[0.8,\"#7fbc41\"],[0.9,\"#4d9221\"],[1,\"#276419\"]]},\"xaxis\":{\"gridcolor\":\"white\",\"linecolor\":\"white\",\"ticks\":\"\",\"title\":{\"standoff\":15},\"zerolinecolor\":\"white\",\"automargin\":true,\"zerolinewidth\":2},\"yaxis\":{\"gridcolor\":\"white\",\"linecolor\":\"white\",\"ticks\":\"\",\"title\":{\"standoff\":15},\"zerolinecolor\":\"white\",\"automargin\":true,\"zerolinewidth\":2},\"scene\":{\"xaxis\":{\"backgroundcolor\":\"#E5ECF6\",\"gridcolor\":\"white\",\"linecolor\":\"white\",\"showbackground\":true,\"ticks\":\"\",\"zerolinecolor\":\"white\",\"gridwidth\":2},\"yaxis\":{\"backgroundcolor\":\"#E5ECF6\",\"gridcolor\":\"white\",\"linecolor\":\"white\",\"showbackground\":true,\"ticks\":\"\",\"zerolinecolor\":\"white\",\"gridwidth\":2},\"zaxis\":{\"backgroundcolor\":\"#E5ECF6\",\"gridcolor\":\"white\",\"linecolor\":\"white\",\"showbackground\":true,\"ticks\":\"\",\"zerolinecolor\":\"white\",\"gridwidth\":2}},\"shapedefaults\":{\"line\":{\"color\":\"#2a3f5f\"}},\"annotationdefaults\":{\"arrowcolor\":\"#2a3f5f\",\"arrowhead\":0,\"arrowwidth\":1},\"geo\":{\"bgcolor\":\"white\",\"landcolor\":\"#E5ECF6\",\"subunitcolor\":\"white\",\"showland\":true,\"showlakes\":true,\"lakecolor\":\"white\"},\"title\":{\"x\":0.05},\"mapbox\":{\"style\":\"light\"}}}},                        {\"responsive\": true}                    ).then(function(){\n",
       "                            \n",
       "var gd = document.getElementById('4bf83281-7f1d-4d6e-b021-fb88428a605e');\n",
       "var x = new MutationObserver(function (mutations, observer) {{\n",
       "        var display = window.getComputedStyle(gd).display;\n",
       "        if (!display || display === 'none') {{\n",
       "            console.log([gd, 'removed!']);\n",
       "            Plotly.purge(gd);\n",
       "            observer.disconnect();\n",
       "        }}\n",
       "}});\n",
       "\n",
       "// Listen for the removal of the full notebook cells\n",
       "var notebookContainer = gd.closest('#notebook-container');\n",
       "if (notebookContainer) {{\n",
       "    x.observe(notebookContainer, {childList: true});\n",
       "}}\n",
       "\n",
       "// Listen for the clearing of the current output cell\n",
       "var outputEl = gd.closest('.output');\n",
       "if (outputEl) {{\n",
       "    x.observe(outputEl, {childList: true});\n",
       "}}\n",
       "\n",
       "                        })                };                });            </script>        </div>"
      ]
     },
     "metadata": {},
     "output_type": "display_data"
    }
   ],
   "source": [
    "fig = go.Figure()\n",
    "fig.add_trace(go.Candlestick(\n",
    "    x=df_plot.time, open=df_plot.mid_o, high=df_plot.mid_h, low=df_plot.mid_l, close=df_plot.mid_c\n",
    "))\n",
    "fig.show()"
   ]
  },
  {
   "cell_type": "code",
   "execution_count": null,
   "metadata": {},
   "outputs": [],
   "source": []
  }
 ],
 "metadata": {
  "kernelspec": {
   "display_name": "Python 3 (ipykernel)",
   "language": "python",
   "name": "python3"
  },
  "language_info": {
   "codemirror_mode": {
    "name": "ipython",
    "version": 3
   },
   "file_extension": ".py",
   "mimetype": "text/x-python",
   "name": "python",
   "nbconvert_exporter": "python",
   "pygments_lexer": "ipython3",
   "version": "3.9.12"
  },
  "vscode": {
   "interpreter": {
    "hash": "fda0f0fb60ecb5fc85efacd84e1859512479306cf791e683553414edd7237eac"
   }
  }
 },
 "nbformat": 4,
 "nbformat_minor": 2
}
