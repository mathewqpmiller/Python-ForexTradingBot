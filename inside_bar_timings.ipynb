{
 "cells": [
  {
   "cell_type": "code",
   "execution_count": 73,
   "metadata": {},
   "outputs": [],
   "source": [
    "import pandas as pd\n",
    "import utils\n",
    "import datetime as dt\n",
    "from dateutil.parser import *"
   ]
  },
  {
   "cell_type": "code",
   "execution_count": 74,
   "metadata": {},
   "outputs": [],
   "source": [
    "df_trades = pd.read_pickle(\"USD_JPY_H4_trades.pkl\")"
   ]
  },
  {
   "cell_type": "code",
   "execution_count": 75,
   "metadata": {},
   "outputs": [],
   "source": [
    "pair = \"USD_JPY\""
   ]
  },
  {
   "cell_type": "code",
   "execution_count": 76,
   "metadata": {},
   "outputs": [],
   "source": [
    "df_raw = pd.read_pickle(utils.get_his_data_filename(pair, \"M5\"))"
   ]
  },
  {
   "cell_type": "code",
   "execution_count": 77,
   "metadata": {},
   "outputs": [],
   "source": [
    "non_cols = ['time', 'volume']\n",
    "mod_cols = [x for x in df_raw.columns if x not in non_cols]\n",
    "df_raw[mod_cols] = df_raw[mod_cols].apply(pd.to_numeric)"
   ]
  },
  {
   "cell_type": "code",
   "execution_count": 78,
   "metadata": {},
   "outputs": [],
   "source": [
    "df_trades[\"time\"] = [parse(x) for x in df_trades.time]\n",
    "df_raw[\"time\"] = [parse(x) for x in df_raw.time]"
   ]
  },
  {
   "cell_type": "code",
   "execution_count": 79,
   "metadata": {},
   "outputs": [],
   "source": [
    "df_trades[\"next\"] = df_trades[\"time\"].shift(-1)"
   ]
  },
  {
   "cell_type": "code",
   "execution_count": 80,
   "metadata": {},
   "outputs": [],
   "source": [
    "df_trades[\"trade_end\"] = df_trades.next + dt.timedelta(hours=3, minutes=55)\n",
    "df_trades['trade_start'] = df_trades.time + dt.timedelta(hours=4)"
   ]
  },
  {
   "cell_type": "code",
   "execution_count": 81,
   "metadata": {},
   "outputs": [
    {
     "data": {
      "text/html": [
       "<div>\n",
       "<style scoped>\n",
       "    .dataframe tbody tr th:only-of-type {\n",
       "        vertical-align: middle;\n",
       "    }\n",
       "\n",
       "    .dataframe tbody tr th {\n",
       "        vertical-align: top;\n",
       "    }\n",
       "\n",
       "    .dataframe thead th {\n",
       "        text-align: right;\n",
       "    }\n",
       "</style>\n",
       "<table border=\"1\" class=\"dataframe\">\n",
       "  <thead>\n",
       "    <tr style=\"text-align: right;\">\n",
       "      <th></th>\n",
       "      <th>time</th>\n",
       "      <th>next</th>\n",
       "      <th>trade_end</th>\n",
       "      <th>trade_start</th>\n",
       "    </tr>\n",
       "  </thead>\n",
       "  <tbody>\n",
       "    <tr>\n",
       "      <th>0</th>\n",
       "      <td>2020-01-02 02:00:00+00:00</td>\n",
       "      <td>2020-01-02 18:00:00+00:00</td>\n",
       "      <td>2020-01-02 21:55:00+00:00</td>\n",
       "      <td>2020-01-02 06:00:00+00:00</td>\n",
       "    </tr>\n",
       "    <tr>\n",
       "      <th>4</th>\n",
       "      <td>2020-01-02 18:00:00+00:00</td>\n",
       "      <td>2020-01-06 02:00:00+00:00</td>\n",
       "      <td>2020-01-06 05:55:00+00:00</td>\n",
       "      <td>2020-01-02 22:00:00+00:00</td>\n",
       "    </tr>\n",
       "    <tr>\n",
       "      <th>12</th>\n",
       "      <td>2020-01-06 02:00:00+00:00</td>\n",
       "      <td>2020-01-06 10:00:00+00:00</td>\n",
       "      <td>2020-01-06 13:55:00+00:00</td>\n",
       "      <td>2020-01-06 06:00:00+00:00</td>\n",
       "    </tr>\n",
       "    <tr>\n",
       "      <th>14</th>\n",
       "      <td>2020-01-06 10:00:00+00:00</td>\n",
       "      <td>2020-01-07 10:00:00+00:00</td>\n",
       "      <td>2020-01-07 13:55:00+00:00</td>\n",
       "      <td>2020-01-06 14:00:00+00:00</td>\n",
       "    </tr>\n",
       "    <tr>\n",
       "      <th>20</th>\n",
       "      <td>2020-01-07 10:00:00+00:00</td>\n",
       "      <td>2020-01-07 18:00:00+00:00</td>\n",
       "      <td>2020-01-07 21:55:00+00:00</td>\n",
       "      <td>2020-01-07 14:00:00+00:00</td>\n",
       "    </tr>\n",
       "  </tbody>\n",
       "</table>\n",
       "</div>"
      ],
      "text/plain": [
       "                        time                      next  \\\n",
       "0  2020-01-02 02:00:00+00:00 2020-01-02 18:00:00+00:00   \n",
       "4  2020-01-02 18:00:00+00:00 2020-01-06 02:00:00+00:00   \n",
       "12 2020-01-06 02:00:00+00:00 2020-01-06 10:00:00+00:00   \n",
       "14 2020-01-06 10:00:00+00:00 2020-01-07 10:00:00+00:00   \n",
       "20 2020-01-07 10:00:00+00:00 2020-01-07 18:00:00+00:00   \n",
       "\n",
       "                   trade_end               trade_start  \n",
       "0  2020-01-02 21:55:00+00:00 2020-01-02 06:00:00+00:00  \n",
       "4  2020-01-06 05:55:00+00:00 2020-01-02 22:00:00+00:00  \n",
       "12 2020-01-06 13:55:00+00:00 2020-01-06 06:00:00+00:00  \n",
       "14 2020-01-07 13:55:00+00:00 2020-01-06 14:00:00+00:00  \n",
       "20 2020-01-07 21:55:00+00:00 2020-01-07 14:00:00+00:00  "
      ]
     },
     "execution_count": 81,
     "metadata": {},
     "output_type": "execute_result"
    }
   ],
   "source": [
    "df_trades[['time', 'next', 'trade_end', 'trade_start']].head()"
   ]
  },
  {
   "cell_type": "code",
   "execution_count": 82,
   "metadata": {},
   "outputs": [],
   "source": [
    "df_trades.dropna(inplace=True)\n",
    "df_trades.reset_index(drop=True, inplace=True)"
   ]
  },
  {
   "cell_type": "code",
   "execution_count": 86,
   "metadata": {},
   "outputs": [],
   "source": [
    "def signal_text(signal):\n",
    "    if signal == 1:\n",
    "        return 'BUY'\n",
    "    elif signal == -1:\n",
    "        return 'SELL'\n",
    "    return 'NONE'\n",
    "\n",
    "def triggered(direction, current_price, signal_price):\n",
    "    if direction == 1 and current_price > signal_price:\n",
    "        return True\n",
    "    elif direction == -1 and current_price < signal_price:\n",
    "        return True\n",
    "    return False\n",
    "\n",
    "def process_buy(start_index, TP, SL, prices, start_price):\n",
    "    for price in prices[start_index:]:\n",
    "        if price <= TP:\n",
    "            return 2.0\n",
    "        elif price >= SL:\n",
    "            return -1.0\n",
    "    return 0.0\n",
    "\n",
    "def process_sell(start_index, TP, SL, prices, start_price):\n",
    "    for price in prices[start_index:]:\n",
    "        if price >= TP:\n",
    "            return 2.0\n",
    "        elif price <= SL:\n",
    "            return -1.0\n",
    "    return 0.0\n",
    "\n",
    "def process_trade(start_index, direction, TP, SL, prices, start_price):\n",
    "    if direction == 1:\n",
    "        return process_buy(start_index, TP, SL, prices, start_price)\n",
    "    else:\n",
    "        return process_sell(start_index, TP, SL, prices, start_price)\n",
    "\n",
    "def process_m5(m5_df, row):\n",
    "    result = 0.0\n",
    "    for index, price in enumerate(m5_df.mid_c.values):\n",
    "        if triggered(row.SIGNAL, price, row.ENTRY) == True:\n",
    "            print(f\"Signal at {price:.2f} {row.ENTRY:.2f} {row.SIGNAL:.2f}\")\n",
    "            result = process_trade(index, row.SIGNAL, row.TAKEPROFIT, row.STOPLOSS, m5_df.mid_c.values, row.ENTRY)\n",
    "            break\n",
    "    return result"
   ]
  },
  {
   "cell_type": "code",
   "execution_count": 87,
   "metadata": {},
   "outputs": [
    {
     "name": "stdout",
     "output_type": "stream",
     "text": [
      "2020-01-02 02:00:00+00:00 BUY 108.78 (192, 14)\n",
      "Signal at 108.79 108.78 1.00\n",
      "2020-01-02 18:00:00+00:00 SELL 108.16 (384, 14)\n",
      "Signal at 108.13 108.16 -1.00\n",
      "2020-01-06 02:00:00+00:00 BUY 108.16 (96, 14)\n",
      "Signal at 108.16 108.16 1.00\n",
      "2020-01-06 10:00:00+00:00 SELL 107.90 (286, 14)\n",
      "2020-01-07 10:00:00+00:00 BUY 108.52 (96, 14)\n",
      "Signal at 108.54 108.52 1.00\n",
      "2020-01-07 18:00:00+00:00 BUY 108.66 (96, 14)\n",
      "2020-01-08 02:00:00+00:00 SELL 107.56 (768, 14)\n",
      "2020-01-10 18:00:00+00:00 SELL 109.41 (374, 14)\n",
      "2020-01-14 02:00:00+00:00 BUY 110.24 (96, 14)\n",
      "2020-01-14 10:00:00+00:00 SELL 109.86 (191, 14)\n",
      "Signal at 109.86 109.86 -1.00\n",
      "2020-01-15 02:00:00+00:00 SELL 109.80 (192, 14)\n",
      "2020-01-15 18:00:00+00:00 BUY 110.02 (95, 14)\n",
      "10.0\n"
     ]
    }
   ],
   "source": [
    "total = 0\n",
    "for index, row in df_trades.iterrows():\n",
    "    m5_data = df_raw[(df_raw.time >= row.trade_start) & (df_raw.time <= row.trade_end)]\n",
    "    print(f\"{row.time} {signal_text(row.SIGNAL)} {row.ENTRY:.2f} {m5_data.shape}\")\n",
    "    total += process_m5(m5_data, row)\n",
    "    if index > 10:\n",
    "        break\n",
    "print(total)"
   ]
  },
  {
   "cell_type": "code",
   "execution_count": null,
   "metadata": {},
   "outputs": [],
   "source": []
  },
  {
   "cell_type": "code",
   "execution_count": null,
   "metadata": {},
   "outputs": [],
   "source": []
  }
 ],
 "metadata": {
  "kernelspec": {
   "display_name": "venv",
   "language": "python",
   "name": "python3"
  },
  "language_info": {
   "codemirror_mode": {
    "name": "ipython",
    "version": 3
   },
   "file_extension": ".py",
   "mimetype": "text/x-python",
   "name": "python",
   "nbconvert_exporter": "python",
   "pygments_lexer": "ipython3",
   "version": "3.11.1"
  },
  "orig_nbformat": 4,
  "vscode": {
   "interpreter": {
    "hash": "fda0f0fb60ecb5fc85efacd84e1859512479306cf791e683553414edd7237eac"
   }
  }
 },
 "nbformat": 4,
 "nbformat_minor": 2
}
