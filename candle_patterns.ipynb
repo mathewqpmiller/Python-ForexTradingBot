{
 "cells": [
  {
   "cell_type": "code",
   "execution_count": 119,
   "metadata": {},
   "outputs": [],
   "source": [
    "import pandas as pd\n",
    "import utils\n",
    "import plotly.graph_objects as go"
   ]
  },
  {
   "cell_type": "code",
   "execution_count": 120,
   "metadata": {},
   "outputs": [],
   "source": [
    "plot_cols = ['ENTRY', 'STOPLOSS', 'TAKEPROFIT']\n",
    "plot_colours = ['#043ef9', '#eb5334', '#34eb37']\n",
    "\n",
    "def plot_candles(df_plot, df_markers=None):\n",
    "    fig = go.Figure()\n",
    "    \n",
    "    fig.add_trace(go.Candlestick(\n",
    "        x=df_plot.time, open=df_plot.mid_o, high=df_plot.mid_h, low=df_plot.mid_l, close=df_plot.mid_c,\n",
    "        line=dict(width=1), opacity=1,\n",
    "        increasing_fillcolor='#24A06B',\n",
    "        decreasing_fillcolor=\"#CC2E3C\",\n",
    "        increasing_line_color='#2EC886',\n",
    "        decreasing_line_color='#FF3A4C'\n",
    "    ))\n",
    "    if df_markers is not None:\n",
    "        fig.add_trace(go.Candlestick(\n",
    "            x=df_markers.time, open=df_markers.mid_o, high=df_markers.mid_h, low=df_markers.mid_l, close=df_markers.mid_c,\n",
    "            line=dict(width=1), opacity=1,\n",
    "            increasing_fillcolor='#3480eb',\n",
    "            decreasing_fillcolor='#3480eb',\n",
    "            increasing_line_color='#3480eb',\n",
    "            decreasing_line_color='#3480eb'\n",
    "    ))\n",
    "    fig.update_layout(width=1000,height=400,\n",
    "        margin=dict(l=10,b=10,t=10),\n",
    "        font=dict(size=10,color=\"#e1e1e1\"),\n",
    "        paper_bgcolor=\"#1e1e1e\",\n",
    "        plot_bgcolor=\"#1e1e1e\")\n",
    "    fig.update_xaxes(\n",
    "        gridcolor=\"#1f292f\",\n",
    "        showgrid=True,fixedrange=True,rangeslider=dict(visible=False),\n",
    "        rangebreaks=[\n",
    "            dict(bounds=[\"sat\", \"mon\"])\n",
    "        ]\n",
    "    )\n",
    "    fig.update_yaxes(\n",
    "        gridcolor=\"#1f292f\",\n",
    "        showgrid=True,\n",
    "    )\n",
    "    fig.show()"
   ]
  },
  {
   "cell_type": "code",
   "execution_count": 121,
   "metadata": {},
   "outputs": [],
   "source": [
    "pair = \"USD_JPY\"\n",
    "granularity = \"H4\"\n",
    "df_raw = pd.read_pickle(utils.get_his_data_filename(pair, granularity))"
   ]
  },
  {
   "cell_type": "code",
   "execution_count": 122,
   "metadata": {},
   "outputs": [],
   "source": [
    "cols = ['time', 'mid_o', 'mid_h', 'mid_l', 'mid_c']"
   ]
  },
  {
   "cell_type": "code",
   "execution_count": 123,
   "metadata": {},
   "outputs": [],
   "source": [
    "SMALL_BODY = 0.2\n",
    "CLOSE_DISTANCE = 0.15\n",
    "DOJI_BODY = 0.05\n",
    "FULL_BODY = 0.95\n",
    "CENTER_DISTANCE_HIGH = 0.55\n",
    "CENTER_DISTANCE_LOW = 0.45\n",
    "BIG_BODY = 0.6\n",
    "ENGULFING_FACTOR = 1.1\n",
    "\n",
    "def apply_top_end_distance(row):\n",
    "    if row.DIRECTION == 1:\n",
    "        return row.mid_h - row.mid_c\n",
    "    else:\n",
    "        return row.mid_h - row.mid_o\n",
    "    \n",
    "def apply_bottom_end_distance(row):\n",
    "    if row.DIRECTION == 1:\n",
    "        return row.mid_o - row.mid_l\n",
    "    else:\n",
    "        return row.mid_c - row.mid_l\n",
    "    \n",
    "def apply_hammer(row):\n",
    "    if row.BODY_PERC < SMALL_BODY:\n",
    "        if row.DIST_TOP_PERC < CLOSE_DISTANCE or row.DIST_BOTTOM_PERC < CLOSE_DISTANCE:\n",
    "            return True\n",
    "    return False\n",
    "\n",
    "def apply_spinning_top(row):\n",
    "    if row.BODY_PERC < SMALL_BODY:\n",
    "        if row.DIST_TOP_PERC < CENTER_DISTANCE_HIGH or row.DIST_TOP_PERC < CENTER_DISTANCE_LOW:\n",
    "            return True\n",
    "    return False\n",
    "\n",
    "def apply_engulfing(row):\n",
    "    if row.PREV_DIRECTION != row.DIRECTION:\n",
    "        if row.PREV_BODY_PERC > BIG_BODY and row.BODY_PERC > BIG_BODY:\n",
    "            if row.BODY_RANGE > row.PREV_BODY_RANGE * ENGULFING_FACTOR:\n",
    "                return True\n",
    "    return False\n",
    "\n",
    "def apply_stats(df):\n",
    "    df['RANGE'] = df.mid_h - df.mid_l\n",
    "    df['BODY_RANGE'] = abs(df.mid_c - df.mid_o)\n",
    "    df['CENTER'] = (df.mid_h - df.mid_l) / 2 + df.mid_l\n",
    "    df['BODY_PERC'] = df.BODY_RANGE / df.RANGE\n",
    "    df['DIRECTION'] = df.mid_c - df.mid_o\n",
    "    df['DIRECTION'] = df['DIRECTION'].apply(lambda x: 1 if x >= 0 else -1)\n",
    "    df['DIST_TOP'] = df.apply(apply_top_end_distance, axis=1)\n",
    "    df['DIST_BOTTOM'] = df.apply(apply_bottom_end_distance, axis=1)\n",
    "    df['DIST_TOP_PERC'] = df.DIST_TOP / df.RANGE\n",
    "    df['DIST_BOTTOM_PERC'] = df.DIST_BOTTOM / df.RANGE\n",
    "    \n",
    "    df['PREV_BODY_RANGE'] = df.BODY_RANGE.shift(1)\n",
    "    df['PREV_BODY_PERC'] = df.BODY_PERC.shift(1)\n",
    "    df['PREV_DIRECTION'] = df.DIRECTION.shift(1)\n",
    "    \n",
    "    df.dropna(inplace=True)\n",
    "    \n",
    "    return df\n",
    "\n",
    "def apply_patterns(df):\n",
    "    df['HAMMER'] = df.apply(apply_hammer, axis=1)\n",
    "    df['SPINNING_TOP'] = df.apply(apply_spinning_top, axis=1)\n",
    "    df['DOJI'] = df['BODY_PERC'].apply(lambda x: True if x < DOJI_BODY else False)\n",
    "    df['MARUBOZU'] = df['BODY_PERC'].apply(lambda x: True if x > FULL_BODY else False)\n",
    "    df['ENGULFING'] = df.apply(apply_engulfing, axis=1)\n",
    "    \n",
    "    return df"
   ]
  },
  {
   "cell_type": "code",
   "execution_count": 124,
   "metadata": {},
   "outputs": [],
   "source": [
    "df = df_raw[cols].copy()\n",
    "df = apply_stats(df)\n",
    "df = apply_patterns(df)"
   ]
  },
  {
   "cell_type": "code",
   "execution_count": 125,
   "metadata": {},
   "outputs": [
    {
     "data": {
      "text/html": [
       "<div>\n",
       "<style scoped>\n",
       "    .dataframe tbody tr th:only-of-type {\n",
       "        vertical-align: middle;\n",
       "    }\n",
       "\n",
       "    .dataframe tbody tr th {\n",
       "        vertical-align: top;\n",
       "    }\n",
       "\n",
       "    .dataframe thead th {\n",
       "        text-align: right;\n",
       "    }\n",
       "</style>\n",
       "<table border=\"1\" class=\"dataframe\">\n",
       "  <thead>\n",
       "    <tr style=\"text-align: right;\">\n",
       "      <th></th>\n",
       "      <th>time</th>\n",
       "      <th>mid_o</th>\n",
       "      <th>mid_h</th>\n",
       "      <th>mid_l</th>\n",
       "      <th>mid_c</th>\n",
       "      <th>RANGE</th>\n",
       "      <th>BODY_RANGE</th>\n",
       "      <th>CENTER</th>\n",
       "      <th>BODY_PERC</th>\n",
       "      <th>DIRECTION</th>\n",
       "      <th>...</th>\n",
       "      <th>DIST_TOP_PERC</th>\n",
       "      <th>DIST_BOTTOM_PERC</th>\n",
       "      <th>PREV_BODY_RANGE</th>\n",
       "      <th>PREV_BODY_PERC</th>\n",
       "      <th>PREV_DIRECTION</th>\n",
       "      <th>HAMMER</th>\n",
       "      <th>SPINNING_TOP</th>\n",
       "      <th>DOJI</th>\n",
       "      <th>MARUBOZU</th>\n",
       "      <th>ENGULFING</th>\n",
       "    </tr>\n",
       "  </thead>\n",
       "  <tbody>\n",
       "    <tr>\n",
       "      <th>1</th>\n",
       "      <td>2020-01-02 02:00:00+00:00</td>\n",
       "      <td>108.671</td>\n",
       "      <td>108.758</td>\n",
       "      <td>108.658</td>\n",
       "      <td>108.742</td>\n",
       "      <td>0.100</td>\n",
       "      <td>0.071</td>\n",
       "      <td>108.708</td>\n",
       "      <td>0.710000</td>\n",
       "      <td>1</td>\n",
       "      <td>...</td>\n",
       "      <td>0.160000</td>\n",
       "      <td>0.130000</td>\n",
       "      <td>0.022</td>\n",
       "      <td>0.142857</td>\n",
       "      <td>1.0</td>\n",
       "      <td>False</td>\n",
       "      <td>False</td>\n",
       "      <td>False</td>\n",
       "      <td>False</td>\n",
       "      <td>False</td>\n",
       "    </tr>\n",
       "    <tr>\n",
       "      <th>2</th>\n",
       "      <td>2020-01-02 06:00:00+00:00</td>\n",
       "      <td>108.744</td>\n",
       "      <td>108.842</td>\n",
       "      <td>108.696</td>\n",
       "      <td>108.839</td>\n",
       "      <td>0.146</td>\n",
       "      <td>0.095</td>\n",
       "      <td>108.769</td>\n",
       "      <td>0.650685</td>\n",
       "      <td>1</td>\n",
       "      <td>...</td>\n",
       "      <td>0.020548</td>\n",
       "      <td>0.328767</td>\n",
       "      <td>0.071</td>\n",
       "      <td>0.710000</td>\n",
       "      <td>1.0</td>\n",
       "      <td>False</td>\n",
       "      <td>False</td>\n",
       "      <td>False</td>\n",
       "      <td>False</td>\n",
       "      <td>False</td>\n",
       "    </tr>\n",
       "    <tr>\n",
       "      <th>3</th>\n",
       "      <td>2020-01-02 10:00:00+00:00</td>\n",
       "      <td>108.836</td>\n",
       "      <td>108.866</td>\n",
       "      <td>108.658</td>\n",
       "      <td>108.694</td>\n",
       "      <td>0.208</td>\n",
       "      <td>0.142</td>\n",
       "      <td>108.762</td>\n",
       "      <td>0.682692</td>\n",
       "      <td>-1</td>\n",
       "      <td>...</td>\n",
       "      <td>0.144231</td>\n",
       "      <td>0.173077</td>\n",
       "      <td>0.095</td>\n",
       "      <td>0.650685</td>\n",
       "      <td>1.0</td>\n",
       "      <td>False</td>\n",
       "      <td>False</td>\n",
       "      <td>False</td>\n",
       "      <td>False</td>\n",
       "      <td>True</td>\n",
       "    </tr>\n",
       "    <tr>\n",
       "      <th>4</th>\n",
       "      <td>2020-01-02 14:00:00+00:00</td>\n",
       "      <td>108.697</td>\n",
       "      <td>108.748</td>\n",
       "      <td>108.212</td>\n",
       "      <td>108.529</td>\n",
       "      <td>0.536</td>\n",
       "      <td>0.168</td>\n",
       "      <td>108.480</td>\n",
       "      <td>0.313433</td>\n",
       "      <td>-1</td>\n",
       "      <td>...</td>\n",
       "      <td>0.095149</td>\n",
       "      <td>0.591418</td>\n",
       "      <td>0.142</td>\n",
       "      <td>0.682692</td>\n",
       "      <td>-1.0</td>\n",
       "      <td>False</td>\n",
       "      <td>False</td>\n",
       "      <td>False</td>\n",
       "      <td>False</td>\n",
       "      <td>False</td>\n",
       "    </tr>\n",
       "    <tr>\n",
       "      <th>5</th>\n",
       "      <td>2020-01-02 18:00:00+00:00</td>\n",
       "      <td>108.526</td>\n",
       "      <td>108.572</td>\n",
       "      <td>108.494</td>\n",
       "      <td>108.561</td>\n",
       "      <td>0.078</td>\n",
       "      <td>0.035</td>\n",
       "      <td>108.533</td>\n",
       "      <td>0.448718</td>\n",
       "      <td>1</td>\n",
       "      <td>...</td>\n",
       "      <td>0.141026</td>\n",
       "      <td>0.410256</td>\n",
       "      <td>0.168</td>\n",
       "      <td>0.313433</td>\n",
       "      <td>-1.0</td>\n",
       "      <td>False</td>\n",
       "      <td>False</td>\n",
       "      <td>False</td>\n",
       "      <td>False</td>\n",
       "      <td>False</td>\n",
       "    </tr>\n",
       "  </tbody>\n",
       "</table>\n",
       "<p>5 rows × 22 columns</p>\n",
       "</div>"
      ],
      "text/plain": [
       "                       time    mid_o    mid_h    mid_l    mid_c  RANGE  \\\n",
       "1 2020-01-02 02:00:00+00:00  108.671  108.758  108.658  108.742  0.100   \n",
       "2 2020-01-02 06:00:00+00:00  108.744  108.842  108.696  108.839  0.146   \n",
       "3 2020-01-02 10:00:00+00:00  108.836  108.866  108.658  108.694  0.208   \n",
       "4 2020-01-02 14:00:00+00:00  108.697  108.748  108.212  108.529  0.536   \n",
       "5 2020-01-02 18:00:00+00:00  108.526  108.572  108.494  108.561  0.078   \n",
       "\n",
       "   BODY_RANGE   CENTER  BODY_PERC  DIRECTION  ...  DIST_TOP_PERC  \\\n",
       "1       0.071  108.708   0.710000          1  ...       0.160000   \n",
       "2       0.095  108.769   0.650685          1  ...       0.020548   \n",
       "3       0.142  108.762   0.682692         -1  ...       0.144231   \n",
       "4       0.168  108.480   0.313433         -1  ...       0.095149   \n",
       "5       0.035  108.533   0.448718          1  ...       0.141026   \n",
       "\n",
       "   DIST_BOTTOM_PERC  PREV_BODY_RANGE  PREV_BODY_PERC  PREV_DIRECTION  HAMMER  \\\n",
       "1          0.130000            0.022        0.142857             1.0   False   \n",
       "2          0.328767            0.071        0.710000             1.0   False   \n",
       "3          0.173077            0.095        0.650685             1.0   False   \n",
       "4          0.591418            0.142        0.682692            -1.0   False   \n",
       "5          0.410256            0.168        0.313433            -1.0   False   \n",
       "\n",
       "   SPINNING_TOP   DOJI  MARUBOZU  ENGULFING  \n",
       "1         False  False     False      False  \n",
       "2         False  False     False      False  \n",
       "3         False  False     False       True  \n",
       "4         False  False     False      False  \n",
       "5         False  False     False      False  \n",
       "\n",
       "[5 rows x 22 columns]"
      ]
     },
     "execution_count": 125,
     "metadata": {},
     "output_type": "execute_result"
    }
   ],
   "source": [
    "df.head()"
   ]
  },
  {
   "cell_type": "code",
   "execution_count": 128,
   "metadata": {},
   "outputs": [],
   "source": [
    "df_plot = df.iloc[700:800]\n",
    "df_markers = df_plot[(df_plot.ENGULFING==True)]"
   ]
  },
  {
   "cell_type": "code",
   "execution_count": 129,
   "metadata": {},
   "outputs": [
    {
     "data": {
      "application/vnd.plotly.v1+json": {
       "config": {
        "plotlyServerURL": "https://plot.ly"
       },
       "data": [
        {
         "close": [
          107.392,
          107.216,
          107.074,
          107.307,
          107.419,
          107.238,
          107.324,
          107.322,
          107.486,
          107.456,
          107.406,
          107.336,
          107.324,
          107.331,
          107.224,
          107.43,
          107.384,
          107.284,
          107.007,
          106.796,
          106.834,
          107.035,
          106.796,
          106.884,
          106.973,
          106.925,
          106.855,
          106.928,
          106.869,
          106.845,
          106.891,
          106.822,
          106.912,
          106.903,
          106.881,
          106.868,
          106.906,
          106.952,
          107.138,
          107.042,
          106.624,
          106.465,
          106.526,
          106.548,
          106.574,
          106.526,
          106.756,
          106.829,
          107.042,
          107.07,
          107.136,
          107.21,
          107.299,
          107.188,
          107.195,
          107.184,
          107.083,
          106.864,
          107.046,
          107.144,
          107.219,
          107.27,
          107.086,
          107.202,
          107.334,
          107.774,
          107.572,
          107.7,
          107.718,
          107.688,
          107.727,
          107.826,
          107.933,
          108.091,
          107.659,
          107.532,
          107.444,
          107.423,
          107.463,
          107.474,
          107.434,
          107.374,
          107.63,
          107.584,
          107.502,
          107.51,
          107.516,
          107.465,
          107.515,
          107.508,
          107.502,
          107.662,
          107.65,
          107.574,
          107.493,
          107.439,
          107.388,
          107.288,
          107.364,
          107.686
         ],
         "decreasing": {
          "fillcolor": "#CC2E3C",
          "line": {
           "color": "#FF3A4C"
          }
         },
         "high": [
          107.524,
          107.57,
          107.328,
          107.442,
          107.448,
          107.495,
          107.39,
          107.502,
          107.642,
          107.567,
          107.471,
          107.625,
          107.368,
          107.436,
          107.373,
          107.442,
          107.437,
          107.384,
          107.286,
          107.057,
          106.942,
          107.076,
          107.129,
          107.013,
          107.099,
          107.06,
          106.96,
          107,
          106.976,
          107.046,
          106.919,
          106.906,
          106.947,
          107.012,
          106.959,
          106.924,
          106.962,
          106.96,
          107.222,
          107.218,
          107.116,
          106.64,
          106.551,
          106.638,
          106.591,
          106.648,
          106.804,
          106.984,
          107.072,
          107.15,
          107.262,
          107.223,
          107.452,
          107.328,
          107.242,
          107.249,
          107.218,
          107.146,
          107.056,
          107.356,
          107.229,
          107.272,
          107.375,
          107.222,
          107.376,
          107.885,
          107.825,
          107.734,
          107.79,
          107.782,
          107.798,
          107.944,
          107.986,
          108.165,
          108.09,
          107.71,
          107.56,
          107.602,
          107.504,
          107.504,
          107.558,
          107.554,
          107.637,
          107.726,
          107.592,
          107.564,
          107.57,
          107.537,
          107.534,
          107.538,
          107.515,
          107.678,
          107.773,
          107.707,
          107.598,
          107.596,
          107.442,
          107.4,
          107.412,
          107.692
         ],
         "increasing": {
          "fillcolor": "#24A06B",
          "line": {
           "color": "#2EC886"
          }
         },
         "line": {
          "width": 1
         },
         "low": [
          107.342,
          107.147,
          107.028,
          107,
          107.235,
          107.206,
          107.212,
          107.268,
          107.233,
          107.283,
          107.26,
          107.214,
          107.244,
          107.17,
          107.194,
          107.188,
          107.336,
          107.136,
          106.952,
          106.726,
          106.705,
          106.807,
          106.791,
          106.668,
          106.815,
          106.869,
          106.831,
          106.793,
          106.768,
          106.796,
          106.796,
          106.769,
          106.823,
          106.856,
          106.856,
          106.792,
          106.864,
          106.876,
          106.74,
          107.037,
          106.521,
          106.074,
          106.424,
          106.384,
          106.422,
          106.477,
          106.462,
          106.711,
          106.818,
          106.985,
          107.044,
          107.05,
          107.17,
          107.134,
          107.112,
          107.088,
          107.075,
          106.864,
          106.8,
          107.02,
          107.102,
          107.112,
          107.041,
          107.052,
          107.167,
          107.324,
          107.551,
          107.544,
          107.672,
          107.64,
          107.686,
          107.522,
          107.802,
          107.912,
          107.589,
          107.469,
          107.363,
          107.368,
          107.409,
          107.334,
          107.418,
          107.349,
          107.346,
          107.452,
          107.48,
          107.437,
          107.472,
          107.448,
          107.458,
          107.49,
          107.476,
          107.467,
          107.646,
          107.544,
          107.457,
          107.438,
          107.258,
          107.26,
          107.246,
          107.361
         ],
         "opacity": 1,
         "open": [
          107.5,
          107.375,
          107.218,
          107.072,
          107.306,
          107.418,
          107.238,
          107.339,
          107.324,
          107.484,
          107.455,
          107.404,
          107.337,
          107.374,
          107.33,
          107.225,
          107.428,
          107.382,
          107.286,
          107.014,
          106.798,
          106.832,
          107.034,
          106.797,
          106.882,
          107,
          106.923,
          106.856,
          106.929,
          106.867,
          106.844,
          106.773,
          106.824,
          106.912,
          106.902,
          106.88,
          106.869,
          106.929,
          106.95,
          107.136,
          107.044,
          106.626,
          106.466,
          106.519,
          106.546,
          106.574,
          106.524,
          106.758,
          106.828,
          107.064,
          107.068,
          107.137,
          107.208,
          107.3,
          107.188,
          107.22,
          107.183,
          107.084,
          106.866,
          107.048,
          107.146,
          107.16,
          107.268,
          107.084,
          107.2,
          107.335,
          107.773,
          107.567,
          107.702,
          107.719,
          107.686,
          107.726,
          107.824,
          107.928,
          108.09,
          107.657,
          107.53,
          107.444,
          107.424,
          107.469,
          107.473,
          107.432,
          107.372,
          107.628,
          107.586,
          107.516,
          107.508,
          107.517,
          107.464,
          107.516,
          107.506,
          107.511,
          107.661,
          107.651,
          107.573,
          107.494,
          107.437,
          107.37,
          107.29,
          107.363
         ],
         "type": "candlestick",
         "x": [
          "2020-06-12T17:00:00+00:00",
          "2020-06-14T21:00:00+00:00",
          "2020-06-15T01:00:00+00:00",
          "2020-06-15T05:00:00+00:00",
          "2020-06-15T09:00:00+00:00",
          "2020-06-15T13:00:00+00:00",
          "2020-06-15T17:00:00+00:00",
          "2020-06-15T21:00:00+00:00",
          "2020-06-16T01:00:00+00:00",
          "2020-06-16T05:00:00+00:00",
          "2020-06-16T09:00:00+00:00",
          "2020-06-16T13:00:00+00:00",
          "2020-06-16T17:00:00+00:00",
          "2020-06-16T21:00:00+00:00",
          "2020-06-17T01:00:00+00:00",
          "2020-06-17T05:00:00+00:00",
          "2020-06-17T09:00:00+00:00",
          "2020-06-17T13:00:00+00:00",
          "2020-06-17T17:00:00+00:00",
          "2020-06-17T21:00:00+00:00",
          "2020-06-18T01:00:00+00:00",
          "2020-06-18T05:00:00+00:00",
          "2020-06-18T09:00:00+00:00",
          "2020-06-18T13:00:00+00:00",
          "2020-06-18T17:00:00+00:00",
          "2020-06-18T21:00:00+00:00",
          "2020-06-19T01:00:00+00:00",
          "2020-06-19T05:00:00+00:00",
          "2020-06-19T09:00:00+00:00",
          "2020-06-19T13:00:00+00:00",
          "2020-06-19T17:00:00+00:00",
          "2020-06-21T21:00:00+00:00",
          "2020-06-22T01:00:00+00:00",
          "2020-06-22T05:00:00+00:00",
          "2020-06-22T09:00:00+00:00",
          "2020-06-22T13:00:00+00:00",
          "2020-06-22T17:00:00+00:00",
          "2020-06-22T21:00:00+00:00",
          "2020-06-23T01:00:00+00:00",
          "2020-06-23T05:00:00+00:00",
          "2020-06-23T09:00:00+00:00",
          "2020-06-23T13:00:00+00:00",
          "2020-06-23T17:00:00+00:00",
          "2020-06-23T21:00:00+00:00",
          "2020-06-24T01:00:00+00:00",
          "2020-06-24T05:00:00+00:00",
          "2020-06-24T09:00:00+00:00",
          "2020-06-24T13:00:00+00:00",
          "2020-06-24T17:00:00+00:00",
          "2020-06-24T21:00:00+00:00",
          "2020-06-25T01:00:00+00:00",
          "2020-06-25T05:00:00+00:00",
          "2020-06-25T09:00:00+00:00",
          "2020-06-25T13:00:00+00:00",
          "2020-06-25T17:00:00+00:00",
          "2020-06-25T21:00:00+00:00",
          "2020-06-26T01:00:00+00:00",
          "2020-06-26T05:00:00+00:00",
          "2020-06-26T09:00:00+00:00",
          "2020-06-26T13:00:00+00:00",
          "2020-06-26T17:00:00+00:00",
          "2020-06-28T21:00:00+00:00",
          "2020-06-29T01:00:00+00:00",
          "2020-06-29T05:00:00+00:00",
          "2020-06-29T09:00:00+00:00",
          "2020-06-29T13:00:00+00:00",
          "2020-06-29T17:00:00+00:00",
          "2020-06-29T21:00:00+00:00",
          "2020-06-30T01:00:00+00:00",
          "2020-06-30T05:00:00+00:00",
          "2020-06-30T09:00:00+00:00",
          "2020-06-30T13:00:00+00:00",
          "2020-06-30T17:00:00+00:00",
          "2020-06-30T21:00:00+00:00",
          "2020-07-01T01:00:00+00:00",
          "2020-07-01T05:00:00+00:00",
          "2020-07-01T09:00:00+00:00",
          "2020-07-01T13:00:00+00:00",
          "2020-07-01T17:00:00+00:00",
          "2020-07-01T21:00:00+00:00",
          "2020-07-02T01:00:00+00:00",
          "2020-07-02T05:00:00+00:00",
          "2020-07-02T09:00:00+00:00",
          "2020-07-02T13:00:00+00:00",
          "2020-07-02T17:00:00+00:00",
          "2020-07-02T21:00:00+00:00",
          "2020-07-03T01:00:00+00:00",
          "2020-07-03T05:00:00+00:00",
          "2020-07-03T09:00:00+00:00",
          "2020-07-03T13:00:00+00:00",
          "2020-07-03T17:00:00+00:00",
          "2020-07-05T21:00:00+00:00",
          "2020-07-06T01:00:00+00:00",
          "2020-07-06T05:00:00+00:00",
          "2020-07-06T09:00:00+00:00",
          "2020-07-06T13:00:00+00:00",
          "2020-07-06T17:00:00+00:00",
          "2020-07-06T21:00:00+00:00",
          "2020-07-07T01:00:00+00:00",
          "2020-07-07T05:00:00+00:00"
         ]
        },
        {
         "close": [
          106.796,
          107.659
         ],
         "decreasing": {
          "fillcolor": "#3480eb",
          "line": {
           "color": "#3480eb"
          }
         },
         "high": [
          107.129,
          108.09
         ],
         "increasing": {
          "fillcolor": "#3480eb",
          "line": {
           "color": "#3480eb"
          }
         },
         "line": {
          "width": 1
         },
         "low": [
          106.791,
          107.589
         ],
         "opacity": 1,
         "open": [
          107.034,
          108.09
         ],
         "type": "candlestick",
         "x": [
          "2020-06-18T09:00:00+00:00",
          "2020-07-01T01:00:00+00:00"
         ]
        }
       ],
       "layout": {
        "font": {
         "color": "#e1e1e1",
         "size": 10
        },
        "height": 400,
        "margin": {
         "b": 10,
         "l": 10,
         "t": 10
        },
        "paper_bgcolor": "#1e1e1e",
        "plot_bgcolor": "#1e1e1e",
        "template": {
         "data": {
          "bar": [
           {
            "error_x": {
             "color": "#2a3f5f"
            },
            "error_y": {
             "color": "#2a3f5f"
            },
            "marker": {
             "line": {
              "color": "#E5ECF6",
              "width": 0.5
             },
             "pattern": {
              "fillmode": "overlay",
              "size": 10,
              "solidity": 0.2
             }
            },
            "type": "bar"
           }
          ],
          "barpolar": [
           {
            "marker": {
             "line": {
              "color": "#E5ECF6",
              "width": 0.5
             },
             "pattern": {
              "fillmode": "overlay",
              "size": 10,
              "solidity": 0.2
             }
            },
            "type": "barpolar"
           }
          ],
          "carpet": [
           {
            "aaxis": {
             "endlinecolor": "#2a3f5f",
             "gridcolor": "white",
             "linecolor": "white",
             "minorgridcolor": "white",
             "startlinecolor": "#2a3f5f"
            },
            "baxis": {
             "endlinecolor": "#2a3f5f",
             "gridcolor": "white",
             "linecolor": "white",
             "minorgridcolor": "white",
             "startlinecolor": "#2a3f5f"
            },
            "type": "carpet"
           }
          ],
          "choropleth": [
           {
            "colorbar": {
             "outlinewidth": 0,
             "ticks": ""
            },
            "type": "choropleth"
           }
          ],
          "contour": [
           {
            "colorbar": {
             "outlinewidth": 0,
             "ticks": ""
            },
            "colorscale": [
             [
              0,
              "#0d0887"
             ],
             [
              0.1111111111111111,
              "#46039f"
             ],
             [
              0.2222222222222222,
              "#7201a8"
             ],
             [
              0.3333333333333333,
              "#9c179e"
             ],
             [
              0.4444444444444444,
              "#bd3786"
             ],
             [
              0.5555555555555556,
              "#d8576b"
             ],
             [
              0.6666666666666666,
              "#ed7953"
             ],
             [
              0.7777777777777778,
              "#fb9f3a"
             ],
             [
              0.8888888888888888,
              "#fdca26"
             ],
             [
              1,
              "#f0f921"
             ]
            ],
            "type": "contour"
           }
          ],
          "contourcarpet": [
           {
            "colorbar": {
             "outlinewidth": 0,
             "ticks": ""
            },
            "type": "contourcarpet"
           }
          ],
          "heatmap": [
           {
            "colorbar": {
             "outlinewidth": 0,
             "ticks": ""
            },
            "colorscale": [
             [
              0,
              "#0d0887"
             ],
             [
              0.1111111111111111,
              "#46039f"
             ],
             [
              0.2222222222222222,
              "#7201a8"
             ],
             [
              0.3333333333333333,
              "#9c179e"
             ],
             [
              0.4444444444444444,
              "#bd3786"
             ],
             [
              0.5555555555555556,
              "#d8576b"
             ],
             [
              0.6666666666666666,
              "#ed7953"
             ],
             [
              0.7777777777777778,
              "#fb9f3a"
             ],
             [
              0.8888888888888888,
              "#fdca26"
             ],
             [
              1,
              "#f0f921"
             ]
            ],
            "type": "heatmap"
           }
          ],
          "heatmapgl": [
           {
            "colorbar": {
             "outlinewidth": 0,
             "ticks": ""
            },
            "colorscale": [
             [
              0,
              "#0d0887"
             ],
             [
              0.1111111111111111,
              "#46039f"
             ],
             [
              0.2222222222222222,
              "#7201a8"
             ],
             [
              0.3333333333333333,
              "#9c179e"
             ],
             [
              0.4444444444444444,
              "#bd3786"
             ],
             [
              0.5555555555555556,
              "#d8576b"
             ],
             [
              0.6666666666666666,
              "#ed7953"
             ],
             [
              0.7777777777777778,
              "#fb9f3a"
             ],
             [
              0.8888888888888888,
              "#fdca26"
             ],
             [
              1,
              "#f0f921"
             ]
            ],
            "type": "heatmapgl"
           }
          ],
          "histogram": [
           {
            "marker": {
             "pattern": {
              "fillmode": "overlay",
              "size": 10,
              "solidity": 0.2
             }
            },
            "type": "histogram"
           }
          ],
          "histogram2d": [
           {
            "colorbar": {
             "outlinewidth": 0,
             "ticks": ""
            },
            "colorscale": [
             [
              0,
              "#0d0887"
             ],
             [
              0.1111111111111111,
              "#46039f"
             ],
             [
              0.2222222222222222,
              "#7201a8"
             ],
             [
              0.3333333333333333,
              "#9c179e"
             ],
             [
              0.4444444444444444,
              "#bd3786"
             ],
             [
              0.5555555555555556,
              "#d8576b"
             ],
             [
              0.6666666666666666,
              "#ed7953"
             ],
             [
              0.7777777777777778,
              "#fb9f3a"
             ],
             [
              0.8888888888888888,
              "#fdca26"
             ],
             [
              1,
              "#f0f921"
             ]
            ],
            "type": "histogram2d"
           }
          ],
          "histogram2dcontour": [
           {
            "colorbar": {
             "outlinewidth": 0,
             "ticks": ""
            },
            "colorscale": [
             [
              0,
              "#0d0887"
             ],
             [
              0.1111111111111111,
              "#46039f"
             ],
             [
              0.2222222222222222,
              "#7201a8"
             ],
             [
              0.3333333333333333,
              "#9c179e"
             ],
             [
              0.4444444444444444,
              "#bd3786"
             ],
             [
              0.5555555555555556,
              "#d8576b"
             ],
             [
              0.6666666666666666,
              "#ed7953"
             ],
             [
              0.7777777777777778,
              "#fb9f3a"
             ],
             [
              0.8888888888888888,
              "#fdca26"
             ],
             [
              1,
              "#f0f921"
             ]
            ],
            "type": "histogram2dcontour"
           }
          ],
          "mesh3d": [
           {
            "colorbar": {
             "outlinewidth": 0,
             "ticks": ""
            },
            "type": "mesh3d"
           }
          ],
          "parcoords": [
           {
            "line": {
             "colorbar": {
              "outlinewidth": 0,
              "ticks": ""
             }
            },
            "type": "parcoords"
           }
          ],
          "pie": [
           {
            "automargin": true,
            "type": "pie"
           }
          ],
          "scatter": [
           {
            "fillpattern": {
             "fillmode": "overlay",
             "size": 10,
             "solidity": 0.2
            },
            "type": "scatter"
           }
          ],
          "scatter3d": [
           {
            "line": {
             "colorbar": {
              "outlinewidth": 0,
              "ticks": ""
             }
            },
            "marker": {
             "colorbar": {
              "outlinewidth": 0,
              "ticks": ""
             }
            },
            "type": "scatter3d"
           }
          ],
          "scattercarpet": [
           {
            "marker": {
             "colorbar": {
              "outlinewidth": 0,
              "ticks": ""
             }
            },
            "type": "scattercarpet"
           }
          ],
          "scattergeo": [
           {
            "marker": {
             "colorbar": {
              "outlinewidth": 0,
              "ticks": ""
             }
            },
            "type": "scattergeo"
           }
          ],
          "scattergl": [
           {
            "marker": {
             "colorbar": {
              "outlinewidth": 0,
              "ticks": ""
             }
            },
            "type": "scattergl"
           }
          ],
          "scattermapbox": [
           {
            "marker": {
             "colorbar": {
              "outlinewidth": 0,
              "ticks": ""
             }
            },
            "type": "scattermapbox"
           }
          ],
          "scatterpolar": [
           {
            "marker": {
             "colorbar": {
              "outlinewidth": 0,
              "ticks": ""
             }
            },
            "type": "scatterpolar"
           }
          ],
          "scatterpolargl": [
           {
            "marker": {
             "colorbar": {
              "outlinewidth": 0,
              "ticks": ""
             }
            },
            "type": "scatterpolargl"
           }
          ],
          "scatterternary": [
           {
            "marker": {
             "colorbar": {
              "outlinewidth": 0,
              "ticks": ""
             }
            },
            "type": "scatterternary"
           }
          ],
          "surface": [
           {
            "colorbar": {
             "outlinewidth": 0,
             "ticks": ""
            },
            "colorscale": [
             [
              0,
              "#0d0887"
             ],
             [
              0.1111111111111111,
              "#46039f"
             ],
             [
              0.2222222222222222,
              "#7201a8"
             ],
             [
              0.3333333333333333,
              "#9c179e"
             ],
             [
              0.4444444444444444,
              "#bd3786"
             ],
             [
              0.5555555555555556,
              "#d8576b"
             ],
             [
              0.6666666666666666,
              "#ed7953"
             ],
             [
              0.7777777777777778,
              "#fb9f3a"
             ],
             [
              0.8888888888888888,
              "#fdca26"
             ],
             [
              1,
              "#f0f921"
             ]
            ],
            "type": "surface"
           }
          ],
          "table": [
           {
            "cells": {
             "fill": {
              "color": "#EBF0F8"
             },
             "line": {
              "color": "white"
             }
            },
            "header": {
             "fill": {
              "color": "#C8D4E3"
             },
             "line": {
              "color": "white"
             }
            },
            "type": "table"
           }
          ]
         },
         "layout": {
          "annotationdefaults": {
           "arrowcolor": "#2a3f5f",
           "arrowhead": 0,
           "arrowwidth": 1
          },
          "autotypenumbers": "strict",
          "coloraxis": {
           "colorbar": {
            "outlinewidth": 0,
            "ticks": ""
           }
          },
          "colorscale": {
           "diverging": [
            [
             0,
             "#8e0152"
            ],
            [
             0.1,
             "#c51b7d"
            ],
            [
             0.2,
             "#de77ae"
            ],
            [
             0.3,
             "#f1b6da"
            ],
            [
             0.4,
             "#fde0ef"
            ],
            [
             0.5,
             "#f7f7f7"
            ],
            [
             0.6,
             "#e6f5d0"
            ],
            [
             0.7,
             "#b8e186"
            ],
            [
             0.8,
             "#7fbc41"
            ],
            [
             0.9,
             "#4d9221"
            ],
            [
             1,
             "#276419"
            ]
           ],
           "sequential": [
            [
             0,
             "#0d0887"
            ],
            [
             0.1111111111111111,
             "#46039f"
            ],
            [
             0.2222222222222222,
             "#7201a8"
            ],
            [
             0.3333333333333333,
             "#9c179e"
            ],
            [
             0.4444444444444444,
             "#bd3786"
            ],
            [
             0.5555555555555556,
             "#d8576b"
            ],
            [
             0.6666666666666666,
             "#ed7953"
            ],
            [
             0.7777777777777778,
             "#fb9f3a"
            ],
            [
             0.8888888888888888,
             "#fdca26"
            ],
            [
             1,
             "#f0f921"
            ]
           ],
           "sequentialminus": [
            [
             0,
             "#0d0887"
            ],
            [
             0.1111111111111111,
             "#46039f"
            ],
            [
             0.2222222222222222,
             "#7201a8"
            ],
            [
             0.3333333333333333,
             "#9c179e"
            ],
            [
             0.4444444444444444,
             "#bd3786"
            ],
            [
             0.5555555555555556,
             "#d8576b"
            ],
            [
             0.6666666666666666,
             "#ed7953"
            ],
            [
             0.7777777777777778,
             "#fb9f3a"
            ],
            [
             0.8888888888888888,
             "#fdca26"
            ],
            [
             1,
             "#f0f921"
            ]
           ]
          },
          "colorway": [
           "#636efa",
           "#EF553B",
           "#00cc96",
           "#ab63fa",
           "#FFA15A",
           "#19d3f3",
           "#FF6692",
           "#B6E880",
           "#FF97FF",
           "#FECB52"
          ],
          "font": {
           "color": "#2a3f5f"
          },
          "geo": {
           "bgcolor": "white",
           "lakecolor": "white",
           "landcolor": "#E5ECF6",
           "showlakes": true,
           "showland": true,
           "subunitcolor": "white"
          },
          "hoverlabel": {
           "align": "left"
          },
          "hovermode": "closest",
          "mapbox": {
           "style": "light"
          },
          "paper_bgcolor": "white",
          "plot_bgcolor": "#E5ECF6",
          "polar": {
           "angularaxis": {
            "gridcolor": "white",
            "linecolor": "white",
            "ticks": ""
           },
           "bgcolor": "#E5ECF6",
           "radialaxis": {
            "gridcolor": "white",
            "linecolor": "white",
            "ticks": ""
           }
          },
          "scene": {
           "xaxis": {
            "backgroundcolor": "#E5ECF6",
            "gridcolor": "white",
            "gridwidth": 2,
            "linecolor": "white",
            "showbackground": true,
            "ticks": "",
            "zerolinecolor": "white"
           },
           "yaxis": {
            "backgroundcolor": "#E5ECF6",
            "gridcolor": "white",
            "gridwidth": 2,
            "linecolor": "white",
            "showbackground": true,
            "ticks": "",
            "zerolinecolor": "white"
           },
           "zaxis": {
            "backgroundcolor": "#E5ECF6",
            "gridcolor": "white",
            "gridwidth": 2,
            "linecolor": "white",
            "showbackground": true,
            "ticks": "",
            "zerolinecolor": "white"
           }
          },
          "shapedefaults": {
           "line": {
            "color": "#2a3f5f"
           }
          },
          "ternary": {
           "aaxis": {
            "gridcolor": "white",
            "linecolor": "white",
            "ticks": ""
           },
           "baxis": {
            "gridcolor": "white",
            "linecolor": "white",
            "ticks": ""
           },
           "bgcolor": "#E5ECF6",
           "caxis": {
            "gridcolor": "white",
            "linecolor": "white",
            "ticks": ""
           }
          },
          "title": {
           "x": 0.05
          },
          "xaxis": {
           "automargin": true,
           "gridcolor": "white",
           "linecolor": "white",
           "ticks": "",
           "title": {
            "standoff": 15
           },
           "zerolinecolor": "white",
           "zerolinewidth": 2
          },
          "yaxis": {
           "automargin": true,
           "gridcolor": "white",
           "linecolor": "white",
           "ticks": "",
           "title": {
            "standoff": 15
           },
           "zerolinecolor": "white",
           "zerolinewidth": 2
          }
         }
        },
        "width": 1000,
        "xaxis": {
         "fixedrange": true,
         "gridcolor": "#1f292f",
         "rangebreaks": [
          {
           "bounds": [
            "sat",
            "mon"
           ]
          }
         ],
         "rangeslider": {
          "visible": false
         },
         "showgrid": true
        },
        "yaxis": {
         "gridcolor": "#1f292f",
         "showgrid": true
        }
       }
      }
     },
     "metadata": {},
     "output_type": "display_data"
    }
   ],
   "source": [
    "plot_candles(df_plot, df_markers)"
   ]
  }
 ],
 "metadata": {
  "kernelspec": {
   "display_name": "venv",
   "language": "python",
   "name": "python3"
  },
  "language_info": {
   "codemirror_mode": {
    "name": "ipython",
    "version": 3
   },
   "file_extension": ".py",
   "mimetype": "text/x-python",
   "name": "python",
   "nbconvert_exporter": "python",
   "pygments_lexer": "ipython3",
   "version": "3.11.1"
  },
  "orig_nbformat": 4,
  "vscode": {
   "interpreter": {
    "hash": "fda0f0fb60ecb5fc85efacd84e1859512479306cf791e683553414edd7237eac"
   }
  }
 },
 "nbformat": 4,
 "nbformat_minor": 2
}
