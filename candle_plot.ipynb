{
 "cells": [
  {
   "cell_type": "code",
   "execution_count": 26,
   "metadata": {},
   "outputs": [],
   "source": [
    "import pandas as pd\n",
    "import utils\n",
    "import plotly.graph_objects as go"
   ]
  },
  {
   "cell_type": "code",
   "execution_count": 27,
   "metadata": {},
   "outputs": [],
   "source": [
    "pair = \"EUR_USD\"\n",
    "granularity = \"H1\"\n",
    "ma_list = [16,64]"
   ]
  },
  {
   "cell_type": "code",
   "execution_count": 28,
   "metadata": {},
   "outputs": [],
   "source": [
    "df = pd.read_pickle(utils.get_his_data_filename(pair, granularity))"
   ]
  },
  {
   "cell_type": "code",
   "execution_count": 29,
   "metadata": {},
   "outputs": [],
   "source": [
    "non_cols = ['time', 'volume']\n",
    "mod_cols = [x for x in df.columns if x not in non_cols]\n",
    "df[mod_cols] = df[mod_cols].apply(pd.to_numeric)"
   ]
  },
  {
   "cell_type": "code",
   "execution_count": 30,
   "metadata": {},
   "outputs": [],
   "source": [
    "df_ma = df[['time', 'mid_o', 'mid_h', 'mid_l', 'mid_c']].copy()"
   ]
  },
  {
   "cell_type": "code",
   "execution_count": 31,
   "metadata": {},
   "outputs": [],
   "source": [
    "for ma in ma_list:\n",
    "    df_ma[f'MA_{ma}'] = df_ma.mid_c.rolling(window=ma).mean()"
   ]
  },
  {
   "cell_type": "code",
   "execution_count": 32,
   "metadata": {},
   "outputs": [],
   "source": [
    "df_ma.dropna(inplace=True)"
   ]
  },
  {
   "cell_type": "code",
   "execution_count": 47,
   "metadata": {},
   "outputs": [],
   "source": [
    "df_ma.reset_index(drop=True, inplace=True)"
   ]
  },
  {
   "cell_type": "code",
   "execution_count": 40,
   "metadata": {},
   "outputs": [
    {
     "data": {
      "text/html": [
       "<div>\n",
       "<style scoped>\n",
       "    .dataframe tbody tr th:only-of-type {\n",
       "        vertical-align: middle;\n",
       "    }\n",
       "\n",
       "    .dataframe tbody tr th {\n",
       "        vertical-align: top;\n",
       "    }\n",
       "\n",
       "    .dataframe thead th {\n",
       "        text-align: right;\n",
       "    }\n",
       "</style>\n",
       "<table border=\"1\" class=\"dataframe\">\n",
       "  <thead>\n",
       "    <tr style=\"text-align: right;\">\n",
       "      <th></th>\n",
       "      <th>time</th>\n",
       "      <th>mid_o</th>\n",
       "      <th>mid_h</th>\n",
       "      <th>mid_l</th>\n",
       "      <th>mid_c</th>\n",
       "      <th>MA_16</th>\n",
       "      <th>MA_64</th>\n",
       "      <th>DIFF</th>\n",
       "      <th>DIFF_PREV</th>\n",
       "      <th>IS_TRADE</th>\n",
       "    </tr>\n",
       "  </thead>\n",
       "  <tbody>\n",
       "    <tr>\n",
       "      <th>63</th>\n",
       "      <td>2022-06-09T04:00:00.000000000Z</td>\n",
       "      <td>1.07294</td>\n",
       "      <td>1.07330</td>\n",
       "      <td>1.07262</td>\n",
       "      <td>1.07266</td>\n",
       "      <td>1.072274</td>\n",
       "      <td>1.070062</td>\n",
       "      <td>0.002212</td>\n",
       "      <td>NaN</td>\n",
       "      <td>False</td>\n",
       "    </tr>\n",
       "    <tr>\n",
       "      <th>64</th>\n",
       "      <td>2022-06-09T05:00:00.000000000Z</td>\n",
       "      <td>1.07266</td>\n",
       "      <td>1.07296</td>\n",
       "      <td>1.07187</td>\n",
       "      <td>1.07190</td>\n",
       "      <td>1.072135</td>\n",
       "      <td>1.070069</td>\n",
       "      <td>0.002066</td>\n",
       "      <td>0.002212</td>\n",
       "      <td>False</td>\n",
       "    </tr>\n",
       "    <tr>\n",
       "      <th>65</th>\n",
       "      <td>2022-06-09T06:00:00.000000000Z</td>\n",
       "      <td>1.07188</td>\n",
       "      <td>1.07200</td>\n",
       "      <td>1.07090</td>\n",
       "      <td>1.07146</td>\n",
       "      <td>1.072029</td>\n",
       "      <td>1.070064</td>\n",
       "      <td>0.001964</td>\n",
       "      <td>0.002066</td>\n",
       "      <td>False</td>\n",
       "    </tr>\n",
       "    <tr>\n",
       "      <th>66</th>\n",
       "      <td>2022-06-09T07:00:00.000000000Z</td>\n",
       "      <td>1.07148</td>\n",
       "      <td>1.07168</td>\n",
       "      <td>1.07018</td>\n",
       "      <td>1.07022</td>\n",
       "      <td>1.071781</td>\n",
       "      <td>1.070072</td>\n",
       "      <td>0.001710</td>\n",
       "      <td>0.001964</td>\n",
       "      <td>False</td>\n",
       "    </tr>\n",
       "    <tr>\n",
       "      <th>67</th>\n",
       "      <td>2022-06-09T08:00:00.000000000Z</td>\n",
       "      <td>1.07022</td>\n",
       "      <td>1.07178</td>\n",
       "      <td>1.06940</td>\n",
       "      <td>1.07155</td>\n",
       "      <td>1.071700</td>\n",
       "      <td>1.070095</td>\n",
       "      <td>0.001605</td>\n",
       "      <td>0.001710</td>\n",
       "      <td>False</td>\n",
       "    </tr>\n",
       "  </tbody>\n",
       "</table>\n",
       "</div>"
      ],
      "text/plain": [
       "                              time    mid_o    mid_h    mid_l    mid_c  \\\n",
       "63  2022-06-09T04:00:00.000000000Z  1.07294  1.07330  1.07262  1.07266   \n",
       "64  2022-06-09T05:00:00.000000000Z  1.07266  1.07296  1.07187  1.07190   \n",
       "65  2022-06-09T06:00:00.000000000Z  1.07188  1.07200  1.07090  1.07146   \n",
       "66  2022-06-09T07:00:00.000000000Z  1.07148  1.07168  1.07018  1.07022   \n",
       "67  2022-06-09T08:00:00.000000000Z  1.07022  1.07178  1.06940  1.07155   \n",
       "\n",
       "       MA_16     MA_64      DIFF  DIFF_PREV  IS_TRADE  \n",
       "63  1.072274  1.070062  0.002212        NaN     False  \n",
       "64  1.072135  1.070069  0.002066   0.002212     False  \n",
       "65  1.072029  1.070064  0.001964   0.002066     False  \n",
       "66  1.071781  1.070072  0.001710   0.001964     False  \n",
       "67  1.071700  1.070095  0.001605   0.001710     False  "
      ]
     },
     "execution_count": 40,
     "metadata": {},
     "output_type": "execute_result"
    }
   ],
   "source": [
    "df_ma.head()"
   ]
  },
  {
   "cell_type": "code",
   "execution_count": 34,
   "metadata": {},
   "outputs": [],
   "source": [
    "df_ma['DIFF'] = df_ma.MA_16 - df_ma.MA_64"
   ]
  },
  {
   "cell_type": "code",
   "execution_count": 36,
   "metadata": {},
   "outputs": [],
   "source": [
    "df_ma['DIFF_PREV'] = df_ma.DIFF.shift(1)"
   ]
  },
  {
   "cell_type": "code",
   "execution_count": 38,
   "metadata": {},
   "outputs": [],
   "source": [
    "def is_trade(row):\n",
    "    if row.DIFF >= 0 and row.DIFF_PREV < 0:\n",
    "        return True\n",
    "    if row.DIFF <= 0 and row.DIFF_PREV > 0:\n",
    "        return True\n",
    "    return False"
   ]
  },
  {
   "cell_type": "code",
   "execution_count": 48,
   "metadata": {},
   "outputs": [],
   "source": [
    "df_ma['IS_TRADE'] = df_ma.apply(is_trade, axis=1)"
   ]
  },
  {
   "cell_type": "code",
   "execution_count": 52,
   "metadata": {},
   "outputs": [],
   "source": [
    "df_trades = df_ma[df_ma.IS_TRADE==True].copy()"
   ]
  },
  {
   "cell_type": "code",
   "execution_count": 53,
   "metadata": {},
   "outputs": [
    {
     "data": {
      "text/html": [
       "<div>\n",
       "<style scoped>\n",
       "    .dataframe tbody tr th:only-of-type {\n",
       "        vertical-align: middle;\n",
       "    }\n",
       "\n",
       "    .dataframe tbody tr th {\n",
       "        vertical-align: top;\n",
       "    }\n",
       "\n",
       "    .dataframe thead th {\n",
       "        text-align: right;\n",
       "    }\n",
       "</style>\n",
       "<table border=\"1\" class=\"dataframe\">\n",
       "  <thead>\n",
       "    <tr style=\"text-align: right;\">\n",
       "      <th></th>\n",
       "      <th>time</th>\n",
       "      <th>mid_o</th>\n",
       "      <th>mid_h</th>\n",
       "      <th>mid_l</th>\n",
       "      <th>mid_c</th>\n",
       "      <th>MA_16</th>\n",
       "      <th>MA_64</th>\n",
       "      <th>DIFF</th>\n",
       "      <th>DIFF_PREV</th>\n",
       "      <th>IS_TRADE</th>\n",
       "    </tr>\n",
       "  </thead>\n",
       "  <tbody>\n",
       "    <tr>\n",
       "      <th>14</th>\n",
       "      <td>2022-06-09T18:00:00.000000000Z</td>\n",
       "      <td>1.06388</td>\n",
       "      <td>1.06438</td>\n",
       "      <td>1.06262</td>\n",
       "      <td>1.06264</td>\n",
       "      <td>1.069483</td>\n",
       "      <td>1.069952</td>\n",
       "      <td>-0.000469</td>\n",
       "      <td>0.000056</td>\n",
       "      <td>True</td>\n",
       "    </tr>\n",
       "    <tr>\n",
       "      <th>103</th>\n",
       "      <td>2022-06-15T11:00:00.000000000Z</td>\n",
       "      <td>1.04824</td>\n",
       "      <td>1.04893</td>\n",
       "      <td>1.04552</td>\n",
       "      <td>1.04582</td>\n",
       "      <td>1.045129</td>\n",
       "      <td>1.044815</td>\n",
       "      <td>0.000315</td>\n",
       "      <td>-0.000077</td>\n",
       "      <td>True</td>\n",
       "    </tr>\n",
       "    <tr>\n",
       "      <th>117</th>\n",
       "      <td>2022-06-16T01:00:00.000000000Z</td>\n",
       "      <td>1.04528</td>\n",
       "      <td>1.04590</td>\n",
       "      <td>1.04312</td>\n",
       "      <td>1.04344</td>\n",
       "      <td>1.043273</td>\n",
       "      <td>1.043489</td>\n",
       "      <td>-0.000216</td>\n",
       "      <td>0.000117</td>\n",
       "      <td>True</td>\n",
       "    </tr>\n",
       "    <tr>\n",
       "      <th>124</th>\n",
       "      <td>2022-06-16T08:00:00.000000000Z</td>\n",
       "      <td>1.03969</td>\n",
       "      <td>1.04129</td>\n",
       "      <td>1.03840</td>\n",
       "      <td>1.04095</td>\n",
       "      <td>1.043343</td>\n",
       "      <td>1.043271</td>\n",
       "      <td>0.000071</td>\n",
       "      <td>-0.000145</td>\n",
       "      <td>True</td>\n",
       "    </tr>\n",
       "    <tr>\n",
       "      <th>127</th>\n",
       "      <td>2022-06-16T11:00:00.000000000Z</td>\n",
       "      <td>1.04051</td>\n",
       "      <td>1.04264</td>\n",
       "      <td>1.03836</td>\n",
       "      <td>1.03858</td>\n",
       "      <td>1.042839</td>\n",
       "      <td>1.043139</td>\n",
       "      <td>-0.000301</td>\n",
       "      <td>0.000089</td>\n",
       "      <td>True</td>\n",
       "    </tr>\n",
       "  </tbody>\n",
       "</table>\n",
       "</div>"
      ],
      "text/plain": [
       "                               time    mid_o    mid_h    mid_l    mid_c  \\\n",
       "14   2022-06-09T18:00:00.000000000Z  1.06388  1.06438  1.06262  1.06264   \n",
       "103  2022-06-15T11:00:00.000000000Z  1.04824  1.04893  1.04552  1.04582   \n",
       "117  2022-06-16T01:00:00.000000000Z  1.04528  1.04590  1.04312  1.04344   \n",
       "124  2022-06-16T08:00:00.000000000Z  1.03969  1.04129  1.03840  1.04095   \n",
       "127  2022-06-16T11:00:00.000000000Z  1.04051  1.04264  1.03836  1.03858   \n",
       "\n",
       "        MA_16     MA_64      DIFF  DIFF_PREV  IS_TRADE  \n",
       "14   1.069483  1.069952 -0.000469   0.000056      True  \n",
       "103  1.045129  1.044815  0.000315  -0.000077      True  \n",
       "117  1.043273  1.043489 -0.000216   0.000117      True  \n",
       "124  1.043343  1.043271  0.000071  -0.000145      True  \n",
       "127  1.042839  1.043139 -0.000301   0.000089      True  "
      ]
     },
     "execution_count": 53,
     "metadata": {},
     "output_type": "execute_result"
    }
   ],
   "source": [
    "df_trades.head()"
   ]
  },
  {
   "cell_type": "code",
   "execution_count": null,
   "metadata": {},
   "outputs": [],
   "source": []
  },
  {
   "cell_type": "code",
   "execution_count": 54,
   "metadata": {},
   "outputs": [],
   "source": [
    "df_plot = df_ma.iloc[0:26].copy()"
   ]
  },
  {
   "cell_type": "code",
   "execution_count": 45,
   "metadata": {},
   "outputs": [
    {
     "data": {
      "text/plain": [
       "(50, 10)"
      ]
     },
     "execution_count": 45,
     "metadata": {},
     "output_type": "execute_result"
    }
   ],
   "source": [
    "df_plot.shape"
   ]
  },
  {
   "cell_type": "code",
   "execution_count": 55,
   "metadata": {},
   "outputs": [
    {
     "data": {
      "application/vnd.plotly.v1+json": {
       "config": {
        "plotlyServerURL": "https://plot.ly"
       },
       "data": [
        {
         "close": [
          1.07266,
          1.0719,
          1.07146,
          1.07022,
          1.07155,
          1.07164,
          1.0719,
          1.07284,
          1.07344,
          1.0687,
          1.06492,
          1.06576,
          1.06524,
          1.06389,
          1.06264,
          1.06134,
          1.06188,
          1.06188,
          1.06158,
          1.06191,
          1.06241,
          1.0625,
          1.06299,
          1.06342,
          1.06308,
          1.06338
         ],
         "decreasing": {
          "fillcolor": "#CC2E3C",
          "line": {
           "color": "#FF3A4C"
          }
         },
         "high": [
          1.0733,
          1.07296,
          1.072,
          1.07168,
          1.07178,
          1.07196,
          1.07245,
          1.07498,
          1.07742,
          1.07432,
          1.06876,
          1.06664,
          1.06601,
          1.0655,
          1.06438,
          1.06272,
          1.06205,
          1.06196,
          1.06216,
          1.0622,
          1.06246,
          1.06257,
          1.06301,
          1.06356,
          1.06354,
          1.06424
         ],
         "increasing": {
          "fillcolor": "#24A06B",
          "line": {
           "color": "#2EC886"
          }
         },
         "line": {
          "width": 1
         },
         "low": [
          1.07262,
          1.07187,
          1.0709,
          1.07018,
          1.0694,
          1.07112,
          1.07134,
          1.06882,
          1.07236,
          1.06809,
          1.06452,
          1.06456,
          1.06455,
          1.0618,
          1.06262,
          1.06125,
          1.06113,
          1.06161,
          1.06112,
          1.06132,
          1.06116,
          1.06174,
          1.06236,
          1.06286,
          1.06296,
          1.06306
         ],
         "opacity": 1,
         "open": [
          1.07294,
          1.07266,
          1.07188,
          1.07148,
          1.07022,
          1.07156,
          1.07162,
          1.07189,
          1.07286,
          1.07344,
          1.0687,
          1.06491,
          1.06574,
          1.06526,
          1.06388,
          1.06266,
          1.06134,
          1.06172,
          1.06192,
          1.0616,
          1.06192,
          1.06241,
          1.0625,
          1.06298,
          1.0634,
          1.06307
         ],
         "type": "candlestick",
         "x": [
          "2022-06-09T04:00:00.000000000Z",
          "2022-06-09T05:00:00.000000000Z",
          "2022-06-09T06:00:00.000000000Z",
          "2022-06-09T07:00:00.000000000Z",
          "2022-06-09T08:00:00.000000000Z",
          "2022-06-09T09:00:00.000000000Z",
          "2022-06-09T10:00:00.000000000Z",
          "2022-06-09T11:00:00.000000000Z",
          "2022-06-09T12:00:00.000000000Z",
          "2022-06-09T13:00:00.000000000Z",
          "2022-06-09T14:00:00.000000000Z",
          "2022-06-09T15:00:00.000000000Z",
          "2022-06-09T16:00:00.000000000Z",
          "2022-06-09T17:00:00.000000000Z",
          "2022-06-09T18:00:00.000000000Z",
          "2022-06-09T19:00:00.000000000Z",
          "2022-06-09T20:00:00.000000000Z",
          "2022-06-09T21:00:00.000000000Z",
          "2022-06-09T22:00:00.000000000Z",
          "2022-06-09T23:00:00.000000000Z",
          "2022-06-10T00:00:00.000000000Z",
          "2022-06-10T01:00:00.000000000Z",
          "2022-06-10T02:00:00.000000000Z",
          "2022-06-10T03:00:00.000000000Z",
          "2022-06-10T04:00:00.000000000Z",
          "2022-06-10T05:00:00.000000000Z"
         ]
        },
        {
         "line": {
          "shape": "spline",
          "width": 2
         },
         "name": "MA_16",
         "type": "scatter",
         "x": [
          "2022-06-09T04:00:00.000000000Z",
          "2022-06-09T05:00:00.000000000Z",
          "2022-06-09T06:00:00.000000000Z",
          "2022-06-09T07:00:00.000000000Z",
          "2022-06-09T08:00:00.000000000Z",
          "2022-06-09T09:00:00.000000000Z",
          "2022-06-09T10:00:00.000000000Z",
          "2022-06-09T11:00:00.000000000Z",
          "2022-06-09T12:00:00.000000000Z",
          "2022-06-09T13:00:00.000000000Z",
          "2022-06-09T14:00:00.000000000Z",
          "2022-06-09T15:00:00.000000000Z",
          "2022-06-09T16:00:00.000000000Z",
          "2022-06-09T17:00:00.000000000Z",
          "2022-06-09T18:00:00.000000000Z",
          "2022-06-09T19:00:00.000000000Z",
          "2022-06-09T20:00:00.000000000Z",
          "2022-06-09T21:00:00.000000000Z",
          "2022-06-09T22:00:00.000000000Z",
          "2022-06-09T23:00:00.000000000Z",
          "2022-06-10T00:00:00.000000000Z",
          "2022-06-10T01:00:00.000000000Z",
          "2022-06-10T02:00:00.000000000Z",
          "2022-06-10T03:00:00.000000000Z",
          "2022-06-10T04:00:00.000000000Z",
          "2022-06-10T05:00:00.000000000Z"
         ],
         "y": [
          1.07227375,
          1.072135,
          1.07202875,
          1.0717812500000001,
          1.0716999999999999,
          1.0716825,
          1.071703125,
          1.071794375,
          1.071906875,
          1.071719375,
          1.0712825,
          1.0709125,
          1.0705387499999999,
          1.070085,
          1.0694825000000001,
          1.0687562499999999,
          1.0680825,
          1.06745625,
          1.0668387499999998,
          1.066319375,
          1.065748125,
          1.0651768750000001,
          1.06462,
          1.06403125,
          1.06338375,
          1.06305125
         ]
        },
        {
         "line": {
          "shape": "spline",
          "width": 2
         },
         "name": "MA_64",
         "type": "scatter",
         "x": [
          "2022-06-09T04:00:00.000000000Z",
          "2022-06-09T05:00:00.000000000Z",
          "2022-06-09T06:00:00.000000000Z",
          "2022-06-09T07:00:00.000000000Z",
          "2022-06-09T08:00:00.000000000Z",
          "2022-06-09T09:00:00.000000000Z",
          "2022-06-09T10:00:00.000000000Z",
          "2022-06-09T11:00:00.000000000Z",
          "2022-06-09T12:00:00.000000000Z",
          "2022-06-09T13:00:00.000000000Z",
          "2022-06-09T14:00:00.000000000Z",
          "2022-06-09T15:00:00.000000000Z",
          "2022-06-09T16:00:00.000000000Z",
          "2022-06-09T17:00:00.000000000Z",
          "2022-06-09T18:00:00.000000000Z",
          "2022-06-09T19:00:00.000000000Z",
          "2022-06-09T20:00:00.000000000Z",
          "2022-06-09T21:00:00.000000000Z",
          "2022-06-09T22:00:00.000000000Z",
          "2022-06-09T23:00:00.000000000Z",
          "2022-06-10T00:00:00.000000000Z",
          "2022-06-10T01:00:00.000000000Z",
          "2022-06-10T02:00:00.000000000Z",
          "2022-06-10T03:00:00.000000000Z",
          "2022-06-10T04:00:00.000000000Z",
          "2022-06-10T05:00:00.000000000Z"
         ],
         "y": [
          1.070061875,
          1.0700693749999999,
          1.070064375,
          1.0700715625000001,
          1.0700948437500002,
          1.07012265625,
          1.070166875,
          1.0702181249999998,
          1.0702784374999998,
          1.070265,
          1.070194375,
          1.0701440625,
          1.07009375,
          1.070029375,
          1.0699517187499998,
          1.0698448437499999,
          1.06974515625,
          1.06965828125,
          1.06954890625,
          1.0694421875,
          1.06935578125,
          1.06927359375,
          1.0692053125,
          1.069161875,
          1.069123125,
          1.069038125
         ]
        }
       ],
       "layout": {
        "font": {
         "color": "#e1e1e1",
         "size": 10
        },
        "height": 400,
        "margin": {
         "b": 10,
         "l": 10,
         "t": 10
        },
        "paper_bgcolor": "#1e1e1e",
        "plot_bgcolor": "#1e1e1e",
        "template": {
         "data": {
          "bar": [
           {
            "error_x": {
             "color": "#2a3f5f"
            },
            "error_y": {
             "color": "#2a3f5f"
            },
            "marker": {
             "line": {
              "color": "#E5ECF6",
              "width": 0.5
             },
             "pattern": {
              "fillmode": "overlay",
              "size": 10,
              "solidity": 0.2
             }
            },
            "type": "bar"
           }
          ],
          "barpolar": [
           {
            "marker": {
             "line": {
              "color": "#E5ECF6",
              "width": 0.5
             },
             "pattern": {
              "fillmode": "overlay",
              "size": 10,
              "solidity": 0.2
             }
            },
            "type": "barpolar"
           }
          ],
          "carpet": [
           {
            "aaxis": {
             "endlinecolor": "#2a3f5f",
             "gridcolor": "white",
             "linecolor": "white",
             "minorgridcolor": "white",
             "startlinecolor": "#2a3f5f"
            },
            "baxis": {
             "endlinecolor": "#2a3f5f",
             "gridcolor": "white",
             "linecolor": "white",
             "minorgridcolor": "white",
             "startlinecolor": "#2a3f5f"
            },
            "type": "carpet"
           }
          ],
          "choropleth": [
           {
            "colorbar": {
             "outlinewidth": 0,
             "ticks": ""
            },
            "type": "choropleth"
           }
          ],
          "contour": [
           {
            "colorbar": {
             "outlinewidth": 0,
             "ticks": ""
            },
            "colorscale": [
             [
              0,
              "#0d0887"
             ],
             [
              0.1111111111111111,
              "#46039f"
             ],
             [
              0.2222222222222222,
              "#7201a8"
             ],
             [
              0.3333333333333333,
              "#9c179e"
             ],
             [
              0.4444444444444444,
              "#bd3786"
             ],
             [
              0.5555555555555556,
              "#d8576b"
             ],
             [
              0.6666666666666666,
              "#ed7953"
             ],
             [
              0.7777777777777778,
              "#fb9f3a"
             ],
             [
              0.8888888888888888,
              "#fdca26"
             ],
             [
              1,
              "#f0f921"
             ]
            ],
            "type": "contour"
           }
          ],
          "contourcarpet": [
           {
            "colorbar": {
             "outlinewidth": 0,
             "ticks": ""
            },
            "type": "contourcarpet"
           }
          ],
          "heatmap": [
           {
            "colorbar": {
             "outlinewidth": 0,
             "ticks": ""
            },
            "colorscale": [
             [
              0,
              "#0d0887"
             ],
             [
              0.1111111111111111,
              "#46039f"
             ],
             [
              0.2222222222222222,
              "#7201a8"
             ],
             [
              0.3333333333333333,
              "#9c179e"
             ],
             [
              0.4444444444444444,
              "#bd3786"
             ],
             [
              0.5555555555555556,
              "#d8576b"
             ],
             [
              0.6666666666666666,
              "#ed7953"
             ],
             [
              0.7777777777777778,
              "#fb9f3a"
             ],
             [
              0.8888888888888888,
              "#fdca26"
             ],
             [
              1,
              "#f0f921"
             ]
            ],
            "type": "heatmap"
           }
          ],
          "heatmapgl": [
           {
            "colorbar": {
             "outlinewidth": 0,
             "ticks": ""
            },
            "colorscale": [
             [
              0,
              "#0d0887"
             ],
             [
              0.1111111111111111,
              "#46039f"
             ],
             [
              0.2222222222222222,
              "#7201a8"
             ],
             [
              0.3333333333333333,
              "#9c179e"
             ],
             [
              0.4444444444444444,
              "#bd3786"
             ],
             [
              0.5555555555555556,
              "#d8576b"
             ],
             [
              0.6666666666666666,
              "#ed7953"
             ],
             [
              0.7777777777777778,
              "#fb9f3a"
             ],
             [
              0.8888888888888888,
              "#fdca26"
             ],
             [
              1,
              "#f0f921"
             ]
            ],
            "type": "heatmapgl"
           }
          ],
          "histogram": [
           {
            "marker": {
             "pattern": {
              "fillmode": "overlay",
              "size": 10,
              "solidity": 0.2
             }
            },
            "type": "histogram"
           }
          ],
          "histogram2d": [
           {
            "colorbar": {
             "outlinewidth": 0,
             "ticks": ""
            },
            "colorscale": [
             [
              0,
              "#0d0887"
             ],
             [
              0.1111111111111111,
              "#46039f"
             ],
             [
              0.2222222222222222,
              "#7201a8"
             ],
             [
              0.3333333333333333,
              "#9c179e"
             ],
             [
              0.4444444444444444,
              "#bd3786"
             ],
             [
              0.5555555555555556,
              "#d8576b"
             ],
             [
              0.6666666666666666,
              "#ed7953"
             ],
             [
              0.7777777777777778,
              "#fb9f3a"
             ],
             [
              0.8888888888888888,
              "#fdca26"
             ],
             [
              1,
              "#f0f921"
             ]
            ],
            "type": "histogram2d"
           }
          ],
          "histogram2dcontour": [
           {
            "colorbar": {
             "outlinewidth": 0,
             "ticks": ""
            },
            "colorscale": [
             [
              0,
              "#0d0887"
             ],
             [
              0.1111111111111111,
              "#46039f"
             ],
             [
              0.2222222222222222,
              "#7201a8"
             ],
             [
              0.3333333333333333,
              "#9c179e"
             ],
             [
              0.4444444444444444,
              "#bd3786"
             ],
             [
              0.5555555555555556,
              "#d8576b"
             ],
             [
              0.6666666666666666,
              "#ed7953"
             ],
             [
              0.7777777777777778,
              "#fb9f3a"
             ],
             [
              0.8888888888888888,
              "#fdca26"
             ],
             [
              1,
              "#f0f921"
             ]
            ],
            "type": "histogram2dcontour"
           }
          ],
          "mesh3d": [
           {
            "colorbar": {
             "outlinewidth": 0,
             "ticks": ""
            },
            "type": "mesh3d"
           }
          ],
          "parcoords": [
           {
            "line": {
             "colorbar": {
              "outlinewidth": 0,
              "ticks": ""
             }
            },
            "type": "parcoords"
           }
          ],
          "pie": [
           {
            "automargin": true,
            "type": "pie"
           }
          ],
          "scatter": [
           {
            "fillpattern": {
             "fillmode": "overlay",
             "size": 10,
             "solidity": 0.2
            },
            "type": "scatter"
           }
          ],
          "scatter3d": [
           {
            "line": {
             "colorbar": {
              "outlinewidth": 0,
              "ticks": ""
             }
            },
            "marker": {
             "colorbar": {
              "outlinewidth": 0,
              "ticks": ""
             }
            },
            "type": "scatter3d"
           }
          ],
          "scattercarpet": [
           {
            "marker": {
             "colorbar": {
              "outlinewidth": 0,
              "ticks": ""
             }
            },
            "type": "scattercarpet"
           }
          ],
          "scattergeo": [
           {
            "marker": {
             "colorbar": {
              "outlinewidth": 0,
              "ticks": ""
             }
            },
            "type": "scattergeo"
           }
          ],
          "scattergl": [
           {
            "marker": {
             "colorbar": {
              "outlinewidth": 0,
              "ticks": ""
             }
            },
            "type": "scattergl"
           }
          ],
          "scattermapbox": [
           {
            "marker": {
             "colorbar": {
              "outlinewidth": 0,
              "ticks": ""
             }
            },
            "type": "scattermapbox"
           }
          ],
          "scatterpolar": [
           {
            "marker": {
             "colorbar": {
              "outlinewidth": 0,
              "ticks": ""
             }
            },
            "type": "scatterpolar"
           }
          ],
          "scatterpolargl": [
           {
            "marker": {
             "colorbar": {
              "outlinewidth": 0,
              "ticks": ""
             }
            },
            "type": "scatterpolargl"
           }
          ],
          "scatterternary": [
           {
            "marker": {
             "colorbar": {
              "outlinewidth": 0,
              "ticks": ""
             }
            },
            "type": "scatterternary"
           }
          ],
          "surface": [
           {
            "colorbar": {
             "outlinewidth": 0,
             "ticks": ""
            },
            "colorscale": [
             [
              0,
              "#0d0887"
             ],
             [
              0.1111111111111111,
              "#46039f"
             ],
             [
              0.2222222222222222,
              "#7201a8"
             ],
             [
              0.3333333333333333,
              "#9c179e"
             ],
             [
              0.4444444444444444,
              "#bd3786"
             ],
             [
              0.5555555555555556,
              "#d8576b"
             ],
             [
              0.6666666666666666,
              "#ed7953"
             ],
             [
              0.7777777777777778,
              "#fb9f3a"
             ],
             [
              0.8888888888888888,
              "#fdca26"
             ],
             [
              1,
              "#f0f921"
             ]
            ],
            "type": "surface"
           }
          ],
          "table": [
           {
            "cells": {
             "fill": {
              "color": "#EBF0F8"
             },
             "line": {
              "color": "white"
             }
            },
            "header": {
             "fill": {
              "color": "#C8D4E3"
             },
             "line": {
              "color": "white"
             }
            },
            "type": "table"
           }
          ]
         },
         "layout": {
          "annotationdefaults": {
           "arrowcolor": "#2a3f5f",
           "arrowhead": 0,
           "arrowwidth": 1
          },
          "autotypenumbers": "strict",
          "coloraxis": {
           "colorbar": {
            "outlinewidth": 0,
            "ticks": ""
           }
          },
          "colorscale": {
           "diverging": [
            [
             0,
             "#8e0152"
            ],
            [
             0.1,
             "#c51b7d"
            ],
            [
             0.2,
             "#de77ae"
            ],
            [
             0.3,
             "#f1b6da"
            ],
            [
             0.4,
             "#fde0ef"
            ],
            [
             0.5,
             "#f7f7f7"
            ],
            [
             0.6,
             "#e6f5d0"
            ],
            [
             0.7,
             "#b8e186"
            ],
            [
             0.8,
             "#7fbc41"
            ],
            [
             0.9,
             "#4d9221"
            ],
            [
             1,
             "#276419"
            ]
           ],
           "sequential": [
            [
             0,
             "#0d0887"
            ],
            [
             0.1111111111111111,
             "#46039f"
            ],
            [
             0.2222222222222222,
             "#7201a8"
            ],
            [
             0.3333333333333333,
             "#9c179e"
            ],
            [
             0.4444444444444444,
             "#bd3786"
            ],
            [
             0.5555555555555556,
             "#d8576b"
            ],
            [
             0.6666666666666666,
             "#ed7953"
            ],
            [
             0.7777777777777778,
             "#fb9f3a"
            ],
            [
             0.8888888888888888,
             "#fdca26"
            ],
            [
             1,
             "#f0f921"
            ]
           ],
           "sequentialminus": [
            [
             0,
             "#0d0887"
            ],
            [
             0.1111111111111111,
             "#46039f"
            ],
            [
             0.2222222222222222,
             "#7201a8"
            ],
            [
             0.3333333333333333,
             "#9c179e"
            ],
            [
             0.4444444444444444,
             "#bd3786"
            ],
            [
             0.5555555555555556,
             "#d8576b"
            ],
            [
             0.6666666666666666,
             "#ed7953"
            ],
            [
             0.7777777777777778,
             "#fb9f3a"
            ],
            [
             0.8888888888888888,
             "#fdca26"
            ],
            [
             1,
             "#f0f921"
            ]
           ]
          },
          "colorway": [
           "#636efa",
           "#EF553B",
           "#00cc96",
           "#ab63fa",
           "#FFA15A",
           "#19d3f3",
           "#FF6692",
           "#B6E880",
           "#FF97FF",
           "#FECB52"
          ],
          "font": {
           "color": "#2a3f5f"
          },
          "geo": {
           "bgcolor": "white",
           "lakecolor": "white",
           "landcolor": "#E5ECF6",
           "showlakes": true,
           "showland": true,
           "subunitcolor": "white"
          },
          "hoverlabel": {
           "align": "left"
          },
          "hovermode": "closest",
          "mapbox": {
           "style": "light"
          },
          "paper_bgcolor": "white",
          "plot_bgcolor": "#E5ECF6",
          "polar": {
           "angularaxis": {
            "gridcolor": "white",
            "linecolor": "white",
            "ticks": ""
           },
           "bgcolor": "#E5ECF6",
           "radialaxis": {
            "gridcolor": "white",
            "linecolor": "white",
            "ticks": ""
           }
          },
          "scene": {
           "xaxis": {
            "backgroundcolor": "#E5ECF6",
            "gridcolor": "white",
            "gridwidth": 2,
            "linecolor": "white",
            "showbackground": true,
            "ticks": "",
            "zerolinecolor": "white"
           },
           "yaxis": {
            "backgroundcolor": "#E5ECF6",
            "gridcolor": "white",
            "gridwidth": 2,
            "linecolor": "white",
            "showbackground": true,
            "ticks": "",
            "zerolinecolor": "white"
           },
           "zaxis": {
            "backgroundcolor": "#E5ECF6",
            "gridcolor": "white",
            "gridwidth": 2,
            "linecolor": "white",
            "showbackground": true,
            "ticks": "",
            "zerolinecolor": "white"
           }
          },
          "shapedefaults": {
           "line": {
            "color": "#2a3f5f"
           }
          },
          "ternary": {
           "aaxis": {
            "gridcolor": "white",
            "linecolor": "white",
            "ticks": ""
           },
           "baxis": {
            "gridcolor": "white",
            "linecolor": "white",
            "ticks": ""
           },
           "bgcolor": "#E5ECF6",
           "caxis": {
            "gridcolor": "white",
            "linecolor": "white",
            "ticks": ""
           }
          },
          "title": {
           "x": 0.05
          },
          "xaxis": {
           "automargin": true,
           "gridcolor": "white",
           "linecolor": "white",
           "ticks": "",
           "title": {
            "standoff": 15
           },
           "zerolinecolor": "white",
           "zerolinewidth": 2
          },
          "yaxis": {
           "automargin": true,
           "gridcolor": "white",
           "linecolor": "white",
           "ticks": "",
           "title": {
            "standoff": 15
           },
           "zerolinecolor": "white",
           "zerolinewidth": 2
          }
         }
        },
        "width": 1000,
        "xaxis": {
         "fixedrange": true,
         "gridcolor": "#1f292f",
         "rangeslider": {
          "visible": false
         },
         "showgrid": true
        },
        "yaxis": {
         "gridcolor": "#1f292f",
         "showgrid": true
        }
       }
      }
     },
     "metadata": {},
     "output_type": "display_data"
    }
   ],
   "source": [
    "fig = go.Figure()\n",
    "fig.add_trace(go.Candlestick(\n",
    "    x=df_plot.time, open=df_plot.mid_o, high=df_plot.mid_h, low=df_plot.mid_l, close=df_plot.mid_c,\n",
    "    line=dict(width=1), opacity=1,\n",
    "    increasing_fillcolor='#24A06B',\n",
    "    decreasing_fillcolor=\"#CC2E3C\",\n",
    "    increasing_line_color='#2EC886',\n",
    "    decreasing_line_color='#FF3A4C'\n",
    "))\n",
    "for ma in ma_list:\n",
    "    col = f\"MA_{ma}\"\n",
    "    fig.add_trace(go.Scatter(\n",
    "        x=df_plot.time,\n",
    "        y=df_plot[col],\n",
    "        line=dict(width=2),\n",
    "        line_shape='spline',\n",
    "        name=col\n",
    "        ))\n",
    "fig.update_layout(width=1000,height=400,\n",
    "                  margin=dict(l=10,b=10,t=10),\n",
    "                  font=dict(size=10,color=\"#e1e1e1\"),\n",
    "                  paper_bgcolor=\"#1e1e1e\",\n",
    "                  plot_bgcolor=\"#1e1e1e\")\n",
    "fig.update_xaxes(\n",
    "    gridcolor=\"#1f292f\",\n",
    "    showgrid=True,fixedrange=True,rangeslider=dict(visible=False)\n",
    ")\n",
    "fig.update_yaxes(\n",
    "    gridcolor=\"#1f292f\",\n",
    "    showgrid=True,\n",
    ")\n",
    "fig.show()"
   ]
  }
 ],
 "metadata": {
  "kernelspec": {
   "display_name": "venv",
   "language": "python",
   "name": "python3"
  },
  "language_info": {
   "codemirror_mode": {
    "name": "ipython",
    "version": 3
   },
   "file_extension": ".py",
   "mimetype": "text/x-python",
   "name": "python",
   "nbconvert_exporter": "python",
   "pygments_lexer": "ipython3",
   "version": "3.11.1"
  },
  "orig_nbformat": 4,
  "vscode": {
   "interpreter": {
    "hash": "fda0f0fb60ecb5fc85efacd84e1859512479306cf791e683553414edd7237eac"
   }
  }
 },
 "nbformat": 4,
 "nbformat_minor": 2
}
