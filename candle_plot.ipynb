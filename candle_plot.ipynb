{
 "cells": [
  {
   "cell_type": "code",
   "execution_count": 10,
   "metadata": {},
   "outputs": [],
   "source": [
    "import pandas as pd\n",
    "import utils"
   ]
  },
  {
   "cell_type": "code",
   "execution_count": 11,
   "metadata": {},
   "outputs": [],
   "source": [
    "pair = \"EUR_USD\"\n",
    "granularity = \"H1\""
   ]
  },
  {
   "cell_type": "code",
   "execution_count": 12,
   "metadata": {},
   "outputs": [],
   "source": [
    "df = pd.read_pickle(utils.get_his_data_filename(pair, granularity))"
   ]
  },
  {
   "cell_type": "code",
   "execution_count": 13,
   "metadata": {},
   "outputs": [],
   "source": [
    "non_cols = ['time', 'volume']"
   ]
  },
  {
   "cell_type": "code",
   "execution_count": 14,
   "metadata": {},
   "outputs": [],
   "source": [
    "mod_cols = [x for x in df.columns if x not in non_cols]"
   ]
  },
  {
   "cell_type": "code",
   "execution_count": 15,
   "metadata": {},
   "outputs": [
    {
     "data": {
      "text/plain": [
       "Index(['time', 'volume', 'mid_o', 'mid_h', 'mid_l', 'mid_c', 'bid_o', 'bid_h',\n",
       "       'bid_l', 'bid_c', 'ask_o', 'ask_h', 'ask_l', 'ask_c'],\n",
       "      dtype='object')"
      ]
     },
     "execution_count": 15,
     "metadata": {},
     "output_type": "execute_result"
    }
   ],
   "source": [
    "df.columns"
   ]
  },
  {
   "cell_type": "code",
   "execution_count": 16,
   "metadata": {},
   "outputs": [
    {
     "data": {
      "text/plain": [
       "['mid_o',\n",
       " 'mid_h',\n",
       " 'mid_l',\n",
       " 'mid_c',\n",
       " 'bid_o',\n",
       " 'bid_h',\n",
       " 'bid_l',\n",
       " 'bid_c',\n",
       " 'ask_o',\n",
       " 'ask_h',\n",
       " 'ask_l',\n",
       " 'ask_c']"
      ]
     },
     "execution_count": 16,
     "metadata": {},
     "output_type": "execute_result"
    }
   ],
   "source": [
    "mod_cols"
   ]
  },
  {
   "cell_type": "code",
   "execution_count": 18,
   "metadata": {},
   "outputs": [],
   "source": [
    "df[mod_cols] = df[mod_cols].apply(pd.to_numeric)"
   ]
  },
  {
   "cell_type": "code",
   "execution_count": 20,
   "metadata": {},
   "outputs": [
    {
     "data": {
      "text/html": [
       "<div>\n",
       "<style scoped>\n",
       "    .dataframe tbody tr th:only-of-type {\n",
       "        vertical-align: middle;\n",
       "    }\n",
       "\n",
       "    .dataframe tbody tr th {\n",
       "        vertical-align: top;\n",
       "    }\n",
       "\n",
       "    .dataframe thead th {\n",
       "        text-align: right;\n",
       "    }\n",
       "</style>\n",
       "<table border=\"1\" class=\"dataframe\">\n",
       "  <thead>\n",
       "    <tr style=\"text-align: right;\">\n",
       "      <th></th>\n",
       "      <th>volume</th>\n",
       "      <th>mid_o</th>\n",
       "      <th>mid_h</th>\n",
       "      <th>mid_l</th>\n",
       "      <th>mid_c</th>\n",
       "      <th>bid_o</th>\n",
       "      <th>bid_h</th>\n",
       "      <th>bid_l</th>\n",
       "      <th>bid_c</th>\n",
       "      <th>ask_o</th>\n",
       "      <th>ask_h</th>\n",
       "      <th>ask_l</th>\n",
       "      <th>ask_c</th>\n",
       "    </tr>\n",
       "  </thead>\n",
       "  <tbody>\n",
       "    <tr>\n",
       "      <th>count</th>\n",
       "      <td>3999.000000</td>\n",
       "      <td>3999.000000</td>\n",
       "      <td>3999.000000</td>\n",
       "      <td>3999.000000</td>\n",
       "      <td>3999.000000</td>\n",
       "      <td>3999.000000</td>\n",
       "      <td>3999.000000</td>\n",
       "      <td>3999.000000</td>\n",
       "      <td>3999.000000</td>\n",
       "      <td>3999.000000</td>\n",
       "      <td>3999.000000</td>\n",
       "      <td>3999.000000</td>\n",
       "      <td>3999.000000</td>\n",
       "    </tr>\n",
       "    <tr>\n",
       "      <th>mean</th>\n",
       "      <td>5587.215054</td>\n",
       "      <td>1.025111</td>\n",
       "      <td>1.026129</td>\n",
       "      <td>1.024119</td>\n",
       "      <td>1.025119</td>\n",
       "      <td>1.025014</td>\n",
       "      <td>1.026042</td>\n",
       "      <td>1.024022</td>\n",
       "      <td>1.025032</td>\n",
       "      <td>1.025209</td>\n",
       "      <td>1.026225</td>\n",
       "      <td>1.024206</td>\n",
       "      <td>1.025207</td>\n",
       "    </tr>\n",
       "    <tr>\n",
       "      <th>std</th>\n",
       "      <td>3791.525597</td>\n",
       "      <td>0.032993</td>\n",
       "      <td>0.032904</td>\n",
       "      <td>0.033068</td>\n",
       "      <td>0.032998</td>\n",
       "      <td>0.032994</td>\n",
       "      <td>0.032904</td>\n",
       "      <td>0.033067</td>\n",
       "      <td>0.032998</td>\n",
       "      <td>0.032992</td>\n",
       "      <td>0.032904</td>\n",
       "      <td>0.033069</td>\n",
       "      <td>0.032998</td>\n",
       "    </tr>\n",
       "    <tr>\n",
       "      <th>min</th>\n",
       "      <td>25.000000</td>\n",
       "      <td>0.953960</td>\n",
       "      <td>0.955960</td>\n",
       "      <td>0.953600</td>\n",
       "      <td>0.953940</td>\n",
       "      <td>0.953880</td>\n",
       "      <td>0.955890</td>\n",
       "      <td>0.953520</td>\n",
       "      <td>0.953860</td>\n",
       "      <td>0.954030</td>\n",
       "      <td>0.956050</td>\n",
       "      <td>0.953680</td>\n",
       "      <td>0.954010</td>\n",
       "    </tr>\n",
       "    <tr>\n",
       "      <th>25%</th>\n",
       "      <td>3043.000000</td>\n",
       "      <td>0.998210</td>\n",
       "      <td>0.999325</td>\n",
       "      <td>0.997155</td>\n",
       "      <td>0.998235</td>\n",
       "      <td>0.998135</td>\n",
       "      <td>0.999245</td>\n",
       "      <td>0.997070</td>\n",
       "      <td>0.998155</td>\n",
       "      <td>0.998295</td>\n",
       "      <td>0.999410</td>\n",
       "      <td>0.997240</td>\n",
       "      <td>0.998315</td>\n",
       "    </tr>\n",
       "    <tr>\n",
       "      <th>50%</th>\n",
       "      <td>4823.000000</td>\n",
       "      <td>1.021930</td>\n",
       "      <td>1.022850</td>\n",
       "      <td>1.020880</td>\n",
       "      <td>1.021940</td>\n",
       "      <td>1.021800</td>\n",
       "      <td>1.022750</td>\n",
       "      <td>1.020750</td>\n",
       "      <td>1.021870</td>\n",
       "      <td>1.022090</td>\n",
       "      <td>1.023000</td>\n",
       "      <td>1.020960</td>\n",
       "      <td>1.022080</td>\n",
       "    </tr>\n",
       "    <tr>\n",
       "      <th>75%</th>\n",
       "      <td>7192.500000</td>\n",
       "      <td>1.053245</td>\n",
       "      <td>1.054020</td>\n",
       "      <td>1.052200</td>\n",
       "      <td>1.053240</td>\n",
       "      <td>1.053100</td>\n",
       "      <td>1.053945</td>\n",
       "      <td>1.052120</td>\n",
       "      <td>1.053160</td>\n",
       "      <td>1.053320</td>\n",
       "      <td>1.054115</td>\n",
       "      <td>1.052290</td>\n",
       "      <td>1.053325</td>\n",
       "    </tr>\n",
       "    <tr>\n",
       "      <th>max</th>\n",
       "      <td>35086.000000</td>\n",
       "      <td>1.092080</td>\n",
       "      <td>1.092960</td>\n",
       "      <td>1.091720</td>\n",
       "      <td>1.092070</td>\n",
       "      <td>1.091990</td>\n",
       "      <td>1.092880</td>\n",
       "      <td>1.091640</td>\n",
       "      <td>1.091990</td>\n",
       "      <td>1.092160</td>\n",
       "      <td>1.093040</td>\n",
       "      <td>1.091800</td>\n",
       "      <td>1.092150</td>\n",
       "    </tr>\n",
       "  </tbody>\n",
       "</table>\n",
       "</div>"
      ],
      "text/plain": [
       "             volume        mid_o        mid_h        mid_l        mid_c  \\\n",
       "count   3999.000000  3999.000000  3999.000000  3999.000000  3999.000000   \n",
       "mean    5587.215054     1.025111     1.026129     1.024119     1.025119   \n",
       "std     3791.525597     0.032993     0.032904     0.033068     0.032998   \n",
       "min       25.000000     0.953960     0.955960     0.953600     0.953940   \n",
       "25%     3043.000000     0.998210     0.999325     0.997155     0.998235   \n",
       "50%     4823.000000     1.021930     1.022850     1.020880     1.021940   \n",
       "75%     7192.500000     1.053245     1.054020     1.052200     1.053240   \n",
       "max    35086.000000     1.092080     1.092960     1.091720     1.092070   \n",
       "\n",
       "             bid_o        bid_h        bid_l        bid_c        ask_o  \\\n",
       "count  3999.000000  3999.000000  3999.000000  3999.000000  3999.000000   \n",
       "mean      1.025014     1.026042     1.024022     1.025032     1.025209   \n",
       "std       0.032994     0.032904     0.033067     0.032998     0.032992   \n",
       "min       0.953880     0.955890     0.953520     0.953860     0.954030   \n",
       "25%       0.998135     0.999245     0.997070     0.998155     0.998295   \n",
       "50%       1.021800     1.022750     1.020750     1.021870     1.022090   \n",
       "75%       1.053100     1.053945     1.052120     1.053160     1.053320   \n",
       "max       1.091990     1.092880     1.091640     1.091990     1.092160   \n",
       "\n",
       "             ask_h        ask_l        ask_c  \n",
       "count  3999.000000  3999.000000  3999.000000  \n",
       "mean      1.026225     1.024206     1.025207  \n",
       "std       0.032904     0.033069     0.032998  \n",
       "min       0.956050     0.953680     0.954010  \n",
       "25%       0.999410     0.997240     0.998315  \n",
       "50%       1.023000     1.020960     1.022080  \n",
       "75%       1.054115     1.052290     1.053325  \n",
       "max       1.093040     1.091800     1.092150  "
      ]
     },
     "execution_count": 20,
     "metadata": {},
     "output_type": "execute_result"
    }
   ],
   "source": [
    "df.describe()"
   ]
  },
  {
   "cell_type": "code",
   "execution_count": null,
   "metadata": {},
   "outputs": [],
   "source": []
  }
 ],
 "metadata": {
  "kernelspec": {
   "display_name": "venv",
   "language": "python",
   "name": "python3"
  },
  "language_info": {
   "codemirror_mode": {
    "name": "ipython",
    "version": 3
   },
   "file_extension": ".py",
   "mimetype": "text/x-python",
   "name": "python",
   "nbconvert_exporter": "python",
   "pygments_lexer": "ipython3",
   "version": "3.11.1"
  },
  "orig_nbformat": 4,
  "vscode": {
   "interpreter": {
    "hash": "fda0f0fb60ecb5fc85efacd84e1859512479306cf791e683553414edd7237eac"
   }
  }
 },
 "nbformat": 4,
 "nbformat_minor": 2
}
