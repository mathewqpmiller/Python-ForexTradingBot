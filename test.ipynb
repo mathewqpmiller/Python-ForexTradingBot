{
 "cells": [
  {
   "cell_type": "code",
   "execution_count": 26,
   "metadata": {},
   "outputs": [],
   "source": [
    "import requests\n",
    "import defs\n",
    "import pandas as pd"
   ]
  },
  {
   "cell_type": "code",
   "execution_count": 4,
   "metadata": {},
   "outputs": [],
   "source": [
    "session = requests.Session()"
   ]
  },
  {
   "cell_type": "code",
   "execution_count": 5,
   "metadata": {},
   "outputs": [],
   "source": [
    "instrument = \"EUR_USD\"\n",
    "count = 10\n",
    "granularity = \"H1\""
   ]
  },
  {
   "cell_type": "code",
   "execution_count": 6,
   "metadata": {},
   "outputs": [],
   "source": [
    "url = f\"{defs.OANDA_URL}/instruments/{instrument}/candles\"\n"
   ]
  },
  {
   "cell_type": "code",
   "execution_count": 7,
   "metadata": {},
   "outputs": [
    {
     "data": {
      "text/plain": [
       "'https://api-fxpractice.oanda.com/v3/instruments/EUR_USD/candles'"
      ]
     },
     "execution_count": 7,
     "metadata": {},
     "output_type": "execute_result"
    }
   ],
   "source": [
    "url"
   ]
  },
  {
   "cell_type": "code",
   "execution_count": 8,
   "metadata": {},
   "outputs": [],
   "source": [
    "params = dict(\n",
    "    count = count,\n",
    "    granularity = granularity,\n",
    "    price = \"MBA\"\n",
    ")"
   ]
  },
  {
   "cell_type": "code",
   "execution_count": 9,
   "metadata": {},
   "outputs": [
    {
     "data": {
      "text/plain": [
       "{'count': 10, 'granularity': 'H1', 'price': 'MBA'}"
      ]
     },
     "execution_count": 9,
     "metadata": {},
     "output_type": "execute_result"
    }
   ],
   "source": [
    "params"
   ]
  },
  {
   "cell_type": "code",
   "execution_count": 10,
   "metadata": {},
   "outputs": [],
   "source": [
    "response = session.get(url, params=params, headers=defs.SECURE_HEADER)"
   ]
  },
  {
   "cell_type": "code",
   "execution_count": 11,
   "metadata": {},
   "outputs": [
    {
     "data": {
      "text/plain": [
       "200"
      ]
     },
     "execution_count": 11,
     "metadata": {},
     "output_type": "execute_result"
    }
   ],
   "source": [
    "response.status_code"
   ]
  },
  {
   "cell_type": "code",
   "execution_count": 12,
   "metadata": {},
   "outputs": [],
   "source": [
    "data = response.json()"
   ]
  },
  {
   "cell_type": "code",
   "execution_count": 15,
   "metadata": {},
   "outputs": [
    {
     "data": {
      "text/plain": [
       "dict_keys(['instrument', 'granularity', 'candles'])"
      ]
     },
     "execution_count": 15,
     "metadata": {},
     "output_type": "execute_result"
    }
   ],
   "source": [
    "data.keys()"
   ]
  },
  {
   "cell_type": "code",
   "execution_count": 16,
   "metadata": {},
   "outputs": [
    {
     "data": {
      "text/plain": [
       "10"
      ]
     },
     "execution_count": 16,
     "metadata": {},
     "output_type": "execute_result"
    }
   ],
   "source": [
    "len(data['candles'])"
   ]
  },
  {
   "cell_type": "code",
   "execution_count": 18,
   "metadata": {},
   "outputs": [],
   "source": [
    "prices = ['mid', 'bid', 'ask']\n",
    "ohlc = ['o', 'h', 'l', 'c']"
   ]
  },
  {
   "cell_type": "code",
   "execution_count": 19,
   "metadata": {},
   "outputs": [
    {
     "name": "stdout",
     "output_type": "stream",
     "text": [
      "mid_o\n",
      "mid_h\n",
      "mid_l\n",
      "mid_c\n",
      "bid_o\n",
      "bid_h\n",
      "bid_l\n",
      "bid_c\n",
      "ask_o\n",
      "ask_h\n",
      "ask_l\n",
      "ask_c\n"
     ]
    }
   ],
   "source": [
    "for price in prices:\n",
    "    for oh in ohlc:\n",
    "        print(f\"{price}_{oh}\")"
   ]
  },
  {
   "cell_type": "code",
   "execution_count": 21,
   "metadata": {},
   "outputs": [
    {
     "data": {
      "text/plain": [
       "{'complete': True,\n",
       " 'volume': 2573,\n",
       " 'time': '2023-01-24T06:00:00.000000000Z',\n",
       " 'bid': {'o': '1.08776', 'h': '1.08911', 'l': '1.08767', 'c': '1.08872'},\n",
       " 'mid': {'o': '1.08784', 'h': '1.08919', 'l': '1.08774', 'c': '1.08880'},\n",
       " 'ask': {'o': '1.08792', 'h': '1.08927', 'l': '1.08781', 'c': '1.08887'}}"
      ]
     },
     "execution_count": 21,
     "metadata": {},
     "output_type": "execute_result"
    }
   ],
   "source": [
    "data['candles'][0]"
   ]
  },
  {
   "cell_type": "code",
   "execution_count": 23,
   "metadata": {},
   "outputs": [
    {
     "name": "stdout",
     "output_type": "stream",
     "text": [
      "{'complete': False, 'volume': 12534, 'time': '2023-01-24T15:00:00.000000000Z', 'bid': {'o': '1.08417', 'h': '1.08800', 'l': '1.08345', 'c': '1.08776'}, 'mid': {'o': '1.08424', 'h': '1.08807', 'l': '1.08352', 'c': '1.08782'}, 'ask': {'o': '1.08432', 'h': '1.08814', 'l': '1.08359', 'c': '1.08789'}}\n"
     ]
    }
   ],
   "source": [
    "our_data = []\n",
    "for candle in data['candles']:\n",
    "    if candle['complete'] == False:\n",
    "        continue\n",
    "    new_dict = {}\n",
    "    new_dict['time'] = candle['time']\n",
    "    new_dict['volume'] = candle['volume']\n",
    "    for price in prices:\n",
    "        for oh in ohlc:\n",
    "            new_dict[f\"{price}_{oh}\"] = candle[price][oh]\n",
    "    our_data.append(new_dict)\n",
    "print(candle)"
   ]
  },
  {
   "cell_type": "code",
   "execution_count": 27,
   "metadata": {},
   "outputs": [],
   "source": [
    "candles_df = pd.DataFrame.from_dict(our_data)"
   ]
  },
  {
   "cell_type": "code",
   "execution_count": 28,
   "metadata": {},
   "outputs": [
    {
     "data": {
      "text/html": [
       "<div>\n",
       "<style scoped>\n",
       "    .dataframe tbody tr th:only-of-type {\n",
       "        vertical-align: middle;\n",
       "    }\n",
       "\n",
       "    .dataframe tbody tr th {\n",
       "        vertical-align: top;\n",
       "    }\n",
       "\n",
       "    .dataframe thead th {\n",
       "        text-align: right;\n",
       "    }\n",
       "</style>\n",
       "<table border=\"1\" class=\"dataframe\">\n",
       "  <thead>\n",
       "    <tr style=\"text-align: right;\">\n",
       "      <th></th>\n",
       "      <th>time</th>\n",
       "      <th>volume</th>\n",
       "      <th>mid_o</th>\n",
       "      <th>mid_h</th>\n",
       "      <th>mid_l</th>\n",
       "      <th>mid_c</th>\n",
       "      <th>bid_o</th>\n",
       "      <th>bid_h</th>\n",
       "      <th>bid_l</th>\n",
       "      <th>bid_c</th>\n",
       "      <th>ask_o</th>\n",
       "      <th>ask_h</th>\n",
       "      <th>ask_l</th>\n",
       "      <th>ask_c</th>\n",
       "    </tr>\n",
       "  </thead>\n",
       "  <tbody>\n",
       "    <tr>\n",
       "      <th>0</th>\n",
       "      <td>2023-01-24T06:00:00.000000000Z</td>\n",
       "      <td>2573</td>\n",
       "      <td>1.08784</td>\n",
       "      <td>1.08919</td>\n",
       "      <td>1.08774</td>\n",
       "      <td>1.08880</td>\n",
       "      <td>1.08776</td>\n",
       "      <td>1.08911</td>\n",
       "      <td>1.08767</td>\n",
       "      <td>1.08872</td>\n",
       "      <td>1.08792</td>\n",
       "      <td>1.08927</td>\n",
       "      <td>1.08781</td>\n",
       "      <td>1.08887</td>\n",
       "    </tr>\n",
       "    <tr>\n",
       "      <th>1</th>\n",
       "      <td>2023-01-24T07:00:00.000000000Z</td>\n",
       "      <td>4567</td>\n",
       "      <td>1.08875</td>\n",
       "      <td>1.08981</td>\n",
       "      <td>1.08834</td>\n",
       "      <td>1.08889</td>\n",
       "      <td>1.08867</td>\n",
       "      <td>1.08973</td>\n",
       "      <td>1.08825</td>\n",
       "      <td>1.08882</td>\n",
       "      <td>1.08883</td>\n",
       "      <td>1.08989</td>\n",
       "      <td>1.08841</td>\n",
       "      <td>1.08896</td>\n",
       "    </tr>\n",
       "    <tr>\n",
       "      <th>2</th>\n",
       "      <td>2023-01-24T08:00:00.000000000Z</td>\n",
       "      <td>6683</td>\n",
       "      <td>1.08889</td>\n",
       "      <td>1.08960</td>\n",
       "      <td>1.08665</td>\n",
       "      <td>1.08753</td>\n",
       "      <td>1.08881</td>\n",
       "      <td>1.08952</td>\n",
       "      <td>1.08657</td>\n",
       "      <td>1.08744</td>\n",
       "      <td>1.08897</td>\n",
       "      <td>1.08968</td>\n",
       "      <td>1.08673</td>\n",
       "      <td>1.08762</td>\n",
       "    </tr>\n",
       "    <tr>\n",
       "      <th>3</th>\n",
       "      <td>2023-01-24T09:00:00.000000000Z</td>\n",
       "      <td>7191</td>\n",
       "      <td>1.08752</td>\n",
       "      <td>1.08832</td>\n",
       "      <td>1.08520</td>\n",
       "      <td>1.08610</td>\n",
       "      <td>1.08742</td>\n",
       "      <td>1.08823</td>\n",
       "      <td>1.08513</td>\n",
       "      <td>1.08603</td>\n",
       "      <td>1.08762</td>\n",
       "      <td>1.08841</td>\n",
       "      <td>1.08527</td>\n",
       "      <td>1.08616</td>\n",
       "    </tr>\n",
       "    <tr>\n",
       "      <th>4</th>\n",
       "      <td>2023-01-24T10:00:00.000000000Z</td>\n",
       "      <td>5645</td>\n",
       "      <td>1.08606</td>\n",
       "      <td>1.08666</td>\n",
       "      <td>1.08521</td>\n",
       "      <td>1.08640</td>\n",
       "      <td>1.08599</td>\n",
       "      <td>1.08658</td>\n",
       "      <td>1.08513</td>\n",
       "      <td>1.08633</td>\n",
       "      <td>1.08614</td>\n",
       "      <td>1.08674</td>\n",
       "      <td>1.08528</td>\n",
       "      <td>1.08646</td>\n",
       "    </tr>\n",
       "    <tr>\n",
       "      <th>5</th>\n",
       "      <td>2023-01-24T11:00:00.000000000Z</td>\n",
       "      <td>4315</td>\n",
       "      <td>1.08638</td>\n",
       "      <td>1.08760</td>\n",
       "      <td>1.08538</td>\n",
       "      <td>1.08668</td>\n",
       "      <td>1.08631</td>\n",
       "      <td>1.08752</td>\n",
       "      <td>1.08531</td>\n",
       "      <td>1.08661</td>\n",
       "      <td>1.08646</td>\n",
       "      <td>1.08767</td>\n",
       "      <td>1.08545</td>\n",
       "      <td>1.08675</td>\n",
       "    </tr>\n",
       "    <tr>\n",
       "      <th>6</th>\n",
       "      <td>2023-01-24T12:00:00.000000000Z</td>\n",
       "      <td>4402</td>\n",
       "      <td>1.08668</td>\n",
       "      <td>1.08766</td>\n",
       "      <td>1.08591</td>\n",
       "      <td>1.08598</td>\n",
       "      <td>1.08660</td>\n",
       "      <td>1.08758</td>\n",
       "      <td>1.08584</td>\n",
       "      <td>1.08590</td>\n",
       "      <td>1.08676</td>\n",
       "      <td>1.08773</td>\n",
       "      <td>1.08598</td>\n",
       "      <td>1.08605</td>\n",
       "    </tr>\n",
       "    <tr>\n",
       "      <th>7</th>\n",
       "      <td>2023-01-24T13:00:00.000000000Z</td>\n",
       "      <td>7885</td>\n",
       "      <td>1.08600</td>\n",
       "      <td>1.08810</td>\n",
       "      <td>1.08542</td>\n",
       "      <td>1.08660</td>\n",
       "      <td>1.08593</td>\n",
       "      <td>1.08802</td>\n",
       "      <td>1.08535</td>\n",
       "      <td>1.08654</td>\n",
       "      <td>1.08607</td>\n",
       "      <td>1.08817</td>\n",
       "      <td>1.08549</td>\n",
       "      <td>1.08667</td>\n",
       "    </tr>\n",
       "    <tr>\n",
       "      <th>8</th>\n",
       "      <td>2023-01-24T14:00:00.000000000Z</td>\n",
       "      <td>10881</td>\n",
       "      <td>1.08660</td>\n",
       "      <td>1.08701</td>\n",
       "      <td>1.08405</td>\n",
       "      <td>1.08422</td>\n",
       "      <td>1.08653</td>\n",
       "      <td>1.08694</td>\n",
       "      <td>1.08397</td>\n",
       "      <td>1.08415</td>\n",
       "      <td>1.08668</td>\n",
       "      <td>1.08709</td>\n",
       "      <td>1.08413</td>\n",
       "      <td>1.08430</td>\n",
       "    </tr>\n",
       "  </tbody>\n",
       "</table>\n",
       "</div>"
      ],
      "text/plain": [
       "                             time  volume    mid_o    mid_h    mid_l    mid_c  \\\n",
       "0  2023-01-24T06:00:00.000000000Z    2573  1.08784  1.08919  1.08774  1.08880   \n",
       "1  2023-01-24T07:00:00.000000000Z    4567  1.08875  1.08981  1.08834  1.08889   \n",
       "2  2023-01-24T08:00:00.000000000Z    6683  1.08889  1.08960  1.08665  1.08753   \n",
       "3  2023-01-24T09:00:00.000000000Z    7191  1.08752  1.08832  1.08520  1.08610   \n",
       "4  2023-01-24T10:00:00.000000000Z    5645  1.08606  1.08666  1.08521  1.08640   \n",
       "5  2023-01-24T11:00:00.000000000Z    4315  1.08638  1.08760  1.08538  1.08668   \n",
       "6  2023-01-24T12:00:00.000000000Z    4402  1.08668  1.08766  1.08591  1.08598   \n",
       "7  2023-01-24T13:00:00.000000000Z    7885  1.08600  1.08810  1.08542  1.08660   \n",
       "8  2023-01-24T14:00:00.000000000Z   10881  1.08660  1.08701  1.08405  1.08422   \n",
       "\n",
       "     bid_o    bid_h    bid_l    bid_c    ask_o    ask_h    ask_l    ask_c  \n",
       "0  1.08776  1.08911  1.08767  1.08872  1.08792  1.08927  1.08781  1.08887  \n",
       "1  1.08867  1.08973  1.08825  1.08882  1.08883  1.08989  1.08841  1.08896  \n",
       "2  1.08881  1.08952  1.08657  1.08744  1.08897  1.08968  1.08673  1.08762  \n",
       "3  1.08742  1.08823  1.08513  1.08603  1.08762  1.08841  1.08527  1.08616  \n",
       "4  1.08599  1.08658  1.08513  1.08633  1.08614  1.08674  1.08528  1.08646  \n",
       "5  1.08631  1.08752  1.08531  1.08661  1.08646  1.08767  1.08545  1.08675  \n",
       "6  1.08660  1.08758  1.08584  1.08590  1.08676  1.08773  1.08598  1.08605  \n",
       "7  1.08593  1.08802  1.08535  1.08654  1.08607  1.08817  1.08549  1.08667  \n",
       "8  1.08653  1.08694  1.08397  1.08415  1.08668  1.08709  1.08413  1.08430  "
      ]
     },
     "execution_count": 28,
     "metadata": {},
     "output_type": "execute_result"
    }
   ],
   "source": [
    "candles_df"
   ]
  },
  {
   "cell_type": "code",
   "execution_count": 29,
   "metadata": {},
   "outputs": [],
   "source": [
    "candles_df.to_pickle(\"EUR_USD_H1.pkl\")"
   ]
  },
  {
   "cell_type": "code",
   "execution_count": 30,
   "metadata": {},
   "outputs": [],
   "source": [
    "test_df = pd.read_pickle(\"EUR_USD_H1.pkl\")"
   ]
  },
  {
   "cell_type": "code",
   "execution_count": 31,
   "metadata": {},
   "outputs": [
    {
     "data": {
      "text/html": [
       "<div>\n",
       "<style scoped>\n",
       "    .dataframe tbody tr th:only-of-type {\n",
       "        vertical-align: middle;\n",
       "    }\n",
       "\n",
       "    .dataframe tbody tr th {\n",
       "        vertical-align: top;\n",
       "    }\n",
       "\n",
       "    .dataframe thead th {\n",
       "        text-align: right;\n",
       "    }\n",
       "</style>\n",
       "<table border=\"1\" class=\"dataframe\">\n",
       "  <thead>\n",
       "    <tr style=\"text-align: right;\">\n",
       "      <th></th>\n",
       "      <th>time</th>\n",
       "      <th>volume</th>\n",
       "      <th>mid_o</th>\n",
       "      <th>mid_h</th>\n",
       "      <th>mid_l</th>\n",
       "      <th>mid_c</th>\n",
       "      <th>bid_o</th>\n",
       "      <th>bid_h</th>\n",
       "      <th>bid_l</th>\n",
       "      <th>bid_c</th>\n",
       "      <th>ask_o</th>\n",
       "      <th>ask_h</th>\n",
       "      <th>ask_l</th>\n",
       "      <th>ask_c</th>\n",
       "    </tr>\n",
       "  </thead>\n",
       "  <tbody>\n",
       "    <tr>\n",
       "      <th>0</th>\n",
       "      <td>2023-01-24T06:00:00.000000000Z</td>\n",
       "      <td>2573</td>\n",
       "      <td>1.08784</td>\n",
       "      <td>1.08919</td>\n",
       "      <td>1.08774</td>\n",
       "      <td>1.08880</td>\n",
       "      <td>1.08776</td>\n",
       "      <td>1.08911</td>\n",
       "      <td>1.08767</td>\n",
       "      <td>1.08872</td>\n",
       "      <td>1.08792</td>\n",
       "      <td>1.08927</td>\n",
       "      <td>1.08781</td>\n",
       "      <td>1.08887</td>\n",
       "    </tr>\n",
       "    <tr>\n",
       "      <th>1</th>\n",
       "      <td>2023-01-24T07:00:00.000000000Z</td>\n",
       "      <td>4567</td>\n",
       "      <td>1.08875</td>\n",
       "      <td>1.08981</td>\n",
       "      <td>1.08834</td>\n",
       "      <td>1.08889</td>\n",
       "      <td>1.08867</td>\n",
       "      <td>1.08973</td>\n",
       "      <td>1.08825</td>\n",
       "      <td>1.08882</td>\n",
       "      <td>1.08883</td>\n",
       "      <td>1.08989</td>\n",
       "      <td>1.08841</td>\n",
       "      <td>1.08896</td>\n",
       "    </tr>\n",
       "    <tr>\n",
       "      <th>2</th>\n",
       "      <td>2023-01-24T08:00:00.000000000Z</td>\n",
       "      <td>6683</td>\n",
       "      <td>1.08889</td>\n",
       "      <td>1.08960</td>\n",
       "      <td>1.08665</td>\n",
       "      <td>1.08753</td>\n",
       "      <td>1.08881</td>\n",
       "      <td>1.08952</td>\n",
       "      <td>1.08657</td>\n",
       "      <td>1.08744</td>\n",
       "      <td>1.08897</td>\n",
       "      <td>1.08968</td>\n",
       "      <td>1.08673</td>\n",
       "      <td>1.08762</td>\n",
       "    </tr>\n",
       "    <tr>\n",
       "      <th>3</th>\n",
       "      <td>2023-01-24T09:00:00.000000000Z</td>\n",
       "      <td>7191</td>\n",
       "      <td>1.08752</td>\n",
       "      <td>1.08832</td>\n",
       "      <td>1.08520</td>\n",
       "      <td>1.08610</td>\n",
       "      <td>1.08742</td>\n",
       "      <td>1.08823</td>\n",
       "      <td>1.08513</td>\n",
       "      <td>1.08603</td>\n",
       "      <td>1.08762</td>\n",
       "      <td>1.08841</td>\n",
       "      <td>1.08527</td>\n",
       "      <td>1.08616</td>\n",
       "    </tr>\n",
       "    <tr>\n",
       "      <th>4</th>\n",
       "      <td>2023-01-24T10:00:00.000000000Z</td>\n",
       "      <td>5645</td>\n",
       "      <td>1.08606</td>\n",
       "      <td>1.08666</td>\n",
       "      <td>1.08521</td>\n",
       "      <td>1.08640</td>\n",
       "      <td>1.08599</td>\n",
       "      <td>1.08658</td>\n",
       "      <td>1.08513</td>\n",
       "      <td>1.08633</td>\n",
       "      <td>1.08614</td>\n",
       "      <td>1.08674</td>\n",
       "      <td>1.08528</td>\n",
       "      <td>1.08646</td>\n",
       "    </tr>\n",
       "    <tr>\n",
       "      <th>5</th>\n",
       "      <td>2023-01-24T11:00:00.000000000Z</td>\n",
       "      <td>4315</td>\n",
       "      <td>1.08638</td>\n",
       "      <td>1.08760</td>\n",
       "      <td>1.08538</td>\n",
       "      <td>1.08668</td>\n",
       "      <td>1.08631</td>\n",
       "      <td>1.08752</td>\n",
       "      <td>1.08531</td>\n",
       "      <td>1.08661</td>\n",
       "      <td>1.08646</td>\n",
       "      <td>1.08767</td>\n",
       "      <td>1.08545</td>\n",
       "      <td>1.08675</td>\n",
       "    </tr>\n",
       "    <tr>\n",
       "      <th>6</th>\n",
       "      <td>2023-01-24T12:00:00.000000000Z</td>\n",
       "      <td>4402</td>\n",
       "      <td>1.08668</td>\n",
       "      <td>1.08766</td>\n",
       "      <td>1.08591</td>\n",
       "      <td>1.08598</td>\n",
       "      <td>1.08660</td>\n",
       "      <td>1.08758</td>\n",
       "      <td>1.08584</td>\n",
       "      <td>1.08590</td>\n",
       "      <td>1.08676</td>\n",
       "      <td>1.08773</td>\n",
       "      <td>1.08598</td>\n",
       "      <td>1.08605</td>\n",
       "    </tr>\n",
       "    <tr>\n",
       "      <th>7</th>\n",
       "      <td>2023-01-24T13:00:00.000000000Z</td>\n",
       "      <td>7885</td>\n",
       "      <td>1.08600</td>\n",
       "      <td>1.08810</td>\n",
       "      <td>1.08542</td>\n",
       "      <td>1.08660</td>\n",
       "      <td>1.08593</td>\n",
       "      <td>1.08802</td>\n",
       "      <td>1.08535</td>\n",
       "      <td>1.08654</td>\n",
       "      <td>1.08607</td>\n",
       "      <td>1.08817</td>\n",
       "      <td>1.08549</td>\n",
       "      <td>1.08667</td>\n",
       "    </tr>\n",
       "    <tr>\n",
       "      <th>8</th>\n",
       "      <td>2023-01-24T14:00:00.000000000Z</td>\n",
       "      <td>10881</td>\n",
       "      <td>1.08660</td>\n",
       "      <td>1.08701</td>\n",
       "      <td>1.08405</td>\n",
       "      <td>1.08422</td>\n",
       "      <td>1.08653</td>\n",
       "      <td>1.08694</td>\n",
       "      <td>1.08397</td>\n",
       "      <td>1.08415</td>\n",
       "      <td>1.08668</td>\n",
       "      <td>1.08709</td>\n",
       "      <td>1.08413</td>\n",
       "      <td>1.08430</td>\n",
       "    </tr>\n",
       "  </tbody>\n",
       "</table>\n",
       "</div>"
      ],
      "text/plain": [
       "                             time  volume    mid_o    mid_h    mid_l    mid_c  \\\n",
       "0  2023-01-24T06:00:00.000000000Z    2573  1.08784  1.08919  1.08774  1.08880   \n",
       "1  2023-01-24T07:00:00.000000000Z    4567  1.08875  1.08981  1.08834  1.08889   \n",
       "2  2023-01-24T08:00:00.000000000Z    6683  1.08889  1.08960  1.08665  1.08753   \n",
       "3  2023-01-24T09:00:00.000000000Z    7191  1.08752  1.08832  1.08520  1.08610   \n",
       "4  2023-01-24T10:00:00.000000000Z    5645  1.08606  1.08666  1.08521  1.08640   \n",
       "5  2023-01-24T11:00:00.000000000Z    4315  1.08638  1.08760  1.08538  1.08668   \n",
       "6  2023-01-24T12:00:00.000000000Z    4402  1.08668  1.08766  1.08591  1.08598   \n",
       "7  2023-01-24T13:00:00.000000000Z    7885  1.08600  1.08810  1.08542  1.08660   \n",
       "8  2023-01-24T14:00:00.000000000Z   10881  1.08660  1.08701  1.08405  1.08422   \n",
       "\n",
       "     bid_o    bid_h    bid_l    bid_c    ask_o    ask_h    ask_l    ask_c  \n",
       "0  1.08776  1.08911  1.08767  1.08872  1.08792  1.08927  1.08781  1.08887  \n",
       "1  1.08867  1.08973  1.08825  1.08882  1.08883  1.08989  1.08841  1.08896  \n",
       "2  1.08881  1.08952  1.08657  1.08744  1.08897  1.08968  1.08673  1.08762  \n",
       "3  1.08742  1.08823  1.08513  1.08603  1.08762  1.08841  1.08527  1.08616  \n",
       "4  1.08599  1.08658  1.08513  1.08633  1.08614  1.08674  1.08528  1.08646  \n",
       "5  1.08631  1.08752  1.08531  1.08661  1.08646  1.08767  1.08545  1.08675  \n",
       "6  1.08660  1.08758  1.08584  1.08590  1.08676  1.08773  1.08598  1.08605  \n",
       "7  1.08593  1.08802  1.08535  1.08654  1.08607  1.08817  1.08549  1.08667  \n",
       "8  1.08653  1.08694  1.08397  1.08415  1.08668  1.08709  1.08413  1.08430  "
      ]
     },
     "execution_count": 31,
     "metadata": {},
     "output_type": "execute_result"
    }
   ],
   "source": [
    "test_df"
   ]
  },
  {
   "cell_type": "code",
   "execution_count": null,
   "metadata": {},
   "outputs": [],
   "source": []
  }
 ],
 "metadata": {
  "kernelspec": {
   "display_name": "venv",
   "language": "python",
   "name": "python3"
  },
  "language_info": {
   "codemirror_mode": {
    "name": "ipython",
    "version": 3
   },
   "file_extension": ".py",
   "mimetype": "text/x-python",
   "name": "python",
   "nbconvert_exporter": "python",
   "pygments_lexer": "ipython3",
   "version": "3.11.1 (tags/v3.11.1:a7a450f, Dec  6 2022, 19:58:39) [MSC v.1934 64 bit (AMD64)]"
  },
  "orig_nbformat": 4,
  "vscode": {
   "interpreter": {
    "hash": "fda0f0fb60ecb5fc85efacd84e1859512479306cf791e683553414edd7237eac"
   }
  }
 },
 "nbformat": 4,
 "nbformat_minor": 2
}
