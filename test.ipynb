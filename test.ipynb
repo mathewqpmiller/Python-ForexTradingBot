{
 "cells": [
  {
   "cell_type": "code",
   "execution_count": 1,
   "metadata": {},
   "outputs": [],
   "source": [
    "import requests\n",
    "import defs\n",
    "import pandas as pd"
   ]
  },
  {
   "cell_type": "code",
   "execution_count": 2,
   "metadata": {},
   "outputs": [],
   "source": [
    "session = requests.Session()"
   ]
  },
  {
   "cell_type": "code",
   "execution_count": 3,
   "metadata": {},
   "outputs": [],
   "source": [
    "instrument = \"EUR_USD\"\n",
    "count = 10\n",
    "granularity = \"H1\""
   ]
  },
  {
   "cell_type": "code",
   "execution_count": 4,
   "metadata": {},
   "outputs": [],
   "source": [
    "url = f\"{defs.OANDA_URL}/instruments/{instrument}/candles\"\n"
   ]
  },
  {
   "cell_type": "code",
   "execution_count": 5,
   "metadata": {},
   "outputs": [
    {
     "data": {
      "text/plain": [
       "'https://api-fxpractice.oanda.com/v3/instruments/EUR_USD/candles'"
      ]
     },
     "execution_count": 5,
     "metadata": {},
     "output_type": "execute_result"
    }
   ],
   "source": [
    "url"
   ]
  },
  {
   "cell_type": "code",
   "execution_count": 6,
   "metadata": {},
   "outputs": [],
   "source": [
    "params = dict(\n",
    "    count = count,\n",
    "    granularity = granularity,\n",
    "    price = \"MBA\"\n",
    ")"
   ]
  },
  {
   "cell_type": "code",
   "execution_count": 7,
   "metadata": {},
   "outputs": [
    {
     "data": {
      "text/plain": [
       "{'count': 10, 'granularity': 'H1', 'price': 'MBA'}"
      ]
     },
     "execution_count": 7,
     "metadata": {},
     "output_type": "execute_result"
    }
   ],
   "source": [
    "params"
   ]
  },
  {
   "cell_type": "code",
   "execution_count": 8,
   "metadata": {},
   "outputs": [],
   "source": [
    "response = session.get(url, params=params, headers=defs.SECURE_HEADER)"
   ]
  },
  {
   "cell_type": "code",
   "execution_count": 9,
   "metadata": {},
   "outputs": [
    {
     "data": {
      "text/plain": [
       "200"
      ]
     },
     "execution_count": 9,
     "metadata": {},
     "output_type": "execute_result"
    }
   ],
   "source": [
    "response.status_code"
   ]
  },
  {
   "cell_type": "code",
   "execution_count": 10,
   "metadata": {},
   "outputs": [],
   "source": [
    "data = response.json()"
   ]
  },
  {
   "cell_type": "code",
   "execution_count": 11,
   "metadata": {},
   "outputs": [
    {
     "data": {
      "text/plain": [
       "dict_keys(['instrument', 'granularity', 'candles'])"
      ]
     },
     "execution_count": 11,
     "metadata": {},
     "output_type": "execute_result"
    }
   ],
   "source": [
    "data.keys()"
   ]
  },
  {
   "cell_type": "code",
   "execution_count": 12,
   "metadata": {},
   "outputs": [
    {
     "data": {
      "text/plain": [
       "10"
      ]
     },
     "execution_count": 12,
     "metadata": {},
     "output_type": "execute_result"
    }
   ],
   "source": [
    "len(data['candles'])"
   ]
  },
  {
   "cell_type": "code",
   "execution_count": 13,
   "metadata": {},
   "outputs": [],
   "source": [
    "prices = ['mid', 'bid', 'ask']\n",
    "ohlc = ['o', 'h', 'l', 'c']"
   ]
  },
  {
   "cell_type": "code",
   "execution_count": 14,
   "metadata": {},
   "outputs": [
    {
     "name": "stdout",
     "output_type": "stream",
     "text": [
      "mid_o\n",
      "mid_h\n",
      "mid_l\n",
      "mid_c\n",
      "bid_o\n",
      "bid_h\n",
      "bid_l\n",
      "bid_c\n",
      "ask_o\n",
      "ask_h\n",
      "ask_l\n",
      "ask_c\n"
     ]
    }
   ],
   "source": [
    "for price in prices:\n",
    "    for oh in ohlc:\n",
    "        print(f\"{price}_{oh}\")"
   ]
  },
  {
   "cell_type": "code",
   "execution_count": 15,
   "metadata": {},
   "outputs": [
    {
     "data": {
      "text/plain": [
       "{'complete': True,\n",
       " 'volume': 3197,\n",
       " 'time': '2023-01-30T05:00:00.000000000Z',\n",
       " 'bid': {'o': '1.08754', 'h': '1.08761', 'l': '1.08635', 'c': '1.08684'},\n",
       " 'mid': {'o': '1.08762', 'h': '1.08768', 'l': '1.08644', 'c': '1.08692'},\n",
       " 'ask': {'o': '1.08770', 'h': '1.08776', 'l': '1.08652', 'c': '1.08699'}}"
      ]
     },
     "execution_count": 15,
     "metadata": {},
     "output_type": "execute_result"
    }
   ],
   "source": [
    "data['candles'][0]"
   ]
  },
  {
   "cell_type": "code",
   "execution_count": 16,
   "metadata": {},
   "outputs": [
    {
     "name": "stdout",
     "output_type": "stream",
     "text": [
      "{'complete': False, 'volume': 4968, 'time': '2023-01-30T14:00:00.000000000Z', 'bid': {'o': '1.08856', 'h': '1.08983', 'l': '1.08790', 'c': '1.08969'}, 'mid': {'o': '1.08863', 'h': '1.08990', 'l': '1.08798', 'c': '1.08976'}, 'ask': {'o': '1.08870', 'h': '1.08997', 'l': '1.08805', 'c': '1.08983'}}\n"
     ]
    }
   ],
   "source": [
    "our_data = []\n",
    "for candle in data['candles']:\n",
    "    if candle['complete'] == False:\n",
    "        continue\n",
    "    new_dict = {}\n",
    "    new_dict['time'] = candle['time']\n",
    "    new_dict['volume'] = candle['volume']\n",
    "    for price in prices:\n",
    "        for oh in ohlc:\n",
    "            new_dict[f\"{price}_{oh}\"] = candle[price][oh]\n",
    "    our_data.append(new_dict)\n",
    "print(candle)"
   ]
  },
  {
   "cell_type": "code",
   "execution_count": 17,
   "metadata": {},
   "outputs": [],
   "source": [
    "candles_df = pd.DataFrame.from_dict(our_data)"
   ]
  },
  {
   "cell_type": "code",
   "execution_count": 18,
   "metadata": {},
   "outputs": [
    {
     "data": {
      "text/html": [
       "<div>\n",
       "<style scoped>\n",
       "    .dataframe tbody tr th:only-of-type {\n",
       "        vertical-align: middle;\n",
       "    }\n",
       "\n",
       "    .dataframe tbody tr th {\n",
       "        vertical-align: top;\n",
       "    }\n",
       "\n",
       "    .dataframe thead th {\n",
       "        text-align: right;\n",
       "    }\n",
       "</style>\n",
       "<table border=\"1\" class=\"dataframe\">\n",
       "  <thead>\n",
       "    <tr style=\"text-align: right;\">\n",
       "      <th></th>\n",
       "      <th>time</th>\n",
       "      <th>volume</th>\n",
       "      <th>mid_o</th>\n",
       "      <th>mid_h</th>\n",
       "      <th>mid_l</th>\n",
       "      <th>mid_c</th>\n",
       "      <th>bid_o</th>\n",
       "      <th>bid_h</th>\n",
       "      <th>bid_l</th>\n",
       "      <th>bid_c</th>\n",
       "      <th>ask_o</th>\n",
       "      <th>ask_h</th>\n",
       "      <th>ask_l</th>\n",
       "      <th>ask_c</th>\n",
       "    </tr>\n",
       "  </thead>\n",
       "  <tbody>\n",
       "    <tr>\n",
       "      <th>0</th>\n",
       "      <td>2023-01-30T05:00:00.000000000Z</td>\n",
       "      <td>3197</td>\n",
       "      <td>1.08762</td>\n",
       "      <td>1.08768</td>\n",
       "      <td>1.08644</td>\n",
       "      <td>1.08692</td>\n",
       "      <td>1.08754</td>\n",
       "      <td>1.08761</td>\n",
       "      <td>1.08635</td>\n",
       "      <td>1.08684</td>\n",
       "      <td>1.08770</td>\n",
       "      <td>1.08776</td>\n",
       "      <td>1.08652</td>\n",
       "      <td>1.08699</td>\n",
       "    </tr>\n",
       "    <tr>\n",
       "      <th>1</th>\n",
       "      <td>2023-01-30T06:00:00.000000000Z</td>\n",
       "      <td>2988</td>\n",
       "      <td>1.08688</td>\n",
       "      <td>1.08696</td>\n",
       "      <td>1.08582</td>\n",
       "      <td>1.08620</td>\n",
       "      <td>1.08681</td>\n",
       "      <td>1.08687</td>\n",
       "      <td>1.08573</td>\n",
       "      <td>1.08613</td>\n",
       "      <td>1.08696</td>\n",
       "      <td>1.08704</td>\n",
       "      <td>1.08590</td>\n",
       "      <td>1.08627</td>\n",
       "    </tr>\n",
       "    <tr>\n",
       "      <th>2</th>\n",
       "      <td>2023-01-30T07:00:00.000000000Z</td>\n",
       "      <td>4682</td>\n",
       "      <td>1.08620</td>\n",
       "      <td>1.08700</td>\n",
       "      <td>1.08530</td>\n",
       "      <td>1.08596</td>\n",
       "      <td>1.08612</td>\n",
       "      <td>1.08694</td>\n",
       "      <td>1.08523</td>\n",
       "      <td>1.08588</td>\n",
       "      <td>1.08627</td>\n",
       "      <td>1.08707</td>\n",
       "      <td>1.08537</td>\n",
       "      <td>1.08605</td>\n",
       "    </tr>\n",
       "    <tr>\n",
       "      <th>3</th>\n",
       "      <td>2023-01-30T08:00:00.000000000Z</td>\n",
       "      <td>8269</td>\n",
       "      <td>1.08597</td>\n",
       "      <td>1.08898</td>\n",
       "      <td>1.08597</td>\n",
       "      <td>1.08813</td>\n",
       "      <td>1.08589</td>\n",
       "      <td>1.08891</td>\n",
       "      <td>1.08589</td>\n",
       "      <td>1.08806</td>\n",
       "      <td>1.08605</td>\n",
       "      <td>1.08904</td>\n",
       "      <td>1.08605</td>\n",
       "      <td>1.08820</td>\n",
       "    </tr>\n",
       "    <tr>\n",
       "      <th>4</th>\n",
       "      <td>2023-01-30T09:00:00.000000000Z</td>\n",
       "      <td>6175</td>\n",
       "      <td>1.08814</td>\n",
       "      <td>1.09042</td>\n",
       "      <td>1.08764</td>\n",
       "      <td>1.09020</td>\n",
       "      <td>1.08807</td>\n",
       "      <td>1.09034</td>\n",
       "      <td>1.08758</td>\n",
       "      <td>1.09013</td>\n",
       "      <td>1.08820</td>\n",
       "      <td>1.09049</td>\n",
       "      <td>1.08771</td>\n",
       "      <td>1.09028</td>\n",
       "    </tr>\n",
       "    <tr>\n",
       "      <th>5</th>\n",
       "      <td>2023-01-30T10:00:00.000000000Z</td>\n",
       "      <td>6009</td>\n",
       "      <td>1.09020</td>\n",
       "      <td>1.09139</td>\n",
       "      <td>1.09017</td>\n",
       "      <td>1.09108</td>\n",
       "      <td>1.09012</td>\n",
       "      <td>1.09131</td>\n",
       "      <td>1.09009</td>\n",
       "      <td>1.09101</td>\n",
       "      <td>1.09028</td>\n",
       "      <td>1.09147</td>\n",
       "      <td>1.09025</td>\n",
       "      <td>1.09114</td>\n",
       "    </tr>\n",
       "    <tr>\n",
       "      <th>6</th>\n",
       "      <td>2023-01-30T11:00:00.000000000Z</td>\n",
       "      <td>4885</td>\n",
       "      <td>1.09108</td>\n",
       "      <td>1.09114</td>\n",
       "      <td>1.08906</td>\n",
       "      <td>1.08962</td>\n",
       "      <td>1.09102</td>\n",
       "      <td>1.09107</td>\n",
       "      <td>1.08898</td>\n",
       "      <td>1.08955</td>\n",
       "      <td>1.09115</td>\n",
       "      <td>1.09122</td>\n",
       "      <td>1.08913</td>\n",
       "      <td>1.08969</td>\n",
       "    </tr>\n",
       "    <tr>\n",
       "      <th>7</th>\n",
       "      <td>2023-01-30T12:00:00.000000000Z</td>\n",
       "      <td>4490</td>\n",
       "      <td>1.08963</td>\n",
       "      <td>1.09095</td>\n",
       "      <td>1.08930</td>\n",
       "      <td>1.09040</td>\n",
       "      <td>1.08956</td>\n",
       "      <td>1.09088</td>\n",
       "      <td>1.08923</td>\n",
       "      <td>1.09033</td>\n",
       "      <td>1.08970</td>\n",
       "      <td>1.09103</td>\n",
       "      <td>1.08937</td>\n",
       "      <td>1.09047</td>\n",
       "    </tr>\n",
       "    <tr>\n",
       "      <th>8</th>\n",
       "      <td>2023-01-30T13:00:00.000000000Z</td>\n",
       "      <td>6633</td>\n",
       "      <td>1.09044</td>\n",
       "      <td>1.09112</td>\n",
       "      <td>1.08861</td>\n",
       "      <td>1.08862</td>\n",
       "      <td>1.09036</td>\n",
       "      <td>1.09106</td>\n",
       "      <td>1.08854</td>\n",
       "      <td>1.08855</td>\n",
       "      <td>1.09051</td>\n",
       "      <td>1.09120</td>\n",
       "      <td>1.08867</td>\n",
       "      <td>1.08869</td>\n",
       "    </tr>\n",
       "  </tbody>\n",
       "</table>\n",
       "</div>"
      ],
      "text/plain": [
       "                             time  volume    mid_o    mid_h    mid_l    mid_c  \\\n",
       "0  2023-01-30T05:00:00.000000000Z    3197  1.08762  1.08768  1.08644  1.08692   \n",
       "1  2023-01-30T06:00:00.000000000Z    2988  1.08688  1.08696  1.08582  1.08620   \n",
       "2  2023-01-30T07:00:00.000000000Z    4682  1.08620  1.08700  1.08530  1.08596   \n",
       "3  2023-01-30T08:00:00.000000000Z    8269  1.08597  1.08898  1.08597  1.08813   \n",
       "4  2023-01-30T09:00:00.000000000Z    6175  1.08814  1.09042  1.08764  1.09020   \n",
       "5  2023-01-30T10:00:00.000000000Z    6009  1.09020  1.09139  1.09017  1.09108   \n",
       "6  2023-01-30T11:00:00.000000000Z    4885  1.09108  1.09114  1.08906  1.08962   \n",
       "7  2023-01-30T12:00:00.000000000Z    4490  1.08963  1.09095  1.08930  1.09040   \n",
       "8  2023-01-30T13:00:00.000000000Z    6633  1.09044  1.09112  1.08861  1.08862   \n",
       "\n",
       "     bid_o    bid_h    bid_l    bid_c    ask_o    ask_h    ask_l    ask_c  \n",
       "0  1.08754  1.08761  1.08635  1.08684  1.08770  1.08776  1.08652  1.08699  \n",
       "1  1.08681  1.08687  1.08573  1.08613  1.08696  1.08704  1.08590  1.08627  \n",
       "2  1.08612  1.08694  1.08523  1.08588  1.08627  1.08707  1.08537  1.08605  \n",
       "3  1.08589  1.08891  1.08589  1.08806  1.08605  1.08904  1.08605  1.08820  \n",
       "4  1.08807  1.09034  1.08758  1.09013  1.08820  1.09049  1.08771  1.09028  \n",
       "5  1.09012  1.09131  1.09009  1.09101  1.09028  1.09147  1.09025  1.09114  \n",
       "6  1.09102  1.09107  1.08898  1.08955  1.09115  1.09122  1.08913  1.08969  \n",
       "7  1.08956  1.09088  1.08923  1.09033  1.08970  1.09103  1.08937  1.09047  \n",
       "8  1.09036  1.09106  1.08854  1.08855  1.09051  1.09120  1.08867  1.08869  "
      ]
     },
     "execution_count": 18,
     "metadata": {},
     "output_type": "execute_result"
    }
   ],
   "source": [
    "candles_df"
   ]
  },
  {
   "cell_type": "code",
   "execution_count": 19,
   "metadata": {},
   "outputs": [],
   "source": [
    "candles_df.to_pickle(\"EUR_USD_H1.pkl\")"
   ]
  },
  {
   "cell_type": "code",
   "execution_count": 20,
   "metadata": {},
   "outputs": [],
   "source": [
    "test_df = pd.read_pickle(\"EUR_USD_H1.pkl\")"
   ]
  },
  {
   "cell_type": "code",
   "execution_count": 21,
   "metadata": {},
   "outputs": [
    {
     "data": {
      "text/html": [
       "<div>\n",
       "<style scoped>\n",
       "    .dataframe tbody tr th:only-of-type {\n",
       "        vertical-align: middle;\n",
       "    }\n",
       "\n",
       "    .dataframe tbody tr th {\n",
       "        vertical-align: top;\n",
       "    }\n",
       "\n",
       "    .dataframe thead th {\n",
       "        text-align: right;\n",
       "    }\n",
       "</style>\n",
       "<table border=\"1\" class=\"dataframe\">\n",
       "  <thead>\n",
       "    <tr style=\"text-align: right;\">\n",
       "      <th></th>\n",
       "      <th>time</th>\n",
       "      <th>volume</th>\n",
       "      <th>mid_o</th>\n",
       "      <th>mid_h</th>\n",
       "      <th>mid_l</th>\n",
       "      <th>mid_c</th>\n",
       "      <th>bid_o</th>\n",
       "      <th>bid_h</th>\n",
       "      <th>bid_l</th>\n",
       "      <th>bid_c</th>\n",
       "      <th>ask_o</th>\n",
       "      <th>ask_h</th>\n",
       "      <th>ask_l</th>\n",
       "      <th>ask_c</th>\n",
       "    </tr>\n",
       "  </thead>\n",
       "  <tbody>\n",
       "    <tr>\n",
       "      <th>0</th>\n",
       "      <td>2023-01-30T05:00:00.000000000Z</td>\n",
       "      <td>3197</td>\n",
       "      <td>1.08762</td>\n",
       "      <td>1.08768</td>\n",
       "      <td>1.08644</td>\n",
       "      <td>1.08692</td>\n",
       "      <td>1.08754</td>\n",
       "      <td>1.08761</td>\n",
       "      <td>1.08635</td>\n",
       "      <td>1.08684</td>\n",
       "      <td>1.08770</td>\n",
       "      <td>1.08776</td>\n",
       "      <td>1.08652</td>\n",
       "      <td>1.08699</td>\n",
       "    </tr>\n",
       "    <tr>\n",
       "      <th>1</th>\n",
       "      <td>2023-01-30T06:00:00.000000000Z</td>\n",
       "      <td>2988</td>\n",
       "      <td>1.08688</td>\n",
       "      <td>1.08696</td>\n",
       "      <td>1.08582</td>\n",
       "      <td>1.08620</td>\n",
       "      <td>1.08681</td>\n",
       "      <td>1.08687</td>\n",
       "      <td>1.08573</td>\n",
       "      <td>1.08613</td>\n",
       "      <td>1.08696</td>\n",
       "      <td>1.08704</td>\n",
       "      <td>1.08590</td>\n",
       "      <td>1.08627</td>\n",
       "    </tr>\n",
       "    <tr>\n",
       "      <th>2</th>\n",
       "      <td>2023-01-30T07:00:00.000000000Z</td>\n",
       "      <td>4682</td>\n",
       "      <td>1.08620</td>\n",
       "      <td>1.08700</td>\n",
       "      <td>1.08530</td>\n",
       "      <td>1.08596</td>\n",
       "      <td>1.08612</td>\n",
       "      <td>1.08694</td>\n",
       "      <td>1.08523</td>\n",
       "      <td>1.08588</td>\n",
       "      <td>1.08627</td>\n",
       "      <td>1.08707</td>\n",
       "      <td>1.08537</td>\n",
       "      <td>1.08605</td>\n",
       "    </tr>\n",
       "    <tr>\n",
       "      <th>3</th>\n",
       "      <td>2023-01-30T08:00:00.000000000Z</td>\n",
       "      <td>8269</td>\n",
       "      <td>1.08597</td>\n",
       "      <td>1.08898</td>\n",
       "      <td>1.08597</td>\n",
       "      <td>1.08813</td>\n",
       "      <td>1.08589</td>\n",
       "      <td>1.08891</td>\n",
       "      <td>1.08589</td>\n",
       "      <td>1.08806</td>\n",
       "      <td>1.08605</td>\n",
       "      <td>1.08904</td>\n",
       "      <td>1.08605</td>\n",
       "      <td>1.08820</td>\n",
       "    </tr>\n",
       "    <tr>\n",
       "      <th>4</th>\n",
       "      <td>2023-01-30T09:00:00.000000000Z</td>\n",
       "      <td>6175</td>\n",
       "      <td>1.08814</td>\n",
       "      <td>1.09042</td>\n",
       "      <td>1.08764</td>\n",
       "      <td>1.09020</td>\n",
       "      <td>1.08807</td>\n",
       "      <td>1.09034</td>\n",
       "      <td>1.08758</td>\n",
       "      <td>1.09013</td>\n",
       "      <td>1.08820</td>\n",
       "      <td>1.09049</td>\n",
       "      <td>1.08771</td>\n",
       "      <td>1.09028</td>\n",
       "    </tr>\n",
       "    <tr>\n",
       "      <th>5</th>\n",
       "      <td>2023-01-30T10:00:00.000000000Z</td>\n",
       "      <td>6009</td>\n",
       "      <td>1.09020</td>\n",
       "      <td>1.09139</td>\n",
       "      <td>1.09017</td>\n",
       "      <td>1.09108</td>\n",
       "      <td>1.09012</td>\n",
       "      <td>1.09131</td>\n",
       "      <td>1.09009</td>\n",
       "      <td>1.09101</td>\n",
       "      <td>1.09028</td>\n",
       "      <td>1.09147</td>\n",
       "      <td>1.09025</td>\n",
       "      <td>1.09114</td>\n",
       "    </tr>\n",
       "    <tr>\n",
       "      <th>6</th>\n",
       "      <td>2023-01-30T11:00:00.000000000Z</td>\n",
       "      <td>4885</td>\n",
       "      <td>1.09108</td>\n",
       "      <td>1.09114</td>\n",
       "      <td>1.08906</td>\n",
       "      <td>1.08962</td>\n",
       "      <td>1.09102</td>\n",
       "      <td>1.09107</td>\n",
       "      <td>1.08898</td>\n",
       "      <td>1.08955</td>\n",
       "      <td>1.09115</td>\n",
       "      <td>1.09122</td>\n",
       "      <td>1.08913</td>\n",
       "      <td>1.08969</td>\n",
       "    </tr>\n",
       "    <tr>\n",
       "      <th>7</th>\n",
       "      <td>2023-01-30T12:00:00.000000000Z</td>\n",
       "      <td>4490</td>\n",
       "      <td>1.08963</td>\n",
       "      <td>1.09095</td>\n",
       "      <td>1.08930</td>\n",
       "      <td>1.09040</td>\n",
       "      <td>1.08956</td>\n",
       "      <td>1.09088</td>\n",
       "      <td>1.08923</td>\n",
       "      <td>1.09033</td>\n",
       "      <td>1.08970</td>\n",
       "      <td>1.09103</td>\n",
       "      <td>1.08937</td>\n",
       "      <td>1.09047</td>\n",
       "    </tr>\n",
       "    <tr>\n",
       "      <th>8</th>\n",
       "      <td>2023-01-30T13:00:00.000000000Z</td>\n",
       "      <td>6633</td>\n",
       "      <td>1.09044</td>\n",
       "      <td>1.09112</td>\n",
       "      <td>1.08861</td>\n",
       "      <td>1.08862</td>\n",
       "      <td>1.09036</td>\n",
       "      <td>1.09106</td>\n",
       "      <td>1.08854</td>\n",
       "      <td>1.08855</td>\n",
       "      <td>1.09051</td>\n",
       "      <td>1.09120</td>\n",
       "      <td>1.08867</td>\n",
       "      <td>1.08869</td>\n",
       "    </tr>\n",
       "  </tbody>\n",
       "</table>\n",
       "</div>"
      ],
      "text/plain": [
       "                             time  volume    mid_o    mid_h    mid_l    mid_c  \\\n",
       "0  2023-01-30T05:00:00.000000000Z    3197  1.08762  1.08768  1.08644  1.08692   \n",
       "1  2023-01-30T06:00:00.000000000Z    2988  1.08688  1.08696  1.08582  1.08620   \n",
       "2  2023-01-30T07:00:00.000000000Z    4682  1.08620  1.08700  1.08530  1.08596   \n",
       "3  2023-01-30T08:00:00.000000000Z    8269  1.08597  1.08898  1.08597  1.08813   \n",
       "4  2023-01-30T09:00:00.000000000Z    6175  1.08814  1.09042  1.08764  1.09020   \n",
       "5  2023-01-30T10:00:00.000000000Z    6009  1.09020  1.09139  1.09017  1.09108   \n",
       "6  2023-01-30T11:00:00.000000000Z    4885  1.09108  1.09114  1.08906  1.08962   \n",
       "7  2023-01-30T12:00:00.000000000Z    4490  1.08963  1.09095  1.08930  1.09040   \n",
       "8  2023-01-30T13:00:00.000000000Z    6633  1.09044  1.09112  1.08861  1.08862   \n",
       "\n",
       "     bid_o    bid_h    bid_l    bid_c    ask_o    ask_h    ask_l    ask_c  \n",
       "0  1.08754  1.08761  1.08635  1.08684  1.08770  1.08776  1.08652  1.08699  \n",
       "1  1.08681  1.08687  1.08573  1.08613  1.08696  1.08704  1.08590  1.08627  \n",
       "2  1.08612  1.08694  1.08523  1.08588  1.08627  1.08707  1.08537  1.08605  \n",
       "3  1.08589  1.08891  1.08589  1.08806  1.08605  1.08904  1.08605  1.08820  \n",
       "4  1.08807  1.09034  1.08758  1.09013  1.08820  1.09049  1.08771  1.09028  \n",
       "5  1.09012  1.09131  1.09009  1.09101  1.09028  1.09147  1.09025  1.09114  \n",
       "6  1.09102  1.09107  1.08898  1.08955  1.09115  1.09122  1.08913  1.08969  \n",
       "7  1.08956  1.09088  1.08923  1.09033  1.08970  1.09103  1.08937  1.09047  \n",
       "8  1.09036  1.09106  1.08854  1.08855  1.09051  1.09120  1.08867  1.08869  "
      ]
     },
     "execution_count": 21,
     "metadata": {},
     "output_type": "execute_result"
    }
   ],
   "source": [
    "test_df"
   ]
  },
  {
   "cell_type": "code",
   "execution_count": null,
   "metadata": {},
   "outputs": [],
   "source": []
  }
 ],
 "metadata": {
  "kernelspec": {
   "display_name": "venv",
   "language": "python",
   "name": "python3"
  },
  "language_info": {
   "codemirror_mode": {
    "name": "ipython",
    "version": 3
   },
   "file_extension": ".py",
   "mimetype": "text/x-python",
   "name": "python",
   "nbconvert_exporter": "python",
   "pygments_lexer": "ipython3",
   "version": "3.11.1"
  },
  "orig_nbformat": 4,
  "vscode": {
   "interpreter": {
    "hash": "fda0f0fb60ecb5fc85efacd84e1859512479306cf791e683553414edd7237eac"
   }
  }
 },
 "nbformat": 4,
 "nbformat_minor": 2
}
