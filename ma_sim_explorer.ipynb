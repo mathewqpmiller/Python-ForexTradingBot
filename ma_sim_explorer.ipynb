{
 "cells": [
  {
   "cell_type": "code",
   "execution_count": 1,
   "metadata": {},
   "outputs": [],
   "source": [
    "import pandas as pd\n",
    "import plotly.graph_objects as go"
   ]
  },
  {
   "cell_type": "code",
   "execution_count": 2,
   "metadata": {},
   "outputs": [],
   "source": [
    "ma_test_res = pd.read_pickle(\"ma_test_res.pkl\")\n",
    "all_trades = pd.read_pickle(\"all_trades.pkl\")"
   ]
  },
  {
   "cell_type": "code",
   "execution_count": 3,
   "metadata": {},
   "outputs": [
    {
     "data": {
      "text/plain": [
       "(66885, 11)"
      ]
     },
     "execution_count": 3,
     "metadata": {},
     "output_type": "execute_result"
    }
   ],
   "source": [
    "all_trades.shape"
   ]
  },
  {
   "cell_type": "code",
   "execution_count": 4,
   "metadata": {},
   "outputs": [
    {
     "data": {
      "text/plain": [
       "(630, 8)"
      ]
     },
     "execution_count": 4,
     "metadata": {},
     "output_type": "execute_result"
    }
   ],
   "source": [
    "ma_test_res.shape"
   ]
  },
  {
   "cell_type": "code",
   "execution_count": 9,
   "metadata": {},
   "outputs": [
    {
     "data": {
      "text/html": [
       "<div>\n",
       "<style scoped>\n",
       "    .dataframe tbody tr th:only-of-type {\n",
       "        vertical-align: middle;\n",
       "    }\n",
       "\n",
       "    .dataframe tbody tr th {\n",
       "        vertical-align: top;\n",
       "    }\n",
       "\n",
       "    .dataframe thead th {\n",
       "        text-align: right;\n",
       "    }\n",
       "</style>\n",
       "<table border=\"1\" class=\"dataframe\">\n",
       "  <thead>\n",
       "    <tr style=\"text-align: right;\">\n",
       "      <th></th>\n",
       "      <th>pair</th>\n",
       "      <th>num_trades</th>\n",
       "      <th>total_gain</th>\n",
       "      <th>mashort</th>\n",
       "      <th>malong</th>\n",
       "    </tr>\n",
       "  </thead>\n",
       "  <tbody>\n",
       "    <tr>\n",
       "      <th>0</th>\n",
       "      <td>GBP_USD</td>\n",
       "      <td>535</td>\n",
       "      <td>412.9</td>\n",
       "      <td>4</td>\n",
       "      <td>8</td>\n",
       "    </tr>\n",
       "    <tr>\n",
       "      <th>1</th>\n",
       "      <td>GBP_USD</td>\n",
       "      <td>328</td>\n",
       "      <td>-725.5</td>\n",
       "      <td>4</td>\n",
       "      <td>16</td>\n",
       "    </tr>\n",
       "    <tr>\n",
       "      <th>2</th>\n",
       "      <td>GBP_USD</td>\n",
       "      <td>284</td>\n",
       "      <td>-787.8</td>\n",
       "      <td>8</td>\n",
       "      <td>16</td>\n",
       "    </tr>\n",
       "    <tr>\n",
       "      <th>3</th>\n",
       "      <td>GBP_USD</td>\n",
       "      <td>201</td>\n",
       "      <td>-863.3</td>\n",
       "      <td>4</td>\n",
       "      <td>32</td>\n",
       "    </tr>\n",
       "    <tr>\n",
       "      <th>4</th>\n",
       "      <td>GBP_USD</td>\n",
       "      <td>153</td>\n",
       "      <td>-320.3</td>\n",
       "      <td>8</td>\n",
       "      <td>32</td>\n",
       "    </tr>\n",
       "  </tbody>\n",
       "</table>\n",
       "</div>"
      ],
      "text/plain": [
       "      pair  num_trades  total_gain  mashort  malong\n",
       "0  GBP_USD         535       412.9        4       8\n",
       "1  GBP_USD         328      -725.5        4      16\n",
       "2  GBP_USD         284      -787.8        8      16\n",
       "3  GBP_USD         201      -863.3        4      32\n",
       "4  GBP_USD         153      -320.3        8      32"
      ]
     },
     "execution_count": 9,
     "metadata": {},
     "output_type": "execute_result"
    }
   ],
   "source": [
    "ma_test_res.head()"
   ]
  },
  {
   "cell_type": "code",
   "execution_count": 6,
   "metadata": {},
   "outputs": [
    {
     "data": {
      "text/plain": [
       "Index(['pair', 'num_trades', 'total_gain', 'mean_gain', 'min_gain', 'max_gain',\n",
       "       'mashort', 'malong'],\n",
       "      dtype='object')"
      ]
     },
     "execution_count": 6,
     "metadata": {},
     "output_type": "execute_result"
    }
   ],
   "source": [
    "ma_test_res.columns"
   ]
  },
  {
   "cell_type": "code",
   "execution_count": 8,
   "metadata": {},
   "outputs": [],
   "source": [
    "ma_test_res = ma_test_res[['pair', 'num_trades', 'total_gain', \n",
    "       'mashort', 'malong']]"
   ]
  },
  {
   "cell_type": "code",
   "execution_count": 10,
   "metadata": {},
   "outputs": [],
   "source": [
    "ma_test_res[\"CROSS\"] = \"MA_\" + ma_test_res.mashort.map(str) + \"_\" + ma_test_res.malong.map(str)"
   ]
  },
  {
   "cell_type": "code",
   "execution_count": 13,
   "metadata": {},
   "outputs": [
    {
     "name": "stderr",
     "output_type": "stream",
     "text": [
      "C:\\Users\\Mathew\\AppData\\Local\\Temp\\ipykernel_12828\\1300193441.py:1: FutureWarning: The default value of numeric_only in DataFrameGroupBy.sum is deprecated. In a future version, numeric_only will default to False. Either specify numeric_only or select only columns which should be valid for the function.\n",
      "  df_all_gains = ma_test_res.groupby(by=[\"CROSS\", \"mashort\", \"malong\"], as_index=False).sum()\n"
     ]
    }
   ],
   "source": [
    "df_all_gains = ma_test_res.groupby(by=[\"CROSS\", \"mashort\", \"malong\"], as_index=False).sum()"
   ]
  },
  {
   "cell_type": "code",
   "execution_count": 18,
   "metadata": {},
   "outputs": [],
   "source": [
    "df_all_gains.sort_values(by=\"total_gain\", ascending=False, inplace=True)"
   ]
  },
  {
   "cell_type": "code",
   "execution_count": 23,
   "metadata": {},
   "outputs": [
    {
     "data": {
      "text/html": [
       "<div>\n",
       "<style scoped>\n",
       "    .dataframe tbody tr th:only-of-type {\n",
       "        vertical-align: middle;\n",
       "    }\n",
       "\n",
       "    .dataframe tbody tr th {\n",
       "        vertical-align: top;\n",
       "    }\n",
       "\n",
       "    .dataframe thead th {\n",
       "        text-align: right;\n",
       "    }\n",
       "</style>\n",
       "<table border=\"1\" class=\"dataframe\">\n",
       "  <thead>\n",
       "    <tr style=\"text-align: right;\">\n",
       "      <th></th>\n",
       "      <th>CROSS</th>\n",
       "      <th>mashort</th>\n",
       "      <th>malong</th>\n",
       "      <th>num_trades</th>\n",
       "      <th>total_gain</th>\n",
       "    </tr>\n",
       "  </thead>\n",
       "  <tbody>\n",
       "    <tr>\n",
       "      <th>12</th>\n",
       "      <td>MA_32_64</td>\n",
       "      <td>32</td>\n",
       "      <td>64</td>\n",
       "      <td>1439</td>\n",
       "      <td>-1021.1</td>\n",
       "    </tr>\n",
       "    <tr>\n",
       "      <th>29</th>\n",
       "      <td>MA_8_96</td>\n",
       "      <td>8</td>\n",
       "      <td>96</td>\n",
       "      <td>1561</td>\n",
       "      <td>-3749.1</td>\n",
       "    </tr>\n",
       "    <tr>\n",
       "      <th>23</th>\n",
       "      <td>MA_64_96</td>\n",
       "      <td>64</td>\n",
       "      <td>96</td>\n",
       "      <td>991</td>\n",
       "      <td>-4799.1</td>\n",
       "    </tr>\n",
       "    <tr>\n",
       "      <th>4</th>\n",
       "      <td>MA_16_96</td>\n",
       "      <td>16</td>\n",
       "      <td>96</td>\n",
       "      <td>1205</td>\n",
       "      <td>-5054.6</td>\n",
       "    </tr>\n",
       "    <tr>\n",
       "      <th>9</th>\n",
       "      <td>MA_24_96</td>\n",
       "      <td>24</td>\n",
       "      <td>96</td>\n",
       "      <td>1056</td>\n",
       "      <td>-5637.4</td>\n",
       "    </tr>\n",
       "  </tbody>\n",
       "</table>\n",
       "</div>"
      ],
      "text/plain": [
       "       CROSS  mashort  malong  num_trades  total_gain\n",
       "12  MA_32_64       32      64        1439     -1021.1\n",
       "29   MA_8_96        8      96        1561     -3749.1\n",
       "23  MA_64_96       64      96         991     -4799.1\n",
       "4   MA_16_96       16      96        1205     -5054.6\n",
       "9   MA_24_96       24      96        1056     -5637.4"
      ]
     },
     "execution_count": 23,
     "metadata": {},
     "output_type": "execute_result"
    }
   ],
   "source": [
    "df_all_gains.head()"
   ]
  },
  {
   "cell_type": "code",
   "execution_count": 24,
   "metadata": {},
   "outputs": [],
   "source": [
    "ma_8_16 = ma_test_res[ma_test_res.CROSS==\"MA_8_16\"].copy()"
   ]
  },
  {
   "cell_type": "code",
   "execution_count": 25,
   "metadata": {},
   "outputs": [],
   "source": [
    "ma_8_16.sort_values(by=\"total_gain\", ascending=False, inplace=True)"
   ]
  },
  {
   "cell_type": "code",
   "execution_count": 26,
   "metadata": {},
   "outputs": [],
   "source": [
    "total_p = len(ma_8_16.pair.unique())"
   ]
  },
  {
   "cell_type": "code",
   "execution_count": 27,
   "metadata": {},
   "outputs": [
    {
     "data": {
      "text/plain": [
       "4"
      ]
     },
     "execution_count": 27,
     "metadata": {},
     "output_type": "execute_result"
    }
   ],
   "source": [
    "ma_8_16[ma_8_16.total_gain>0].shape[0]"
   ]
  },
  {
   "cell_type": "code",
   "execution_count": 28,
   "metadata": {},
   "outputs": [
    {
     "data": {
      "text/plain": [
       "0.19047619047619047"
      ]
     },
     "execution_count": 28,
     "metadata": {},
     "output_type": "execute_result"
    }
   ],
   "source": [
    "4 / total_p"
   ]
  },
  {
   "cell_type": "code",
   "execution_count": 31,
   "metadata": {},
   "outputs": [
    {
     "name": "stdout",
     "output_type": "stream",
     "text": [
      "MA_32_64       11   52%\n",
      "MA_8_96         9   43%\n",
      "MA_64_96        7   33%\n",
      "MA_16_96        9   43%\n",
      "MA_24_96       10   48%\n",
      "MA_32_96        9   43%\n",
      "MA_32_256      10   48%\n",
      "MA_4_96         9   43%\n",
      "MA_8_32         5   24%\n",
      "MA_24_64        8   38%\n",
      "MA_64_128       5   24%\n",
      "MA_24_256       9   43%\n",
      "MA_64_256       9   43%\n",
      "MA_16_64        8   38%\n",
      "MA_16_256       8   38%\n",
      "MA_32_128       6   29%\n",
      "MA_8_64         8   38%\n",
      "MA_8_256        7   33%\n",
      "MA_24_128       7   33%\n",
      "MA_4_64         9   43%\n",
      "MA_16_128       6   29%\n",
      "MA_16_32        4   19%\n",
      "MA_8_128        6   29%\n",
      "MA_4_32         5   24%\n",
      "MA_4_128        8   38%\n",
      "MA_8_16         4   19%\n",
      "MA_4_256        5   24%\n",
      "MA_4_8          6   29%\n",
      "MA_24_32        4   19%\n",
      "MA_4_16         4   19%\n"
     ]
    }
   ],
   "source": [
    "for cross in df_all_gains.CROSS.unique():\n",
    "    df_temp = ma_test_res[ma_test_res.CROSS==cross]\n",
    "    total_p = df_temp.shape[0]\n",
    "    n_good = df_temp[df_temp.total_gain>0].shape[0]\n",
    "    print(f\"{cross:12} {n_good:4} {(n_good/total_p)*100:4.0f}%\")"
   ]
  },
  {
   "cell_type": "code",
   "execution_count": 32,
   "metadata": {},
   "outputs": [],
   "source": [
    "crosses = df_all_gains.CROSS.unique()[:3]"
   ]
  },
  {
   "cell_type": "code",
   "execution_count": 33,
   "metadata": {},
   "outputs": [
    {
     "data": {
      "text/plain": [
       "array(['MA_32_64', 'MA_8_96', 'MA_64_96'], dtype=object)"
      ]
     },
     "execution_count": 33,
     "metadata": {},
     "output_type": "execute_result"
    }
   ],
   "source": [
    "crosses"
   ]
  },
  {
   "cell_type": "code",
   "execution_count": 37,
   "metadata": {},
   "outputs": [
    {
     "data": {
      "text/html": [
       "<div>\n",
       "<style scoped>\n",
       "    .dataframe tbody tr th:only-of-type {\n",
       "        vertical-align: middle;\n",
       "    }\n",
       "\n",
       "    .dataframe tbody tr th {\n",
       "        vertical-align: top;\n",
       "    }\n",
       "\n",
       "    .dataframe thead th {\n",
       "        text-align: right;\n",
       "    }\n",
       "</style>\n",
       "<table border=\"1\" class=\"dataframe\">\n",
       "  <thead>\n",
       "    <tr style=\"text-align: right;\">\n",
       "      <th></th>\n",
       "      <th>pair</th>\n",
       "      <th>num_trades</th>\n",
       "      <th>total_gain</th>\n",
       "      <th>mashort</th>\n",
       "      <th>malong</th>\n",
       "      <th>CROSS</th>\n",
       "    </tr>\n",
       "  </thead>\n",
       "  <tbody>\n",
       "    <tr>\n",
       "      <th>0</th>\n",
       "      <td>GBP_USD</td>\n",
       "      <td>535</td>\n",
       "      <td>412.9</td>\n",
       "      <td>4</td>\n",
       "      <td>8</td>\n",
       "      <td>MA_4_8</td>\n",
       "    </tr>\n",
       "    <tr>\n",
       "      <th>1</th>\n",
       "      <td>GBP_USD</td>\n",
       "      <td>328</td>\n",
       "      <td>-725.5</td>\n",
       "      <td>4</td>\n",
       "      <td>16</td>\n",
       "      <td>MA_4_16</td>\n",
       "    </tr>\n",
       "  </tbody>\n",
       "</table>\n",
       "</div>"
      ],
      "text/plain": [
       "      pair  num_trades  total_gain  mashort  malong    CROSS\n",
       "0  GBP_USD         535       412.9        4       8   MA_4_8\n",
       "1  GBP_USD         328      -725.5        4      16  MA_4_16"
      ]
     },
     "execution_count": 37,
     "metadata": {},
     "output_type": "execute_result"
    }
   ],
   "source": [
    "ma_test_res.head(2)"
   ]
  },
  {
   "cell_type": "code",
   "execution_count": 35,
   "metadata": {},
   "outputs": [],
   "source": [
    "df_good = ma_test_res[(ma_test_res.CROSS.isin(crosses)) & (ma_test_res.total_gain>0)].copy()"
   ]
  },
  {
   "cell_type": "code",
   "execution_count": 38,
   "metadata": {},
   "outputs": [
    {
     "data": {
      "text/html": [
       "<div>\n",
       "<style scoped>\n",
       "    .dataframe tbody tr th:only-of-type {\n",
       "        vertical-align: middle;\n",
       "    }\n",
       "\n",
       "    .dataframe tbody tr th {\n",
       "        vertical-align: top;\n",
       "    }\n",
       "\n",
       "    .dataframe thead th {\n",
       "        text-align: right;\n",
       "    }\n",
       "</style>\n",
       "<table border=\"1\" class=\"dataframe\">\n",
       "  <thead>\n",
       "    <tr style=\"text-align: right;\">\n",
       "      <th></th>\n",
       "      <th>pair</th>\n",
       "      <th>num_trades</th>\n",
       "      <th>total_gain</th>\n",
       "      <th>mashort</th>\n",
       "      <th>malong</th>\n",
       "      <th>CROSS</th>\n",
       "    </tr>\n",
       "  </thead>\n",
       "  <tbody>\n",
       "    <tr>\n",
       "      <th>11</th>\n",
       "      <td>GBP_USD</td>\n",
       "      <td>63</td>\n",
       "      <td>1793.5</td>\n",
       "      <td>32</td>\n",
       "      <td>64</td>\n",
       "      <td>MA_32_64</td>\n",
       "    </tr>\n",
       "    <tr>\n",
       "      <th>13</th>\n",
       "      <td>GBP_USD</td>\n",
       "      <td>64</td>\n",
       "      <td>262.4</td>\n",
       "      <td>8</td>\n",
       "      <td>96</td>\n",
       "      <td>MA_8_96</td>\n",
       "    </tr>\n",
       "  </tbody>\n",
       "</table>\n",
       "</div>"
      ],
      "text/plain": [
       "       pair  num_trades  total_gain  mashort  malong     CROSS\n",
       "11  GBP_USD          63      1793.5       32      64  MA_32_64\n",
       "13  GBP_USD          64       262.4        8      96   MA_8_96"
      ]
     },
     "execution_count": 38,
     "metadata": {},
     "output_type": "execute_result"
    }
   ],
   "source": [
    "df_good.head(2)"
   ]
  },
  {
   "cell_type": "code",
   "execution_count": 48,
   "metadata": {},
   "outputs": [],
   "source": [
    "our_pairs = list(df_good.pair.value_counts()[:6].index)"
   ]
  },
  {
   "cell_type": "code",
   "execution_count": 44,
   "metadata": {},
   "outputs": [
    {
     "data": {
      "text/plain": [
       "['GBP_USD', 'GBP_CAD', 'GBP_JPY', 'EUR_GBP', 'EUR_CAD', 'NZD_JPY']"
      ]
     },
     "execution_count": 44,
     "metadata": {},
     "output_type": "execute_result"
    }
   ],
   "source": [
    "our_pairs"
   ]
  },
  {
   "cell_type": "code",
   "execution_count": 49,
   "metadata": {},
   "outputs": [
    {
     "data": {
      "text/html": [
       "<div>\n",
       "<style scoped>\n",
       "    .dataframe tbody tr th:only-of-type {\n",
       "        vertical-align: middle;\n",
       "    }\n",
       "\n",
       "    .dataframe tbody tr th {\n",
       "        vertical-align: top;\n",
       "    }\n",
       "\n",
       "    .dataframe thead th {\n",
       "        text-align: right;\n",
       "    }\n",
       "</style>\n",
       "<table border=\"1\" class=\"dataframe\">\n",
       "  <thead>\n",
       "    <tr style=\"text-align: right;\">\n",
       "      <th></th>\n",
       "      <th>time</th>\n",
       "      <th>mid_c</th>\n",
       "      <th>DIFF</th>\n",
       "      <th>DIFF_PREV</th>\n",
       "      <th>IS_TRADE</th>\n",
       "      <th>DELTA</th>\n",
       "      <th>GAIN</th>\n",
       "      <th>PAIR</th>\n",
       "      <th>MASHORT</th>\n",
       "      <th>MALONG</th>\n",
       "      <th>DURATION</th>\n",
       "    </tr>\n",
       "  </thead>\n",
       "  <tbody>\n",
       "    <tr>\n",
       "      <th>21</th>\n",
       "      <td>2022-06-07 10:00:00+00:00</td>\n",
       "      <td>1.24962</td>\n",
       "      <td>0.000761</td>\n",
       "      <td>-0.000026</td>\n",
       "      <td>1</td>\n",
       "      <td>78.8</td>\n",
       "      <td>78.8</td>\n",
       "      <td>GBP_USD</td>\n",
       "      <td>4</td>\n",
       "      <td>8</td>\n",
       "      <td>14.0</td>\n",
       "    </tr>\n",
       "    <tr>\n",
       "      <th>35</th>\n",
       "      <td>2022-06-08 00:00:00+00:00</td>\n",
       "      <td>1.25750</td>\n",
       "      <td>-0.000060</td>\n",
       "      <td>0.000112</td>\n",
       "      <td>-1</td>\n",
       "      <td>-21.4</td>\n",
       "      <td>21.4</td>\n",
       "      <td>GBP_USD</td>\n",
       "      <td>4</td>\n",
       "      <td>8</td>\n",
       "      <td>13.0</td>\n",
       "    </tr>\n",
       "  </tbody>\n",
       "</table>\n",
       "</div>"
      ],
      "text/plain": [
       "                        time    mid_c      DIFF  DIFF_PREV  IS_TRADE  DELTA  \\\n",
       "21 2022-06-07 10:00:00+00:00  1.24962  0.000761  -0.000026         1   78.8   \n",
       "35 2022-06-08 00:00:00+00:00  1.25750 -0.000060   0.000112        -1  -21.4   \n",
       "\n",
       "    GAIN     PAIR  MASHORT  MALONG  DURATION  \n",
       "21  78.8  GBP_USD        4       8      14.0  \n",
       "35  21.4  GBP_USD        4       8      13.0  "
      ]
     },
     "execution_count": 49,
     "metadata": {},
     "output_type": "execute_result"
    }
   ],
   "source": [
    "all_trades.head(2)"
   ]
  },
  {
   "cell_type": "code",
   "execution_count": 50,
   "metadata": {},
   "outputs": [],
   "source": [
    "all_trades[\"CROSS\"] = \"MA_\" + all_trades.MASHORT.map(str) + \"_\" + all_trades.MALONG.map(str)"
   ]
  },
  {
   "cell_type": "code",
   "execution_count": 51,
   "metadata": {},
   "outputs": [],
   "source": [
    "trades_cad_jpy = all_trades[(all_trades.CROSS==\"MA_8_16\") & (all_trades.PAIR==\"CAD_JPY\")].copy()"
   ]
  },
  {
   "cell_type": "code",
   "execution_count": 52,
   "metadata": {},
   "outputs": [
    {
     "data": {
      "text/html": [
       "<div>\n",
       "<style scoped>\n",
       "    .dataframe tbody tr th:only-of-type {\n",
       "        vertical-align: middle;\n",
       "    }\n",
       "\n",
       "    .dataframe tbody tr th {\n",
       "        vertical-align: top;\n",
       "    }\n",
       "\n",
       "    .dataframe thead th {\n",
       "        text-align: right;\n",
       "    }\n",
       "</style>\n",
       "<table border=\"1\" class=\"dataframe\">\n",
       "  <thead>\n",
       "    <tr style=\"text-align: right;\">\n",
       "      <th></th>\n",
       "      <th>time</th>\n",
       "      <th>mid_c</th>\n",
       "      <th>DIFF</th>\n",
       "      <th>DIFF_PREV</th>\n",
       "      <th>IS_TRADE</th>\n",
       "      <th>DELTA</th>\n",
       "      <th>GAIN</th>\n",
       "      <th>PAIR</th>\n",
       "      <th>MASHORT</th>\n",
       "      <th>MALONG</th>\n",
       "      <th>DURATION</th>\n",
       "      <th>CROSS</th>\n",
       "    </tr>\n",
       "  </thead>\n",
       "  <tbody>\n",
       "    <tr>\n",
       "      <th>61</th>\n",
       "      <td>2022-06-09 03:00:00+00:00</td>\n",
       "      <td>106.649</td>\n",
       "      <td>-0.018438</td>\n",
       "      <td>0.008000</td>\n",
       "      <td>-1</td>\n",
       "      <td>-149.4</td>\n",
       "      <td>149.4</td>\n",
       "      <td>CAD_JPY</td>\n",
       "      <td>8</td>\n",
       "      <td>16</td>\n",
       "      <td>90.0</td>\n",
       "      <td>MA_8_16</td>\n",
       "    </tr>\n",
       "    <tr>\n",
       "      <th>103</th>\n",
       "      <td>2022-06-12 21:00:00+00:00</td>\n",
       "      <td>105.155</td>\n",
       "      <td>0.009500</td>\n",
       "      <td>-0.022063</td>\n",
       "      <td>1</td>\n",
       "      <td>-57.9</td>\n",
       "      <td>-57.9</td>\n",
       "      <td>CAD_JPY</td>\n",
       "      <td>8</td>\n",
       "      <td>16</td>\n",
       "      <td>11.0</td>\n",
       "      <td>MA_8_16</td>\n",
       "    </tr>\n",
       "    <tr>\n",
       "      <th>114</th>\n",
       "      <td>2022-06-13 08:00:00+00:00</td>\n",
       "      <td>104.576</td>\n",
       "      <td>-0.069500</td>\n",
       "      <td>0.005500</td>\n",
       "      <td>-1</td>\n",
       "      <td>-8.6</td>\n",
       "      <td>8.6</td>\n",
       "      <td>CAD_JPY</td>\n",
       "      <td>8</td>\n",
       "      <td>16</td>\n",
       "      <td>20.0</td>\n",
       "      <td>MA_8_16</td>\n",
       "    </tr>\n",
       "    <tr>\n",
       "      <th>134</th>\n",
       "      <td>2022-06-14 04:00:00+00:00</td>\n",
       "      <td>104.490</td>\n",
       "      <td>0.006375</td>\n",
       "      <td>-0.025000</td>\n",
       "      <td>1</td>\n",
       "      <td>-53.0</td>\n",
       "      <td>-53.0</td>\n",
       "      <td>CAD_JPY</td>\n",
       "      <td>8</td>\n",
       "      <td>16</td>\n",
       "      <td>7.0</td>\n",
       "      <td>MA_8_16</td>\n",
       "    </tr>\n",
       "    <tr>\n",
       "      <th>141</th>\n",
       "      <td>2022-06-14 11:00:00+00:00</td>\n",
       "      <td>103.960</td>\n",
       "      <td>-0.006063</td>\n",
       "      <td>0.037313</td>\n",
       "      <td>-1</td>\n",
       "      <td>38.2</td>\n",
       "      <td>-38.2</td>\n",
       "      <td>CAD_JPY</td>\n",
       "      <td>8</td>\n",
       "      <td>16</td>\n",
       "      <td>8.0</td>\n",
       "      <td>MA_8_16</td>\n",
       "    </tr>\n",
       "  </tbody>\n",
       "</table>\n",
       "</div>"
      ],
      "text/plain": [
       "                         time    mid_c      DIFF  DIFF_PREV  IS_TRADE  DELTA  \\\n",
       "61  2022-06-09 03:00:00+00:00  106.649 -0.018438   0.008000        -1 -149.4   \n",
       "103 2022-06-12 21:00:00+00:00  105.155  0.009500  -0.022063         1  -57.9   \n",
       "114 2022-06-13 08:00:00+00:00  104.576 -0.069500   0.005500        -1   -8.6   \n",
       "134 2022-06-14 04:00:00+00:00  104.490  0.006375  -0.025000         1  -53.0   \n",
       "141 2022-06-14 11:00:00+00:00  103.960 -0.006063   0.037313        -1   38.2   \n",
       "\n",
       "      GAIN     PAIR  MASHORT  MALONG  DURATION    CROSS  \n",
       "61   149.4  CAD_JPY        8      16      90.0  MA_8_16  \n",
       "103  -57.9  CAD_JPY        8      16      11.0  MA_8_16  \n",
       "114    8.6  CAD_JPY        8      16      20.0  MA_8_16  \n",
       "134  -53.0  CAD_JPY        8      16       7.0  MA_8_16  \n",
       "141  -38.2  CAD_JPY        8      16       8.0  MA_8_16  "
      ]
     },
     "execution_count": 52,
     "metadata": {},
     "output_type": "execute_result"
    }
   ],
   "source": [
    "trades_cad_jpy.head()"
   ]
  },
  {
   "cell_type": "code",
   "execution_count": 53,
   "metadata": {},
   "outputs": [],
   "source": [
    "trades_cad_jpy['CUM_GAIN'] = trades_cad_jpy.GAIN.cumsum()"
   ]
  },
  {
   "cell_type": "code",
   "execution_count": 55,
   "metadata": {},
   "outputs": [],
   "source": [
    "def plot_line(df_plot, name):\n",
    "    fig = go.Figure()\n",
    "    fig.add_trace(go.Scatter(\n",
    "        x=df_plot.time,\n",
    "        y=df_plot.CUM_GAIN,\n",
    "        line=dict(width=2,color=\"#3d825f\"),\n",
    "        line_shape='spline',\n",
    "        name=name,\n",
    "        mode='lines'\n",
    "        ))\n",
    "    fig.update_layout(width=1000,height=400,\n",
    "        margin=dict(l=15,b=15,t=10),\n",
    "        font=dict(size=10,color=\"#e1e1e1\"),\n",
    "        paper_bgcolor=\"#1e1e1e\",\n",
    "        plot_bgcolor=\"#1e1e1e\",\n",
    "        title=name)\n",
    "    fig.update_xaxes(\n",
    "        linewidth=1,\n",
    "        linecolor='#3a4a54',\n",
    "        showgrid=False,\n",
    "        zeroline=False\n",
    "    )\n",
    "    fig.update_yaxes(\n",
    "        linewidth=1,\n",
    "        linecolor='#3a4a54',\n",
    "        showgrid=False,\n",
    "        zeroline=False\n",
    "    )\n",
    "    fig.show()"
   ]
  },
  {
   "cell_type": "code",
   "execution_count": 56,
   "metadata": {},
   "outputs": [
    {
     "data": {
      "application/vnd.plotly.v1+json": {
       "config": {
        "plotlyServerURL": "https://plot.ly"
       },
       "data": [
        {
         "line": {
          "color": "#3d825f",
          "shape": "spline",
          "width": 2
         },
         "mode": "lines",
         "name": "CAD_JPY",
         "type": "scatter",
         "x": [
          "2022-06-09T03:00:00+00:00",
          "2022-06-12T21:00:00+00:00",
          "2022-06-13T08:00:00+00:00",
          "2022-06-14T04:00:00+00:00",
          "2022-06-14T11:00:00+00:00",
          "2022-06-14T19:00:00+00:00",
          "2022-06-15T06:00:00+00:00",
          "2022-06-16T01:00:00+00:00",
          "2022-06-16T09:00:00+00:00",
          "2022-06-17T02:00:00+00:00",
          "2022-06-17T18:00:00+00:00",
          "2022-06-19T23:00:00+00:00",
          "2022-06-20T08:00:00+00:00",
          "2022-06-20T10:00:00+00:00",
          "2022-06-20T13:00:00+00:00",
          "2022-06-20T15:00:00+00:00",
          "2022-06-22T03:00:00+00:00",
          "2022-06-22T17:00:00+00:00",
          "2022-06-23T02:00:00+00:00",
          "2022-06-24T03:00:00+00:00",
          "2022-06-24T06:00:00+00:00",
          "2022-06-24T10:00:00+00:00",
          "2022-06-27T05:00:00+00:00",
          "2022-06-27T08:00:00+00:00",
          "2022-06-28T21:00:00+00:00",
          "2022-06-29T10:00:00+00:00",
          "2022-06-29T22:00:00+00:00",
          "2022-07-01T18:00:00+00:00",
          "2022-07-04T05:00:00+00:00",
          "2022-07-04T07:00:00+00:00",
          "2022-07-05T10:00:00+00:00",
          "2022-07-06T16:00:00+00:00",
          "2022-07-08T04:00:00+00:00",
          "2022-07-08T14:00:00+00:00",
          "2022-07-11T13:00:00+00:00",
          "2022-07-11T14:00:00+00:00",
          "2022-07-12T01:00:00+00:00",
          "2022-07-12T21:00:00+00:00",
          "2022-07-14T13:00:00+00:00",
          "2022-07-15T00:00:00+00:00",
          "2022-07-15T07:00:00+00:00",
          "2022-07-15T13:00:00+00:00",
          "2022-07-18T05:00:00+00:00",
          "2022-07-18T06:00:00+00:00",
          "2022-07-18T22:00:00+00:00",
          "2022-07-19T15:00:00+00:00",
          "2022-07-20T10:00:00+00:00",
          "2022-07-20T21:00:00+00:00",
          "2022-07-21T13:00:00+00:00",
          "2022-07-22T07:00:00+00:00",
          "2022-07-22T13:00:00+00:00",
          "2022-07-25T08:00:00+00:00",
          "2022-07-26T02:00:00+00:00",
          "2022-07-26T07:00:00+00:00",
          "2022-07-26T13:00:00+00:00",
          "2022-07-26T23:00:00+00:00",
          "2022-07-27T12:00:00+00:00",
          "2022-07-27T18:00:00+00:00",
          "2022-07-28T00:00:00+00:00",
          "2022-07-29T03:00:00+00:00",
          "2022-07-29T04:00:00+00:00",
          "2022-07-29T17:00:00+00:00",
          "2022-07-31T23:00:00+00:00",
          "2022-08-02T14:00:00+00:00",
          "2022-08-03T09:00:00+00:00",
          "2022-08-03T11:00:00+00:00",
          "2022-08-04T03:00:00+00:00",
          "2022-08-04T08:00:00+00:00",
          "2022-08-04T14:00:00+00:00",
          "2022-08-05T06:00:00+00:00",
          "2022-08-09T06:00:00+00:00",
          "2022-08-09T09:00:00+00:00",
          "2022-08-09T16:00:00+00:00",
          "2022-08-10T01:00:00+00:00",
          "2022-08-10T04:00:00+00:00",
          "2022-08-11T01:00:00+00:00",
          "2022-08-11T10:00:00+00:00",
          "2022-08-11T19:00:00+00:00",
          "2022-08-12T17:00:00+00:00",
          "2022-08-15T22:00:00+00:00",
          "2022-08-17T03:00:00+00:00",
          "2022-08-17T08:00:00+00:00",
          "2022-08-17T22:00:00+00:00",
          "2022-08-18T09:00:00+00:00",
          "2022-08-21T23:00:00+00:00",
          "2022-08-22T01:00:00+00:00",
          "2022-08-22T10:00:00+00:00",
          "2022-08-23T09:00:00+00:00",
          "2022-08-24T05:00:00+00:00",
          "2022-08-24T16:00:00+00:00",
          "2022-08-25T06:00:00+00:00",
          "2022-08-25T10:00:00+00:00",
          "2022-08-25T17:00:00+00:00",
          "2022-08-26T06:00:00+00:00",
          "2022-08-26T17:00:00+00:00",
          "2022-08-29T03:00:00+00:00",
          "2022-08-30T03:00:00+00:00",
          "2022-08-31T21:00:00+00:00",
          "2022-09-01T09:00:00+00:00",
          "2022-09-01T16:00:00+00:00",
          "2022-09-04T21:00:00+00:00",
          "2022-09-05T10:00:00+00:00",
          "2022-09-07T21:00:00+00:00",
          "2022-09-08T03:00:00+00:00",
          "2022-09-08T08:00:00+00:00",
          "2022-09-08T17:00:00+00:00",
          "2022-09-09T06:00:00+00:00",
          "2022-09-11T21:00:00+00:00",
          "2022-09-12T16:00:00+00:00",
          "2022-09-12T22:00:00+00:00",
          "2022-09-13T04:00:00+00:00",
          "2022-09-13T13:00:00+00:00",
          "2022-09-13T23:00:00+00:00",
          "2022-09-14T22:00:00+00:00",
          "2022-09-15T15:00:00+00:00",
          "2022-09-19T01:00:00+00:00",
          "2022-09-19T12:00:00+00:00",
          "2022-09-19T14:00:00+00:00",
          "2022-09-20T13:00:00+00:00",
          "2022-09-21T07:00:00+00:00",
          "2022-09-21T19:00:00+00:00",
          "2022-09-22T07:00:00+00:00",
          "2022-09-22T08:00:00+00:00",
          "2022-09-22T09:00:00+00:00",
          "2022-09-22T10:00:00+00:00",
          "2022-09-22T23:00:00+00:00",
          "2022-09-23T05:00:00+00:00",
          "2022-09-23T13:00:00+00:00",
          "2022-09-23T20:00:00+00:00",
          "2022-09-26T00:00:00+00:00",
          "2022-09-26T12:00:00+00:00",
          "2022-09-27T02:00:00+00:00",
          "2022-09-27T14:00:00+00:00",
          "2022-09-27T23:00:00+00:00",
          "2022-09-28T01:00:00+00:00",
          "2022-09-28T14:00:00+00:00",
          "2022-09-29T05:00:00+00:00",
          "2022-09-30T01:00:00+00:00",
          "2022-09-30T09:00:00+00:00",
          "2022-10-03T04:00:00+00:00",
          "2022-10-04T14:00:00+00:00",
          "2022-10-04T19:00:00+00:00",
          "2022-10-05T05:00:00+00:00",
          "2022-10-05T23:00:00+00:00",
          "2022-10-06T10:00:00+00:00",
          "2022-10-07T10:00:00+00:00",
          "2022-10-10T02:00:00+00:00",
          "2022-10-10T12:00:00+00:00",
          "2022-10-10T20:00:00+00:00",
          "2022-10-11T15:00:00+00:00",
          "2022-10-12T23:00:00+00:00",
          "2022-10-13T09:00:00+00:00",
          "2022-10-13T12:00:00+00:00",
          "2022-10-13T15:00:00+00:00",
          "2022-10-14T13:00:00+00:00",
          "2022-10-16T23:00:00+00:00",
          "2022-10-18T12:00:00+00:00",
          "2022-10-18T23:00:00+00:00",
          "2022-10-19T08:00:00+00:00",
          "2022-10-19T09:00:00+00:00",
          "2022-10-19T10:00:00+00:00",
          "2022-10-19T12:00:00+00:00",
          "2022-10-20T05:00:00+00:00",
          "2022-10-20T06:00:00+00:00",
          "2022-10-20T22:00:00+00:00",
          "2022-10-21T08:00:00+00:00",
          "2022-10-21T16:00:00+00:00",
          "2022-10-24T03:00:00+00:00",
          "2022-10-24T13:00:00+00:00",
          "2022-10-25T01:00:00+00:00",
          "2022-10-25T08:00:00+00:00",
          "2022-10-25T19:00:00+00:00",
          "2022-10-26T10:00:00+00:00",
          "2022-10-27T14:00:00+00:00",
          "2022-11-01T08:00:00+00:00",
          "2022-11-01T22:00:00+00:00",
          "2022-11-02T01:00:00+00:00",
          "2022-11-03T15:00:00+00:00",
          "2022-11-07T03:00:00+00:00",
          "2022-11-07T07:00:00+00:00",
          "2022-11-07T14:00:00+00:00",
          "2022-11-08T01:00:00+00:00",
          "2022-11-08T06:00:00+00:00",
          "2022-11-08T23:00:00+00:00",
          "2022-11-09T00:00:00+00:00",
          "2022-11-09T10:00:00+00:00",
          "2022-11-09T22:00:00+00:00",
          "2022-11-11T04:00:00+00:00",
          "2022-11-11T09:00:00+00:00",
          "2022-11-14T02:00:00+00:00",
          "2022-11-14T21:00:00+00:00",
          "2022-11-15T06:00:00+00:00",
          "2022-11-15T11:00:00+00:00",
          "2022-11-15T23:00:00+00:00",
          "2022-11-16T15:00:00+00:00",
          "2022-11-17T12:00:00+00:00",
          "2022-11-18T05:00:00+00:00",
          "2022-11-20T23:00:00+00:00",
          "2022-11-21T06:00:00+00:00",
          "2022-11-21T09:00:00+00:00",
          "2022-11-22T07:00:00+00:00",
          "2022-11-22T22:00:00+00:00",
          "2022-11-23T10:00:00+00:00",
          "2022-11-24T21:00:00+00:00",
          "2022-11-25T19:00:00+00:00",
          "2022-11-28T16:00:00+00:00",
          "2022-11-29T01:00:00+00:00",
          "2022-11-29T07:00:00+00:00",
          "2022-11-29T11:00:00+00:00",
          "2022-11-30T02:00:00+00:00",
          "2022-11-30T23:00:00+00:00",
          "2022-12-02T19:00:00+00:00",
          "2022-12-04T22:00:00+00:00",
          "2022-12-05T05:00:00+00:00",
          "2022-12-05T21:00:00+00:00",
          "2022-12-06T06:00:00+00:00",
          "2022-12-06T11:00:00+00:00",
          "2022-12-06T23:00:00+00:00",
          "2022-12-07T14:00:00+00:00",
          "2022-12-08T06:00:00+00:00",
          "2022-12-09T02:00:00+00:00",
          "2022-12-09T19:00:00+00:00",
          "2022-12-12T14:00:00+00:00",
          "2022-12-12T15:00:00+00:00",
          "2022-12-13T13:00:00+00:00",
          "2022-12-14T04:00:00+00:00",
          "2022-12-14T05:00:00+00:00",
          "2022-12-14T22:00:00+00:00",
          "2022-12-16T04:00:00+00:00",
          "2022-12-19T12:00:00+00:00",
          "2022-12-20T03:00:00+00:00",
          "2022-12-21T02:00:00+00:00",
          "2022-12-21T11:00:00+00:00",
          "2022-12-21T17:00:00+00:00",
          "2022-12-22T04:00:00+00:00",
          "2022-12-22T13:00:00+00:00",
          "2022-12-22T15:00:00+00:00",
          "2022-12-23T01:00:00+00:00",
          "2022-12-28T15:00:00+00:00",
          "2023-01-03T14:00:00+00:00",
          "2023-01-03T16:00:00+00:00",
          "2023-01-04T00:00:00+00:00",
          "2023-01-05T05:00:00+00:00",
          "2023-01-05T11:00:00+00:00",
          "2023-01-05T22:00:00+00:00",
          "2023-01-06T02:00:00+00:00",
          "2023-01-06T15:00:00+00:00",
          "2023-01-09T07:00:00+00:00",
          "2023-01-09T19:00:00+00:00",
          "2023-01-10T07:00:00+00:00",
          "2023-01-10T18:00:00+00:00",
          "2023-01-11T04:00:00+00:00",
          "2023-01-11T21:00:00+00:00",
          "2023-01-16T03:00:00+00:00",
          "2023-01-17T00:00:00+00:00",
          "2023-01-17T04:00:00+00:00",
          "2023-01-17T12:00:00+00:00",
          "2023-01-18T02:00:00+00:00",
          "2023-01-18T13:00:00+00:00",
          "2023-01-19T14:00:00+00:00",
          "2023-01-23T03:00:00+00:00",
          "2023-01-23T06:00:00+00:00",
          "2023-01-24T04:00:00+00:00",
          "2023-01-24T16:00:00+00:00",
          "2023-01-24T21:00:00+00:00",
          "2023-01-25T03:00:00+00:00"
         ],
         "y": [
          149.39999999999998,
          91.4999999999992,
          100.09999999999906,
          47.09999999999894,
          8.899999999998442,
          -28.700000000002035,
          -75.50000000000239,
          -244.10000000000167,
          -293.10000000000116,
          -254.30000000000064,
          -298.90000000000043,
          -336.9000000000014,
          -343.50000000000165,
          -338.10000000000144,
          -359.3000000000018,
          -256.1000000000021,
          -288.3000000000024,
          -387.50000000000284,
          -321.5000000000032,
          -328.10000000000343,
          -379.10000000000394,
          -326.40000000000384,
          -343.700000000004,
          -255.10000000000446,
          -285.90000000000373,
          -296.1000000000027,
          -195.7000000000022,
          -182.30000000000217,
          -201.60000000000196,
          -215.70000000000107,
          -91.70000000000016,
          -59.199999999999875,
          -147.7000000000004,
          -105.00000000000114,
          -127.70000000000152,
          -174.7000000000014,
          -153.1000000000006,
          -89.90000000000009,
          -100.7000000000005,
          -92.10000000000065,
          -123.49999999999994,
          -106.89999999999884,
          -115.69999999999823,
          -120.29999999999745,
          -180.5999999999969,
          -154.69999999999686,
          -154.59999999999638,
          -169.59999999999553,
          -135.8999999999952,
          -225.49999999999528,
          -212.5999999999948,
          -153.29999999999444,
          -172.2999999999942,
          -232.89999999999367,
          -274.2999999999938,
          -268.09999999999405,
          -250.89999999999435,
          -265.2999999999949,
          -53.29999999999444,
          -38.29999999999387,
          -20.69999999999368,
          -10.199999999993281,
          157.90000000000646,
          277.7000000000058,
          248.3000000000061,
          274.80000000000615,
          238.1000000000057,
          141.5000000000063,
          151.7000000000067,
          298.0000000000061,
          290.1000000000053,
          262.7000000000052,
          256.3000000000059,
          253.3000000000058,
          314.1000000000048,
          288.3000000000038,
          254.80000000000302,
          276.90000000000197,
          403.7000000000006,
          525,
          494.2999999999998,
          483.0999999999989,
          452.2999999999982,
          503.6999999999978,
          474.8999999999981,
          456.89999999999884,
          457.6999999999984,
          433.89999999999844,
          400.5999999999986,
          416.59999999999826,
          426.69999999999817,
          407.89999999999793,
          372.0999999999975,
          334.89999999999753,
          267.69999999999783,
          306.09999999999786,
          361.6999999999976,
          332.19999999999743,
          264.0999999999977,
          299.5999999999981,
          283.6999999999989,
          555.9999999999989,
          547.2999999999986,
          546.8999999999995,
          508.29999999999995,
          461.0999999999991,
          492.8999999999989,
          531.0999999999995,
          504.09999999999985,
          488.1000000000002,
          449.70000000000016,
          407.09999999999997,
          508.90000000000003,
          512.3999999999996,
          594.999999999999,
          581.4999999999984,
          569.6999999999975,
          559.0999999999967,
          589.6999999999964,
          541.599999999997,
          429.999999999997,
          189.29999999999592,
          137.69999999999538,
          100.4999999999954,
          124.99999999999585,
          105.49999999999653,
          95.29999999999615,
          93.49999999999608,
          73.4999999999958,
          59.29999999999478,
          65.09999999999405,
          58.799999999993815,
          59.09999999999383,
          27.099999999993088,
          -27.20000000000755,
          -28.50000000000807,
          -31.70000000000914,
          -51.20000000000988,
          -29.70000000000954,
          73.8999999999906,
          40.79999999999029,
          32.699999999989984,
          63.199999999989245,
          22.299999999988643,
          31.899999999989006,
          54.99999999998988,
          35.099999999990075,
          -5.300000000009561,
          -24.900000000009356,
          1.7999999999902343,
          -16.10000000000997,
          -77.5000000000104,
          -205.10000000001145,
          -199.30000000001218,
          -215.70000000001232,
          -72.50000000001211,
          -71.10000000001111,
          -87.40000000001078,
          -122.10000000001162,
          -142.00000000001143,
          -153.2000000000109,
          -137.30000000001172,
          -141.60000000001236,
          -139.90000000001277,
          -158.20000000001346,
          -303.10000000001327,
          -401.10000000001224,
          -414.90000000001135,
          -427.9000000000109,
          -448.5000000000112,
          -471.30000000001206,
          -483.90000000001254,
          -422.70000000001306,
          -338.5000000000132,
          -324.3000000000122,
          -368.5000000000115,
          -335.7000000000112,
          -239.30000000001132,
          -239.90000000001135,
          -293.3000000000105,
          -321.90000000001066,
          -330.50000000001194,
          -303.50000000001234,
          -290.0000000000118,
          -275.9000000000113,
          -280.8000000000105,
          -92.30000000001002,
          -199.1000000000098,
          -163.3000000000094,
          -148.90000000000884,
          -200.0000000000084,
          -283.30000000000825,
          -276.700000000008,
          -276.50000000000847,
          -288.40000000000987,
          -272.5000000000107,
          -260.10000000001116,
          -254.70000000001096,
          -319.5000000000106,
          -310.9000000000107,
          -307.7000000000111,
          -325.70000000001176,
          -178.30000000001138,
          -176.5000000000113,
          -102.70000000001136,
          -117.4000000000105,
          -109.70000000001068,
          -147.70000000001164,
          -101.10000000001224,
          -77.30000000001229,
          175.4999999999883,
          164.79999999998836,
          103.29999999998745,
          130.09999999998752,
          94.89999999998855,
          6.8999999999890065,
          -10.300000000010698,
          -23.700000000010732,
          -21.500000000011596,
          -18.90000000001197,
          -17.800000000012403,
          -1.1000000000136652,
          -17.700000000014768,
          -84.80000000001542,
          -95.10000000001628,
          -105.00000000001666,
          -125.70000000001602,
          -71.40000000001538,
          -2.3000000000151317,
          -228.1000000000147,
          -170.90000000001442,
          -201.50000000001415,
          -253.60000000001423,
          -279.7000000000152,
          -286.800000000015,
          -310.400000000014,
          -354.20000000001426,
          -204.60000000001475,
          109.49999999998579,
          122.19999999998674,
          104.19999999998748,
          326.89999999998787,
          335.2999999999882,
          361.09999999998774,
          333.29999999998716,
          296.3999999999872,
          262.8999999999878,
          248.4999999999887,
          223.0999999999882,
          208.09999999998763,
          212.69999999998828,
          234.49999999998863,
          568.0999999999885,
          612.7999999999888,
          593.199999999989,
          580.699999999989,
          421.6999999999887,
          242.1999999999885,
          286.1999999999883,
          429.0999999999885,
          367.39999999998946,
          387.69999999998976,
          407.09999999999,
          416.5999999999899,
          381.29999999998904,
          306.29999999998904
         ]
        }
       ],
       "layout": {
        "font": {
         "color": "#e1e1e1",
         "size": 10
        },
        "height": 400,
        "margin": {
         "b": 15,
         "l": 15,
         "t": 10
        },
        "paper_bgcolor": "#1e1e1e",
        "plot_bgcolor": "#1e1e1e",
        "template": {
         "data": {
          "bar": [
           {
            "error_x": {
             "color": "#2a3f5f"
            },
            "error_y": {
             "color": "#2a3f5f"
            },
            "marker": {
             "line": {
              "color": "#E5ECF6",
              "width": 0.5
             },
             "pattern": {
              "fillmode": "overlay",
              "size": 10,
              "solidity": 0.2
             }
            },
            "type": "bar"
           }
          ],
          "barpolar": [
           {
            "marker": {
             "line": {
              "color": "#E5ECF6",
              "width": 0.5
             },
             "pattern": {
              "fillmode": "overlay",
              "size": 10,
              "solidity": 0.2
             }
            },
            "type": "barpolar"
           }
          ],
          "carpet": [
           {
            "aaxis": {
             "endlinecolor": "#2a3f5f",
             "gridcolor": "white",
             "linecolor": "white",
             "minorgridcolor": "white",
             "startlinecolor": "#2a3f5f"
            },
            "baxis": {
             "endlinecolor": "#2a3f5f",
             "gridcolor": "white",
             "linecolor": "white",
             "minorgridcolor": "white",
             "startlinecolor": "#2a3f5f"
            },
            "type": "carpet"
           }
          ],
          "choropleth": [
           {
            "colorbar": {
             "outlinewidth": 0,
             "ticks": ""
            },
            "type": "choropleth"
           }
          ],
          "contour": [
           {
            "colorbar": {
             "outlinewidth": 0,
             "ticks": ""
            },
            "colorscale": [
             [
              0,
              "#0d0887"
             ],
             [
              0.1111111111111111,
              "#46039f"
             ],
             [
              0.2222222222222222,
              "#7201a8"
             ],
             [
              0.3333333333333333,
              "#9c179e"
             ],
             [
              0.4444444444444444,
              "#bd3786"
             ],
             [
              0.5555555555555556,
              "#d8576b"
             ],
             [
              0.6666666666666666,
              "#ed7953"
             ],
             [
              0.7777777777777778,
              "#fb9f3a"
             ],
             [
              0.8888888888888888,
              "#fdca26"
             ],
             [
              1,
              "#f0f921"
             ]
            ],
            "type": "contour"
           }
          ],
          "contourcarpet": [
           {
            "colorbar": {
             "outlinewidth": 0,
             "ticks": ""
            },
            "type": "contourcarpet"
           }
          ],
          "heatmap": [
           {
            "colorbar": {
             "outlinewidth": 0,
             "ticks": ""
            },
            "colorscale": [
             [
              0,
              "#0d0887"
             ],
             [
              0.1111111111111111,
              "#46039f"
             ],
             [
              0.2222222222222222,
              "#7201a8"
             ],
             [
              0.3333333333333333,
              "#9c179e"
             ],
             [
              0.4444444444444444,
              "#bd3786"
             ],
             [
              0.5555555555555556,
              "#d8576b"
             ],
             [
              0.6666666666666666,
              "#ed7953"
             ],
             [
              0.7777777777777778,
              "#fb9f3a"
             ],
             [
              0.8888888888888888,
              "#fdca26"
             ],
             [
              1,
              "#f0f921"
             ]
            ],
            "type": "heatmap"
           }
          ],
          "heatmapgl": [
           {
            "colorbar": {
             "outlinewidth": 0,
             "ticks": ""
            },
            "colorscale": [
             [
              0,
              "#0d0887"
             ],
             [
              0.1111111111111111,
              "#46039f"
             ],
             [
              0.2222222222222222,
              "#7201a8"
             ],
             [
              0.3333333333333333,
              "#9c179e"
             ],
             [
              0.4444444444444444,
              "#bd3786"
             ],
             [
              0.5555555555555556,
              "#d8576b"
             ],
             [
              0.6666666666666666,
              "#ed7953"
             ],
             [
              0.7777777777777778,
              "#fb9f3a"
             ],
             [
              0.8888888888888888,
              "#fdca26"
             ],
             [
              1,
              "#f0f921"
             ]
            ],
            "type": "heatmapgl"
           }
          ],
          "histogram": [
           {
            "marker": {
             "pattern": {
              "fillmode": "overlay",
              "size": 10,
              "solidity": 0.2
             }
            },
            "type": "histogram"
           }
          ],
          "histogram2d": [
           {
            "colorbar": {
             "outlinewidth": 0,
             "ticks": ""
            },
            "colorscale": [
             [
              0,
              "#0d0887"
             ],
             [
              0.1111111111111111,
              "#46039f"
             ],
             [
              0.2222222222222222,
              "#7201a8"
             ],
             [
              0.3333333333333333,
              "#9c179e"
             ],
             [
              0.4444444444444444,
              "#bd3786"
             ],
             [
              0.5555555555555556,
              "#d8576b"
             ],
             [
              0.6666666666666666,
              "#ed7953"
             ],
             [
              0.7777777777777778,
              "#fb9f3a"
             ],
             [
              0.8888888888888888,
              "#fdca26"
             ],
             [
              1,
              "#f0f921"
             ]
            ],
            "type": "histogram2d"
           }
          ],
          "histogram2dcontour": [
           {
            "colorbar": {
             "outlinewidth": 0,
             "ticks": ""
            },
            "colorscale": [
             [
              0,
              "#0d0887"
             ],
             [
              0.1111111111111111,
              "#46039f"
             ],
             [
              0.2222222222222222,
              "#7201a8"
             ],
             [
              0.3333333333333333,
              "#9c179e"
             ],
             [
              0.4444444444444444,
              "#bd3786"
             ],
             [
              0.5555555555555556,
              "#d8576b"
             ],
             [
              0.6666666666666666,
              "#ed7953"
             ],
             [
              0.7777777777777778,
              "#fb9f3a"
             ],
             [
              0.8888888888888888,
              "#fdca26"
             ],
             [
              1,
              "#f0f921"
             ]
            ],
            "type": "histogram2dcontour"
           }
          ],
          "mesh3d": [
           {
            "colorbar": {
             "outlinewidth": 0,
             "ticks": ""
            },
            "type": "mesh3d"
           }
          ],
          "parcoords": [
           {
            "line": {
             "colorbar": {
              "outlinewidth": 0,
              "ticks": ""
             }
            },
            "type": "parcoords"
           }
          ],
          "pie": [
           {
            "automargin": true,
            "type": "pie"
           }
          ],
          "scatter": [
           {
            "fillpattern": {
             "fillmode": "overlay",
             "size": 10,
             "solidity": 0.2
            },
            "type": "scatter"
           }
          ],
          "scatter3d": [
           {
            "line": {
             "colorbar": {
              "outlinewidth": 0,
              "ticks": ""
             }
            },
            "marker": {
             "colorbar": {
              "outlinewidth": 0,
              "ticks": ""
             }
            },
            "type": "scatter3d"
           }
          ],
          "scattercarpet": [
           {
            "marker": {
             "colorbar": {
              "outlinewidth": 0,
              "ticks": ""
             }
            },
            "type": "scattercarpet"
           }
          ],
          "scattergeo": [
           {
            "marker": {
             "colorbar": {
              "outlinewidth": 0,
              "ticks": ""
             }
            },
            "type": "scattergeo"
           }
          ],
          "scattergl": [
           {
            "marker": {
             "colorbar": {
              "outlinewidth": 0,
              "ticks": ""
             }
            },
            "type": "scattergl"
           }
          ],
          "scattermapbox": [
           {
            "marker": {
             "colorbar": {
              "outlinewidth": 0,
              "ticks": ""
             }
            },
            "type": "scattermapbox"
           }
          ],
          "scatterpolar": [
           {
            "marker": {
             "colorbar": {
              "outlinewidth": 0,
              "ticks": ""
             }
            },
            "type": "scatterpolar"
           }
          ],
          "scatterpolargl": [
           {
            "marker": {
             "colorbar": {
              "outlinewidth": 0,
              "ticks": ""
             }
            },
            "type": "scatterpolargl"
           }
          ],
          "scatterternary": [
           {
            "marker": {
             "colorbar": {
              "outlinewidth": 0,
              "ticks": ""
             }
            },
            "type": "scatterternary"
           }
          ],
          "surface": [
           {
            "colorbar": {
             "outlinewidth": 0,
             "ticks": ""
            },
            "colorscale": [
             [
              0,
              "#0d0887"
             ],
             [
              0.1111111111111111,
              "#46039f"
             ],
             [
              0.2222222222222222,
              "#7201a8"
             ],
             [
              0.3333333333333333,
              "#9c179e"
             ],
             [
              0.4444444444444444,
              "#bd3786"
             ],
             [
              0.5555555555555556,
              "#d8576b"
             ],
             [
              0.6666666666666666,
              "#ed7953"
             ],
             [
              0.7777777777777778,
              "#fb9f3a"
             ],
             [
              0.8888888888888888,
              "#fdca26"
             ],
             [
              1,
              "#f0f921"
             ]
            ],
            "type": "surface"
           }
          ],
          "table": [
           {
            "cells": {
             "fill": {
              "color": "#EBF0F8"
             },
             "line": {
              "color": "white"
             }
            },
            "header": {
             "fill": {
              "color": "#C8D4E3"
             },
             "line": {
              "color": "white"
             }
            },
            "type": "table"
           }
          ]
         },
         "layout": {
          "annotationdefaults": {
           "arrowcolor": "#2a3f5f",
           "arrowhead": 0,
           "arrowwidth": 1
          },
          "autotypenumbers": "strict",
          "coloraxis": {
           "colorbar": {
            "outlinewidth": 0,
            "ticks": ""
           }
          },
          "colorscale": {
           "diverging": [
            [
             0,
             "#8e0152"
            ],
            [
             0.1,
             "#c51b7d"
            ],
            [
             0.2,
             "#de77ae"
            ],
            [
             0.3,
             "#f1b6da"
            ],
            [
             0.4,
             "#fde0ef"
            ],
            [
             0.5,
             "#f7f7f7"
            ],
            [
             0.6,
             "#e6f5d0"
            ],
            [
             0.7,
             "#b8e186"
            ],
            [
             0.8,
             "#7fbc41"
            ],
            [
             0.9,
             "#4d9221"
            ],
            [
             1,
             "#276419"
            ]
           ],
           "sequential": [
            [
             0,
             "#0d0887"
            ],
            [
             0.1111111111111111,
             "#46039f"
            ],
            [
             0.2222222222222222,
             "#7201a8"
            ],
            [
             0.3333333333333333,
             "#9c179e"
            ],
            [
             0.4444444444444444,
             "#bd3786"
            ],
            [
             0.5555555555555556,
             "#d8576b"
            ],
            [
             0.6666666666666666,
             "#ed7953"
            ],
            [
             0.7777777777777778,
             "#fb9f3a"
            ],
            [
             0.8888888888888888,
             "#fdca26"
            ],
            [
             1,
             "#f0f921"
            ]
           ],
           "sequentialminus": [
            [
             0,
             "#0d0887"
            ],
            [
             0.1111111111111111,
             "#46039f"
            ],
            [
             0.2222222222222222,
             "#7201a8"
            ],
            [
             0.3333333333333333,
             "#9c179e"
            ],
            [
             0.4444444444444444,
             "#bd3786"
            ],
            [
             0.5555555555555556,
             "#d8576b"
            ],
            [
             0.6666666666666666,
             "#ed7953"
            ],
            [
             0.7777777777777778,
             "#fb9f3a"
            ],
            [
             0.8888888888888888,
             "#fdca26"
            ],
            [
             1,
             "#f0f921"
            ]
           ]
          },
          "colorway": [
           "#636efa",
           "#EF553B",
           "#00cc96",
           "#ab63fa",
           "#FFA15A",
           "#19d3f3",
           "#FF6692",
           "#B6E880",
           "#FF97FF",
           "#FECB52"
          ],
          "font": {
           "color": "#2a3f5f"
          },
          "geo": {
           "bgcolor": "white",
           "lakecolor": "white",
           "landcolor": "#E5ECF6",
           "showlakes": true,
           "showland": true,
           "subunitcolor": "white"
          },
          "hoverlabel": {
           "align": "left"
          },
          "hovermode": "closest",
          "mapbox": {
           "style": "light"
          },
          "paper_bgcolor": "white",
          "plot_bgcolor": "#E5ECF6",
          "polar": {
           "angularaxis": {
            "gridcolor": "white",
            "linecolor": "white",
            "ticks": ""
           },
           "bgcolor": "#E5ECF6",
           "radialaxis": {
            "gridcolor": "white",
            "linecolor": "white",
            "ticks": ""
           }
          },
          "scene": {
           "xaxis": {
            "backgroundcolor": "#E5ECF6",
            "gridcolor": "white",
            "gridwidth": 2,
            "linecolor": "white",
            "showbackground": true,
            "ticks": "",
            "zerolinecolor": "white"
           },
           "yaxis": {
            "backgroundcolor": "#E5ECF6",
            "gridcolor": "white",
            "gridwidth": 2,
            "linecolor": "white",
            "showbackground": true,
            "ticks": "",
            "zerolinecolor": "white"
           },
           "zaxis": {
            "backgroundcolor": "#E5ECF6",
            "gridcolor": "white",
            "gridwidth": 2,
            "linecolor": "white",
            "showbackground": true,
            "ticks": "",
            "zerolinecolor": "white"
           }
          },
          "shapedefaults": {
           "line": {
            "color": "#2a3f5f"
           }
          },
          "ternary": {
           "aaxis": {
            "gridcolor": "white",
            "linecolor": "white",
            "ticks": ""
           },
           "baxis": {
            "gridcolor": "white",
            "linecolor": "white",
            "ticks": ""
           },
           "bgcolor": "#E5ECF6",
           "caxis": {
            "gridcolor": "white",
            "linecolor": "white",
            "ticks": ""
           }
          },
          "title": {
           "x": 0.05
          },
          "xaxis": {
           "automargin": true,
           "gridcolor": "white",
           "linecolor": "white",
           "ticks": "",
           "title": {
            "standoff": 15
           },
           "zerolinecolor": "white",
           "zerolinewidth": 2
          },
          "yaxis": {
           "automargin": true,
           "gridcolor": "white",
           "linecolor": "white",
           "ticks": "",
           "title": {
            "standoff": 15
           },
           "zerolinecolor": "white",
           "zerolinewidth": 2
          }
         }
        },
        "title": {
         "text": "CAD_JPY"
        },
        "width": 1000,
        "xaxis": {
         "linecolor": "#3a4a54",
         "linewidth": 1,
         "showgrid": false,
         "zeroline": false
        },
        "yaxis": {
         "linecolor": "#3a4a54",
         "linewidth": 1,
         "showgrid": false,
         "zeroline": false
        }
       }
      }
     },
     "metadata": {},
     "output_type": "display_data"
    }
   ],
   "source": [
    "plot_line(trades_cad_jpy, \"CAD_JPY\")"
   ]
  },
  {
   "cell_type": "code",
   "execution_count": 58,
   "metadata": {},
   "outputs": [
    {
     "data": {
      "application/vnd.plotly.v1+json": {
       "config": {
        "plotlyServerURL": "https://plot.ly"
       },
       "data": [
        {
         "line": {
          "color": "#3d825f",
          "shape": "spline",
          "width": 2
         },
         "mode": "lines",
         "name": "GBP_USD_MA_8_16",
         "type": "scatter",
         "x": [
          "2022-06-07T14:00:00+00:00",
          "2022-06-08T04:00:00+00:00",
          "2022-06-08T20:00:00+00:00",
          "2022-06-08T21:00:00+00:00",
          "2022-06-08T22:00:00+00:00",
          "2022-06-08T23:00:00+00:00",
          "2022-06-09T14:00:00+00:00",
          "2022-06-09T19:00:00+00:00",
          "2022-06-14T05:00:00+00:00",
          "2022-06-14T11:00:00+00:00",
          "2022-06-15T03:00:00+00:00",
          "2022-06-16T07:00:00+00:00",
          "2022-06-16T14:00:00+00:00",
          "2022-06-17T04:00:00+00:00",
          "2022-06-20T03:00:00+00:00",
          "2022-06-20T23:00:00+00:00",
          "2022-06-21T01:00:00+00:00",
          "2022-06-21T17:00:00+00:00",
          "2022-06-22T14:00:00+00:00",
          "2022-06-23T00:00:00+00:00",
          "2022-06-23T16:00:00+00:00",
          "2022-06-24T17:00:00+00:00",
          "2022-06-27T02:00:00+00:00",
          "2022-06-27T16:00:00+00:00",
          "2022-06-28T08:00:00+00:00",
          "2022-06-28T11:00:00+00:00",
          "2022-06-29T04:00:00+00:00",
          "2022-06-29T09:00:00+00:00",
          "2022-06-30T04:00:00+00:00",
          "2022-06-30T14:00:00+00:00",
          "2022-06-30T15:00:00+00:00",
          "2022-07-01T03:00:00+00:00",
          "2022-07-03T21:00:00+00:00",
          "2022-07-04T19:00:00+00:00",
          "2022-07-05T04:00:00+00:00",
          "2022-07-05T08:00:00+00:00",
          "2022-07-06T02:00:00+00:00",
          "2022-07-06T09:00:00+00:00",
          "2022-07-06T23:00:00+00:00",
          "2022-07-08T07:00:00+00:00",
          "2022-07-08T17:00:00+00:00",
          "2022-07-11T03:00:00+00:00",
          "2022-07-12T16:00:00+00:00",
          "2022-07-13T03:00:00+00:00",
          "2022-07-13T07:00:00+00:00",
          "2022-07-13T19:00:00+00:00",
          "2022-07-13T20:00:00+00:00",
          "2022-07-13T23:00:00+00:00",
          "2022-07-15T00:00:00+00:00",
          "2022-07-15T09:00:00+00:00",
          "2022-07-15T13:00:00+00:00",
          "2022-07-18T22:00:00+00:00",
          "2022-07-19T08:00:00+00:00",
          "2022-07-19T21:00:00+00:00",
          "2022-07-20T03:00:00+00:00",
          "2022-07-20T11:00:00+00:00",
          "2022-07-21T04:00:00+00:00",
          "2022-07-21T09:00:00+00:00",
          "2022-07-21T19:00:00+00:00",
          "2022-07-22T06:00:00+00:00",
          "2022-07-22T15:00:00+00:00",
          "2022-07-25T01:00:00+00:00",
          "2022-07-25T09:00:00+00:00",
          "2022-07-25T23:00:00+00:00",
          "2022-07-26T02:00:00+00:00",
          "2022-07-26T09:00:00+00:00",
          "2022-07-26T20:00:00+00:00",
          "2022-07-27T16:00:00+00:00",
          "2022-07-27T18:00:00+00:00",
          "2022-07-28T11:00:00+00:00",
          "2022-07-28T21:00:00+00:00",
          "2022-07-29T13:00:00+00:00",
          "2022-07-31T21:00:00+00:00",
          "2022-08-02T00:00:00+00:00",
          "2022-08-03T07:00:00+00:00",
          "2022-08-03T15:00:00+00:00",
          "2022-08-04T03:00:00+00:00",
          "2022-08-04T12:00:00+00:00",
          "2022-08-04T21:00:00+00:00",
          "2022-08-05T05:00:00+00:00",
          "2022-08-08T03:00:00+00:00",
          "2022-08-08T20:00:00+00:00",
          "2022-08-09T06:00:00+00:00",
          "2022-08-09T18:00:00+00:00",
          "2022-08-10T06:00:00+00:00",
          "2022-08-11T02:00:00+00:00",
          "2022-08-11T10:00:00+00:00",
          "2022-08-11T20:00:00+00:00",
          "2022-08-15T00:00:00+00:00",
          "2022-08-15T03:00:00+00:00",
          "2022-08-16T14:00:00+00:00",
          "2022-08-17T12:00:00+00:00",
          "2022-08-18T14:00:00+00:00",
          "2022-08-18T15:00:00+00:00",
          "2022-08-22T02:00:00+00:00",
          "2022-08-22T06:00:00+00:00",
          "2022-08-23T04:00:00+00:00",
          "2022-08-23T07:00:00+00:00",
          "2022-08-23T13:00:00+00:00",
          "2022-08-24T03:00:00+00:00",
          "2022-08-24T21:00:00+00:00",
          "2022-08-24T22:00:00+00:00",
          "2022-08-25T00:00:00+00:00",
          "2022-08-25T15:00:00+00:00",
          "2022-08-25T23:00:00+00:00",
          "2022-08-26T05:00:00+00:00",
          "2022-08-26T13:00:00+00:00",
          "2022-08-26T17:00:00+00:00",
          "2022-08-29T13:00:00+00:00",
          "2022-08-30T01:00:00+00:00",
          "2022-08-30T08:00:00+00:00",
          "2022-08-30T15:00:00+00:00",
          "2022-08-31T03:00:00+00:00",
          "2022-08-31T10:00:00+00:00",
          "2022-09-02T03:00:00+00:00",
          "2022-09-02T17:00:00+00:00",
          "2022-09-05T11:00:00+00:00",
          "2022-09-06T13:00:00+00:00",
          "2022-09-07T19:00:00+00:00",
          "2022-09-08T06:00:00+00:00",
          "2022-09-08T15:00:00+00:00",
          "2022-09-08T18:00:00+00:00",
          "2022-09-09T00:00:00+00:00",
          "2022-09-09T16:00:00+00:00",
          "2022-09-11T22:00:00+00:00",
          "2022-09-12T22:00:00+00:00",
          "2022-09-13T06:00:00+00:00",
          "2022-09-13T13:00:00+00:00",
          "2022-09-14T07:00:00+00:00",
          "2022-09-14T22:00:00+00:00",
          "2022-09-16T20:00:00+00:00",
          "2022-09-19T06:00:00+00:00",
          "2022-09-19T17:00:00+00:00",
          "2022-09-20T11:00:00+00:00",
          "2022-09-22T10:00:00+00:00",
          "2022-09-22T19:00:00+00:00",
          "2022-09-26T11:00:00+00:00",
          "2022-09-26T21:00:00+00:00",
          "2022-09-27T04:00:00+00:00",
          "2022-09-27T16:00:00+00:00",
          "2022-09-28T14:00:00+00:00",
          "2022-09-29T04:00:00+00:00",
          "2022-09-29T12:00:00+00:00",
          "2022-09-30T11:00:00+00:00",
          "2022-09-30T19:00:00+00:00",
          "2022-10-03T04:00:00+00:00",
          "2022-10-03T07:00:00+00:00",
          "2022-10-05T04:00:00+00:00",
          "2022-10-06T00:00:00+00:00",
          "2022-10-06T09:00:00+00:00",
          "2022-10-07T05:00:00+00:00",
          "2022-10-07T15:00:00+00:00",
          "2022-10-10T23:00:00+00:00",
          "2022-10-11T06:00:00+00:00",
          "2022-10-11T13:00:00+00:00",
          "2022-10-11T22:00:00+00:00",
          "2022-10-12T09:00:00+00:00",
          "2022-10-13T06:00:00+00:00",
          "2022-10-13T10:00:00+00:00",
          "2022-10-14T06:00:00+00:00",
          "2022-10-17T02:00:00+00:00",
          "2022-10-18T01:00:00+00:00",
          "2022-10-18T20:00:00+00:00",
          "2022-10-19T07:00:00+00:00",
          "2022-10-20T07:00:00+00:00",
          "2022-10-20T08:00:00+00:00",
          "2022-10-20T11:00:00+00:00",
          "2022-10-20T23:00:00+00:00",
          "2022-10-21T17:00:00+00:00",
          "2022-10-24T12:00:00+00:00",
          "2022-10-25T03:00:00+00:00",
          "2022-10-26T03:00:00+00:00",
          "2022-10-26T08:00:00+00:00",
          "2022-10-27T06:00:00+00:00",
          "2022-10-28T04:00:00+00:00",
          "2022-10-28T06:00:00+00:00",
          "2022-10-28T16:00:00+00:00",
          "2022-10-31T07:00:00+00:00",
          "2022-11-01T04:00:00+00:00",
          "2022-11-01T16:00:00+00:00",
          "2022-11-02T03:00:00+00:00",
          "2022-11-02T13:00:00+00:00",
          "2022-11-04T03:00:00+00:00",
          "2022-11-07T06:00:00+00:00",
          "2022-11-07T09:00:00+00:00",
          "2022-11-08T06:00:00+00:00",
          "2022-11-08T16:00:00+00:00",
          "2022-11-09T05:00:00+00:00",
          "2022-11-10T04:00:00+00:00",
          "2022-11-11T06:00:00+00:00",
          "2022-11-11T07:00:00+00:00",
          "2022-11-14T04:00:00+00:00",
          "2022-11-14T13:00:00+00:00",
          "2022-11-14T15:00:00+00:00",
          "2022-11-15T00:00:00+00:00",
          "2022-11-15T02:00:00+00:00",
          "2022-11-15T04:00:00+00:00",
          "2022-11-15T22:00:00+00:00",
          "2022-11-16T08:00:00+00:00",
          "2022-11-16T20:00:00+00:00",
          "2022-11-16T22:00:00+00:00",
          "2022-11-17T06:00:00+00:00",
          "2022-11-17T23:00:00+00:00",
          "2022-11-18T17:00:00+00:00",
          "2022-11-21T23:00:00+00:00",
          "2022-11-25T00:00:00+00:00",
          "2022-11-27T22:00:00+00:00",
          "2022-11-27T23:00:00+00:00",
          "2022-11-28T11:00:00+00:00",
          "2022-11-28T17:00:00+00:00",
          "2022-11-29T06:00:00+00:00",
          "2022-11-29T16:00:00+00:00",
          "2022-11-30T05:00:00+00:00",
          "2022-11-30T17:00:00+00:00",
          "2022-11-30T20:00:00+00:00",
          "2022-12-02T04:00:00+00:00",
          "2022-12-02T09:00:00+00:00",
          "2022-12-02T18:00:00+00:00",
          "2022-12-02T21:00:00+00:00",
          "2022-12-05T11:00:00+00:00",
          "2022-12-06T05:00:00+00:00",
          "2022-12-06T09:00:00+00:00",
          "2022-12-06T16:00:00+00:00",
          "2022-12-06T19:00:00+00:00",
          "2022-12-07T10:00:00+00:00",
          "2022-12-08T03:00:00+00:00",
          "2022-12-08T15:00:00+00:00",
          "2022-12-12T00:00:00+00:00",
          "2022-12-12T10:00:00+00:00",
          "2022-12-12T21:00:00+00:00",
          "2022-12-13T05:00:00+00:00",
          "2022-12-14T02:00:00+00:00",
          "2022-12-14T09:00:00+00:00",
          "2022-12-15T05:00:00+00:00",
          "2022-12-16T05:00:00+00:00",
          "2022-12-16T10:00:00+00:00",
          "2022-12-19T05:00:00+00:00",
          "2022-12-19T15:00:00+00:00",
          "2022-12-20T10:00:00+00:00",
          "2022-12-20T18:00:00+00:00",
          "2022-12-20T20:00:00+00:00",
          "2022-12-21T08:00:00+00:00",
          "2022-12-22T03:00:00+00:00",
          "2022-12-22T12:00:00+00:00",
          "2022-12-23T02:00:00+00:00",
          "2022-12-23T18:00:00+00:00",
          "2022-12-27T01:00:00+00:00",
          "2022-12-27T12:00:00+00:00",
          "2022-12-28T10:00:00+00:00",
          "2022-12-28T20:00:00+00:00",
          "2022-12-29T06:00:00+00:00",
          "2022-12-30T04:00:00+00:00",
          "2022-12-30T17:00:00+00:00",
          "2023-01-02T07:00:00+00:00",
          "2023-01-02T23:00:00+00:00",
          "2023-01-03T08:00:00+00:00",
          "2023-01-03T20:00:00+00:00",
          "2023-01-04T02:00:00+00:00",
          "2023-01-04T06:00:00+00:00",
          "2023-01-05T03:00:00+00:00",
          "2023-01-06T04:00:00+00:00",
          "2023-01-06T08:00:00+00:00",
          "2023-01-06T16:00:00+00:00",
          "2023-01-10T03:00:00+00:00",
          "2023-01-11T00:00:00+00:00",
          "2023-01-11T08:00:00+00:00",
          "2023-01-11T21:00:00+00:00",
          "2023-01-12T12:00:00+00:00",
          "2023-01-12T13:00:00+00:00",
          "2023-01-13T06:00:00+00:00",
          "2023-01-13T14:00:00+00:00",
          "2023-01-13T16:00:00+00:00",
          "2023-01-13T20:00:00+00:00",
          "2023-01-16T10:00:00+00:00",
          "2023-01-17T09:00:00+00:00",
          "2023-01-18T22:00:00+00:00",
          "2023-01-19T13:00:00+00:00",
          "2023-01-20T07:00:00+00:00",
          "2023-01-20T18:00:00+00:00",
          "2023-01-23T11:00:00+00:00",
          "2023-01-23T23:00:00+00:00",
          "2023-01-24T10:00:00+00:00",
          "2023-01-24T22:00:00+00:00",
          "2023-01-25T06:00:00+00:00"
         ],
         "y": [
          -22.699999999999942,
          -1.5999999999993797,
          -0.8999999999992347,
          -3.1999999999987594,
          -1.7999999999984695,
          -3.7999999999982492,
          -56.099999999996705,
          243.8000000000051,
          121.40000000000704,
          166.9000000000076,
          235.30000000000717,
          51.90000000000694,
          83.8000000000072,
          140.4000000000072,
          139.4000000000073,
          121.40000000000707,
          129.50000000000685,
          96.10000000000787,
          48.20000000000937,
          79.80000000000989,
          106.00000000000833,
          89.50000000000682,
          109.40000000000619,
          116.20000000000633,
          71.40000000000593,
          113.40000000000575,
          71.30000000000527,
          95.6000000000046,
          107.00000000000378,
          85.80000000000257,
          45.800000000002534,
          68.40000000000182,
          71.60000000000059,
          62.89999999999911,
          -6.000000000001521,
          70.19999999999807,
          39.99999999999784,
          55.29999999999815,
          75.99999999999831,
          -2.400000000000162,
          -37.39999999999853,
          38.600000000001984,
          34.20000000000202,
          35.700000000002966,
          24.400000000004432,
          27.400000000004102,
          1.0000000000021245,
          37.90000000000183,
          45.80000000000251,
          52.500000000002,
          173.40000000000134,
          101.2000000000013,
          80.60000000000178,
          55.60000000000232,
          3.2000000000032074,
          -22.19999999999666,
          -77.39999999999635,
          -114.9999999999962,
          -108.79999999999778,
          -141.3999999999982,
          -174.5999999999981,
          -238.5999999999977,
          -235.49999999999736,
          -264.39999999999793,
          -334.39999999999907,
          -353.30000000000075,
          -346.20000000000084,
          -473.6000000000006,
          -519.2000000000018,
          -574.8000000000019,
          -668.4000000000023,
          -763.6000000000042,
          -671.200000000005,
          -591.8000000000045,
          -651.0000000000038,
          -670.200000000003,
          -708.1000000000026,
          -753.0000000000036,
          -766.0000000000044,
          -700.6000000000046,
          -699.0000000000052,
          -701.6000000000067,
          -716.8000000000086,
          -724.2000000000104,
          -614.5000000000111,
          -635.2000000000113,
          -640.6000000000112,
          -582.4000000000096,
          -602.6000000000088,
          -575.6000000000096,
          -608.6000000000104,
          -549.0000000000107,
          -583.0000000000114,
          -444.60000000001287,
          -462.6000000000131,
          -414.0000000000122,
          -412.60000000001196,
          -491.0000000000126,
          -526.0000000000132,
          -511.9000000000141,
          -513.200000000016,
          -532.2000000000161,
          -542.7000000000161,
          -564.200000000017,
          -583.2000000000171,
          -647.2000000000168,
          -760.5000000000174,
          -725.6000000000174,
          -746.400000000016,
          -785.4000000000161,
          -872.800000000018,
          -899.5000000000198,
          -962.9000000000199,
          -898.20000000002,
          -937.7000000000213,
          -934.4000000000219,
          -921.200000000022,
          -932.6000000000212,
          -955.5000000000202,
          -930.0000000000197,
          -915.2000000000204,
          -960.8000000000216,
          -902.4000000000209,
          -911.7000000000196,
          -839.6000000000203,
          -869.5000000000207,
          -1016.50000000002,
          -976.4000000000193,
          -955.8000000000176,
          -829.0000000000173,
          -855.400000000017,
          -874.2000000000158,
          -857.2000000000155,
          -778.4000000000144,
          -871.0000000000126,
          -391.30000000001195,
          -486.9000000000121,
          -574.2000000000112,
          -668.2000000000097,
          -739.600000000009,
          -679.0000000000094,
          -750.2000000000096,
          -586.8000000000094,
          -711.6000000000099,
          -784.9000000000106,
          -898.3000000000118,
          -672.4000000000129,
          -602.8000000000121,
          -688.8000000000116,
          -588.0000000000128,
          -649.8000000000136,
          -614.7000000000123,
          -686.5000000000119,
          -741.1000000000122,
          -819.4000000000123,
          -902.6000000000133,
          -904.400000000014,
          -992.4000000000132,
          -826.6000000000128,
          -738.0000000000141,
          -628.2000000000141,
          -605.8000000000139,
          -646.0000000000152,
          -585.0000000000152,
          -617.1000000000146,
          -685.0000000000153,
          -716.0000000000164,
          -750.8000000000179,
          -682.500000000019,
          -659.7000000000183,
          -503.1000000000183,
          -644.6000000000193,
          -655.8000000000194,
          -639.0000000000182,
          -677.800000000017,
          -733.3000000000164,
          -744.4000000000159,
          -673.2000000000157,
          -729.8000000000158,
          -795.8000000000152,
          -818.6000000000158,
          -535.3000000000161,
          -421.50000000001444,
          -538.8000000000123,
          -493.40000000001027,
          -599.6000000000088,
          -657.0000000000074,
          -525.5000000000075,
          -220.60000000000844,
          -258.0000000000092,
          -238.40000000000958,
          -231.00000000000995,
          -258.80000000001,
          -274.4000000000101,
          -253.6000000000115,
          -249.20000000001156,
          -147.60000000001207,
          -168.2000000000138,
          -133.20000000001545,
          -128.70000000001704,
          -132.80000000001726,
          -80.60000000001725,
          -60.1000000000184,
          -7.800000000019942,
          266.99999999997954,
          300.89999999997957,
          287.1999999999786,
          246.5999999999769,
          152.99999999997652,
          165.1999999999765,
          169.19999999997606,
          182.89999999997698,
          146.39999999997767,
          33.3999999999768,
          224.19999999997663,
          196.19999999997748,
          194.1999999999777,
          171.7999999999775,
          153.09999999997711,
          236.1999999999775,
          221.39999999997826,
          198.39999999997858,
          139.7999999999788,
          106.19999999997852,
          125.39999999997774,
          103.19999999997663,
          110.39999999997494,
          49.799999999973174,
          26.199999999971777,
          6.599999999972159,
          72.6999999999722,
          26.79999999997127,
          26.19999999997178,
          213.39999999997247,
          183.59999999997262,
          189.39999999997286,
          150.1999999999736,
          105.79999999997362,
          76.49999999997263,
          47.99999999997244,
          25.099999999973406,
          42.99999999997521,
          -33.00000000002307,
          -16.000000000022723,
          -23.600000000023662,
          -89.00000000002356,
          -158.80000000002343,
          -191.60000000002293,
          -236.60000000002242,
          -247.00000000002393,
          -228.8000000000246,
          -283.20000000002346,
          -320.2000000000216,
          -320.60000000001975,
          -471.20000000001824,
          -531.7000000000171,
          -519.6000000000178,
          -521.0000000000181,
          -470.8000000000178,
          -357.80000000001917,
          -394.60000000002043,
          -570.7000000000216,
          -465.2000000000233,
          -456.00000000002296,
          -487.40000000002215,
          -509.80000000002235,
          -526.2000000000232,
          -628.6000000000236,
          -663.7000000000226,
          -664.4000000000227,
          -673.5000000000224,
          -715.0000000000211,
          -734.0000000000213,
          -727.2000000000211,
          -588.4000000000199,
          -590.0000000000192,
          -574.8000000000195,
          -602.00000000002,
          -639.100000000021,
          -664.2000000000212,
          -725.2000000000212,
          -741.0000000000225,
          -745.5000000000231,
          -787.8000000000227
         ]
        }
       ],
       "layout": {
        "font": {
         "color": "#e1e1e1",
         "size": 10
        },
        "height": 400,
        "margin": {
         "b": 15,
         "l": 15,
         "t": 10
        },
        "paper_bgcolor": "#1e1e1e",
        "plot_bgcolor": "#1e1e1e",
        "template": {
         "data": {
          "bar": [
           {
            "error_x": {
             "color": "#2a3f5f"
            },
            "error_y": {
             "color": "#2a3f5f"
            },
            "marker": {
             "line": {
              "color": "#E5ECF6",
              "width": 0.5
             },
             "pattern": {
              "fillmode": "overlay",
              "size": 10,
              "solidity": 0.2
             }
            },
            "type": "bar"
           }
          ],
          "barpolar": [
           {
            "marker": {
             "line": {
              "color": "#E5ECF6",
              "width": 0.5
             },
             "pattern": {
              "fillmode": "overlay",
              "size": 10,
              "solidity": 0.2
             }
            },
            "type": "barpolar"
           }
          ],
          "carpet": [
           {
            "aaxis": {
             "endlinecolor": "#2a3f5f",
             "gridcolor": "white",
             "linecolor": "white",
             "minorgridcolor": "white",
             "startlinecolor": "#2a3f5f"
            },
            "baxis": {
             "endlinecolor": "#2a3f5f",
             "gridcolor": "white",
             "linecolor": "white",
             "minorgridcolor": "white",
             "startlinecolor": "#2a3f5f"
            },
            "type": "carpet"
           }
          ],
          "choropleth": [
           {
            "colorbar": {
             "outlinewidth": 0,
             "ticks": ""
            },
            "type": "choropleth"
           }
          ],
          "contour": [
           {
            "colorbar": {
             "outlinewidth": 0,
             "ticks": ""
            },
            "colorscale": [
             [
              0,
              "#0d0887"
             ],
             [
              0.1111111111111111,
              "#46039f"
             ],
             [
              0.2222222222222222,
              "#7201a8"
             ],
             [
              0.3333333333333333,
              "#9c179e"
             ],
             [
              0.4444444444444444,
              "#bd3786"
             ],
             [
              0.5555555555555556,
              "#d8576b"
             ],
             [
              0.6666666666666666,
              "#ed7953"
             ],
             [
              0.7777777777777778,
              "#fb9f3a"
             ],
             [
              0.8888888888888888,
              "#fdca26"
             ],
             [
              1,
              "#f0f921"
             ]
            ],
            "type": "contour"
           }
          ],
          "contourcarpet": [
           {
            "colorbar": {
             "outlinewidth": 0,
             "ticks": ""
            },
            "type": "contourcarpet"
           }
          ],
          "heatmap": [
           {
            "colorbar": {
             "outlinewidth": 0,
             "ticks": ""
            },
            "colorscale": [
             [
              0,
              "#0d0887"
             ],
             [
              0.1111111111111111,
              "#46039f"
             ],
             [
              0.2222222222222222,
              "#7201a8"
             ],
             [
              0.3333333333333333,
              "#9c179e"
             ],
             [
              0.4444444444444444,
              "#bd3786"
             ],
             [
              0.5555555555555556,
              "#d8576b"
             ],
             [
              0.6666666666666666,
              "#ed7953"
             ],
             [
              0.7777777777777778,
              "#fb9f3a"
             ],
             [
              0.8888888888888888,
              "#fdca26"
             ],
             [
              1,
              "#f0f921"
             ]
            ],
            "type": "heatmap"
           }
          ],
          "heatmapgl": [
           {
            "colorbar": {
             "outlinewidth": 0,
             "ticks": ""
            },
            "colorscale": [
             [
              0,
              "#0d0887"
             ],
             [
              0.1111111111111111,
              "#46039f"
             ],
             [
              0.2222222222222222,
              "#7201a8"
             ],
             [
              0.3333333333333333,
              "#9c179e"
             ],
             [
              0.4444444444444444,
              "#bd3786"
             ],
             [
              0.5555555555555556,
              "#d8576b"
             ],
             [
              0.6666666666666666,
              "#ed7953"
             ],
             [
              0.7777777777777778,
              "#fb9f3a"
             ],
             [
              0.8888888888888888,
              "#fdca26"
             ],
             [
              1,
              "#f0f921"
             ]
            ],
            "type": "heatmapgl"
           }
          ],
          "histogram": [
           {
            "marker": {
             "pattern": {
              "fillmode": "overlay",
              "size": 10,
              "solidity": 0.2
             }
            },
            "type": "histogram"
           }
          ],
          "histogram2d": [
           {
            "colorbar": {
             "outlinewidth": 0,
             "ticks": ""
            },
            "colorscale": [
             [
              0,
              "#0d0887"
             ],
             [
              0.1111111111111111,
              "#46039f"
             ],
             [
              0.2222222222222222,
              "#7201a8"
             ],
             [
              0.3333333333333333,
              "#9c179e"
             ],
             [
              0.4444444444444444,
              "#bd3786"
             ],
             [
              0.5555555555555556,
              "#d8576b"
             ],
             [
              0.6666666666666666,
              "#ed7953"
             ],
             [
              0.7777777777777778,
              "#fb9f3a"
             ],
             [
              0.8888888888888888,
              "#fdca26"
             ],
             [
              1,
              "#f0f921"
             ]
            ],
            "type": "histogram2d"
           }
          ],
          "histogram2dcontour": [
           {
            "colorbar": {
             "outlinewidth": 0,
             "ticks": ""
            },
            "colorscale": [
             [
              0,
              "#0d0887"
             ],
             [
              0.1111111111111111,
              "#46039f"
             ],
             [
              0.2222222222222222,
              "#7201a8"
             ],
             [
              0.3333333333333333,
              "#9c179e"
             ],
             [
              0.4444444444444444,
              "#bd3786"
             ],
             [
              0.5555555555555556,
              "#d8576b"
             ],
             [
              0.6666666666666666,
              "#ed7953"
             ],
             [
              0.7777777777777778,
              "#fb9f3a"
             ],
             [
              0.8888888888888888,
              "#fdca26"
             ],
             [
              1,
              "#f0f921"
             ]
            ],
            "type": "histogram2dcontour"
           }
          ],
          "mesh3d": [
           {
            "colorbar": {
             "outlinewidth": 0,
             "ticks": ""
            },
            "type": "mesh3d"
           }
          ],
          "parcoords": [
           {
            "line": {
             "colorbar": {
              "outlinewidth": 0,
              "ticks": ""
             }
            },
            "type": "parcoords"
           }
          ],
          "pie": [
           {
            "automargin": true,
            "type": "pie"
           }
          ],
          "scatter": [
           {
            "fillpattern": {
             "fillmode": "overlay",
             "size": 10,
             "solidity": 0.2
            },
            "type": "scatter"
           }
          ],
          "scatter3d": [
           {
            "line": {
             "colorbar": {
              "outlinewidth": 0,
              "ticks": ""
             }
            },
            "marker": {
             "colorbar": {
              "outlinewidth": 0,
              "ticks": ""
             }
            },
            "type": "scatter3d"
           }
          ],
          "scattercarpet": [
           {
            "marker": {
             "colorbar": {
              "outlinewidth": 0,
              "ticks": ""
             }
            },
            "type": "scattercarpet"
           }
          ],
          "scattergeo": [
           {
            "marker": {
             "colorbar": {
              "outlinewidth": 0,
              "ticks": ""
             }
            },
            "type": "scattergeo"
           }
          ],
          "scattergl": [
           {
            "marker": {
             "colorbar": {
              "outlinewidth": 0,
              "ticks": ""
             }
            },
            "type": "scattergl"
           }
          ],
          "scattermapbox": [
           {
            "marker": {
             "colorbar": {
              "outlinewidth": 0,
              "ticks": ""
             }
            },
            "type": "scattermapbox"
           }
          ],
          "scatterpolar": [
           {
            "marker": {
             "colorbar": {
              "outlinewidth": 0,
              "ticks": ""
             }
            },
            "type": "scatterpolar"
           }
          ],
          "scatterpolargl": [
           {
            "marker": {
             "colorbar": {
              "outlinewidth": 0,
              "ticks": ""
             }
            },
            "type": "scatterpolargl"
           }
          ],
          "scatterternary": [
           {
            "marker": {
             "colorbar": {
              "outlinewidth": 0,
              "ticks": ""
             }
            },
            "type": "scatterternary"
           }
          ],
          "surface": [
           {
            "colorbar": {
             "outlinewidth": 0,
             "ticks": ""
            },
            "colorscale": [
             [
              0,
              "#0d0887"
             ],
             [
              0.1111111111111111,
              "#46039f"
             ],
             [
              0.2222222222222222,
              "#7201a8"
             ],
             [
              0.3333333333333333,
              "#9c179e"
             ],
             [
              0.4444444444444444,
              "#bd3786"
             ],
             [
              0.5555555555555556,
              "#d8576b"
             ],
             [
              0.6666666666666666,
              "#ed7953"
             ],
             [
              0.7777777777777778,
              "#fb9f3a"
             ],
             [
              0.8888888888888888,
              "#fdca26"
             ],
             [
              1,
              "#f0f921"
             ]
            ],
            "type": "surface"
           }
          ],
          "table": [
           {
            "cells": {
             "fill": {
              "color": "#EBF0F8"
             },
             "line": {
              "color": "white"
             }
            },
            "header": {
             "fill": {
              "color": "#C8D4E3"
             },
             "line": {
              "color": "white"
             }
            },
            "type": "table"
           }
          ]
         },
         "layout": {
          "annotationdefaults": {
           "arrowcolor": "#2a3f5f",
           "arrowhead": 0,
           "arrowwidth": 1
          },
          "autotypenumbers": "strict",
          "coloraxis": {
           "colorbar": {
            "outlinewidth": 0,
            "ticks": ""
           }
          },
          "colorscale": {
           "diverging": [
            [
             0,
             "#8e0152"
            ],
            [
             0.1,
             "#c51b7d"
            ],
            [
             0.2,
             "#de77ae"
            ],
            [
             0.3,
             "#f1b6da"
            ],
            [
             0.4,
             "#fde0ef"
            ],
            [
             0.5,
             "#f7f7f7"
            ],
            [
             0.6,
             "#e6f5d0"
            ],
            [
             0.7,
             "#b8e186"
            ],
            [
             0.8,
             "#7fbc41"
            ],
            [
             0.9,
             "#4d9221"
            ],
            [
             1,
             "#276419"
            ]
           ],
           "sequential": [
            [
             0,
             "#0d0887"
            ],
            [
             0.1111111111111111,
             "#46039f"
            ],
            [
             0.2222222222222222,
             "#7201a8"
            ],
            [
             0.3333333333333333,
             "#9c179e"
            ],
            [
             0.4444444444444444,
             "#bd3786"
            ],
            [
             0.5555555555555556,
             "#d8576b"
            ],
            [
             0.6666666666666666,
             "#ed7953"
            ],
            [
             0.7777777777777778,
             "#fb9f3a"
            ],
            [
             0.8888888888888888,
             "#fdca26"
            ],
            [
             1,
             "#f0f921"
            ]
           ],
           "sequentialminus": [
            [
             0,
             "#0d0887"
            ],
            [
             0.1111111111111111,
             "#46039f"
            ],
            [
             0.2222222222222222,
             "#7201a8"
            ],
            [
             0.3333333333333333,
             "#9c179e"
            ],
            [
             0.4444444444444444,
             "#bd3786"
            ],
            [
             0.5555555555555556,
             "#d8576b"
            ],
            [
             0.6666666666666666,
             "#ed7953"
            ],
            [
             0.7777777777777778,
             "#fb9f3a"
            ],
            [
             0.8888888888888888,
             "#fdca26"
            ],
            [
             1,
             "#f0f921"
            ]
           ]
          },
          "colorway": [
           "#636efa",
           "#EF553B",
           "#00cc96",
           "#ab63fa",
           "#FFA15A",
           "#19d3f3",
           "#FF6692",
           "#B6E880",
           "#FF97FF",
           "#FECB52"
          ],
          "font": {
           "color": "#2a3f5f"
          },
          "geo": {
           "bgcolor": "white",
           "lakecolor": "white",
           "landcolor": "#E5ECF6",
           "showlakes": true,
           "showland": true,
           "subunitcolor": "white"
          },
          "hoverlabel": {
           "align": "left"
          },
          "hovermode": "closest",
          "mapbox": {
           "style": "light"
          },
          "paper_bgcolor": "white",
          "plot_bgcolor": "#E5ECF6",
          "polar": {
           "angularaxis": {
            "gridcolor": "white",
            "linecolor": "white",
            "ticks": ""
           },
           "bgcolor": "#E5ECF6",
           "radialaxis": {
            "gridcolor": "white",
            "linecolor": "white",
            "ticks": ""
           }
          },
          "scene": {
           "xaxis": {
            "backgroundcolor": "#E5ECF6",
            "gridcolor": "white",
            "gridwidth": 2,
            "linecolor": "white",
            "showbackground": true,
            "ticks": "",
            "zerolinecolor": "white"
           },
           "yaxis": {
            "backgroundcolor": "#E5ECF6",
            "gridcolor": "white",
            "gridwidth": 2,
            "linecolor": "white",
            "showbackground": true,
            "ticks": "",
            "zerolinecolor": "white"
           },
           "zaxis": {
            "backgroundcolor": "#E5ECF6",
            "gridcolor": "white",
            "gridwidth": 2,
            "linecolor": "white",
            "showbackground": true,
            "ticks": "",
            "zerolinecolor": "white"
           }
          },
          "shapedefaults": {
           "line": {
            "color": "#2a3f5f"
           }
          },
          "ternary": {
           "aaxis": {
            "gridcolor": "white",
            "linecolor": "white",
            "ticks": ""
           },
           "baxis": {
            "gridcolor": "white",
            "linecolor": "white",
            "ticks": ""
           },
           "bgcolor": "#E5ECF6",
           "caxis": {
            "gridcolor": "white",
            "linecolor": "white",
            "ticks": ""
           }
          },
          "title": {
           "x": 0.05
          },
          "xaxis": {
           "automargin": true,
           "gridcolor": "white",
           "linecolor": "white",
           "ticks": "",
           "title": {
            "standoff": 15
           },
           "zerolinecolor": "white",
           "zerolinewidth": 2
          },
          "yaxis": {
           "automargin": true,
           "gridcolor": "white",
           "linecolor": "white",
           "ticks": "",
           "title": {
            "standoff": 15
           },
           "zerolinecolor": "white",
           "zerolinewidth": 2
          }
         }
        },
        "title": {
         "text": "GBP_USD_MA_8_16"
        },
        "width": 1000,
        "xaxis": {
         "linecolor": "#3a4a54",
         "linewidth": 1,
         "showgrid": false,
         "zeroline": false
        },
        "yaxis": {
         "linecolor": "#3a4a54",
         "linewidth": 1,
         "showgrid": false,
         "zeroline": false
        }
       }
      }
     },
     "metadata": {},
     "output_type": "display_data"
    },
    {
     "data": {
      "application/vnd.plotly.v1+json": {
       "config": {
        "plotlyServerURL": "https://plot.ly"
       },
       "data": [
        {
         "line": {
          "color": "#3d825f",
          "shape": "spline",
          "width": 2
         },
         "mode": "lines",
         "name": "GBP_CAD_MA_8_16",
         "type": "scatter",
         "x": [
          "2022-06-07T14:00:00+00:00",
          "2022-06-08T03:00:00+00:00",
          "2022-06-08T21:00:00+00:00",
          "2022-06-09T07:00:00+00:00",
          "2022-06-09T13:00:00+00:00",
          "2022-06-10T08:00:00+00:00",
          "2022-06-14T02:00:00+00:00",
          "2022-06-14T12:00:00+00:00",
          "2022-06-15T03:00:00+00:00",
          "2022-06-16T05:00:00+00:00",
          "2022-06-16T11:00:00+00:00",
          "2022-06-17T05:00:00+00:00",
          "2022-06-17T14:00:00+00:00",
          "2022-06-17T16:00:00+00:00",
          "2022-06-20T09:00:00+00:00",
          "2022-06-20T20:00:00+00:00",
          "2022-06-22T04:00:00+00:00",
          "2022-06-22T22:00:00+00:00",
          "2022-06-23T05:00:00+00:00",
          "2022-06-23T07:00:00+00:00",
          "2022-06-23T16:00:00+00:00",
          "2022-06-24T13:00:00+00:00",
          "2022-06-27T11:00:00+00:00",
          "2022-06-27T18:00:00+00:00",
          "2022-06-29T03:00:00+00:00",
          "2022-06-29T09:00:00+00:00",
          "2022-06-30T00:00:00+00:00",
          "2022-07-01T02:00:00+00:00",
          "2022-07-03T22:00:00+00:00",
          "2022-07-04T09:00:00+00:00",
          "2022-07-04T11:00:00+00:00",
          "2022-07-04T20:00:00+00:00",
          "2022-07-05T06:00:00+00:00",
          "2022-07-05T07:00:00+00:00",
          "2022-07-05T08:00:00+00:00",
          "2022-07-05T09:00:00+00:00",
          "2022-07-05T18:00:00+00:00",
          "2022-07-06T06:00:00+00:00",
          "2022-07-06T07:00:00+00:00",
          "2022-07-06T09:00:00+00:00",
          "2022-07-06T21:00:00+00:00",
          "2022-07-06T22:00:00+00:00",
          "2022-07-06T23:00:00+00:00",
          "2022-07-07T04:00:00+00:00",
          "2022-07-07T06:00:00+00:00",
          "2022-07-08T09:00:00+00:00",
          "2022-07-08T19:00:00+00:00",
          "2022-07-11T01:00:00+00:00",
          "2022-07-12T03:00:00+00:00",
          "2022-07-12T07:00:00+00:00",
          "2022-07-12T16:00:00+00:00",
          "2022-07-13T14:00:00+00:00",
          "2022-07-14T09:00:00+00:00",
          "2022-07-14T22:00:00+00:00",
          "2022-07-15T02:00:00+00:00",
          "2022-07-15T09:00:00+00:00",
          "2022-07-18T02:00:00+00:00",
          "2022-07-18T20:00:00+00:00",
          "2022-07-19T08:00:00+00:00",
          "2022-07-19T17:00:00+00:00",
          "2022-07-20T06:00:00+00:00",
          "2022-07-20T11:00:00+00:00",
          "2022-07-21T04:00:00+00:00",
          "2022-07-21T07:00:00+00:00",
          "2022-07-21T22:00:00+00:00",
          "2022-07-22T07:00:00+00:00",
          "2022-07-22T16:00:00+00:00",
          "2022-07-25T17:00:00+00:00",
          "2022-07-26T03:00:00+00:00",
          "2022-07-26T07:00:00+00:00",
          "2022-07-26T17:00:00+00:00",
          "2022-07-27T05:00:00+00:00",
          "2022-07-27T07:00:00+00:00",
          "2022-07-28T09:00:00+00:00",
          "2022-07-28T20:00:00+00:00",
          "2022-07-29T14:00:00+00:00",
          "2022-07-31T22:00:00+00:00",
          "2022-08-02T08:00:00+00:00",
          "2022-08-03T08:00:00+00:00",
          "2022-08-03T12:00:00+00:00",
          "2022-08-04T04:00:00+00:00",
          "2022-08-04T12:00:00+00:00",
          "2022-08-04T20:00:00+00:00",
          "2022-08-05T06:00:00+00:00",
          "2022-08-05T10:00:00+00:00",
          "2022-08-05T14:00:00+00:00",
          "2022-08-08T02:00:00+00:00",
          "2022-08-08T10:00:00+00:00",
          "2022-08-09T06:00:00+00:00",
          "2022-08-09T21:00:00+00:00",
          "2022-08-10T06:00:00+00:00",
          "2022-08-10T23:00:00+00:00",
          "2022-08-11T11:00:00+00:00",
          "2022-08-11T16:00:00+00:00",
          "2022-08-15T00:00:00+00:00",
          "2022-08-15T01:00:00+00:00",
          "2022-08-15T07:00:00+00:00",
          "2022-08-15T21:00:00+00:00",
          "2022-08-16T17:00:00+00:00",
          "2022-08-16T22:00:00+00:00",
          "2022-08-17T03:00:00+00:00",
          "2022-08-17T18:00:00+00:00",
          "2022-08-18T04:00:00+00:00",
          "2022-08-18T07:00:00+00:00",
          "2022-08-22T02:00:00+00:00",
          "2022-08-22T07:00:00+00:00",
          "2022-08-22T19:00:00+00:00",
          "2022-08-23T03:00:00+00:00",
          "2022-08-23T15:00:00+00:00",
          "2022-08-23T22:00:00+00:00",
          "2022-08-24T07:00:00+00:00",
          "2022-08-24T11:00:00+00:00",
          "2022-08-25T05:00:00+00:00",
          "2022-08-25T10:00:00+00:00",
          "2022-08-25T20:00:00+00:00",
          "2022-08-26T06:00:00+00:00",
          "2022-08-26T14:00:00+00:00",
          "2022-08-29T00:00:00+00:00",
          "2022-08-29T13:00:00+00:00",
          "2022-08-29T18:00:00+00:00",
          "2022-08-30T05:00:00+00:00",
          "2022-08-30T07:00:00+00:00",
          "2022-08-30T11:00:00+00:00",
          "2022-08-31T09:00:00+00:00",
          "2022-08-31T22:00:00+00:00",
          "2022-09-01T06:00:00+00:00",
          "2022-09-01T07:00:00+00:00",
          "2022-09-01T14:00:00+00:00",
          "2022-09-02T05:00:00+00:00",
          "2022-09-02T13:00:00+00:00",
          "2022-09-05T09:00:00+00:00",
          "2022-09-06T14:00:00+00:00",
          "2022-09-07T21:00:00+00:00",
          "2022-09-08T05:00:00+00:00",
          "2022-09-08T14:00:00+00:00",
          "2022-09-08T17:00:00+00:00",
          "2022-09-09T04:00:00+00:00",
          "2022-09-09T16:00:00+00:00",
          "2022-09-09T19:00:00+00:00",
          "2022-09-12T21:00:00+00:00",
          "2022-09-13T04:00:00+00:00",
          "2022-09-13T14:00:00+00:00",
          "2022-09-14T02:00:00+00:00",
          "2022-09-14T21:00:00+00:00",
          "2022-09-15T23:00:00+00:00",
          "2022-09-16T07:00:00+00:00",
          "2022-09-16T18:00:00+00:00",
          "2022-09-19T03:00:00+00:00",
          "2022-09-19T16:00:00+00:00",
          "2022-09-20T02:00:00+00:00",
          "2022-09-20T08:00:00+00:00",
          "2022-09-21T05:00:00+00:00",
          "2022-09-21T21:00:00+00:00",
          "2022-09-21T23:00:00+00:00",
          "2022-09-22T00:00:00+00:00",
          "2022-09-22T18:00:00+00:00",
          "2022-09-26T11:00:00+00:00",
          "2022-09-26T23:00:00+00:00",
          "2022-09-27T04:00:00+00:00",
          "2022-09-27T17:00:00+00:00",
          "2022-09-28T10:00:00+00:00",
          "2022-09-28T11:00:00+00:00",
          "2022-09-28T18:00:00+00:00",
          "2022-09-29T04:00:00+00:00",
          "2022-09-29T09:00:00+00:00",
          "2022-09-30T13:00:00+00:00",
          "2022-09-30T14:00:00+00:00",
          "2022-10-03T04:00:00+00:00",
          "2022-10-03T10:00:00+00:00",
          "2022-10-03T20:00:00+00:00",
          "2022-10-03T21:00:00+00:00",
          "2022-10-05T00:00:00+00:00",
          "2022-10-06T00:00:00+00:00",
          "2022-10-06T08:00:00+00:00",
          "2022-10-07T04:00:00+00:00",
          "2022-10-07T07:00:00+00:00",
          "2022-10-07T08:00:00+00:00",
          "2022-10-07T13:00:00+00:00",
          "2022-10-10T04:00:00+00:00",
          "2022-10-10T05:00:00+00:00",
          "2022-10-10T07:00:00+00:00",
          "2022-10-10T08:00:00+00:00",
          "2022-10-10T20:00:00+00:00",
          "2022-10-11T20:00:00+00:00",
          "2022-10-12T09:00:00+00:00",
          "2022-10-13T07:00:00+00:00",
          "2022-10-13T10:00:00+00:00",
          "2022-10-14T02:00:00+00:00",
          "2022-10-14T20:00:00+00:00",
          "2022-10-17T23:00:00+00:00",
          "2022-10-18T18:00:00+00:00",
          "2022-10-19T06:00:00+00:00",
          "2022-10-20T06:00:00+00:00",
          "2022-10-20T08:00:00+00:00",
          "2022-10-20T17:00:00+00:00",
          "2022-10-21T04:00:00+00:00",
          "2022-10-21T20:00:00+00:00",
          "2022-10-24T16:00:00+00:00",
          "2022-10-25T05:00:00+00:00",
          "2022-10-26T02:00:00+00:00",
          "2022-10-26T09:00:00+00:00",
          "2022-10-27T07:00:00+00:00",
          "2022-10-28T03:00:00+00:00",
          "2022-10-28T05:00:00+00:00",
          "2022-10-28T11:00:00+00:00",
          "2022-10-31T08:00:00+00:00",
          "2022-11-01T07:00:00+00:00",
          "2022-11-01T22:00:00+00:00",
          "2022-11-01T23:00:00+00:00",
          "2022-11-02T08:00:00+00:00",
          "2022-11-04T05:00:00+00:00",
          "2022-11-04T08:00:00+00:00",
          "2022-11-06T22:00:00+00:00",
          "2022-11-08T07:00:00+00:00",
          "2022-11-08T20:00:00+00:00",
          "2022-11-09T06:00:00+00:00",
          "2022-11-10T01:00:00+00:00",
          "2022-11-11T04:00:00+00:00",
          "2022-11-11T09:00:00+00:00",
          "2022-11-14T04:00:00+00:00",
          "2022-11-14T12:00:00+00:00",
          "2022-11-14T17:00:00+00:00",
          "2022-11-14T23:00:00+00:00",
          "2022-11-15T23:00:00+00:00",
          "2022-11-16T09:00:00+00:00",
          "2022-11-17T12:00:00+00:00",
          "2022-11-18T00:00:00+00:00",
          "2022-11-21T00:00:00+00:00",
          "2022-11-21T16:00:00+00:00",
          "2022-11-22T10:00:00+00:00",
          "2022-11-22T16:00:00+00:00",
          "2022-11-22T23:00:00+00:00",
          "2022-11-23T07:00:00+00:00",
          "2022-11-24T23:00:00+00:00",
          "2022-11-25T13:00:00+00:00",
          "2022-11-28T17:00:00+00:00",
          "2022-11-29T08:00:00+00:00",
          "2022-11-30T02:00:00+00:00",
          "2022-11-30T08:00:00+00:00",
          "2022-11-30T11:00:00+00:00",
          "2022-12-01T01:00:00+00:00",
          "2022-12-02T05:00:00+00:00",
          "2022-12-02T08:00:00+00:00",
          "2022-12-05T06:00:00+00:00",
          "2022-12-05T19:00:00+00:00",
          "2022-12-06T22:00:00+00:00",
          "2022-12-07T10:00:00+00:00",
          "2022-12-08T08:00:00+00:00",
          "2022-12-08T23:00:00+00:00",
          "2022-12-12T00:00:00+00:00",
          "2022-12-12T10:00:00+00:00",
          "2022-12-12T21:00:00+00:00",
          "2022-12-13T11:00:00+00:00",
          "2022-12-13T23:00:00+00:00",
          "2022-12-14T06:00:00+00:00",
          "2022-12-15T04:00:00+00:00",
          "2022-12-16T06:00:00+00:00",
          "2022-12-16T07:00:00+00:00",
          "2022-12-16T08:00:00+00:00",
          "2022-12-16T09:00:00+00:00",
          "2022-12-16T14:00:00+00:00",
          "2022-12-19T01:00:00+00:00",
          "2022-12-19T09:00:00+00:00",
          "2022-12-19T14:00:00+00:00",
          "2022-12-20T08:00:00+00:00",
          "2022-12-20T12:00:00+00:00",
          "2022-12-20T23:00:00+00:00",
          "2022-12-21T08:00:00+00:00",
          "2022-12-22T04:00:00+00:00",
          "2022-12-22T11:00:00+00:00",
          "2022-12-22T23:00:00+00:00",
          "2022-12-23T05:00:00+00:00",
          "2022-12-27T04:00:00+00:00",
          "2022-12-27T09:00:00+00:00",
          "2022-12-28T01:00:00+00:00",
          "2022-12-29T14:00:00+00:00",
          "2022-12-30T18:00:00+00:00",
          "2023-01-02T08:00:00+00:00",
          "2023-01-02T18:00:00+00:00",
          "2023-01-03T08:00:00+00:00",
          "2023-01-03T17:00:00+00:00",
          "2023-01-04T03:00:00+00:00",
          "2023-01-06T03:00:00+00:00",
          "2023-01-06T05:00:00+00:00",
          "2023-01-06T12:00:00+00:00",
          "2023-01-06T14:00:00+00:00",
          "2023-01-06T15:00:00+00:00",
          "2023-01-09T12:00:00+00:00",
          "2023-01-09T18:00:00+00:00",
          "2023-01-10T04:00:00+00:00",
          "2023-01-10T16:00:00+00:00",
          "2023-01-11T09:00:00+00:00",
          "2023-01-11T21:00:00+00:00",
          "2023-01-12T12:00:00+00:00",
          "2023-01-12T22:00:00+00:00",
          "2023-01-13T07:00:00+00:00",
          "2023-01-13T15:00:00+00:00",
          "2023-01-16T09:00:00+00:00",
          "2023-01-16T22:00:00+00:00",
          "2023-01-17T06:00:00+00:00",
          "2023-01-17T08:00:00+00:00",
          "2023-01-19T09:00:00+00:00",
          "2023-01-19T12:00:00+00:00",
          "2023-01-20T05:00:00+00:00",
          "2023-01-23T04:00:00+00:00",
          "2023-01-23T10:00:00+00:00",
          "2023-01-23T22:00:00+00:00",
          "2023-01-24T06:00:00+00:00",
          "2023-01-24T07:00:00+00:00",
          "2023-01-24T09:00:00+00:00",
          "2023-01-24T22:00:00+00:00",
          "2023-01-25T05:00:00+00:00"
         ],
         "y": [
          -16.00000000000046,
          12.399999999999078,
          -10.80000000000192,
          -101.50000000000324,
          -35.10000000000345,
          162.59999999999718,
          102.19999999999672,
          148.79999999999558,
          249.19999999999607,
          214.99999999999628,
          426.9999999999951,
          420.59999999999536,
          402.59999999999513,
          406.5999999999947,
          402.9999999999955,
          438.7999999999969,
          449.69999999999726,
          442.99999999999557,
          365.69999999999544,
          267.7999999999958,
          285.0999999999959,
          385.3999999999957,
          375.3999999999946,
          480.09999999999434,
          443.19999999999465,
          475.79999999999507,
          497.6999999999942,
          557.0999999999925,
          532.799999999991,
          489.99999999999034,
          435.2999999999917,
          426.6999999999931,
          407.19999999999413,
          392.39999999999486,
          380.39999999999395,
          342.09999999999394,
          328.1999999999939,
          320.3999999999939,
          300.1999999999948,
          326.999999999995,
          328.5999999999944,
          324.59999999999263,
          331.69999999999254,
          314.6999999999944,
          291.1999999999959,
          248.59999999999658,
          213.3999999999969,
          304.1999999999967,
          276.3999999999966,
          231.79999999999754,
          235.9999999999984,
          192.1999999999979,
          178.99999999999804,
          178.79999999999896,
          160.00000000000014,
          189.60000000000088,
          242.9999999999999,
          188.99999999999918,
          82.99999999999976,
          98.19999999999942,
          67.79999999999788,
          53.3999999999968,
          23.999999999995154,
          -13.400000000005612,
          -90.50000000000443,
          -206.00000000000392,
          -205.80000000000484,
          -215.9000000000044,
          -260.20000000000374,
          -312.6000000000051,
          -307.00000000000614,
          -299.90000000000623,
          -251.30000000000535,
          -299.20000000000385,
          -310.20000000000266,
          -321.7000000000025,
          -237.6000000000022,
          -218.80000000000118,
          -250.0000000000013,
          -231.80000000000197,
          -292.00000000000114,
          -381.1999999999993,
          -370.1999999999983,
          -370.1999999999983,
          -431.5999999999986,
          -464.3999999999981,
          -473.9999999999966,
          -400.79999999999666,
          -382.59999999999735,
          -387.099999999998,
          -350.09999999999985,
          -345.6999999999999,
          -369.3999999999997,
          -310.6000000000008,
          -326.30000000000155,
          -377.60000000000235,
          -370.4000000000018,
          -355.00000000000085,
          -358.2000000000018,
          -380.0000000000025,
          -376.6000000000024,
          -374.2000000000022,
          -386.2000000000009,
          -202.19999999999897,
          -220.99999999999778,
          -225.79999999999814,
          -240.69999999999806,
          -239.09999999999644,
          -234.09999999999476,
          -241.29999999999308,
          -285.19999999999203,
          -301.9999999999911,
          -338.1999999999906,
          -352.59999999999167,
          -382.9999999999932,
          -433.6999999999945,
          -493.99999999999426,
          -495.8999999999934,
          -533.2999999999942,
          -536.2999999999961,
          -516.3999999999967,
          -509.3999999999975,
          -496.1999999999976,
          -506.3999999999956,
          -508.1999999999941,
          -533.9999999999943,
          -630.1999999999939,
          -639.7999999999925,
          -712.3999999999929,
          -722.7999999999945,
          -722.7999999999945,
          -722.7999999999945,
          -749.1999999999942,
          -726.0999999999939,
          -752.3999999999952,
          -785.4999999999967,
          -763.5999999999975,
          -743.999999999998,
          -670.3999999999976,
          -678.7999999999971,
          -718.7999999999971,
          -734.5999999999963,
          -694.7999999999953,
          -676.3999999999946,
          -741.199999999995,
          -794.9999999999967,
          -811.3999999999976,
          -825.5999999999974,
          -837.9999999999965,
          -877.1999999999957,
          -860.2999999999961,
          -831.7999999999959,
          -833.3999999999952,
          -832.0999999999956,
          -822.7999999999969,
          -378.79999999999694,
          -353.59999999999616,
          -337.19999999999527,
          -406.4999999999941,
          -418.7999999999947,
          -545.3999999999959,
          -823.3999999999963,
          -907.1999999999969,
          -1034.3999999999976,
          -669.9999999999973,
          -769.8999999999967,
          -841.5999999999957,
          -969.1999999999945,
          -953.3999999999953,
          -950.3999999999957,
          -896.899999999996,
          -872.8999999999965,
          -905.699999999996,
          -827.599999999995,
          -819.799999999995,
          -837.9999999999965,
          -970.599999999997,
          -957.7999999999975,
          -963.1999999999973,
          -976.1999999999958,
          -1004.3999999999941,
          -1044.9999999999936,
          -1145.7999999999945,
          -1252.0999999999958,
          -1176.199999999996,
          -1257.6999999999948,
          -1108.9999999999955,
          -1078.6999999999969,
          -1027.5999999999974,
          -1048.4999999999966,
          -1118.6999999999969,
          -1040.9999999999986,
          -1087.6999999999982,
          -1130.5999999999972,
          -1139.199999999998,
          -1123.399999999999,
          -1071.8999999999992,
          -1069.5999999999997,
          -948.1000000000008,
          -1049.2000000000014,
          -990.4000000000003,
          -914.8000000000002,
          -917.9000000000005,
          -974.8000000000003,
          -939.9000000000003,
          -809.1000000000005,
          -787.2000000000013,
          -785.600000000002,
          -786.6000000000018,
          -459.5000000000017,
          -457.9000000000023,
          -458.80000000000376,
          -282.8000000000054,
          -282.0000000000068,
          -275.0000000000076,
          -178.00000000000722,
          -18.300000000006833,
          -86.7000000000064,
          -114.70000000000553,
          -198.20000000000408,
          -252.60000000000298,
          -274.70000000000346,
          -163.3000000000042,
          -143.2000000000035,
          -87.40000000000211,
          -112.00000000000118,
          -50.40000000000175,
          -48.40000000000197,
          -43.00000000000212,
          -67.00000000000392,
          -91.2000000000048,
          -110.40000000000403,
          131.19999999999777,
          118.3999999999983,
          85.7999999999979,
          52.49999999999734,
          145.99999999999704,
          168.59999999999633,
          167.19999999999604,
          193.3999999999967,
          415.59999999999576,
          347.2999999999946,
          374.999999999994,
          356.99999999999375,
          369.99999999999454,
          267.7999999999956,
          269.59999999999627,
          297.7999999999967,
          363.7999999999961,
          285.89999999999645,
          223.49999999999844,
          203.59999999999908,
          212.79999999999941,
          195.1999999999996,
          220.79999999999853,
          376.3999999999987,
          357.0000000000004,
          347.4000000000019,
          324.0000000000018,
          229.50000000000225,
          182.50000000000298,
          167.00000000000358,
          129.00000000000554,
          150.80000000000626,
          85.40000000000636,
          48.000000000007816,
          13.60000000000894,
          91.60000000000923,
          36.00000000000914,
          29.400000000008088,
          24.00000000000824,
          48.40000000000822,
          -20.199999999992656,
          23.80000000000694,
          67.10000000000639,
          28.40000000000599,
          -3.8999999999946695,
          -33.39999999999475,
          -169.199999999994,
          -303.599999999993,
          -305.7999999999918,
          -118.79999999999023,
          -124.99999999998866,
          -162.1999999999881,
          -228.69999999998856,
          -341.79999999999006,
          -351.69999999999055,
          -433.39999999999065,
          -458.7999999999905,
          -497.79999999999063,
          -538.8999999999912,
          -565.1999999999903,
          -604.999999999989,
          -663.6999999999872,
          -682.1999999999863,
          -735.3999999999862,
          -757.0999999999863,
          -773.9999999999859,
          -801.3999999999855,
          -853.8999999999853,
          -566.9999999999843,
          -552.7999999999845,
          -547.5999999999859,
          -502.09999999998536,
          -595.6999999999834,
          -625.9999999999822,
          -623.3999999999807,
          -637.3999999999791,
          -722.799999999979,
          -724.7999999999788,
          -751.4999999999783,
          -811.4999999999783
         ]
        }
       ],
       "layout": {
        "font": {
         "color": "#e1e1e1",
         "size": 10
        },
        "height": 400,
        "margin": {
         "b": 15,
         "l": 15,
         "t": 10
        },
        "paper_bgcolor": "#1e1e1e",
        "plot_bgcolor": "#1e1e1e",
        "template": {
         "data": {
          "bar": [
           {
            "error_x": {
             "color": "#2a3f5f"
            },
            "error_y": {
             "color": "#2a3f5f"
            },
            "marker": {
             "line": {
              "color": "#E5ECF6",
              "width": 0.5
             },
             "pattern": {
              "fillmode": "overlay",
              "size": 10,
              "solidity": 0.2
             }
            },
            "type": "bar"
           }
          ],
          "barpolar": [
           {
            "marker": {
             "line": {
              "color": "#E5ECF6",
              "width": 0.5
             },
             "pattern": {
              "fillmode": "overlay",
              "size": 10,
              "solidity": 0.2
             }
            },
            "type": "barpolar"
           }
          ],
          "carpet": [
           {
            "aaxis": {
             "endlinecolor": "#2a3f5f",
             "gridcolor": "white",
             "linecolor": "white",
             "minorgridcolor": "white",
             "startlinecolor": "#2a3f5f"
            },
            "baxis": {
             "endlinecolor": "#2a3f5f",
             "gridcolor": "white",
             "linecolor": "white",
             "minorgridcolor": "white",
             "startlinecolor": "#2a3f5f"
            },
            "type": "carpet"
           }
          ],
          "choropleth": [
           {
            "colorbar": {
             "outlinewidth": 0,
             "ticks": ""
            },
            "type": "choropleth"
           }
          ],
          "contour": [
           {
            "colorbar": {
             "outlinewidth": 0,
             "ticks": ""
            },
            "colorscale": [
             [
              0,
              "#0d0887"
             ],
             [
              0.1111111111111111,
              "#46039f"
             ],
             [
              0.2222222222222222,
              "#7201a8"
             ],
             [
              0.3333333333333333,
              "#9c179e"
             ],
             [
              0.4444444444444444,
              "#bd3786"
             ],
             [
              0.5555555555555556,
              "#d8576b"
             ],
             [
              0.6666666666666666,
              "#ed7953"
             ],
             [
              0.7777777777777778,
              "#fb9f3a"
             ],
             [
              0.8888888888888888,
              "#fdca26"
             ],
             [
              1,
              "#f0f921"
             ]
            ],
            "type": "contour"
           }
          ],
          "contourcarpet": [
           {
            "colorbar": {
             "outlinewidth": 0,
             "ticks": ""
            },
            "type": "contourcarpet"
           }
          ],
          "heatmap": [
           {
            "colorbar": {
             "outlinewidth": 0,
             "ticks": ""
            },
            "colorscale": [
             [
              0,
              "#0d0887"
             ],
             [
              0.1111111111111111,
              "#46039f"
             ],
             [
              0.2222222222222222,
              "#7201a8"
             ],
             [
              0.3333333333333333,
              "#9c179e"
             ],
             [
              0.4444444444444444,
              "#bd3786"
             ],
             [
              0.5555555555555556,
              "#d8576b"
             ],
             [
              0.6666666666666666,
              "#ed7953"
             ],
             [
              0.7777777777777778,
              "#fb9f3a"
             ],
             [
              0.8888888888888888,
              "#fdca26"
             ],
             [
              1,
              "#f0f921"
             ]
            ],
            "type": "heatmap"
           }
          ],
          "heatmapgl": [
           {
            "colorbar": {
             "outlinewidth": 0,
             "ticks": ""
            },
            "colorscale": [
             [
              0,
              "#0d0887"
             ],
             [
              0.1111111111111111,
              "#46039f"
             ],
             [
              0.2222222222222222,
              "#7201a8"
             ],
             [
              0.3333333333333333,
              "#9c179e"
             ],
             [
              0.4444444444444444,
              "#bd3786"
             ],
             [
              0.5555555555555556,
              "#d8576b"
             ],
             [
              0.6666666666666666,
              "#ed7953"
             ],
             [
              0.7777777777777778,
              "#fb9f3a"
             ],
             [
              0.8888888888888888,
              "#fdca26"
             ],
             [
              1,
              "#f0f921"
             ]
            ],
            "type": "heatmapgl"
           }
          ],
          "histogram": [
           {
            "marker": {
             "pattern": {
              "fillmode": "overlay",
              "size": 10,
              "solidity": 0.2
             }
            },
            "type": "histogram"
           }
          ],
          "histogram2d": [
           {
            "colorbar": {
             "outlinewidth": 0,
             "ticks": ""
            },
            "colorscale": [
             [
              0,
              "#0d0887"
             ],
             [
              0.1111111111111111,
              "#46039f"
             ],
             [
              0.2222222222222222,
              "#7201a8"
             ],
             [
              0.3333333333333333,
              "#9c179e"
             ],
             [
              0.4444444444444444,
              "#bd3786"
             ],
             [
              0.5555555555555556,
              "#d8576b"
             ],
             [
              0.6666666666666666,
              "#ed7953"
             ],
             [
              0.7777777777777778,
              "#fb9f3a"
             ],
             [
              0.8888888888888888,
              "#fdca26"
             ],
             [
              1,
              "#f0f921"
             ]
            ],
            "type": "histogram2d"
           }
          ],
          "histogram2dcontour": [
           {
            "colorbar": {
             "outlinewidth": 0,
             "ticks": ""
            },
            "colorscale": [
             [
              0,
              "#0d0887"
             ],
             [
              0.1111111111111111,
              "#46039f"
             ],
             [
              0.2222222222222222,
              "#7201a8"
             ],
             [
              0.3333333333333333,
              "#9c179e"
             ],
             [
              0.4444444444444444,
              "#bd3786"
             ],
             [
              0.5555555555555556,
              "#d8576b"
             ],
             [
              0.6666666666666666,
              "#ed7953"
             ],
             [
              0.7777777777777778,
              "#fb9f3a"
             ],
             [
              0.8888888888888888,
              "#fdca26"
             ],
             [
              1,
              "#f0f921"
             ]
            ],
            "type": "histogram2dcontour"
           }
          ],
          "mesh3d": [
           {
            "colorbar": {
             "outlinewidth": 0,
             "ticks": ""
            },
            "type": "mesh3d"
           }
          ],
          "parcoords": [
           {
            "line": {
             "colorbar": {
              "outlinewidth": 0,
              "ticks": ""
             }
            },
            "type": "parcoords"
           }
          ],
          "pie": [
           {
            "automargin": true,
            "type": "pie"
           }
          ],
          "scatter": [
           {
            "fillpattern": {
             "fillmode": "overlay",
             "size": 10,
             "solidity": 0.2
            },
            "type": "scatter"
           }
          ],
          "scatter3d": [
           {
            "line": {
             "colorbar": {
              "outlinewidth": 0,
              "ticks": ""
             }
            },
            "marker": {
             "colorbar": {
              "outlinewidth": 0,
              "ticks": ""
             }
            },
            "type": "scatter3d"
           }
          ],
          "scattercarpet": [
           {
            "marker": {
             "colorbar": {
              "outlinewidth": 0,
              "ticks": ""
             }
            },
            "type": "scattercarpet"
           }
          ],
          "scattergeo": [
           {
            "marker": {
             "colorbar": {
              "outlinewidth": 0,
              "ticks": ""
             }
            },
            "type": "scattergeo"
           }
          ],
          "scattergl": [
           {
            "marker": {
             "colorbar": {
              "outlinewidth": 0,
              "ticks": ""
             }
            },
            "type": "scattergl"
           }
          ],
          "scattermapbox": [
           {
            "marker": {
             "colorbar": {
              "outlinewidth": 0,
              "ticks": ""
             }
            },
            "type": "scattermapbox"
           }
          ],
          "scatterpolar": [
           {
            "marker": {
             "colorbar": {
              "outlinewidth": 0,
              "ticks": ""
             }
            },
            "type": "scatterpolar"
           }
          ],
          "scatterpolargl": [
           {
            "marker": {
             "colorbar": {
              "outlinewidth": 0,
              "ticks": ""
             }
            },
            "type": "scatterpolargl"
           }
          ],
          "scatterternary": [
           {
            "marker": {
             "colorbar": {
              "outlinewidth": 0,
              "ticks": ""
             }
            },
            "type": "scatterternary"
           }
          ],
          "surface": [
           {
            "colorbar": {
             "outlinewidth": 0,
             "ticks": ""
            },
            "colorscale": [
             [
              0,
              "#0d0887"
             ],
             [
              0.1111111111111111,
              "#46039f"
             ],
             [
              0.2222222222222222,
              "#7201a8"
             ],
             [
              0.3333333333333333,
              "#9c179e"
             ],
             [
              0.4444444444444444,
              "#bd3786"
             ],
             [
              0.5555555555555556,
              "#d8576b"
             ],
             [
              0.6666666666666666,
              "#ed7953"
             ],
             [
              0.7777777777777778,
              "#fb9f3a"
             ],
             [
              0.8888888888888888,
              "#fdca26"
             ],
             [
              1,
              "#f0f921"
             ]
            ],
            "type": "surface"
           }
          ],
          "table": [
           {
            "cells": {
             "fill": {
              "color": "#EBF0F8"
             },
             "line": {
              "color": "white"
             }
            },
            "header": {
             "fill": {
              "color": "#C8D4E3"
             },
             "line": {
              "color": "white"
             }
            },
            "type": "table"
           }
          ]
         },
         "layout": {
          "annotationdefaults": {
           "arrowcolor": "#2a3f5f",
           "arrowhead": 0,
           "arrowwidth": 1
          },
          "autotypenumbers": "strict",
          "coloraxis": {
           "colorbar": {
            "outlinewidth": 0,
            "ticks": ""
           }
          },
          "colorscale": {
           "diverging": [
            [
             0,
             "#8e0152"
            ],
            [
             0.1,
             "#c51b7d"
            ],
            [
             0.2,
             "#de77ae"
            ],
            [
             0.3,
             "#f1b6da"
            ],
            [
             0.4,
             "#fde0ef"
            ],
            [
             0.5,
             "#f7f7f7"
            ],
            [
             0.6,
             "#e6f5d0"
            ],
            [
             0.7,
             "#b8e186"
            ],
            [
             0.8,
             "#7fbc41"
            ],
            [
             0.9,
             "#4d9221"
            ],
            [
             1,
             "#276419"
            ]
           ],
           "sequential": [
            [
             0,
             "#0d0887"
            ],
            [
             0.1111111111111111,
             "#46039f"
            ],
            [
             0.2222222222222222,
             "#7201a8"
            ],
            [
             0.3333333333333333,
             "#9c179e"
            ],
            [
             0.4444444444444444,
             "#bd3786"
            ],
            [
             0.5555555555555556,
             "#d8576b"
            ],
            [
             0.6666666666666666,
             "#ed7953"
            ],
            [
             0.7777777777777778,
             "#fb9f3a"
            ],
            [
             0.8888888888888888,
             "#fdca26"
            ],
            [
             1,
             "#f0f921"
            ]
           ],
           "sequentialminus": [
            [
             0,
             "#0d0887"
            ],
            [
             0.1111111111111111,
             "#46039f"
            ],
            [
             0.2222222222222222,
             "#7201a8"
            ],
            [
             0.3333333333333333,
             "#9c179e"
            ],
            [
             0.4444444444444444,
             "#bd3786"
            ],
            [
             0.5555555555555556,
             "#d8576b"
            ],
            [
             0.6666666666666666,
             "#ed7953"
            ],
            [
             0.7777777777777778,
             "#fb9f3a"
            ],
            [
             0.8888888888888888,
             "#fdca26"
            ],
            [
             1,
             "#f0f921"
            ]
           ]
          },
          "colorway": [
           "#636efa",
           "#EF553B",
           "#00cc96",
           "#ab63fa",
           "#FFA15A",
           "#19d3f3",
           "#FF6692",
           "#B6E880",
           "#FF97FF",
           "#FECB52"
          ],
          "font": {
           "color": "#2a3f5f"
          },
          "geo": {
           "bgcolor": "white",
           "lakecolor": "white",
           "landcolor": "#E5ECF6",
           "showlakes": true,
           "showland": true,
           "subunitcolor": "white"
          },
          "hoverlabel": {
           "align": "left"
          },
          "hovermode": "closest",
          "mapbox": {
           "style": "light"
          },
          "paper_bgcolor": "white",
          "plot_bgcolor": "#E5ECF6",
          "polar": {
           "angularaxis": {
            "gridcolor": "white",
            "linecolor": "white",
            "ticks": ""
           },
           "bgcolor": "#E5ECF6",
           "radialaxis": {
            "gridcolor": "white",
            "linecolor": "white",
            "ticks": ""
           }
          },
          "scene": {
           "xaxis": {
            "backgroundcolor": "#E5ECF6",
            "gridcolor": "white",
            "gridwidth": 2,
            "linecolor": "white",
            "showbackground": true,
            "ticks": "",
            "zerolinecolor": "white"
           },
           "yaxis": {
            "backgroundcolor": "#E5ECF6",
            "gridcolor": "white",
            "gridwidth": 2,
            "linecolor": "white",
            "showbackground": true,
            "ticks": "",
            "zerolinecolor": "white"
           },
           "zaxis": {
            "backgroundcolor": "#E5ECF6",
            "gridcolor": "white",
            "gridwidth": 2,
            "linecolor": "white",
            "showbackground": true,
            "ticks": "",
            "zerolinecolor": "white"
           }
          },
          "shapedefaults": {
           "line": {
            "color": "#2a3f5f"
           }
          },
          "ternary": {
           "aaxis": {
            "gridcolor": "white",
            "linecolor": "white",
            "ticks": ""
           },
           "baxis": {
            "gridcolor": "white",
            "linecolor": "white",
            "ticks": ""
           },
           "bgcolor": "#E5ECF6",
           "caxis": {
            "gridcolor": "white",
            "linecolor": "white",
            "ticks": ""
           }
          },
          "title": {
           "x": 0.05
          },
          "xaxis": {
           "automargin": true,
           "gridcolor": "white",
           "linecolor": "white",
           "ticks": "",
           "title": {
            "standoff": 15
           },
           "zerolinecolor": "white",
           "zerolinewidth": 2
          },
          "yaxis": {
           "automargin": true,
           "gridcolor": "white",
           "linecolor": "white",
           "ticks": "",
           "title": {
            "standoff": 15
           },
           "zerolinecolor": "white",
           "zerolinewidth": 2
          }
         }
        },
        "title": {
         "text": "GBP_CAD_MA_8_16"
        },
        "width": 1000,
        "xaxis": {
         "linecolor": "#3a4a54",
         "linewidth": 1,
         "showgrid": false,
         "zeroline": false
        },
        "yaxis": {
         "linecolor": "#3a4a54",
         "linewidth": 1,
         "showgrid": false,
         "zeroline": false
        }
       }
      }
     },
     "metadata": {},
     "output_type": "display_data"
    },
    {
     "data": {
      "application/vnd.plotly.v1+json": {
       "config": {
        "plotlyServerURL": "https://plot.ly"
       },
       "data": [
        {
         "line": {
          "color": "#3d825f",
          "shape": "spline",
          "width": 2
         },
         "mode": "lines",
         "name": "GBP_JPY_MA_8_16",
         "type": "scatter",
         "x": [
          "2022-06-09T05:00:00+00:00",
          "2022-06-09T17:00:00+00:00",
          "2022-06-10T02:00:00+00:00",
          "2022-06-13T04:00:00+00:00",
          "2022-06-13T08:00:00+00:00",
          "2022-06-14T03:00:00+00:00",
          "2022-06-14T12:00:00+00:00",
          "2022-06-15T00:00:00+00:00",
          "2022-06-15T09:00:00+00:00",
          "2022-06-15T13:00:00+00:00",
          "2022-06-16T08:00:00+00:00",
          "2022-06-16T18:00:00+00:00",
          "2022-06-17T17:00:00+00:00",
          "2022-06-20T01:00:00+00:00",
          "2022-06-20T07:00:00+00:00",
          "2022-06-20T10:00:00+00:00",
          "2022-06-22T03:00:00+00:00",
          "2022-06-22T15:00:00+00:00",
          "2022-06-23T02:00:00+00:00",
          "2022-06-23T22:00:00+00:00",
          "2022-06-24T08:00:00+00:00",
          "2022-06-24T09:00:00+00:00",
          "2022-06-26T23:00:00+00:00",
          "2022-06-27T09:00:00+00:00",
          "2022-06-28T01:00:00+00:00",
          "2022-06-28T08:00:00+00:00",
          "2022-06-28T18:00:00+00:00",
          "2022-06-30T05:00:00+00:00",
          "2022-06-30T08:00:00+00:00",
          "2022-06-30T22:00:00+00:00",
          "2022-07-01T02:00:00+00:00",
          "2022-07-03T22:00:00+00:00",
          "2022-07-04T21:00:00+00:00",
          "2022-07-05T01:00:00+00:00",
          "2022-07-05T10:00:00+00:00",
          "2022-07-06T19:00:00+00:00",
          "2022-07-08T05:00:00+00:00",
          "2022-07-08T16:00:00+00:00",
          "2022-07-11T11:00:00+00:00",
          "2022-07-12T19:00:00+00:00",
          "2022-07-14T00:00:00+00:00",
          "2022-07-14T03:00:00+00:00",
          "2022-07-14T17:00:00+00:00",
          "2022-07-15T00:00:00+00:00",
          "2022-07-15T09:00:00+00:00",
          "2022-07-15T19:00:00+00:00",
          "2022-07-18T21:00:00+00:00",
          "2022-07-19T09:00:00+00:00",
          "2022-07-20T11:00:00+00:00",
          "2022-07-21T01:00:00+00:00",
          "2022-07-21T11:00:00+00:00",
          "2022-07-25T08:00:00+00:00",
          "2022-07-26T00:00:00+00:00",
          "2022-07-26T07:00:00+00:00",
          "2022-07-26T09:00:00+00:00",
          "2022-07-26T20:00:00+00:00",
          "2022-07-27T13:00:00+00:00",
          "2022-07-27T17:00:00+00:00",
          "2022-07-28T04:00:00+00:00",
          "2022-07-29T02:00:00+00:00",
          "2022-07-29T05:00:00+00:00",
          "2022-07-29T18:00:00+00:00",
          "2022-08-01T00:00:00+00:00",
          "2022-08-01T13:00:00+00:00",
          "2022-08-01T20:00:00+00:00",
          "2022-08-02T15:00:00+00:00",
          "2022-08-03T09:00:00+00:00",
          "2022-08-03T11:00:00+00:00",
          "2022-08-04T01:00:00+00:00",
          "2022-08-04T07:00:00+00:00",
          "2022-08-04T14:00:00+00:00",
          "2022-08-05T07:00:00+00:00",
          "2022-08-08T15:00:00+00:00",
          "2022-08-09T06:00:00+00:00",
          "2022-08-09T19:00:00+00:00",
          "2022-08-10T11:00:00+00:00",
          "2022-08-10T13:00:00+00:00",
          "2022-08-11T19:00:00+00:00",
          "2022-08-12T11:00:00+00:00",
          "2022-08-16T07:00:00+00:00",
          "2022-08-17T03:00:00+00:00",
          "2022-08-17T05:00:00+00:00",
          "2022-08-17T20:00:00+00:00",
          "2022-08-18T09:00:00+00:00",
          "2022-08-18T16:00:00+00:00",
          "2022-08-19T03:00:00+00:00",
          "2022-08-19T14:00:00+00:00",
          "2022-08-22T01:00:00+00:00",
          "2022-08-22T10:00:00+00:00",
          "2022-08-23T13:00:00+00:00",
          "2022-08-24T03:00:00+00:00",
          "2022-08-24T18:00:00+00:00",
          "2022-08-25T10:00:00+00:00",
          "2022-08-26T02:00:00+00:00",
          "2022-08-26T19:00:00+00:00",
          "2022-08-29T05:00:00+00:00",
          "2022-08-30T02:00:00+00:00",
          "2022-08-31T03:00:00+00:00",
          "2022-08-31T07:00:00+00:00",
          "2022-08-31T21:00:00+00:00",
          "2022-09-01T10:00:00+00:00",
          "2022-09-01T19:00:00+00:00",
          "2022-09-02T17:00:00+00:00",
          "2022-09-05T10:00:00+00:00",
          "2022-09-08T06:00:00+00:00",
          "2022-09-08T17:00:00+00:00",
          "2022-09-08T20:00:00+00:00",
          "2022-09-08T21:00:00+00:00",
          "2022-09-09T08:00:00+00:00",
          "2022-09-09T20:00:00+00:00",
          "2022-09-12T20:00:00+00:00",
          "2022-09-12T22:00:00+00:00",
          "2022-09-13T04:00:00+00:00",
          "2022-09-13T12:00:00+00:00",
          "2022-09-13T16:00:00+00:00",
          "2022-09-15T06:00:00+00:00",
          "2022-09-15T13:00:00+00:00",
          "2022-09-18T22:00:00+00:00",
          "2022-09-18T23:00:00+00:00",
          "2022-09-19T00:00:00+00:00",
          "2022-09-19T09:00:00+00:00",
          "2022-09-19T16:00:00+00:00",
          "2022-09-20T17:00:00+00:00",
          "2022-09-22T07:00:00+00:00",
          "2022-09-22T11:00:00+00:00",
          "2022-09-23T01:00:00+00:00",
          "2022-09-23T03:00:00+00:00",
          "2022-09-26T11:00:00+00:00",
          "2022-09-26T21:00:00+00:00",
          "2022-09-27T03:00:00+00:00",
          "2022-09-27T16:00:00+00:00",
          "2022-09-28T14:00:00+00:00",
          "2022-09-29T04:00:00+00:00",
          "2022-09-29T11:00:00+00:00",
          "2022-09-30T11:00:00+00:00",
          "2022-09-30T18:00:00+00:00",
          "2022-10-03T04:00:00+00:00",
          "2022-10-03T07:00:00+00:00",
          "2022-10-05T03:00:00+00:00",
          "2022-10-06T00:00:00+00:00",
          "2022-10-06T09:00:00+00:00",
          "2022-10-07T05:00:00+00:00",
          "2022-10-07T07:00:00+00:00",
          "2022-10-07T08:00:00+00:00",
          "2022-10-07T16:00:00+00:00",
          "2022-10-10T18:00:00+00:00",
          "2022-10-11T05:00:00+00:00",
          "2022-10-11T14:00:00+00:00",
          "2022-10-11T22:00:00+00:00",
          "2022-10-12T08:00:00+00:00",
          "2022-10-13T05:00:00+00:00",
          "2022-10-13T10:00:00+00:00",
          "2022-10-14T09:00:00+00:00",
          "2022-10-16T21:00:00+00:00",
          "2022-10-18T02:00:00+00:00",
          "2022-10-18T19:00:00+00:00",
          "2022-10-19T07:00:00+00:00",
          "2022-10-20T06:00:00+00:00",
          "2022-10-20T08:00:00+00:00",
          "2022-10-20T09:00:00+00:00",
          "2022-10-21T00:00:00+00:00",
          "2022-10-24T01:00:00+00:00",
          "2022-10-24T15:00:00+00:00",
          "2022-10-25T02:00:00+00:00",
          "2022-10-26T06:00:00+00:00",
          "2022-10-26T07:00:00+00:00",
          "2022-10-26T20:00:00+00:00",
          "2022-10-27T17:00:00+00:00",
          "2022-10-27T20:00:00+00:00",
          "2022-10-28T02:00:00+00:00",
          "2022-10-31T10:00:00+00:00",
          "2022-11-01T06:00:00+00:00",
          "2022-11-01T08:00:00+00:00",
          "2022-11-01T23:00:00+00:00",
          "2022-11-02T02:00:00+00:00",
          "2022-11-04T03:00:00+00:00",
          "2022-11-04T13:00:00+00:00",
          "2022-11-04T17:00:00+00:00",
          "2022-11-08T07:00:00+00:00",
          "2022-11-08T21:00:00+00:00",
          "2022-11-09T04:00:00+00:00",
          "2022-11-10T05:00:00+00:00",
          "2022-11-10T14:00:00+00:00",
          "2022-11-11T05:00:00+00:00",
          "2022-11-11T09:00:00+00:00",
          "2022-11-13T23:00:00+00:00",
          "2022-11-14T06:00:00+00:00",
          "2022-11-14T09:00:00+00:00",
          "2022-11-14T20:00:00+00:00",
          "2022-11-15T04:00:00+00:00",
          "2022-11-15T22:00:00+00:00",
          "2022-11-16T04:00:00+00:00",
          "2022-11-16T16:00:00+00:00",
          "2022-11-16T22:00:00+00:00",
          "2022-11-17T06:00:00+00:00",
          "2022-11-17T10:00:00+00:00",
          "2022-11-17T13:00:00+00:00",
          "2022-11-17T21:00:00+00:00",
          "2022-11-21T03:00:00+00:00",
          "2022-11-21T10:00:00+00:00",
          "2022-11-22T09:00:00+00:00",
          "2022-11-22T19:00:00+00:00",
          "2022-11-23T21:00:00+00:00",
          "2022-11-24T20:00:00+00:00",
          "2022-11-25T21:00:00+00:00",
          "2022-11-28T16:00:00+00:00",
          "2022-11-28T20:00:00+00:00",
          "2022-11-29T07:00:00+00:00",
          "2022-11-29T11:00:00+00:00",
          "2022-11-30T03:00:00+00:00",
          "2022-11-30T22:00:00+00:00",
          "2022-12-01T13:00:00+00:00",
          "2022-12-01T23:00:00+00:00",
          "2022-12-02T18:00:00+00:00",
          "2022-12-06T11:00:00+00:00",
          "2022-12-07T07:00:00+00:00",
          "2022-12-07T19:00:00+00:00",
          "2022-12-08T04:00:00+00:00",
          "2022-12-08T12:00:00+00:00",
          "2022-12-08T18:00:00+00:00",
          "2022-12-09T04:00:00+00:00",
          "2022-12-09T15:00:00+00:00",
          "2022-12-12T03:00:00+00:00",
          "2022-12-12T09:00:00+00:00",
          "2022-12-13T13:00:00+00:00",
          "2022-12-14T19:00:00+00:00",
          "2022-12-15T08:00:00+00:00",
          "2022-12-15T09:00:00+00:00",
          "2022-12-15T18:00:00+00:00",
          "2022-12-19T11:00:00+00:00",
          "2022-12-20T03:00:00+00:00",
          "2022-12-21T01:00:00+00:00",
          "2022-12-21T10:00:00+00:00",
          "2022-12-23T00:00:00+00:00",
          "2022-12-27T14:00:00+00:00",
          "2022-12-27T23:00:00+00:00",
          "2022-12-28T23:00:00+00:00",
          "2023-01-03T17:00:00+00:00",
          "2023-01-05T05:00:00+00:00",
          "2023-01-05T14:00:00+00:00",
          "2023-01-05T16:00:00+00:00",
          "2023-01-06T03:00:00+00:00",
          "2023-01-06T15:00:00+00:00",
          "2023-01-06T21:00:00+00:00",
          "2023-01-09T22:00:00+00:00",
          "2023-01-10T10:00:00+00:00",
          "2023-01-11T14:00:00+00:00",
          "2023-01-11T21:00:00+00:00",
          "2023-01-11T22:00:00+00:00",
          "2023-01-16T01:00:00+00:00",
          "2023-01-17T01:00:00+00:00",
          "2023-01-17T02:00:00+00:00",
          "2023-01-17T22:00:00+00:00",
          "2023-01-18T00:00:00+00:00",
          "2023-01-18T14:00:00+00:00",
          "2023-01-19T14:00:00+00:00",
          "2023-01-23T01:00:00+00:00",
          "2023-01-23T05:00:00+00:00",
          "2023-01-24T04:00:00+00:00",
          "2023-01-24T23:00:00+00:00",
          "2023-01-25T10:00:00+00:00",
          "2023-01-25T20:00:00+00:00"
         ],
         "y": [
          -32.099999999999795,
          -67.1999999999997,
          98.599999999999,
          -75.20000000000095,
          -46.999999999999886,
          -180.4000000000002,
          -155.50000000000068,
          -132.5000000000017,
          -132.00000000000216,
          -225,
          -376.20000000000005,
          -199.0000000000009,
          -173.50000000000136,
          -170.30000000000314,
          -229.80000000000302,
          -76.400000000001,
          -105.60000000000116,
          -227.40000000000293,
          -188.6000000000024,
          -172.20000000000084,
          -219.10000000000025,
          -239.00000000000148,
          -251.9000000000034,
          -272.1000000000032,
          -357.80000000000314,
          -418.4000000000026,
          -376.00000000000193,
          -398.1000000000023,
          -371.3000000000022,
          -454.60000000000207,
          -388.300000000001,
          -327.1000000000015,
          -421.70000000000414,
          -589.8000000000053,
          -439.40000000000623,
          -352.0000000000067,
          -428.20000000000675,
          -402.30000000000814,
          -274.4000000000085,
          -184.6000000000089,
          -215.400000000011,
          -206.4000000000135,
          -235.2000000000146,
          -232.90000000001498,
          -247.400000000016,
          -177.00000000001523,
          -214.80000000001382,
          -222.20000000001505,
          -260.0000000000165,
          -296.800000000016,
          -161.80000000001655,
          -116.80000000001769,
          -125.20000000001801,
          -177.3000000000195,
          -244.6000000000197,
          -221.40000000001976,
          -253.800000000021,
          -313.0000000000223,
          -183.2000000000221,
          -304.7000000000196,
          -317.5000000000182,
          -374.5000000000175,
          -376.3000000000176,
          -427.40000000001714,
          -468.4000000000168,
          -429.2000000000172,
          -492.6000000000158,
          -496.000000000015,
          -551.0000000000161,
          -751.9000000000176,
          -834.0000000000174,
          -740.4000000000167,
          -746.3000000000164,
          -735.500000000016,
          -768.2000000000158,
          -902.7000000000157,
          -918.6000000000149,
          -913.4000000000128,
          -794.8000000000121,
          -668.3000000000135,
          -688.8000000000147,
          -675.0000000000142,
          -718.400000000014,
          -845.5000000000155,
          -896.3000000000164,
          -953.0000000000172,
          -996.8000000000188,
          -1050.400000000019,
          -1077.3000000000166,
          -1124.5000000000146,
          -1128.2000000000153,
          -1142.2000000000166,
          -1161.6000000000154,
          -1195.6000000000129,
          -1257.8000000000116,
          -1247.6000000000113,
          -1229.4000000000124,
          -1278.8000000000125,
          -1301.300000000012,
          -1360.4000000000128,
          -1443.1000000000126,
          -1497.8000000000125,
          -1540.6000000000122,
          -1176.8000000000116,
          -1215.6000000000122,
          -1213.1000000000117,
          -1213.8000000000093,
          -1279.8000000000088,
          -1299.70000000001,
          -1142.4000000000092,
          -1131.0000000000086,
          -1150.4000000000103,
          -1181.90000000001,
          -1239.00000000001,
          -1162.6000000000117,
          -1225.000000000014,
          -1060.2000000000144,
          -1063.0000000000136,
          -1069.3000000000125,
          -1100.6000000000113,
          -1156.0000000000114,
          -1184.0000000000114,
          -1291.1000000000113,
          -1741.8000000000118,
          -1753.4000000000133,
          -1774.4000000000142,
          -1344.2000000000148,
          -1436.1000000000158,
          -1547.6000000000167,
          -1650.6000000000167,
          -1729.9000000000174,
          -1653.0000000000196,
          -1765.00000000002,
          -1522.0000000000193,
          -1725.0000000000196,
          -1819.4000000000183,
          -1993.5000000000168,
          -1775.2000000000176,
          -1734.200000000018,
          -1848.7000000000162,
          -1736.3000000000138,
          -1755.6000000000122,
          -1782.0000000000132,
          -1870.7000000000132,
          -1859.500000000011,
          -1893.2000000000098,
          -1967.8000000000106,
          -2102.400000000011,
          -2230.000000000009,
          -2099.500000000008,
          -2198.2000000000075,
          -1967.6000000000063,
          -2020.300000000005,
          -1780.000000000003,
          -1780.600000000003,
          -1835.5000000000036,
          -1824.0000000000027,
          -1884.7000000000025,
          -1904.4000000000028,
          -1867.5000000000027,
          -1901.4000000000026,
          -1963.800000000002,
          -1998.2000000000014,
          -1863.5000000000005,
          -1912.1999999999998,
          -1905.2000000000005,
          -1792.7000000000005,
          -1786.7000000000003,
          -1813.2000000000016,
          -1601.4000000000021,
          -1506.0000000000014,
          -1555.4000000000015,
          -1539.400000000002,
          -1571.1000000000026,
          -1209.4000000000037,
          -1225.5000000000039,
          -1297.8000000000052,
          -1124.6000000000054,
          -1108.8000000000038,
          -1121.2000000000035,
          -988.7000000000046,
          -1094.5000000000068,
          -1117.200000000007,
          -1242.200000000007,
          -1250.0000000000073,
          -1335.0000000000068,
          -1516.000000000007,
          -1662.200000000009,
          -1757.2000000000107,
          -1747.4000000000124,
          -1802.2000000000126,
          -1786.5000000000114,
          -1811.400000000011,
          -1817.4000000000112,
          -1810.0000000000127,
          -1885.2000000000137,
          -1991.600000000013,
          -1990.600000000014,
          -2094.400000000015,
          -2081.0000000000136,
          -2104.5000000000123,
          -2058.200000000013,
          -2019.700000000014,
          -1979.0000000000127,
          -1843.500000000011,
          -1935.2000000000112,
          -1977.0000000000118,
          -2031.3000000000125,
          -2064.7000000000126,
          -2034.4000000000128,
          -2017.8000000000131,
          -2085.200000000014,
          -2041.3000000000147,
          -1915.9000000000128,
          -1938.6000000000104,
          -1963.700000000008,
          -2004.3000000000056,
          -2039.6000000000035,
          -2115.300000000001,
          -2154.500000000001,
          -2259.700000000003,
          -2319.7000000000053,
          -2358.3000000000075,
          -2356.200000000009,
          -2377.7000000000094,
          -2367.80000000001,
          -2412.800000000012,
          -2473.8000000000134,
          -2296.700000000015,
          -2708.600000000015,
          -2589.000000000015,
          -2674.8000000000156,
          -2612.800000000015,
          -2503.6000000000167,
          -2514.200000000019,
          -2445.40000000002,
          -1972.000000000019,
          -1673.2000000000191,
          -1651.8000000000193,
          -1681.500000000019,
          -1748.1000000000188,
          -1757.3000000000172,
          -1776.100000000016,
          -1679.7000000000162,
          -1674.300000000016,
          -1637.8000000000152,
          -1637.000000000014,
          -1651.3000000000143,
          -1234.000000000014,
          -1203.4000000000128,
          -1224.3000000000131,
          -1189.2000000000132,
          -1246.4000000000135,
          -1155.4000000000137,
          -1107.4000000000146,
          -907.0000000000156,
          -972.2000000000143,
          -957.4000000000118,
          -879.6000000000098,
          -946.700000000009,
          -1023.0000000000095,
          -1051.1000000000101
         ]
        }
       ],
       "layout": {
        "font": {
         "color": "#e1e1e1",
         "size": 10
        },
        "height": 400,
        "margin": {
         "b": 15,
         "l": 15,
         "t": 10
        },
        "paper_bgcolor": "#1e1e1e",
        "plot_bgcolor": "#1e1e1e",
        "template": {
         "data": {
          "bar": [
           {
            "error_x": {
             "color": "#2a3f5f"
            },
            "error_y": {
             "color": "#2a3f5f"
            },
            "marker": {
             "line": {
              "color": "#E5ECF6",
              "width": 0.5
             },
             "pattern": {
              "fillmode": "overlay",
              "size": 10,
              "solidity": 0.2
             }
            },
            "type": "bar"
           }
          ],
          "barpolar": [
           {
            "marker": {
             "line": {
              "color": "#E5ECF6",
              "width": 0.5
             },
             "pattern": {
              "fillmode": "overlay",
              "size": 10,
              "solidity": 0.2
             }
            },
            "type": "barpolar"
           }
          ],
          "carpet": [
           {
            "aaxis": {
             "endlinecolor": "#2a3f5f",
             "gridcolor": "white",
             "linecolor": "white",
             "minorgridcolor": "white",
             "startlinecolor": "#2a3f5f"
            },
            "baxis": {
             "endlinecolor": "#2a3f5f",
             "gridcolor": "white",
             "linecolor": "white",
             "minorgridcolor": "white",
             "startlinecolor": "#2a3f5f"
            },
            "type": "carpet"
           }
          ],
          "choropleth": [
           {
            "colorbar": {
             "outlinewidth": 0,
             "ticks": ""
            },
            "type": "choropleth"
           }
          ],
          "contour": [
           {
            "colorbar": {
             "outlinewidth": 0,
             "ticks": ""
            },
            "colorscale": [
             [
              0,
              "#0d0887"
             ],
             [
              0.1111111111111111,
              "#46039f"
             ],
             [
              0.2222222222222222,
              "#7201a8"
             ],
             [
              0.3333333333333333,
              "#9c179e"
             ],
             [
              0.4444444444444444,
              "#bd3786"
             ],
             [
              0.5555555555555556,
              "#d8576b"
             ],
             [
              0.6666666666666666,
              "#ed7953"
             ],
             [
              0.7777777777777778,
              "#fb9f3a"
             ],
             [
              0.8888888888888888,
              "#fdca26"
             ],
             [
              1,
              "#f0f921"
             ]
            ],
            "type": "contour"
           }
          ],
          "contourcarpet": [
           {
            "colorbar": {
             "outlinewidth": 0,
             "ticks": ""
            },
            "type": "contourcarpet"
           }
          ],
          "heatmap": [
           {
            "colorbar": {
             "outlinewidth": 0,
             "ticks": ""
            },
            "colorscale": [
             [
              0,
              "#0d0887"
             ],
             [
              0.1111111111111111,
              "#46039f"
             ],
             [
              0.2222222222222222,
              "#7201a8"
             ],
             [
              0.3333333333333333,
              "#9c179e"
             ],
             [
              0.4444444444444444,
              "#bd3786"
             ],
             [
              0.5555555555555556,
              "#d8576b"
             ],
             [
              0.6666666666666666,
              "#ed7953"
             ],
             [
              0.7777777777777778,
              "#fb9f3a"
             ],
             [
              0.8888888888888888,
              "#fdca26"
             ],
             [
              1,
              "#f0f921"
             ]
            ],
            "type": "heatmap"
           }
          ],
          "heatmapgl": [
           {
            "colorbar": {
             "outlinewidth": 0,
             "ticks": ""
            },
            "colorscale": [
             [
              0,
              "#0d0887"
             ],
             [
              0.1111111111111111,
              "#46039f"
             ],
             [
              0.2222222222222222,
              "#7201a8"
             ],
             [
              0.3333333333333333,
              "#9c179e"
             ],
             [
              0.4444444444444444,
              "#bd3786"
             ],
             [
              0.5555555555555556,
              "#d8576b"
             ],
             [
              0.6666666666666666,
              "#ed7953"
             ],
             [
              0.7777777777777778,
              "#fb9f3a"
             ],
             [
              0.8888888888888888,
              "#fdca26"
             ],
             [
              1,
              "#f0f921"
             ]
            ],
            "type": "heatmapgl"
           }
          ],
          "histogram": [
           {
            "marker": {
             "pattern": {
              "fillmode": "overlay",
              "size": 10,
              "solidity": 0.2
             }
            },
            "type": "histogram"
           }
          ],
          "histogram2d": [
           {
            "colorbar": {
             "outlinewidth": 0,
             "ticks": ""
            },
            "colorscale": [
             [
              0,
              "#0d0887"
             ],
             [
              0.1111111111111111,
              "#46039f"
             ],
             [
              0.2222222222222222,
              "#7201a8"
             ],
             [
              0.3333333333333333,
              "#9c179e"
             ],
             [
              0.4444444444444444,
              "#bd3786"
             ],
             [
              0.5555555555555556,
              "#d8576b"
             ],
             [
              0.6666666666666666,
              "#ed7953"
             ],
             [
              0.7777777777777778,
              "#fb9f3a"
             ],
             [
              0.8888888888888888,
              "#fdca26"
             ],
             [
              1,
              "#f0f921"
             ]
            ],
            "type": "histogram2d"
           }
          ],
          "histogram2dcontour": [
           {
            "colorbar": {
             "outlinewidth": 0,
             "ticks": ""
            },
            "colorscale": [
             [
              0,
              "#0d0887"
             ],
             [
              0.1111111111111111,
              "#46039f"
             ],
             [
              0.2222222222222222,
              "#7201a8"
             ],
             [
              0.3333333333333333,
              "#9c179e"
             ],
             [
              0.4444444444444444,
              "#bd3786"
             ],
             [
              0.5555555555555556,
              "#d8576b"
             ],
             [
              0.6666666666666666,
              "#ed7953"
             ],
             [
              0.7777777777777778,
              "#fb9f3a"
             ],
             [
              0.8888888888888888,
              "#fdca26"
             ],
             [
              1,
              "#f0f921"
             ]
            ],
            "type": "histogram2dcontour"
           }
          ],
          "mesh3d": [
           {
            "colorbar": {
             "outlinewidth": 0,
             "ticks": ""
            },
            "type": "mesh3d"
           }
          ],
          "parcoords": [
           {
            "line": {
             "colorbar": {
              "outlinewidth": 0,
              "ticks": ""
             }
            },
            "type": "parcoords"
           }
          ],
          "pie": [
           {
            "automargin": true,
            "type": "pie"
           }
          ],
          "scatter": [
           {
            "fillpattern": {
             "fillmode": "overlay",
             "size": 10,
             "solidity": 0.2
            },
            "type": "scatter"
           }
          ],
          "scatter3d": [
           {
            "line": {
             "colorbar": {
              "outlinewidth": 0,
              "ticks": ""
             }
            },
            "marker": {
             "colorbar": {
              "outlinewidth": 0,
              "ticks": ""
             }
            },
            "type": "scatter3d"
           }
          ],
          "scattercarpet": [
           {
            "marker": {
             "colorbar": {
              "outlinewidth": 0,
              "ticks": ""
             }
            },
            "type": "scattercarpet"
           }
          ],
          "scattergeo": [
           {
            "marker": {
             "colorbar": {
              "outlinewidth": 0,
              "ticks": ""
             }
            },
            "type": "scattergeo"
           }
          ],
          "scattergl": [
           {
            "marker": {
             "colorbar": {
              "outlinewidth": 0,
              "ticks": ""
             }
            },
            "type": "scattergl"
           }
          ],
          "scattermapbox": [
           {
            "marker": {
             "colorbar": {
              "outlinewidth": 0,
              "ticks": ""
             }
            },
            "type": "scattermapbox"
           }
          ],
          "scatterpolar": [
           {
            "marker": {
             "colorbar": {
              "outlinewidth": 0,
              "ticks": ""
             }
            },
            "type": "scatterpolar"
           }
          ],
          "scatterpolargl": [
           {
            "marker": {
             "colorbar": {
              "outlinewidth": 0,
              "ticks": ""
             }
            },
            "type": "scatterpolargl"
           }
          ],
          "scatterternary": [
           {
            "marker": {
             "colorbar": {
              "outlinewidth": 0,
              "ticks": ""
             }
            },
            "type": "scatterternary"
           }
          ],
          "surface": [
           {
            "colorbar": {
             "outlinewidth": 0,
             "ticks": ""
            },
            "colorscale": [
             [
              0,
              "#0d0887"
             ],
             [
              0.1111111111111111,
              "#46039f"
             ],
             [
              0.2222222222222222,
              "#7201a8"
             ],
             [
              0.3333333333333333,
              "#9c179e"
             ],
             [
              0.4444444444444444,
              "#bd3786"
             ],
             [
              0.5555555555555556,
              "#d8576b"
             ],
             [
              0.6666666666666666,
              "#ed7953"
             ],
             [
              0.7777777777777778,
              "#fb9f3a"
             ],
             [
              0.8888888888888888,
              "#fdca26"
             ],
             [
              1,
              "#f0f921"
             ]
            ],
            "type": "surface"
           }
          ],
          "table": [
           {
            "cells": {
             "fill": {
              "color": "#EBF0F8"
             },
             "line": {
              "color": "white"
             }
            },
            "header": {
             "fill": {
              "color": "#C8D4E3"
             },
             "line": {
              "color": "white"
             }
            },
            "type": "table"
           }
          ]
         },
         "layout": {
          "annotationdefaults": {
           "arrowcolor": "#2a3f5f",
           "arrowhead": 0,
           "arrowwidth": 1
          },
          "autotypenumbers": "strict",
          "coloraxis": {
           "colorbar": {
            "outlinewidth": 0,
            "ticks": ""
           }
          },
          "colorscale": {
           "diverging": [
            [
             0,
             "#8e0152"
            ],
            [
             0.1,
             "#c51b7d"
            ],
            [
             0.2,
             "#de77ae"
            ],
            [
             0.3,
             "#f1b6da"
            ],
            [
             0.4,
             "#fde0ef"
            ],
            [
             0.5,
             "#f7f7f7"
            ],
            [
             0.6,
             "#e6f5d0"
            ],
            [
             0.7,
             "#b8e186"
            ],
            [
             0.8,
             "#7fbc41"
            ],
            [
             0.9,
             "#4d9221"
            ],
            [
             1,
             "#276419"
            ]
           ],
           "sequential": [
            [
             0,
             "#0d0887"
            ],
            [
             0.1111111111111111,
             "#46039f"
            ],
            [
             0.2222222222222222,
             "#7201a8"
            ],
            [
             0.3333333333333333,
             "#9c179e"
            ],
            [
             0.4444444444444444,
             "#bd3786"
            ],
            [
             0.5555555555555556,
             "#d8576b"
            ],
            [
             0.6666666666666666,
             "#ed7953"
            ],
            [
             0.7777777777777778,
             "#fb9f3a"
            ],
            [
             0.8888888888888888,
             "#fdca26"
            ],
            [
             1,
             "#f0f921"
            ]
           ],
           "sequentialminus": [
            [
             0,
             "#0d0887"
            ],
            [
             0.1111111111111111,
             "#46039f"
            ],
            [
             0.2222222222222222,
             "#7201a8"
            ],
            [
             0.3333333333333333,
             "#9c179e"
            ],
            [
             0.4444444444444444,
             "#bd3786"
            ],
            [
             0.5555555555555556,
             "#d8576b"
            ],
            [
             0.6666666666666666,
             "#ed7953"
            ],
            [
             0.7777777777777778,
             "#fb9f3a"
            ],
            [
             0.8888888888888888,
             "#fdca26"
            ],
            [
             1,
             "#f0f921"
            ]
           ]
          },
          "colorway": [
           "#636efa",
           "#EF553B",
           "#00cc96",
           "#ab63fa",
           "#FFA15A",
           "#19d3f3",
           "#FF6692",
           "#B6E880",
           "#FF97FF",
           "#FECB52"
          ],
          "font": {
           "color": "#2a3f5f"
          },
          "geo": {
           "bgcolor": "white",
           "lakecolor": "white",
           "landcolor": "#E5ECF6",
           "showlakes": true,
           "showland": true,
           "subunitcolor": "white"
          },
          "hoverlabel": {
           "align": "left"
          },
          "hovermode": "closest",
          "mapbox": {
           "style": "light"
          },
          "paper_bgcolor": "white",
          "plot_bgcolor": "#E5ECF6",
          "polar": {
           "angularaxis": {
            "gridcolor": "white",
            "linecolor": "white",
            "ticks": ""
           },
           "bgcolor": "#E5ECF6",
           "radialaxis": {
            "gridcolor": "white",
            "linecolor": "white",
            "ticks": ""
           }
          },
          "scene": {
           "xaxis": {
            "backgroundcolor": "#E5ECF6",
            "gridcolor": "white",
            "gridwidth": 2,
            "linecolor": "white",
            "showbackground": true,
            "ticks": "",
            "zerolinecolor": "white"
           },
           "yaxis": {
            "backgroundcolor": "#E5ECF6",
            "gridcolor": "white",
            "gridwidth": 2,
            "linecolor": "white",
            "showbackground": true,
            "ticks": "",
            "zerolinecolor": "white"
           },
           "zaxis": {
            "backgroundcolor": "#E5ECF6",
            "gridcolor": "white",
            "gridwidth": 2,
            "linecolor": "white",
            "showbackground": true,
            "ticks": "",
            "zerolinecolor": "white"
           }
          },
          "shapedefaults": {
           "line": {
            "color": "#2a3f5f"
           }
          },
          "ternary": {
           "aaxis": {
            "gridcolor": "white",
            "linecolor": "white",
            "ticks": ""
           },
           "baxis": {
            "gridcolor": "white",
            "linecolor": "white",
            "ticks": ""
           },
           "bgcolor": "#E5ECF6",
           "caxis": {
            "gridcolor": "white",
            "linecolor": "white",
            "ticks": ""
           }
          },
          "title": {
           "x": 0.05
          },
          "xaxis": {
           "automargin": true,
           "gridcolor": "white",
           "linecolor": "white",
           "ticks": "",
           "title": {
            "standoff": 15
           },
           "zerolinecolor": "white",
           "zerolinewidth": 2
          },
          "yaxis": {
           "automargin": true,
           "gridcolor": "white",
           "linecolor": "white",
           "ticks": "",
           "title": {
            "standoff": 15
           },
           "zerolinecolor": "white",
           "zerolinewidth": 2
          }
         }
        },
        "title": {
         "text": "GBP_JPY_MA_8_16"
        },
        "width": 1000,
        "xaxis": {
         "linecolor": "#3a4a54",
         "linewidth": 1,
         "showgrid": false,
         "zeroline": false
        },
        "yaxis": {
         "linecolor": "#3a4a54",
         "linewidth": 1,
         "showgrid": false,
         "zeroline": false
        }
       }
      }
     },
     "metadata": {},
     "output_type": "display_data"
    },
    {
     "data": {
      "application/vnd.plotly.v1+json": {
       "config": {
        "plotlyServerURL": "https://plot.ly"
       },
       "data": [
        {
         "line": {
          "color": "#3d825f",
          "shape": "spline",
          "width": 2
         },
         "mode": "lines",
         "name": "EUR_GBP_MA_8_16",
         "type": "scatter",
         "x": [
          "2022-06-07T14:00:00+00:00",
          "2022-06-08T06:00:00+00:00",
          "2022-06-08T23:00:00+00:00",
          "2022-06-09T04:00:00+00:00",
          "2022-06-09T13:00:00+00:00",
          "2022-06-10T04:00:00+00:00",
          "2022-06-13T06:00:00+00:00",
          "2022-06-13T08:00:00+00:00",
          "2022-06-14T01:00:00+00:00",
          "2022-06-14T09:00:00+00:00",
          "2022-06-15T12:00:00+00:00",
          "2022-06-16T07:00:00+00:00",
          "2022-06-16T10:00:00+00:00",
          "2022-06-17T00:00:00+00:00",
          "2022-06-20T14:00:00+00:00",
          "2022-06-21T08:00:00+00:00",
          "2022-06-21T20:00:00+00:00",
          "2022-06-22T07:00:00+00:00",
          "2022-06-23T10:00:00+00:00",
          "2022-06-24T18:00:00+00:00",
          "2022-06-27T08:00:00+00:00",
          "2022-06-27T09:00:00+00:00",
          "2022-06-28T05:00:00+00:00",
          "2022-06-28T10:00:00+00:00",
          "2022-06-29T04:00:00+00:00",
          "2022-06-29T12:00:00+00:00",
          "2022-06-29T19:00:00+00:00",
          "2022-06-30T20:00:00+00:00",
          "2022-07-01T19:00:00+00:00",
          "2022-07-04T20:00:00+00:00",
          "2022-07-05T07:00:00+00:00",
          "2022-07-05T19:00:00+00:00",
          "2022-07-06T01:00:00+00:00",
          "2022-07-07T06:00:00+00:00",
          "2022-07-07T07:00:00+00:00",
          "2022-07-08T07:00:00+00:00",
          "2022-07-08T17:00:00+00:00",
          "2022-07-11T01:00:00+00:00",
          "2022-07-11T10:00:00+00:00",
          "2022-07-11T16:00:00+00:00",
          "2022-07-11T22:00:00+00:00",
          "2022-07-12T09:00:00+00:00",
          "2022-07-12T19:00:00+00:00",
          "2022-07-13T14:00:00+00:00",
          "2022-07-14T03:00:00+00:00",
          "2022-07-14T10:00:00+00:00",
          "2022-07-15T01:00:00+00:00",
          "2022-07-15T07:00:00+00:00",
          "2022-07-18T00:00:00+00:00",
          "2022-07-18T20:00:00+00:00",
          "2022-07-19T05:00:00+00:00",
          "2022-07-19T07:00:00+00:00",
          "2022-07-20T01:00:00+00:00",
          "2022-07-20T12:00:00+00:00",
          "2022-07-20T14:00:00+00:00",
          "2022-07-21T04:00:00+00:00",
          "2022-07-21T20:00:00+00:00",
          "2022-07-22T18:00:00+00:00",
          "2022-07-22T20:00:00+00:00",
          "2022-07-24T21:00:00+00:00",
          "2022-07-25T09:00:00+00:00",
          "2022-07-27T04:00:00+00:00",
          "2022-07-27T09:00:00+00:00",
          "2022-07-28T21:00:00+00:00",
          "2022-07-31T21:00:00+00:00",
          "2022-08-01T02:00:00+00:00",
          "2022-08-01T08:00:00+00:00",
          "2022-08-01T23:00:00+00:00",
          "2022-08-02T13:00:00+00:00",
          "2022-08-03T01:00:00+00:00",
          "2022-08-03T11:00:00+00:00",
          "2022-08-03T14:00:00+00:00",
          "2022-08-04T06:00:00+00:00",
          "2022-08-04T08:00:00+00:00",
          "2022-08-04T09:00:00+00:00",
          "2022-08-04T11:00:00+00:00",
          "2022-08-05T08:00:00+00:00",
          "2022-08-05T13:00:00+00:00",
          "2022-08-08T01:00:00+00:00",
          "2022-08-08T05:00:00+00:00",
          "2022-08-08T06:00:00+00:00",
          "2022-08-08T18:00:00+00:00",
          "2022-08-09T06:00:00+00:00",
          "2022-08-09T07:00:00+00:00",
          "2022-08-10T04:00:00+00:00",
          "2022-08-11T04:00:00+00:00",
          "2022-08-12T08:00:00+00:00",
          "2022-08-12T10:00:00+00:00",
          "2022-08-12T18:00:00+00:00",
          "2022-08-15T04:00:00+00:00",
          "2022-08-15T10:00:00+00:00",
          "2022-08-16T03:00:00+00:00",
          "2022-08-16T10:00:00+00:00",
          "2022-08-17T12:00:00+00:00",
          "2022-08-18T09:00:00+00:00",
          "2022-08-18T18:00:00+00:00",
          "2022-08-21T22:00:00+00:00",
          "2022-08-24T13:00:00+00:00",
          "2022-08-25T06:00:00+00:00",
          "2022-08-26T04:00:00+00:00",
          "2022-08-30T01:00:00+00:00",
          "2022-08-30T02:00:00+00:00",
          "2022-08-31T05:00:00+00:00",
          "2022-08-31T14:00:00+00:00",
          "2022-09-01T07:00:00+00:00",
          "2022-09-02T04:00:00+00:00",
          "2022-09-04T22:00:00+00:00",
          "2022-09-06T20:00:00+00:00",
          "2022-09-08T15:00:00+00:00",
          "2022-09-08T22:00:00+00:00",
          "2022-09-09T08:00:00+00:00",
          "2022-09-12T02:00:00+00:00",
          "2022-09-12T15:00:00+00:00",
          "2022-09-13T02:00:00+00:00",
          "2022-09-13T22:00:00+00:00",
          "2022-09-14T03:00:00+00:00",
          "2022-09-14T09:00:00+00:00",
          "2022-09-15T01:00:00+00:00",
          "2022-09-19T04:00:00+00:00",
          "2022-09-19T09:00:00+00:00",
          "2022-09-19T20:00:00+00:00",
          "2022-09-20T03:00:00+00:00",
          "2022-09-20T08:00:00+00:00",
          "2022-09-20T19:00:00+00:00",
          "2022-09-21T04:00:00+00:00",
          "2022-09-22T01:00:00+00:00",
          "2022-09-22T10:00:00+00:00",
          "2022-09-22T19:00:00+00:00",
          "2022-09-26T11:00:00+00:00",
          "2022-09-26T21:00:00+00:00",
          "2022-09-27T03:00:00+00:00",
          "2022-09-27T17:00:00+00:00",
          "2022-09-28T19:00:00+00:00",
          "2022-09-29T03:00:00+00:00",
          "2022-09-29T10:00:00+00:00",
          "2022-10-03T03:00:00+00:00",
          "2022-10-03T09:00:00+00:00",
          "2022-10-04T08:00:00+00:00",
          "2022-10-04T22:00:00+00:00",
          "2022-10-05T04:00:00+00:00",
          "2022-10-05T22:00:00+00:00",
          "2022-10-06T07:00:00+00:00",
          "2022-10-07T00:00:00+00:00",
          "2022-10-07T17:00:00+00:00",
          "2022-10-10T03:00:00+00:00",
          "2022-10-10T18:00:00+00:00",
          "2022-10-11T00:00:00+00:00",
          "2022-10-11T07:00:00+00:00",
          "2022-10-11T14:00:00+00:00",
          "2022-10-11T21:00:00+00:00",
          "2022-10-12T09:00:00+00:00",
          "2022-10-13T05:00:00+00:00",
          "2022-10-13T10:00:00+00:00",
          "2022-10-14T05:00:00+00:00",
          "2022-10-17T01:00:00+00:00",
          "2022-10-17T21:00:00+00:00",
          "2022-10-18T23:00:00+00:00",
          "2022-10-19T10:00:00+00:00",
          "2022-10-20T16:00:00+00:00",
          "2022-10-21T00:00:00+00:00",
          "2022-10-21T19:00:00+00:00",
          "2022-10-24T14:00:00+00:00",
          "2022-10-25T04:00:00+00:00",
          "2022-10-26T01:00:00+00:00",
          "2022-10-26T08:00:00+00:00",
          "2022-10-26T21:00:00+00:00",
          "2022-10-27T05:00:00+00:00",
          "2022-10-27T09:00:00+00:00",
          "2022-10-27T14:00:00+00:00",
          "2022-10-28T05:00:00+00:00",
          "2022-10-28T14:00:00+00:00",
          "2022-10-31T05:00:00+00:00",
          "2022-11-01T06:00:00+00:00",
          "2022-11-02T10:00:00+00:00",
          "2022-11-03T06:00:00+00:00",
          "2022-11-03T08:00:00+00:00",
          "2022-11-04T04:00:00+00:00",
          "2022-11-04T12:00:00+00:00",
          "2022-11-07T10:00:00+00:00",
          "2022-11-08T08:00:00+00:00",
          "2022-11-08T21:00:00+00:00",
          "2022-11-08T23:00:00+00:00",
          "2022-11-10T04:00:00+00:00",
          "2022-11-11T03:00:00+00:00",
          "2022-11-14T00:00:00+00:00",
          "2022-11-14T03:00:00+00:00",
          "2022-11-14T11:00:00+00:00",
          "2022-11-14T16:00:00+00:00",
          "2022-11-15T03:00:00+00:00",
          "2022-11-15T11:00:00+00:00",
          "2022-11-15T12:00:00+00:00",
          "2022-11-16T03:00:00+00:00",
          "2022-11-16T18:00:00+00:00",
          "2022-11-17T13:00:00+00:00",
          "2022-11-18T00:00:00+00:00",
          "2022-11-21T06:00:00+00:00",
          "2022-11-21T07:00:00+00:00",
          "2022-11-21T19:00:00+00:00",
          "2022-11-21T22:00:00+00:00",
          "2022-11-22T10:00:00+00:00",
          "2022-11-22T13:00:00+00:00",
          "2022-11-22T21:00:00+00:00",
          "2022-11-23T12:00:00+00:00",
          "2022-11-24T03:00:00+00:00",
          "2022-11-24T10:00:00+00:00",
          "2022-11-25T00:00:00+00:00",
          "2022-11-25T14:00:00+00:00",
          "2022-11-25T21:00:00+00:00",
          "2022-11-28T04:00:00+00:00",
          "2022-11-28T09:00:00+00:00",
          "2022-11-28T22:00:00+00:00",
          "2022-11-29T21:00:00+00:00",
          "2022-11-30T09:00:00+00:00",
          "2022-11-30T19:00:00+00:00",
          "2022-11-30T21:00:00+00:00",
          "2022-12-01T23:00:00+00:00",
          "2022-12-02T11:00:00+00:00",
          "2022-12-05T01:00:00+00:00",
          "2022-12-06T01:00:00+00:00",
          "2022-12-06T10:00:00+00:00",
          "2022-12-07T17:00:00+00:00",
          "2022-12-08T05:00:00+00:00",
          "2022-12-08T19:00:00+00:00",
          "2022-12-09T02:00:00+00:00",
          "2022-12-09T06:00:00+00:00",
          "2022-12-12T01:00:00+00:00",
          "2022-12-12T14:00:00+00:00",
          "2022-12-12T15:00:00+00:00",
          "2022-12-12T16:00:00+00:00",
          "2022-12-13T03:00:00+00:00",
          "2022-12-13T11:00:00+00:00",
          "2022-12-13T20:00:00+00:00",
          "2022-12-14T14:00:00+00:00",
          "2022-12-15T02:00:00+00:00",
          "2022-12-16T16:00:00+00:00",
          "2022-12-19T08:00:00+00:00",
          "2022-12-19T15:00:00+00:00",
          "2022-12-19T17:00:00+00:00",
          "2022-12-20T21:00:00+00:00",
          "2022-12-21T08:00:00+00:00",
          "2022-12-22T05:00:00+00:00",
          "2022-12-22T10:00:00+00:00",
          "2022-12-22T23:00:00+00:00",
          "2022-12-23T06:00:00+00:00",
          "2022-12-23T10:00:00+00:00",
          "2022-12-23T18:00:00+00:00",
          "2022-12-27T03:00:00+00:00",
          "2022-12-27T09:00:00+00:00",
          "2022-12-28T01:00:00+00:00",
          "2022-12-28T03:00:00+00:00",
          "2022-12-28T04:00:00+00:00",
          "2022-12-28T05:00:00+00:00",
          "2022-12-28T10:00:00+00:00",
          "2022-12-28T22:00:00+00:00",
          "2022-12-29T07:00:00+00:00",
          "2022-12-29T11:00:00+00:00",
          "2022-12-30T01:00:00+00:00",
          "2022-12-30T09:00:00+00:00",
          "2023-01-02T00:00:00+00:00",
          "2023-01-02T10:00:00+00:00",
          "2023-01-02T18:00:00+00:00",
          "2023-01-04T02:00:00+00:00",
          "2023-01-04T07:00:00+00:00",
          "2023-01-04T08:00:00+00:00",
          "2023-01-04T10:00:00+00:00",
          "2023-01-05T02:00:00+00:00",
          "2023-01-05T23:00:00+00:00",
          "2023-01-06T09:00:00+00:00",
          "2023-01-06T17:00:00+00:00",
          "2023-01-09T14:00:00+00:00",
          "2023-01-11T06:00:00+00:00",
          "2023-01-11T08:00:00+00:00",
          "2023-01-11T22:00:00+00:00",
          "2023-01-12T14:00:00+00:00",
          "2023-01-13T10:00:00+00:00",
          "2023-01-16T09:00:00+00:00",
          "2023-01-17T09:00:00+00:00",
          "2023-01-19T05:00:00+00:00",
          "2023-01-19T17:00:00+00:00",
          "2023-01-20T04:00:00+00:00",
          "2023-01-20T17:00:00+00:00",
          "2023-01-23T01:00:00+00:00",
          "2023-01-23T19:00:00+00:00",
          "2023-01-24T09:00:00+00:00",
          "2023-01-25T00:00:00+00:00",
          "2023-01-25T03:00:00+00:00",
          "2023-01-25T12:00:00+00:00"
         ],
         "y": [
          9.799999999999809,
          55.999999999999375,
          40.29999999999977,
          -6.800000000000146,
          0.5999999999994827,
          33.49999999999963,
          0.9999999999998792,
          -1.4000000000003006,
          -51.40000000000035,
          -38.00000000000027,
          -3.6000000000002856,
          -45.3999999999999,
          -40.59999999999954,
          5.00000000000054,
          9.4000000000005,
          -4.999999999999469,
          -38.79999999999885,
          -48.999999999997954,
          -43.899999999997846,
          -48.59999999999866,
          -63.099999999999284,
          -53.79999999999942,
          -78.3999999999996,
          -107.80000000000013,
          -152.80000000000072,
          -193.20000000000115,
          -184.70000000000098,
          -171.9000000000004,
          -163.60000000000042,
          -188.20000000000059,
          -186.2000000000008,
          -193.60000000000156,
          -148.50000000000253,
          -144.40000000000342,
          -70.600000000004,
          -78.10000000000429,
          -83.4000000000046,
          -87.80000000000456,
          -99.5000000000046,
          -125.30000000000487,
          -143.00000000000537,
          -164.8000000000061,
          -185.800000000006,
          -194.20000000000553,
          -210.30000000000553,
          -208.60000000000548,
          -214.800000000005,
          -197.60000000000446,
          -192.8000000000041,
          -198.7000000000039,
          -244.40000000000353,
          -255.1000000000037,
          -259.0000000000037,
          -268.2000000000029,
          -276.3000000000027,
          -272.60000000000286,
          -260.80000000000325,
          -265.8000000000038,
          -267.10000000000343,
          -275.4000000000034,
          -192.90000000000362,
          -206.80000000000365,
          -176.70000000000408,
          -157.80000000000462,
          -161.4000000000049,
          -171.6000000000051,
          -159.20000000000493,
          -174.0000000000042,
          -178.60000000000437,
          -187.2000000000052,
          -198.70000000000505,
          -194.40000000000464,
          -201.80000000000427,
          -214.20000000000334,
          -268.6000000000033,
          -269.70000000000385,
          -295.60000000000366,
          -310.00000000000364,
          -315.0000000000042,
          -326.70000000000425,
          -342.40000000000384,
          -335.4000000000035,
          -339.60000000000326,
          -337.20000000000306,
          -319.900000000003,
          -295.80000000000274,
          -320.50000000000244,
          -349.20000000000283,
          -354.5000000000031,
          -376.4000000000034,
          -371.9000000000039,
          -377.8000000000037,
          -371.0000000000036,
          -366.5000000000041,
          -397.0000000000041,
          -364.6000000000039,
          -304.80000000000405,
          -285.2000000000044,
          -273.4000000000048,
          -170.80000000000433,
          -175.8000000000038,
          -131.8000000000042,
          -182.8000000000041,
          -178.9000000000041,
          -164.2000000000044,
          -150.60000000000412,
          -108.0000000000037,
          -39.60000000000302,
          -61.300000000003074,
          -60.80000000000313,
          -53.100000000002645,
          -79.00000000000246,
          -88.80000000000227,
          -79.40000000000175,
          -84.4000000000012,
          -107.70000000000063,
          -95.0000000000007,
          23.899999999998855,
          9.199999999999141,
          -1.5000000000010125,
          -5.700000000001882,
          -21.90000000000254,
          -27.60000000000324,
          -27.800000000003443,
          -7.0000000000026255,
          -45.200000000001964,
          -83.20000000000222,
          118.69999999999708,
          64.79999999999703,
          14.999999999997186,
          -5.0000000000028315,
          -28.800000000002207,
          -62.0000000000021,
          -69.20000000000265,
          79.9999999999978,
          -11.900000000001398,
          37.3999999999985,
          67.19999999999833,
          57.79999999999892,
          70.89999999999925,
          52.59999999999927,
          87.99999999999915,
          76.39999999999864,
          69.7999999999987,
          83.59999999999918,
          74.69999999999972,
          39.400000000000496,
          -3.499999999999659,
          -84.80000000000047,
          -152.60000000000053,
          -132.80000000000072,
          -166.00000000000063,
          -87.00000000000045,
          -50.40000000000049,
          -33.69999999999989,
          1.3000000000006935,
          6.800000000001198,
          26.600000000001014,
          17.400000000000695,
          24.30000000000038,
          13.400000000000027,
          19.400000000000475,
          67.80000000000113,
          27.20000000000161,
          7.500000000001336,
          1.4000000000013415,
          -13.399999999997917,
          -62.099999999997216,
          -64.39999999999674,
          -115.19999999999646,
          -111.1999999999958,
          -86.39999999999542,
          -84.89999999999559,
          -70.99999999999557,
          -128.79999999999563,
          -92.79999999999626,
          -120.5999999999963,
          -144.29999999999615,
          -142.19999999999683,
          -131.39999999999714,
          -132.79999999999742,
          -64.59999999999806,
          5.500000000001549,
          39.10000000000184,
          28.000000000002398,
          -3.2999999999972616,
          -79.89999999999725,
          -122.7999999999974,
          -121.1999999999969,
          -152.1999999999968,
          -152.29999999999745,
          -168.09999999999772,
          -210.39999999999728,
          -252.9999999999966,
          -217.7999999999958,
          -227.7999999999958,
          -216.9999999999961,
          -220.79999999999546,
          -222.59999999999505,
          -247.9999999999949,
          -277.99999999999494,
          -302.7999999999953,
          -289.3999999999952,
          -327.39999999999543,
          -333.09999999999616,
          -339.59999999999656,
          -345.89999999999674,
          -348.99999999999704,
          -396.9999999999973,
          -393.19999999999686,
          -388.999999999996,
          -410.49999999999585,
          -425.2999999999962,
          -429.6999999999962,
          -386.3999999999956,
          -392.2999999999954,
          -384.7999999999951,
          -350.79999999999444,
          -367.99999999999386,
          -390.0999999999932,
          -403.5999999999928,
          -395.7999999999928,
          -393.3999999999926,
          -390.09999999999206,
          -364.59999999999155,
          -363.39999999999145,
          -349.59999999999206,
          -353.29999999999296,
          -362.19999999999357,
          -383.5999999999939,
          -409.89999999999407,
          -414.99999999999415,
          -420.7999999999944,
          -300.1999999999948,
          -297.19999999999516,
          -292.599999999995,
          -293.5999999999949,
          -298.19999999999504,
          -331.79999999999535,
          -302.79999999999524,
          -318.99999999999477,
          -308.79999999999455,
          -312.7999999999941,
          -329.39999999999407,
          -352.79999999999416,
          -364.0999999999938,
          -395.5999999999937,
          -384.79999999999404,
          -396.7999999999938,
          -407.59999999999354,
          -410.89999999999407,
          -447.5999999999947,
          -463.99999999999443,
          -469.1999999999941,
          -484.89999999999367,
          -487.3999999999934,
          -502.59999999999417,
          -502.6999999999948,
          -511.59999999999536,
          -533.6999999999958,
          -506.2999999999962,
          -512.7999999999965,
          -517.1999999999965,
          -529.3999999999965,
          -541.1999999999961,
          -519.7999999999957,
          -546.5999999999959,
          -604.9999999999955,
          -605.099999999995,
          -572.3999999999951,
          -584.2999999999953,
          -577.799999999996,
          -610.9999999999969,
          -631.1999999999971,
          -633.5999999999973,
          -641.6999999999982,
          -532.0999999999985,
          -541.1999999999982,
          -554.3999999999982,
          -555.5999999999982,
          -568.6999999999986,
          -554.5999999999983,
          -580.7999999999979,
          -555.2999999999985,
          -562.6999999999992,
          -584.699999999999,
          -568.1999999999986
         ]
        }
       ],
       "layout": {
        "font": {
         "color": "#e1e1e1",
         "size": 10
        },
        "height": 400,
        "margin": {
         "b": 15,
         "l": 15,
         "t": 10
        },
        "paper_bgcolor": "#1e1e1e",
        "plot_bgcolor": "#1e1e1e",
        "template": {
         "data": {
          "bar": [
           {
            "error_x": {
             "color": "#2a3f5f"
            },
            "error_y": {
             "color": "#2a3f5f"
            },
            "marker": {
             "line": {
              "color": "#E5ECF6",
              "width": 0.5
             },
             "pattern": {
              "fillmode": "overlay",
              "size": 10,
              "solidity": 0.2
             }
            },
            "type": "bar"
           }
          ],
          "barpolar": [
           {
            "marker": {
             "line": {
              "color": "#E5ECF6",
              "width": 0.5
             },
             "pattern": {
              "fillmode": "overlay",
              "size": 10,
              "solidity": 0.2
             }
            },
            "type": "barpolar"
           }
          ],
          "carpet": [
           {
            "aaxis": {
             "endlinecolor": "#2a3f5f",
             "gridcolor": "white",
             "linecolor": "white",
             "minorgridcolor": "white",
             "startlinecolor": "#2a3f5f"
            },
            "baxis": {
             "endlinecolor": "#2a3f5f",
             "gridcolor": "white",
             "linecolor": "white",
             "minorgridcolor": "white",
             "startlinecolor": "#2a3f5f"
            },
            "type": "carpet"
           }
          ],
          "choropleth": [
           {
            "colorbar": {
             "outlinewidth": 0,
             "ticks": ""
            },
            "type": "choropleth"
           }
          ],
          "contour": [
           {
            "colorbar": {
             "outlinewidth": 0,
             "ticks": ""
            },
            "colorscale": [
             [
              0,
              "#0d0887"
             ],
             [
              0.1111111111111111,
              "#46039f"
             ],
             [
              0.2222222222222222,
              "#7201a8"
             ],
             [
              0.3333333333333333,
              "#9c179e"
             ],
             [
              0.4444444444444444,
              "#bd3786"
             ],
             [
              0.5555555555555556,
              "#d8576b"
             ],
             [
              0.6666666666666666,
              "#ed7953"
             ],
             [
              0.7777777777777778,
              "#fb9f3a"
             ],
             [
              0.8888888888888888,
              "#fdca26"
             ],
             [
              1,
              "#f0f921"
             ]
            ],
            "type": "contour"
           }
          ],
          "contourcarpet": [
           {
            "colorbar": {
             "outlinewidth": 0,
             "ticks": ""
            },
            "type": "contourcarpet"
           }
          ],
          "heatmap": [
           {
            "colorbar": {
             "outlinewidth": 0,
             "ticks": ""
            },
            "colorscale": [
             [
              0,
              "#0d0887"
             ],
             [
              0.1111111111111111,
              "#46039f"
             ],
             [
              0.2222222222222222,
              "#7201a8"
             ],
             [
              0.3333333333333333,
              "#9c179e"
             ],
             [
              0.4444444444444444,
              "#bd3786"
             ],
             [
              0.5555555555555556,
              "#d8576b"
             ],
             [
              0.6666666666666666,
              "#ed7953"
             ],
             [
              0.7777777777777778,
              "#fb9f3a"
             ],
             [
              0.8888888888888888,
              "#fdca26"
             ],
             [
              1,
              "#f0f921"
             ]
            ],
            "type": "heatmap"
           }
          ],
          "heatmapgl": [
           {
            "colorbar": {
             "outlinewidth": 0,
             "ticks": ""
            },
            "colorscale": [
             [
              0,
              "#0d0887"
             ],
             [
              0.1111111111111111,
              "#46039f"
             ],
             [
              0.2222222222222222,
              "#7201a8"
             ],
             [
              0.3333333333333333,
              "#9c179e"
             ],
             [
              0.4444444444444444,
              "#bd3786"
             ],
             [
              0.5555555555555556,
              "#d8576b"
             ],
             [
              0.6666666666666666,
              "#ed7953"
             ],
             [
              0.7777777777777778,
              "#fb9f3a"
             ],
             [
              0.8888888888888888,
              "#fdca26"
             ],
             [
              1,
              "#f0f921"
             ]
            ],
            "type": "heatmapgl"
           }
          ],
          "histogram": [
           {
            "marker": {
             "pattern": {
              "fillmode": "overlay",
              "size": 10,
              "solidity": 0.2
             }
            },
            "type": "histogram"
           }
          ],
          "histogram2d": [
           {
            "colorbar": {
             "outlinewidth": 0,
             "ticks": ""
            },
            "colorscale": [
             [
              0,
              "#0d0887"
             ],
             [
              0.1111111111111111,
              "#46039f"
             ],
             [
              0.2222222222222222,
              "#7201a8"
             ],
             [
              0.3333333333333333,
              "#9c179e"
             ],
             [
              0.4444444444444444,
              "#bd3786"
             ],
             [
              0.5555555555555556,
              "#d8576b"
             ],
             [
              0.6666666666666666,
              "#ed7953"
             ],
             [
              0.7777777777777778,
              "#fb9f3a"
             ],
             [
              0.8888888888888888,
              "#fdca26"
             ],
             [
              1,
              "#f0f921"
             ]
            ],
            "type": "histogram2d"
           }
          ],
          "histogram2dcontour": [
           {
            "colorbar": {
             "outlinewidth": 0,
             "ticks": ""
            },
            "colorscale": [
             [
              0,
              "#0d0887"
             ],
             [
              0.1111111111111111,
              "#46039f"
             ],
             [
              0.2222222222222222,
              "#7201a8"
             ],
             [
              0.3333333333333333,
              "#9c179e"
             ],
             [
              0.4444444444444444,
              "#bd3786"
             ],
             [
              0.5555555555555556,
              "#d8576b"
             ],
             [
              0.6666666666666666,
              "#ed7953"
             ],
             [
              0.7777777777777778,
              "#fb9f3a"
             ],
             [
              0.8888888888888888,
              "#fdca26"
             ],
             [
              1,
              "#f0f921"
             ]
            ],
            "type": "histogram2dcontour"
           }
          ],
          "mesh3d": [
           {
            "colorbar": {
             "outlinewidth": 0,
             "ticks": ""
            },
            "type": "mesh3d"
           }
          ],
          "parcoords": [
           {
            "line": {
             "colorbar": {
              "outlinewidth": 0,
              "ticks": ""
             }
            },
            "type": "parcoords"
           }
          ],
          "pie": [
           {
            "automargin": true,
            "type": "pie"
           }
          ],
          "scatter": [
           {
            "fillpattern": {
             "fillmode": "overlay",
             "size": 10,
             "solidity": 0.2
            },
            "type": "scatter"
           }
          ],
          "scatter3d": [
           {
            "line": {
             "colorbar": {
              "outlinewidth": 0,
              "ticks": ""
             }
            },
            "marker": {
             "colorbar": {
              "outlinewidth": 0,
              "ticks": ""
             }
            },
            "type": "scatter3d"
           }
          ],
          "scattercarpet": [
           {
            "marker": {
             "colorbar": {
              "outlinewidth": 0,
              "ticks": ""
             }
            },
            "type": "scattercarpet"
           }
          ],
          "scattergeo": [
           {
            "marker": {
             "colorbar": {
              "outlinewidth": 0,
              "ticks": ""
             }
            },
            "type": "scattergeo"
           }
          ],
          "scattergl": [
           {
            "marker": {
             "colorbar": {
              "outlinewidth": 0,
              "ticks": ""
             }
            },
            "type": "scattergl"
           }
          ],
          "scattermapbox": [
           {
            "marker": {
             "colorbar": {
              "outlinewidth": 0,
              "ticks": ""
             }
            },
            "type": "scattermapbox"
           }
          ],
          "scatterpolar": [
           {
            "marker": {
             "colorbar": {
              "outlinewidth": 0,
              "ticks": ""
             }
            },
            "type": "scatterpolar"
           }
          ],
          "scatterpolargl": [
           {
            "marker": {
             "colorbar": {
              "outlinewidth": 0,
              "ticks": ""
             }
            },
            "type": "scatterpolargl"
           }
          ],
          "scatterternary": [
           {
            "marker": {
             "colorbar": {
              "outlinewidth": 0,
              "ticks": ""
             }
            },
            "type": "scatterternary"
           }
          ],
          "surface": [
           {
            "colorbar": {
             "outlinewidth": 0,
             "ticks": ""
            },
            "colorscale": [
             [
              0,
              "#0d0887"
             ],
             [
              0.1111111111111111,
              "#46039f"
             ],
             [
              0.2222222222222222,
              "#7201a8"
             ],
             [
              0.3333333333333333,
              "#9c179e"
             ],
             [
              0.4444444444444444,
              "#bd3786"
             ],
             [
              0.5555555555555556,
              "#d8576b"
             ],
             [
              0.6666666666666666,
              "#ed7953"
             ],
             [
              0.7777777777777778,
              "#fb9f3a"
             ],
             [
              0.8888888888888888,
              "#fdca26"
             ],
             [
              1,
              "#f0f921"
             ]
            ],
            "type": "surface"
           }
          ],
          "table": [
           {
            "cells": {
             "fill": {
              "color": "#EBF0F8"
             },
             "line": {
              "color": "white"
             }
            },
            "header": {
             "fill": {
              "color": "#C8D4E3"
             },
             "line": {
              "color": "white"
             }
            },
            "type": "table"
           }
          ]
         },
         "layout": {
          "annotationdefaults": {
           "arrowcolor": "#2a3f5f",
           "arrowhead": 0,
           "arrowwidth": 1
          },
          "autotypenumbers": "strict",
          "coloraxis": {
           "colorbar": {
            "outlinewidth": 0,
            "ticks": ""
           }
          },
          "colorscale": {
           "diverging": [
            [
             0,
             "#8e0152"
            ],
            [
             0.1,
             "#c51b7d"
            ],
            [
             0.2,
             "#de77ae"
            ],
            [
             0.3,
             "#f1b6da"
            ],
            [
             0.4,
             "#fde0ef"
            ],
            [
             0.5,
             "#f7f7f7"
            ],
            [
             0.6,
             "#e6f5d0"
            ],
            [
             0.7,
             "#b8e186"
            ],
            [
             0.8,
             "#7fbc41"
            ],
            [
             0.9,
             "#4d9221"
            ],
            [
             1,
             "#276419"
            ]
           ],
           "sequential": [
            [
             0,
             "#0d0887"
            ],
            [
             0.1111111111111111,
             "#46039f"
            ],
            [
             0.2222222222222222,
             "#7201a8"
            ],
            [
             0.3333333333333333,
             "#9c179e"
            ],
            [
             0.4444444444444444,
             "#bd3786"
            ],
            [
             0.5555555555555556,
             "#d8576b"
            ],
            [
             0.6666666666666666,
             "#ed7953"
            ],
            [
             0.7777777777777778,
             "#fb9f3a"
            ],
            [
             0.8888888888888888,
             "#fdca26"
            ],
            [
             1,
             "#f0f921"
            ]
           ],
           "sequentialminus": [
            [
             0,
             "#0d0887"
            ],
            [
             0.1111111111111111,
             "#46039f"
            ],
            [
             0.2222222222222222,
             "#7201a8"
            ],
            [
             0.3333333333333333,
             "#9c179e"
            ],
            [
             0.4444444444444444,
             "#bd3786"
            ],
            [
             0.5555555555555556,
             "#d8576b"
            ],
            [
             0.6666666666666666,
             "#ed7953"
            ],
            [
             0.7777777777777778,
             "#fb9f3a"
            ],
            [
             0.8888888888888888,
             "#fdca26"
            ],
            [
             1,
             "#f0f921"
            ]
           ]
          },
          "colorway": [
           "#636efa",
           "#EF553B",
           "#00cc96",
           "#ab63fa",
           "#FFA15A",
           "#19d3f3",
           "#FF6692",
           "#B6E880",
           "#FF97FF",
           "#FECB52"
          ],
          "font": {
           "color": "#2a3f5f"
          },
          "geo": {
           "bgcolor": "white",
           "lakecolor": "white",
           "landcolor": "#E5ECF6",
           "showlakes": true,
           "showland": true,
           "subunitcolor": "white"
          },
          "hoverlabel": {
           "align": "left"
          },
          "hovermode": "closest",
          "mapbox": {
           "style": "light"
          },
          "paper_bgcolor": "white",
          "plot_bgcolor": "#E5ECF6",
          "polar": {
           "angularaxis": {
            "gridcolor": "white",
            "linecolor": "white",
            "ticks": ""
           },
           "bgcolor": "#E5ECF6",
           "radialaxis": {
            "gridcolor": "white",
            "linecolor": "white",
            "ticks": ""
           }
          },
          "scene": {
           "xaxis": {
            "backgroundcolor": "#E5ECF6",
            "gridcolor": "white",
            "gridwidth": 2,
            "linecolor": "white",
            "showbackground": true,
            "ticks": "",
            "zerolinecolor": "white"
           },
           "yaxis": {
            "backgroundcolor": "#E5ECF6",
            "gridcolor": "white",
            "gridwidth": 2,
            "linecolor": "white",
            "showbackground": true,
            "ticks": "",
            "zerolinecolor": "white"
           },
           "zaxis": {
            "backgroundcolor": "#E5ECF6",
            "gridcolor": "white",
            "gridwidth": 2,
            "linecolor": "white",
            "showbackground": true,
            "ticks": "",
            "zerolinecolor": "white"
           }
          },
          "shapedefaults": {
           "line": {
            "color": "#2a3f5f"
           }
          },
          "ternary": {
           "aaxis": {
            "gridcolor": "white",
            "linecolor": "white",
            "ticks": ""
           },
           "baxis": {
            "gridcolor": "white",
            "linecolor": "white",
            "ticks": ""
           },
           "bgcolor": "#E5ECF6",
           "caxis": {
            "gridcolor": "white",
            "linecolor": "white",
            "ticks": ""
           }
          },
          "title": {
           "x": 0.05
          },
          "xaxis": {
           "automargin": true,
           "gridcolor": "white",
           "linecolor": "white",
           "ticks": "",
           "title": {
            "standoff": 15
           },
           "zerolinecolor": "white",
           "zerolinewidth": 2
          },
          "yaxis": {
           "automargin": true,
           "gridcolor": "white",
           "linecolor": "white",
           "ticks": "",
           "title": {
            "standoff": 15
           },
           "zerolinecolor": "white",
           "zerolinewidth": 2
          }
         }
        },
        "title": {
         "text": "EUR_GBP_MA_8_16"
        },
        "width": 1000,
        "xaxis": {
         "linecolor": "#3a4a54",
         "linewidth": 1,
         "showgrid": false,
         "zeroline": false
        },
        "yaxis": {
         "linecolor": "#3a4a54",
         "linewidth": 1,
         "showgrid": false,
         "zeroline": false
        }
       }
      }
     },
     "metadata": {},
     "output_type": "display_data"
    },
    {
     "data": {
      "application/vnd.plotly.v1+json": {
       "config": {
        "plotlyServerURL": "https://plot.ly"
       },
       "data": [
        {
         "line": {
          "color": "#3d825f",
          "shape": "spline",
          "width": 2
         },
         "mode": "lines",
         "name": "EUR_CAD_MA_8_16",
         "type": "scatter",
         "x": [
          "2022-06-07T12:00:00+00:00",
          "2022-06-08T10:00:00+00:00",
          "2022-06-10T12:00:00+00:00",
          "2022-06-13T08:00:00+00:00",
          "2022-06-13T15:00:00+00:00",
          "2022-06-14T02:00:00+00:00",
          "2022-06-14T20:00:00+00:00",
          "2022-06-14T22:00:00+00:00",
          "2022-06-15T15:00:00+00:00",
          "2022-06-16T13:00:00+00:00",
          "2022-06-17T06:00:00+00:00",
          "2022-06-17T14:00:00+00:00",
          "2022-06-20T03:00:00+00:00",
          "2022-06-20T06:00:00+00:00",
          "2022-06-20T17:00:00+00:00",
          "2022-06-21T12:00:00+00:00",
          "2022-06-21T18:00:00+00:00",
          "2022-06-22T06:00:00+00:00",
          "2022-06-23T08:00:00+00:00",
          "2022-06-23T19:00:00+00:00",
          "2022-06-24T11:00:00+00:00",
          "2022-06-27T10:00:00+00:00",
          "2022-06-27T22:00:00+00:00",
          "2022-06-29T02:00:00+00:00",
          "2022-06-29T05:00:00+00:00",
          "2022-06-30T06:00:00+00:00",
          "2022-06-30T12:00:00+00:00",
          "2022-06-30T19:00:00+00:00",
          "2022-07-01T13:00:00+00:00",
          "2022-07-04T04:00:00+00:00",
          "2022-07-04T08:00:00+00:00",
          "2022-07-05T05:00:00+00:00",
          "2022-07-05T07:00:00+00:00",
          "2022-07-05T18:00:00+00:00",
          "2022-07-06T03:00:00+00:00",
          "2022-07-07T06:00:00+00:00",
          "2022-07-07T09:00:00+00:00",
          "2022-07-08T04:00:00+00:00",
          "2022-07-08T10:00:00+00:00",
          "2022-07-08T19:00:00+00:00",
          "2022-07-08T20:00:00+00:00",
          "2022-07-10T21:00:00+00:00",
          "2022-07-11T00:00:00+00:00",
          "2022-07-12T11:00:00+00:00",
          "2022-07-12T22:00:00+00:00",
          "2022-07-13T11:00:00+00:00",
          "2022-07-13T18:00:00+00:00",
          "2022-07-14T09:00:00+00:00",
          "2022-07-14T23:00:00+00:00",
          "2022-07-15T03:00:00+00:00",
          "2022-07-15T13:00:00+00:00",
          "2022-07-18T08:00:00+00:00",
          "2022-07-19T04:00:00+00:00",
          "2022-07-19T08:00:00+00:00",
          "2022-07-19T19:00:00+00:00",
          "2022-07-20T07:00:00+00:00",
          "2022-07-20T11:00:00+00:00",
          "2022-07-21T04:00:00+00:00",
          "2022-07-21T19:00:00+00:00",
          "2022-07-22T04:00:00+00:00",
          "2022-07-22T06:00:00+00:00",
          "2022-07-22T16:00:00+00:00",
          "2022-07-25T10:00:00+00:00",
          "2022-07-26T04:00:00+00:00",
          "2022-07-26T07:00:00+00:00",
          "2022-07-27T04:00:00+00:00",
          "2022-07-27T11:00:00+00:00",
          "2022-07-27T17:00:00+00:00",
          "2022-07-28T09:00:00+00:00",
          "2022-07-28T20:00:00+00:00",
          "2022-07-29T17:00:00+00:00",
          "2022-08-01T00:00:00+00:00",
          "2022-08-01T12:00:00+00:00",
          "2022-08-01T13:00:00+00:00",
          "2022-08-02T10:00:00+00:00",
          "2022-08-03T07:00:00+00:00",
          "2022-08-03T11:00:00+00:00",
          "2022-08-04T03:00:00+00:00",
          "2022-08-05T07:00:00+00:00",
          "2022-08-05T13:00:00+00:00",
          "2022-08-05T14:00:00+00:00",
          "2022-08-05T15:00:00+00:00",
          "2022-08-05T16:00:00+00:00",
          "2022-08-08T02:00:00+00:00",
          "2022-08-08T06:00:00+00:00",
          "2022-08-09T06:00:00+00:00",
          "2022-08-09T23:00:00+00:00",
          "2022-08-10T07:00:00+00:00",
          "2022-08-10T21:00:00+00:00",
          "2022-08-11T09:00:00+00:00",
          "2022-08-11T20:00:00+00:00",
          "2022-08-15T05:00:00+00:00",
          "2022-08-15T20:00:00+00:00",
          "2022-08-17T07:00:00+00:00",
          "2022-08-18T08:00:00+00:00",
          "2022-08-19T07:00:00+00:00",
          "2022-08-19T15:00:00+00:00",
          "2022-08-24T15:00:00+00:00",
          "2022-08-25T08:00:00+00:00",
          "2022-08-26T00:00:00+00:00",
          "2022-08-29T03:00:00+00:00",
          "2022-08-29T10:00:00+00:00",
          "2022-08-29T20:00:00+00:00",
          "2022-08-30T04:00:00+00:00",
          "2022-08-30T07:00:00+00:00",
          "2022-08-30T09:00:00+00:00",
          "2022-08-31T06:00:00+00:00",
          "2022-08-31T15:00:00+00:00",
          "2022-09-01T13:00:00+00:00",
          "2022-09-02T05:00:00+00:00",
          "2022-09-02T17:00:00+00:00",
          "2022-09-05T12:00:00+00:00",
          "2022-09-06T12:00:00+00:00",
          "2022-09-06T23:00:00+00:00",
          "2022-09-08T05:00:00+00:00",
          "2022-09-08T11:00:00+00:00",
          "2022-09-08T16:00:00+00:00",
          "2022-09-09T02:00:00+00:00",
          "2022-09-09T12:00:00+00:00",
          "2022-09-11T23:00:00+00:00",
          "2022-09-12T16:00:00+00:00",
          "2022-09-13T03:00:00+00:00",
          "2022-09-13T15:00:00+00:00",
          "2022-09-14T02:00:00+00:00",
          "2022-09-14T18:00:00+00:00",
          "2022-09-15T10:00:00+00:00",
          "2022-09-19T03:00:00+00:00",
          "2022-09-19T12:00:00+00:00",
          "2022-09-19T22:00:00+00:00",
          "2022-09-20T06:00:00+00:00",
          "2022-09-21T04:00:00+00:00",
          "2022-09-22T01:00:00+00:00",
          "2022-09-22T16:00:00+00:00",
          "2022-09-26T09:00:00+00:00",
          "2022-09-27T01:00:00+00:00",
          "2022-09-27T16:00:00+00:00",
          "2022-09-27T20:00:00+00:00",
          "2022-09-28T08:00:00+00:00",
          "2022-09-29T05:00:00+00:00",
          "2022-09-29T09:00:00+00:00",
          "2022-09-30T10:00:00+00:00",
          "2022-09-30T18:00:00+00:00",
          "2022-10-03T05:00:00+00:00",
          "2022-10-04T02:00:00+00:00",
          "2022-10-04T23:00:00+00:00",
          "2022-10-06T04:00:00+00:00",
          "2022-10-06T18:00:00+00:00",
          "2022-10-10T19:00:00+00:00",
          "2022-10-11T17:00:00+00:00",
          "2022-10-12T07:00:00+00:00",
          "2022-10-12T13:00:00+00:00",
          "2022-10-12T22:00:00+00:00",
          "2022-10-13T09:00:00+00:00",
          "2022-10-13T10:00:00+00:00",
          "2022-10-13T23:00:00+00:00",
          "2022-10-14T14:00:00+00:00",
          "2022-10-17T03:00:00+00:00",
          "2022-10-17T17:00:00+00:00",
          "2022-10-18T05:00:00+00:00",
          "2022-10-18T10:00:00+00:00",
          "2022-10-19T02:00:00+00:00",
          "2022-10-20T06:00:00+00:00",
          "2022-10-20T13:00:00+00:00",
          "2022-10-20T20:00:00+00:00",
          "2022-10-21T13:00:00+00:00",
          "2022-10-24T03:00:00+00:00",
          "2022-10-25T03:00:00+00:00",
          "2022-10-25T14:00:00+00:00",
          "2022-10-26T02:00:00+00:00",
          "2022-10-26T10:00:00+00:00",
          "2022-10-27T06:00:00+00:00",
          "2022-10-28T04:00:00+00:00",
          "2022-10-31T08:00:00+00:00",
          "2022-10-31T11:00:00+00:00",
          "2022-10-31T12:00:00+00:00",
          "2022-11-01T11:00:00+00:00",
          "2022-11-01T21:00:00+00:00",
          "2022-11-02T12:00:00+00:00",
          "2022-11-02T22:00:00+00:00",
          "2022-11-04T17:00:00+00:00",
          "2022-11-08T07:00:00+00:00",
          "2022-11-08T19:00:00+00:00",
          "2022-11-09T09:00:00+00:00",
          "2022-11-09T21:00:00+00:00",
          "2022-11-10T10:00:00+00:00",
          "2022-11-10T18:00:00+00:00",
          "2022-11-11T05:00:00+00:00",
          "2022-11-11T07:00:00+00:00",
          "2022-11-14T04:00:00+00:00",
          "2022-11-14T13:00:00+00:00",
          "2022-11-15T06:00:00+00:00",
          "2022-11-15T08:00:00+00:00",
          "2022-11-15T20:00:00+00:00",
          "2022-11-16T06:00:00+00:00",
          "2022-11-17T07:00:00+00:00",
          "2022-11-17T08:00:00+00:00",
          "2022-11-17T09:00:00+00:00",
          "2022-11-18T01:00:00+00:00",
          "2022-11-18T02:00:00+00:00",
          "2022-11-18T03:00:00+00:00",
          "2022-11-20T23:00:00+00:00",
          "2022-11-21T18:00:00+00:00",
          "2022-11-22T03:00:00+00:00",
          "2022-11-22T07:00:00+00:00",
          "2022-11-22T10:00:00+00:00",
          "2022-11-22T19:00:00+00:00",
          "2022-11-24T12:00:00+00:00",
          "2022-11-25T06:00:00+00:00",
          "2022-11-28T19:00:00+00:00",
          "2022-11-29T12:00:00+00:00",
          "2022-11-30T03:00:00+00:00",
          "2022-11-30T07:00:00+00:00",
          "2022-11-30T11:00:00+00:00",
          "2022-12-01T03:00:00+00:00",
          "2022-12-02T14:00:00+00:00",
          "2022-12-02T20:00:00+00:00",
          "2022-12-05T07:00:00+00:00",
          "2022-12-05T14:00:00+00:00",
          "2022-12-06T08:00:00+00:00",
          "2022-12-06T10:00:00+00:00",
          "2022-12-06T23:00:00+00:00",
          "2022-12-07T09:00:00+00:00",
          "2022-12-07T21:00:00+00:00",
          "2022-12-08T02:00:00+00:00",
          "2022-12-08T12:00:00+00:00",
          "2022-12-08T23:00:00+00:00",
          "2022-12-09T17:00:00+00:00",
          "2022-12-12T08:00:00+00:00",
          "2022-12-12T20:00:00+00:00",
          "2022-12-13T08:00:00+00:00",
          "2022-12-13T10:00:00+00:00",
          "2022-12-13T14:00:00+00:00",
          "2022-12-15T06:00:00+00:00",
          "2022-12-15T15:00:00+00:00",
          "2022-12-16T21:00:00+00:00",
          "2022-12-19T09:00:00+00:00",
          "2022-12-19T14:00:00+00:00",
          "2022-12-20T07:00:00+00:00",
          "2022-12-20T13:00:00+00:00",
          "2022-12-20T15:00:00+00:00",
          "2022-12-21T08:00:00+00:00",
          "2022-12-21T17:00:00+00:00",
          "2022-12-22T04:00:00+00:00",
          "2022-12-22T23:00:00+00:00",
          "2022-12-27T06:00:00+00:00",
          "2022-12-27T07:00:00+00:00",
          "2022-12-28T01:00:00+00:00",
          "2022-12-28T12:00:00+00:00",
          "2022-12-28T16:00:00+00:00",
          "2022-12-29T21:00:00+00:00",
          "2022-12-30T14:00:00+00:00",
          "2023-01-02T07:00:00+00:00",
          "2023-01-02T15:00:00+00:00",
          "2023-01-02T17:00:00+00:00",
          "2023-01-03T02:00:00+00:00",
          "2023-01-03T07:00:00+00:00",
          "2023-01-03T19:00:00+00:00",
          "2023-01-04T04:00:00+00:00",
          "2023-01-04T05:00:00+00:00",
          "2023-01-04T06:00:00+00:00",
          "2023-01-05T05:00:00+00:00",
          "2023-01-05T14:00:00+00:00",
          "2023-01-06T09:00:00+00:00",
          "2023-01-06T19:00:00+00:00",
          "2023-01-08T22:00:00+00:00",
          "2023-01-09T09:00:00+00:00",
          "2023-01-09T15:00:00+00:00",
          "2023-01-10T06:00:00+00:00",
          "2023-01-10T09:00:00+00:00",
          "2023-01-12T12:00:00+00:00",
          "2023-01-12T16:00:00+00:00",
          "2023-01-13T09:00:00+00:00",
          "2023-01-13T18:00:00+00:00",
          "2023-01-16T09:00:00+00:00",
          "2023-01-16T21:00:00+00:00",
          "2023-01-17T16:00:00+00:00",
          "2023-01-18T09:00:00+00:00",
          "2023-01-19T17:00:00+00:00",
          "2023-01-20T02:00:00+00:00",
          "2023-01-20T13:00:00+00:00",
          "2023-01-20T14:00:00+00:00",
          "2023-01-20T15:00:00+00:00",
          "2023-01-23T03:00:00+00:00",
          "2023-01-23T13:00:00+00:00",
          "2023-01-24T19:00:00+00:00",
          "2023-01-25T10:00:00+00:00"
         ],
         "y": [
          -18.499999999999073,
          -25.499999999998302,
          -39.69999999999807,
          -85.599999999999,
          -111.79999999999967,
          -49.900000000000496,
          -59.40000000000056,
          -91.49999999999991,
          -138.49999999999918,
          -31.899999999998045,
          -73.09999999999707,
          -53.09999999999705,
          -38.0999999999987,
          -59.89999999999941,
          -68.29999999999893,
          -120.09999999999854,
          -121.69999999999793,
          -115.19999999999753,
          -166.99999999999716,
          -190.0999999999975,
          -186.09999999999792,
          -213.49999999999756,
          -146.69999999999737,
          -176.49999999999721,
          -134.99999999999625,
          -194.49999999999525,
          -264.89999999999463,
          -298.699999999994,
          -288.39999999999316,
          -303.49999999999216,
          -287.09999999999127,
          -345.09999999999155,
          -379.2999999999936,
          -387.8999999999944,
          -292.29999999999427,
          -303.3999999999937,
          -228.09999999999337,
          -251.89999999999387,
          -263.2999999999931,
          -270.8999999999918,
          -273.9999999999921,
          -302.8999999999927,
          -240.69999999999158,
          -264.7999999999896,
          -275.49999999998863,
          -304.2999999999886,
          -396.6999999999877,
          -394.0999999999862,
          -391.699999999986,
          -409.29999999998586,
          -440.0999999999856,
          -454.49999999998664,
          -584.699999999987,
          -695.8999999999871,
          -705.9999999999867,
          -750.3999999999867,
          -776.2999999999876,
          -781.299999999987,
          -766.2999999999864,
          -757.1999999999867,
          -793.0999999999866,
          -796.6999999999857,
          -754.699999999986,
          -778.7999999999862,
          -726.8999999999859,
          -726.4999999999854,
          -733.0999999999842,
          -779.6999999999831,
          -822.7999999999835,
          -784.4999999999835,
          -778.4999999999819,
          -780.6999999999808,
          -832.8999999999809,
          -808.9999999999819,
          -740.2999999999826,
          -750.4999999999827,
          -721.2999999999823,
          -608.0999999999824,
          -611.0999999999843,
          -642.8999999999861,
          -663.699999999987,
          -661.0999999999877,
          -668.7999999999894,
          -699.9999999999895,
          -684.499999999988,
          -654.2999999999877,
          -648.2999999999884,
          -637.6999999999878,
          -670.8999999999877,
          -685.0999999999875,
          -613.5999999999876,
          -611.4999999999894,
          -586.2999999999909,
          -544.8999999999905,
          -503.2999999999889,
          -543.6999999999871,
          -427.59999999998587,
          -443.7999999999854,
          -441.89999999998406,
          -391.4999999999825,
          -470.49999999998266,
          -499.09999999998354,
          -497.6999999999832,
          -478.8999999999822,
          -476.8999999999824,
          -408.3999999999822,
          -489.2999999999815,
          -511.89999999998076,
          -483.29999999997995,
          -518.4999999999797,
          -470.6999999999796,
          -506.69999999998004,
          -523.5999999999797,
          -424.49999999997885,
          -444.0999999999785,
          -510.59999999997893,
          -563.8999999999795,
          -604.1999999999792,
          -634.6999999999792,
          -594.0999999999797,
          -591.6999999999795,
          -626.4999999999787,
          -656.2999999999786,
          -657.2999999999785,
          -666.0999999999784,
          -542.2999999999779,
          -552.2999999999768,
          -555.6999999999769,
          -563.999999999978,
          -537.6999999999789,
          -489.099999999978,
          -494.29999999997654,
          -386.89999999997684,
          -359.4999999999772,
          -357.099999999977,
          -376.29999999997847,
          -392.69999999997935,
          -341.4999999999792,
          -383.8999999999794,
          -275.6999999999789,
          -439.79999999997926,
          -486.2999999999797,
          -378.59999999998024,
          -287.79999999998046,
          -264.6999999999801,
          -262.0999999999808,
          -151.79999999998208,
          -116.29999999998266,
          -133.8999999999825,
          -170.6999999999838,
          -215.89999999998457,
          -212.8999999999849,
          -220.69999999998495,
          -203.4999999999855,
          -290.6999999999861,
          -348.3999999999867,
          -367.49999999998744,
          -374.1999999999869,
          -413.9999999999856,
          -402.69999999998487,
          -335.3999999999858,
          -386.99999999998636,
          -443.0999999999853,
          -471.89999999998525,
          -492.2999999999857,
          -421.4999999999859,
          -447.7999999999872,
          -468.59999999998803,
          -503.29999999998887,
          -423.1999999999904,
          -280.89999999999077,
          -254.09999999999062,
          -285.1999999999901,
          -306.89999999999014,
          -213.0999999999907,
          -210.29999999999012,
          -223.8999999999904,
          -239.69999999999177,
          -186.49999999999187,
          -81.09999999999194,
          -111.89999999999165,
          -143.29999999999086,
          -176.199999999991,
          -233.59999999999178,
          -334.69999999999243,
          -324.4999999999922,
          -357.09999999999263,
          -306.6999999999933,
          -333.1999999999937,
          -302.8999999999928,
          -367.99999999999073,
          -416.19999999998896,
          -430.1999999999874,
          -354.29999999998756,
          -361.6999999999894,
          -380.49999999999045,
          -352.59999999998973,
          -350.6999999999884,
          -360.8999999999886,
          -356.1999999999889,
          -298.1999999999886,
          -278.099999999988,
          -276.8999999999868,
          -286.0999999999871,
          -293.49999999998676,
          -175.49999999998641,
          -164.89999999998804,
          -106.0999999999892,
          -158.09999999999013,
          -115.69999999998993,
          -105.79999999998947,
          -131.39999999999065,
          -126.89999999999226,
          -33.29999999999414,
          -122.09999999999413,
          -158.49999999999278,
          -220.29999999999353,
          -149.2999999999947,
          -182.2999999999955,
          -206.4999999999964,
          -260.2999999999958,
          -258.6999999999942,
          -279.0999999999924,
          -323.2999999999911,
          -358.199999999991,
          -346.09999999999167,
          -390.09999999999127,
          -445.69999999999135,
          -453.6999999999927,
          -462.09999999999224,
          -522.6999999999917,
          -490.89999999999213,
          -543.0999999999922,
          -544.4999999999925,
          -536.099999999993,
          -544.0999999999943,
          -570.7999999999961,
          -606.8999999999972,
          -613.0999999999979,
          -612.4999999999984,
          -665.4999999999992,
          -700.6999999999989,
          -702.5999999999981,
          -684.8999999999976,
          -701.6999999999966,
          -677.6999999999948,
          -710.8999999999947,
          -777.8999999999962,
          -767.6999999999961,
          -798.8999999999962,
          -812.9999999999976,
          -815.2999999999971,
          -807.0999999999967,
          -830.2999999999977,
          -943.6999999999989,
          -1000.5000000000002,
          -1025.3000000000006,
          -1035.500000000001,
          -1035.6000000000015,
          -933.2000000000012,
          -979.8000000000001,
          -1012.0999999999985,
          -1015.8999999999968,
          -1020.6999999999949,
          -1035.599999999995,
          -1100.699999999995,
          -1095.099999999994,
          -1113.4999999999945,
          -1062.8999999999962,
          -1111.2999999999959,
          -1119.6999999999953,
          -1155.8999999999949,
          -1169.999999999994,
          -1187.4999999999932,
          -1257.499999999992,
          -1336.0999999999917,
          -1290.2999999999915,
          -1304.6999999999905,
          -1323.799999999989,
          -1331.4999999999884,
          -1362.3999999999887,
          -1402.2999999999881,
          -1433.6999999999873,
          -1430.2999999999872,
          -1435.2999999999868,
          -1518.2999999999865
         ]
        }
       ],
       "layout": {
        "font": {
         "color": "#e1e1e1",
         "size": 10
        },
        "height": 400,
        "margin": {
         "b": 15,
         "l": 15,
         "t": 10
        },
        "paper_bgcolor": "#1e1e1e",
        "plot_bgcolor": "#1e1e1e",
        "template": {
         "data": {
          "bar": [
           {
            "error_x": {
             "color": "#2a3f5f"
            },
            "error_y": {
             "color": "#2a3f5f"
            },
            "marker": {
             "line": {
              "color": "#E5ECF6",
              "width": 0.5
             },
             "pattern": {
              "fillmode": "overlay",
              "size": 10,
              "solidity": 0.2
             }
            },
            "type": "bar"
           }
          ],
          "barpolar": [
           {
            "marker": {
             "line": {
              "color": "#E5ECF6",
              "width": 0.5
             },
             "pattern": {
              "fillmode": "overlay",
              "size": 10,
              "solidity": 0.2
             }
            },
            "type": "barpolar"
           }
          ],
          "carpet": [
           {
            "aaxis": {
             "endlinecolor": "#2a3f5f",
             "gridcolor": "white",
             "linecolor": "white",
             "minorgridcolor": "white",
             "startlinecolor": "#2a3f5f"
            },
            "baxis": {
             "endlinecolor": "#2a3f5f",
             "gridcolor": "white",
             "linecolor": "white",
             "minorgridcolor": "white",
             "startlinecolor": "#2a3f5f"
            },
            "type": "carpet"
           }
          ],
          "choropleth": [
           {
            "colorbar": {
             "outlinewidth": 0,
             "ticks": ""
            },
            "type": "choropleth"
           }
          ],
          "contour": [
           {
            "colorbar": {
             "outlinewidth": 0,
             "ticks": ""
            },
            "colorscale": [
             [
              0,
              "#0d0887"
             ],
             [
              0.1111111111111111,
              "#46039f"
             ],
             [
              0.2222222222222222,
              "#7201a8"
             ],
             [
              0.3333333333333333,
              "#9c179e"
             ],
             [
              0.4444444444444444,
              "#bd3786"
             ],
             [
              0.5555555555555556,
              "#d8576b"
             ],
             [
              0.6666666666666666,
              "#ed7953"
             ],
             [
              0.7777777777777778,
              "#fb9f3a"
             ],
             [
              0.8888888888888888,
              "#fdca26"
             ],
             [
              1,
              "#f0f921"
             ]
            ],
            "type": "contour"
           }
          ],
          "contourcarpet": [
           {
            "colorbar": {
             "outlinewidth": 0,
             "ticks": ""
            },
            "type": "contourcarpet"
           }
          ],
          "heatmap": [
           {
            "colorbar": {
             "outlinewidth": 0,
             "ticks": ""
            },
            "colorscale": [
             [
              0,
              "#0d0887"
             ],
             [
              0.1111111111111111,
              "#46039f"
             ],
             [
              0.2222222222222222,
              "#7201a8"
             ],
             [
              0.3333333333333333,
              "#9c179e"
             ],
             [
              0.4444444444444444,
              "#bd3786"
             ],
             [
              0.5555555555555556,
              "#d8576b"
             ],
             [
              0.6666666666666666,
              "#ed7953"
             ],
             [
              0.7777777777777778,
              "#fb9f3a"
             ],
             [
              0.8888888888888888,
              "#fdca26"
             ],
             [
              1,
              "#f0f921"
             ]
            ],
            "type": "heatmap"
           }
          ],
          "heatmapgl": [
           {
            "colorbar": {
             "outlinewidth": 0,
             "ticks": ""
            },
            "colorscale": [
             [
              0,
              "#0d0887"
             ],
             [
              0.1111111111111111,
              "#46039f"
             ],
             [
              0.2222222222222222,
              "#7201a8"
             ],
             [
              0.3333333333333333,
              "#9c179e"
             ],
             [
              0.4444444444444444,
              "#bd3786"
             ],
             [
              0.5555555555555556,
              "#d8576b"
             ],
             [
              0.6666666666666666,
              "#ed7953"
             ],
             [
              0.7777777777777778,
              "#fb9f3a"
             ],
             [
              0.8888888888888888,
              "#fdca26"
             ],
             [
              1,
              "#f0f921"
             ]
            ],
            "type": "heatmapgl"
           }
          ],
          "histogram": [
           {
            "marker": {
             "pattern": {
              "fillmode": "overlay",
              "size": 10,
              "solidity": 0.2
             }
            },
            "type": "histogram"
           }
          ],
          "histogram2d": [
           {
            "colorbar": {
             "outlinewidth": 0,
             "ticks": ""
            },
            "colorscale": [
             [
              0,
              "#0d0887"
             ],
             [
              0.1111111111111111,
              "#46039f"
             ],
             [
              0.2222222222222222,
              "#7201a8"
             ],
             [
              0.3333333333333333,
              "#9c179e"
             ],
             [
              0.4444444444444444,
              "#bd3786"
             ],
             [
              0.5555555555555556,
              "#d8576b"
             ],
             [
              0.6666666666666666,
              "#ed7953"
             ],
             [
              0.7777777777777778,
              "#fb9f3a"
             ],
             [
              0.8888888888888888,
              "#fdca26"
             ],
             [
              1,
              "#f0f921"
             ]
            ],
            "type": "histogram2d"
           }
          ],
          "histogram2dcontour": [
           {
            "colorbar": {
             "outlinewidth": 0,
             "ticks": ""
            },
            "colorscale": [
             [
              0,
              "#0d0887"
             ],
             [
              0.1111111111111111,
              "#46039f"
             ],
             [
              0.2222222222222222,
              "#7201a8"
             ],
             [
              0.3333333333333333,
              "#9c179e"
             ],
             [
              0.4444444444444444,
              "#bd3786"
             ],
             [
              0.5555555555555556,
              "#d8576b"
             ],
             [
              0.6666666666666666,
              "#ed7953"
             ],
             [
              0.7777777777777778,
              "#fb9f3a"
             ],
             [
              0.8888888888888888,
              "#fdca26"
             ],
             [
              1,
              "#f0f921"
             ]
            ],
            "type": "histogram2dcontour"
           }
          ],
          "mesh3d": [
           {
            "colorbar": {
             "outlinewidth": 0,
             "ticks": ""
            },
            "type": "mesh3d"
           }
          ],
          "parcoords": [
           {
            "line": {
             "colorbar": {
              "outlinewidth": 0,
              "ticks": ""
             }
            },
            "type": "parcoords"
           }
          ],
          "pie": [
           {
            "automargin": true,
            "type": "pie"
           }
          ],
          "scatter": [
           {
            "fillpattern": {
             "fillmode": "overlay",
             "size": 10,
             "solidity": 0.2
            },
            "type": "scatter"
           }
          ],
          "scatter3d": [
           {
            "line": {
             "colorbar": {
              "outlinewidth": 0,
              "ticks": ""
             }
            },
            "marker": {
             "colorbar": {
              "outlinewidth": 0,
              "ticks": ""
             }
            },
            "type": "scatter3d"
           }
          ],
          "scattercarpet": [
           {
            "marker": {
             "colorbar": {
              "outlinewidth": 0,
              "ticks": ""
             }
            },
            "type": "scattercarpet"
           }
          ],
          "scattergeo": [
           {
            "marker": {
             "colorbar": {
              "outlinewidth": 0,
              "ticks": ""
             }
            },
            "type": "scattergeo"
           }
          ],
          "scattergl": [
           {
            "marker": {
             "colorbar": {
              "outlinewidth": 0,
              "ticks": ""
             }
            },
            "type": "scattergl"
           }
          ],
          "scattermapbox": [
           {
            "marker": {
             "colorbar": {
              "outlinewidth": 0,
              "ticks": ""
             }
            },
            "type": "scattermapbox"
           }
          ],
          "scatterpolar": [
           {
            "marker": {
             "colorbar": {
              "outlinewidth": 0,
              "ticks": ""
             }
            },
            "type": "scatterpolar"
           }
          ],
          "scatterpolargl": [
           {
            "marker": {
             "colorbar": {
              "outlinewidth": 0,
              "ticks": ""
             }
            },
            "type": "scatterpolargl"
           }
          ],
          "scatterternary": [
           {
            "marker": {
             "colorbar": {
              "outlinewidth": 0,
              "ticks": ""
             }
            },
            "type": "scatterternary"
           }
          ],
          "surface": [
           {
            "colorbar": {
             "outlinewidth": 0,
             "ticks": ""
            },
            "colorscale": [
             [
              0,
              "#0d0887"
             ],
             [
              0.1111111111111111,
              "#46039f"
             ],
             [
              0.2222222222222222,
              "#7201a8"
             ],
             [
              0.3333333333333333,
              "#9c179e"
             ],
             [
              0.4444444444444444,
              "#bd3786"
             ],
             [
              0.5555555555555556,
              "#d8576b"
             ],
             [
              0.6666666666666666,
              "#ed7953"
             ],
             [
              0.7777777777777778,
              "#fb9f3a"
             ],
             [
              0.8888888888888888,
              "#fdca26"
             ],
             [
              1,
              "#f0f921"
             ]
            ],
            "type": "surface"
           }
          ],
          "table": [
           {
            "cells": {
             "fill": {
              "color": "#EBF0F8"
             },
             "line": {
              "color": "white"
             }
            },
            "header": {
             "fill": {
              "color": "#C8D4E3"
             },
             "line": {
              "color": "white"
             }
            },
            "type": "table"
           }
          ]
         },
         "layout": {
          "annotationdefaults": {
           "arrowcolor": "#2a3f5f",
           "arrowhead": 0,
           "arrowwidth": 1
          },
          "autotypenumbers": "strict",
          "coloraxis": {
           "colorbar": {
            "outlinewidth": 0,
            "ticks": ""
           }
          },
          "colorscale": {
           "diverging": [
            [
             0,
             "#8e0152"
            ],
            [
             0.1,
             "#c51b7d"
            ],
            [
             0.2,
             "#de77ae"
            ],
            [
             0.3,
             "#f1b6da"
            ],
            [
             0.4,
             "#fde0ef"
            ],
            [
             0.5,
             "#f7f7f7"
            ],
            [
             0.6,
             "#e6f5d0"
            ],
            [
             0.7,
             "#b8e186"
            ],
            [
             0.8,
             "#7fbc41"
            ],
            [
             0.9,
             "#4d9221"
            ],
            [
             1,
             "#276419"
            ]
           ],
           "sequential": [
            [
             0,
             "#0d0887"
            ],
            [
             0.1111111111111111,
             "#46039f"
            ],
            [
             0.2222222222222222,
             "#7201a8"
            ],
            [
             0.3333333333333333,
             "#9c179e"
            ],
            [
             0.4444444444444444,
             "#bd3786"
            ],
            [
             0.5555555555555556,
             "#d8576b"
            ],
            [
             0.6666666666666666,
             "#ed7953"
            ],
            [
             0.7777777777777778,
             "#fb9f3a"
            ],
            [
             0.8888888888888888,
             "#fdca26"
            ],
            [
             1,
             "#f0f921"
            ]
           ],
           "sequentialminus": [
            [
             0,
             "#0d0887"
            ],
            [
             0.1111111111111111,
             "#46039f"
            ],
            [
             0.2222222222222222,
             "#7201a8"
            ],
            [
             0.3333333333333333,
             "#9c179e"
            ],
            [
             0.4444444444444444,
             "#bd3786"
            ],
            [
             0.5555555555555556,
             "#d8576b"
            ],
            [
             0.6666666666666666,
             "#ed7953"
            ],
            [
             0.7777777777777778,
             "#fb9f3a"
            ],
            [
             0.8888888888888888,
             "#fdca26"
            ],
            [
             1,
             "#f0f921"
            ]
           ]
          },
          "colorway": [
           "#636efa",
           "#EF553B",
           "#00cc96",
           "#ab63fa",
           "#FFA15A",
           "#19d3f3",
           "#FF6692",
           "#B6E880",
           "#FF97FF",
           "#FECB52"
          ],
          "font": {
           "color": "#2a3f5f"
          },
          "geo": {
           "bgcolor": "white",
           "lakecolor": "white",
           "landcolor": "#E5ECF6",
           "showlakes": true,
           "showland": true,
           "subunitcolor": "white"
          },
          "hoverlabel": {
           "align": "left"
          },
          "hovermode": "closest",
          "mapbox": {
           "style": "light"
          },
          "paper_bgcolor": "white",
          "plot_bgcolor": "#E5ECF6",
          "polar": {
           "angularaxis": {
            "gridcolor": "white",
            "linecolor": "white",
            "ticks": ""
           },
           "bgcolor": "#E5ECF6",
           "radialaxis": {
            "gridcolor": "white",
            "linecolor": "white",
            "ticks": ""
           }
          },
          "scene": {
           "xaxis": {
            "backgroundcolor": "#E5ECF6",
            "gridcolor": "white",
            "gridwidth": 2,
            "linecolor": "white",
            "showbackground": true,
            "ticks": "",
            "zerolinecolor": "white"
           },
           "yaxis": {
            "backgroundcolor": "#E5ECF6",
            "gridcolor": "white",
            "gridwidth": 2,
            "linecolor": "white",
            "showbackground": true,
            "ticks": "",
            "zerolinecolor": "white"
           },
           "zaxis": {
            "backgroundcolor": "#E5ECF6",
            "gridcolor": "white",
            "gridwidth": 2,
            "linecolor": "white",
            "showbackground": true,
            "ticks": "",
            "zerolinecolor": "white"
           }
          },
          "shapedefaults": {
           "line": {
            "color": "#2a3f5f"
           }
          },
          "ternary": {
           "aaxis": {
            "gridcolor": "white",
            "linecolor": "white",
            "ticks": ""
           },
           "baxis": {
            "gridcolor": "white",
            "linecolor": "white",
            "ticks": ""
           },
           "bgcolor": "#E5ECF6",
           "caxis": {
            "gridcolor": "white",
            "linecolor": "white",
            "ticks": ""
           }
          },
          "title": {
           "x": 0.05
          },
          "xaxis": {
           "automargin": true,
           "gridcolor": "white",
           "linecolor": "white",
           "ticks": "",
           "title": {
            "standoff": 15
           },
           "zerolinecolor": "white",
           "zerolinewidth": 2
          },
          "yaxis": {
           "automargin": true,
           "gridcolor": "white",
           "linecolor": "white",
           "ticks": "",
           "title": {
            "standoff": 15
           },
           "zerolinecolor": "white",
           "zerolinewidth": 2
          }
         }
        },
        "title": {
         "text": "EUR_CAD_MA_8_16"
        },
        "width": 1000,
        "xaxis": {
         "linecolor": "#3a4a54",
         "linewidth": 1,
         "showgrid": false,
         "zeroline": false
        },
        "yaxis": {
         "linecolor": "#3a4a54",
         "linewidth": 1,
         "showgrid": false,
         "zeroline": false
        }
       }
      }
     },
     "metadata": {},
     "output_type": "display_data"
    },
    {
     "data": {
      "application/vnd.plotly.v1+json": {
       "config": {
        "plotlyServerURL": "https://plot.ly"
       },
       "data": [
        {
         "line": {
          "color": "#3d825f",
          "shape": "spline",
          "width": 2
         },
         "mode": "lines",
         "name": "NZD_JPY_MA_8_16",
         "type": "scatter",
         "x": [
          "2022-06-07T11:00:00+00:00",
          "2022-06-07T18:00:00+00:00",
          "2022-06-08T09:00:00+00:00",
          "2022-06-08T10:00:00+00:00",
          "2022-06-09T01:00:00+00:00",
          "2022-06-10T08:00:00+00:00",
          "2022-06-10T13:00:00+00:00",
          "2022-06-13T04:00:00+00:00",
          "2022-06-13T07:00:00+00:00",
          "2022-06-14T03:00:00+00:00",
          "2022-06-14T12:00:00+00:00",
          "2022-06-14T22:00:00+00:00",
          "2022-06-15T08:00:00+00:00",
          "2022-06-15T17:00:00+00:00",
          "2022-06-16T09:00:00+00:00",
          "2022-06-16T19:00:00+00:00",
          "2022-06-17T18:00:00+00:00",
          "2022-06-19T22:00:00+00:00",
          "2022-06-20T20:00:00+00:00",
          "2022-06-21T03:00:00+00:00",
          "2022-06-22T01:00:00+00:00",
          "2022-06-22T17:00:00+00:00",
          "2022-06-23T02:00:00+00:00",
          "2022-06-24T00:00:00+00:00",
          "2022-06-27T02:00:00+00:00",
          "2022-06-27T10:00:00+00:00",
          "2022-06-27T23:00:00+00:00",
          "2022-06-28T09:00:00+00:00",
          "2022-06-28T17:00:00+00:00",
          "2022-06-29T16:00:00+00:00",
          "2022-06-29T22:00:00+00:00",
          "2022-07-01T18:00:00+00:00",
          "2022-07-04T19:00:00+00:00",
          "2022-07-05T01:00:00+00:00",
          "2022-07-05T09:00:00+00:00",
          "2022-07-05T22:00:00+00:00",
          "2022-07-06T05:00:00+00:00",
          "2022-07-06T13:00:00+00:00",
          "2022-07-06T14:00:00+00:00",
          "2022-07-06T22:00:00+00:00",
          "2022-07-07T17:00:00+00:00",
          "2022-07-07T21:00:00+00:00",
          "2022-07-08T03:00:00+00:00",
          "2022-07-08T15:00:00+00:00",
          "2022-07-11T11:00:00+00:00",
          "2022-07-12T18:00:00+00:00",
          "2022-07-14T00:00:00+00:00",
          "2022-07-14T03:00:00+00:00",
          "2022-07-14T17:00:00+00:00",
          "2022-07-14T18:00:00+00:00",
          "2022-07-15T10:00:00+00:00",
          "2022-07-15T14:00:00+00:00",
          "2022-07-18T08:00:00+00:00",
          "2022-07-19T06:00:00+00:00",
          "2022-07-20T14:00:00+00:00",
          "2022-07-21T04:00:00+00:00",
          "2022-07-21T08:00:00+00:00",
          "2022-07-22T12:00:00+00:00",
          "2022-07-22T14:00:00+00:00",
          "2022-07-25T09:00:00+00:00",
          "2022-07-26T00:00:00+00:00",
          "2022-07-26T23:00:00+00:00",
          "2022-07-27T09:00:00+00:00",
          "2022-07-27T20:00:00+00:00",
          "2022-07-28T03:00:00+00:00",
          "2022-07-29T02:00:00+00:00",
          "2022-07-29T05:00:00+00:00",
          "2022-07-31T23:00:00+00:00",
          "2022-08-01T02:00:00+00:00",
          "2022-08-01T12:00:00+00:00",
          "2022-08-01T19:00:00+00:00",
          "2022-08-02T16:00:00+00:00",
          "2022-08-03T04:00:00+00:00",
          "2022-08-03T07:00:00+00:00",
          "2022-08-04T15:00:00+00:00",
          "2022-08-05T07:00:00+00:00",
          "2022-08-09T05:00:00+00:00",
          "2022-08-09T10:00:00+00:00",
          "2022-08-10T19:00:00+00:00",
          "2022-08-10T21:00:00+00:00",
          "2022-08-11T05:00:00+00:00",
          "2022-08-11T08:00:00+00:00",
          "2022-08-15T02:00:00+00:00",
          "2022-08-16T02:00:00+00:00",
          "2022-08-16T04:00:00+00:00",
          "2022-08-16T08:00:00+00:00",
          "2022-08-17T02:00:00+00:00",
          "2022-08-17T06:00:00+00:00",
          "2022-08-17T12:00:00+00:00",
          "2022-08-18T10:00:00+00:00",
          "2022-08-19T05:00:00+00:00",
          "2022-08-19T06:00:00+00:00",
          "2022-08-19T14:00:00+00:00",
          "2022-08-22T03:00:00+00:00",
          "2022-08-22T13:00:00+00:00",
          "2022-08-23T01:00:00+00:00",
          "2022-08-23T09:00:00+00:00",
          "2022-08-23T14:00:00+00:00",
          "2022-08-24T01:00:00+00:00",
          "2022-08-24T17:00:00+00:00",
          "2022-08-25T17:00:00+00:00",
          "2022-08-26T10:00:00+00:00",
          "2022-08-26T17:00:00+00:00",
          "2022-08-29T05:00:00+00:00",
          "2022-08-30T03:00:00+00:00",
          "2022-08-30T10:00:00+00:00",
          "2022-08-30T17:00:00+00:00",
          "2022-08-31T19:00:00+00:00",
          "2022-09-01T06:00:00+00:00",
          "2022-09-01T17:00:00+00:00",
          "2022-09-02T06:00:00+00:00",
          "2022-09-02T10:00:00+00:00",
          "2022-09-04T23:00:00+00:00",
          "2022-09-05T10:00:00+00:00",
          "2022-09-07T00:00:00+00:00",
          "2022-09-07T05:00:00+00:00",
          "2022-09-08T05:00:00+00:00",
          "2022-09-08T17:00:00+00:00",
          "2022-09-09T09:00:00+00:00",
          "2022-09-11T22:00:00+00:00",
          "2022-09-12T19:00:00+00:00",
          "2022-09-13T00:00:00+00:00",
          "2022-09-13T01:00:00+00:00",
          "2022-09-14T20:00:00+00:00",
          "2022-09-15T14:00:00+00:00",
          "2022-09-16T08:00:00+00:00",
          "2022-09-16T11:00:00+00:00",
          "2022-09-16T20:00:00+00:00",
          "2022-09-19T06:00:00+00:00",
          "2022-09-19T23:00:00+00:00",
          "2022-09-20T04:00:00+00:00",
          "2022-09-21T04:00:00+00:00",
          "2022-09-21T08:00:00+00:00",
          "2022-09-21T15:00:00+00:00",
          "2022-09-21T20:00:00+00:00",
          "2022-09-22T23:00:00+00:00",
          "2022-09-23T04:00:00+00:00",
          "2022-09-26T08:00:00+00:00",
          "2022-09-26T16:00:00+00:00",
          "2022-09-27T04:00:00+00:00",
          "2022-09-27T15:00:00+00:00",
          "2022-09-28T13:00:00+00:00",
          "2022-09-29T05:00:00+00:00",
          "2022-09-29T15:00:00+00:00",
          "2022-09-30T09:00:00+00:00",
          "2022-10-03T05:00:00+00:00",
          "2022-10-04T05:00:00+00:00",
          "2022-10-04T06:00:00+00:00",
          "2022-10-04T15:00:00+00:00",
          "2022-10-05T01:00:00+00:00",
          "2022-10-05T11:00:00+00:00",
          "2022-10-05T20:00:00+00:00",
          "2022-10-06T10:00:00+00:00",
          "2022-10-07T04:00:00+00:00",
          "2022-10-07T06:00:00+00:00",
          "2022-10-10T06:00:00+00:00",
          "2022-10-10T07:00:00+00:00",
          "2022-10-11T11:00:00+00:00",
          "2022-10-12T00:00:00+00:00",
          "2022-10-12T07:00:00+00:00",
          "2022-10-13T12:00:00+00:00",
          "2022-10-13T18:00:00+00:00",
          "2022-10-14T13:00:00+00:00",
          "2022-10-17T03:00:00+00:00",
          "2022-10-18T20:00:00+00:00",
          "2022-10-18T22:00:00+00:00",
          "2022-10-19T11:00:00+00:00",
          "2022-10-19T21:00:00+00:00",
          "2022-10-19T22:00:00+00:00",
          "2022-10-20T10:00:00+00:00",
          "2022-10-20T23:00:00+00:00",
          "2022-10-21T10:00:00+00:00",
          "2022-10-21T18:00:00+00:00",
          "2022-10-24T00:00:00+00:00",
          "2022-10-24T09:00:00+00:00",
          "2022-10-25T00:00:00+00:00",
          "2022-10-25T10:00:00+00:00",
          "2022-10-25T17:00:00+00:00",
          "2022-10-26T04:00:00+00:00",
          "2022-10-26T06:00:00+00:00",
          "2022-10-26T19:00:00+00:00",
          "2022-10-26T21:00:00+00:00",
          "2022-10-26T22:00:00+00:00",
          "2022-10-27T17:00:00+00:00",
          "2022-10-28T16:00:00+00:00",
          "2022-10-28T17:00:00+00:00",
          "2022-11-01T13:00:00+00:00",
          "2022-11-02T09:00:00+00:00",
          "2022-11-02T15:00:00+00:00",
          "2022-11-03T20:00:00+00:00",
          "2022-11-07T04:00:00+00:00",
          "2022-11-07T09:00:00+00:00",
          "2022-11-08T07:00:00+00:00",
          "2022-11-08T17:00:00+00:00",
          "2022-11-09T00:00:00+00:00",
          "2022-11-11T04:00:00+00:00",
          "2022-11-11T10:00:00+00:00",
          "2022-11-11T21:00:00+00:00",
          "2022-11-14T08:00:00+00:00",
          "2022-11-14T09:00:00+00:00",
          "2022-11-15T00:00:00+00:00",
          "2022-11-15T05:00:00+00:00",
          "2022-11-15T14:00:00+00:00",
          "2022-11-15T21:00:00+00:00",
          "2022-11-16T01:00:00+00:00",
          "2022-11-16T02:00:00+00:00",
          "2022-11-16T16:00:00+00:00",
          "2022-11-17T19:00:00+00:00",
          "2022-11-18T20:00:00+00:00",
          "2022-11-21T01:00:00+00:00",
          "2022-11-21T02:00:00+00:00",
          "2022-11-21T10:00:00+00:00",
          "2022-11-22T18:00:00+00:00",
          "2022-11-23T01:00:00+00:00",
          "2022-11-23T16:00:00+00:00",
          "2022-11-24T19:00:00+00:00",
          "2022-11-25T08:00:00+00:00",
          "2022-11-25T09:00:00+00:00",
          "2022-11-27T22:00:00+00:00",
          "2022-11-28T16:00:00+00:00",
          "2022-11-28T21:00:00+00:00",
          "2022-11-29T06:00:00+00:00",
          "2022-11-29T17:00:00+00:00",
          "2022-11-30T02:00:00+00:00",
          "2022-12-01T02:00:00+00:00",
          "2022-12-01T14:00:00+00:00",
          "2022-12-01T21:00:00+00:00",
          "2022-12-02T18:00:00+00:00",
          "2022-12-05T17:00:00+00:00",
          "2022-12-06T03:00:00+00:00",
          "2022-12-06T12:00:00+00:00",
          "2022-12-06T21:00:00+00:00",
          "2022-12-07T19:00:00+00:00",
          "2022-12-08T06:00:00+00:00",
          "2022-12-08T16:00:00+00:00",
          "2022-12-08T19:00:00+00:00",
          "2022-12-09T07:00:00+00:00",
          "2022-12-09T16:00:00+00:00",
          "2022-12-12T04:00:00+00:00",
          "2022-12-12T09:00:00+00:00",
          "2022-12-13T14:00:00+00:00",
          "2022-12-14T21:00:00+00:00",
          "2022-12-15T09:00:00+00:00",
          "2022-12-15T18:00:00+00:00",
          "2022-12-16T04:00:00+00:00",
          "2022-12-19T14:00:00+00:00",
          "2022-12-20T03:00:00+00:00",
          "2022-12-21T02:00:00+00:00",
          "2022-12-21T07:00:00+00:00",
          "2022-12-21T18:00:00+00:00",
          "2022-12-22T04:00:00+00:00",
          "2022-12-22T08:00:00+00:00",
          "2022-12-22T13:00:00+00:00",
          "2022-12-23T03:00:00+00:00",
          "2022-12-27T18:00:00+00:00",
          "2022-12-28T02:00:00+00:00",
          "2022-12-29T02:00:00+00:00",
          "2022-12-29T21:00:00+00:00",
          "2022-12-30T00:00:00+00:00",
          "2023-01-03T20:00:00+00:00",
          "2023-01-05T03:00:00+00:00",
          "2023-01-05T11:00:00+00:00",
          "2023-01-05T19:00:00+00:00",
          "2023-01-06T03:00:00+00:00",
          "2023-01-09T18:00:00+00:00",
          "2023-01-10T08:00:00+00:00",
          "2023-01-10T18:00:00+00:00",
          "2023-01-10T20:00:00+00:00",
          "2023-01-11T13:00:00+00:00",
          "2023-01-16T01:00:00+00:00",
          "2023-01-17T00:00:00+00:00",
          "2023-01-17T02:00:00+00:00",
          "2023-01-17T16:00:00+00:00",
          "2023-01-17T18:00:00+00:00",
          "2023-01-18T14:00:00+00:00",
          "2023-01-19T19:00:00+00:00",
          "2023-01-24T06:00:00+00:00",
          "2023-01-24T19:00:00+00:00",
          "2023-01-25T02:00:00+00:00",
          "2023-01-26T03:00:00+00:00",
          "2023-01-26T04:00:00+00:00"
         ],
         "y": [
          -55.80000000000069,
          -34.70000000000084,
          -54.90000000000066,
          -52.600000000001046,
          -9.300000000001774,
          -51.600000000001955,
          -45.400000000002194,
          -96.8000000000032,
          -33.20000000000363,
          -69.00000000000404,
          -91.70000000000442,
          -123.10000000000514,
          -130.10000000000588,
          -199.9000000000052,
          -275.70000000000476,
          -166.30000000000535,
          -195.600000000006,
          -185.4000000000056,
          -196.2000000000046,
          -191.5000000000049,
          -192.5000000000054,
          -289.1000000000048,
          -311.20000000000374,
          -301.30000000000337,
          -332.3000000000036,
          -348.5000000000042,
          -379.0000000000049,
          -416.2000000000049,
          -390.60000000000485,
          -377.2000000000048,
          -276.2000000000043,
          -256.6000000000045,
          -320.00000000000455,
          -442.00000000000443,
          -452.50000000000483,
          -506.0000000000045,
          -531.200000000004,
          -545.0000000000045,
          -574.5000000000048,
          -532.9000000000037,
          -530.6000000000026,
          -564.6000000000015,
          -635.1000000000013,
          -653.8000000000011,
          -620.4999999999998,
          -581.7999999999997,
          -617.9000000000001,
          -582.9999999999998,
          -603.6000000000001,
          -599.4000000000015,
          -619.2000000000022,
          -629.5000000000016,
          -620.2000000000012,
          -511.60000000000133,
          -505.80000000000064,
          -537.0999999999995,
          -513.5999999999995,
          -535.0000000000007,
          -536.4000000000017,
          -546.7000000000025,
          -555.4000000000028,
          -576.2000000000027,
          -608.200000000002,
          -674.6000000000007,
          -643.9999999999995,
          -705.6999999999986,
          -679.7999999999986,
          -709.1999999999982,
          -729.5999999999976,
          -755.1999999999977,
          -733.9999999999973,
          -750.7999999999965,
          -785.8999999999965,
          -730.7999999999963,
          -736.2999999999956,
          -655.5999999999954,
          -661.3999999999946,
          -630.9999999999944,
          -623.7999999999956,
          -606.6999999999964,
          -602.5999999999967,
          -552.9999999999973,
          -477.79999999999774,
          -487.2999999999976,
          -491.59999999999684,
          -456.599999999996,
          -460.09999999999565,
          -492.79999999999546,
          -495.7999999999956,
          -496.3999999999956,
          -507.99999999999557,
          -542.5999999999959,
          -583.1999999999965,
          -611.3999999999976,
          -615.9999999999982,
          -612.1999999999985,
          -607.1999999999987,
          -628.199999999998,
          -637.5999999999974,
          -618.399999999998,
          -626.7999999999984,
          -693.7999999999986,
          -734.7999999999997,
          -697.2999999999997,
          -725.399999999999,
          -758.3999999999987,
          -745.9999999999992,
          -743.8000000000001,
          -744.7,
          -736.5999999999997,
          -779.3999999999994,
          -781.9999999999991,
          -803.399999999999,
          -765.7999999999985,
          -820.1999999999982,
          -775.0999999999989,
          -790.8,
          -805.8000000000005,
          -818.8000000000001,
          -778.399999999999,
          -773.8999999999987,
          -790.1999999999985,
          -644.9999999999973,
          -657.5999999999963,
          -605.6999999999957,
          -606.8999999999958,
          -640.3999999999966,
          -670.7999999999968,
          -676.199999999997,
          -705.899999999998,
          -676.1999999999983,
          -696.5999999999976,
          -716.3999999999969,
          -766.3999999999969,
          -653.7999999999979,
          -682.599999999999,
          -645.9,
          -745.200000000001,
          -803.4000000000017,
          -840.2000000000025,
          -848.6000000000029,
          -827.300000000002,
          -866.2000000000016,
          -871.8000000000013,
          -828.4000000000016,
          -747.2000000000019,
          -789.9000000000011,
          -823.4000000000005,
          -857.5,
          -957.2,
          -1040.0000000000005,
          -1082.8000000000002,
          -1017,
          -1036.2000000000007,
          -990.5000000000014,
          -996.4000000000011,
          -1044.300000000001,
          -1056.700000000002,
          -1075.7000000000032,
          -1089.8000000000038,
          -1233.8000000000036,
          -1251.2000000000028,
          -1261.3000000000027,
          -1074.8000000000031,
          -1085.8000000000031,
          -1103.0000000000027,
          -1122.700000000003,
          -1134.200000000004,
          -1188.8000000000045,
          -1218.400000000005,
          -1257.900000000006,
          -1340.9000000000074,
          -1437.4000000000078,
          -1502.400000000007,
          -1509.6000000000058,
          -1556.7000000000048,
          -1613.100000000004,
          -1609.200000000004,
          -1625.4000000000046,
          -1630.3000000000052,
          -1631.9000000000058,
          -1647.400000000006,
          -1677.5000000000061,
          -1656.4000000000062,
          -1652.9000000000065,
          -1544.4000000000071,
          -1531.4000000000076,
          -1568.6000000000076,
          -1502.700000000007,
          -1384.800000000007,
          -1389.4000000000076,
          -1401.6000000000076,
          -1436.4000000000076,
          -1468.8000000000088,
          -1332.4000000000099,
          -1432.2000000000103,
          -1493.7000000000098,
          -1457.7000000000098,
          -1464.4000000000106,
          -1456.4000000000108,
          -1497.3000000000113,
          -1542.0000000000116,
          -1575.6000000000115,
          -1565.2000000000116,
          -1589.800000000011,
          -1625.00000000001,
          -1632.8000000000088,
          -1578.4000000000078,
          -1552.4000000000074,
          -1559.4000000000067,
          -1624.5000000000064,
          -1609.200000000007,
          -1646.8000000000075,
          -1677.8000000000077,
          -1668.6000000000079,
          -1682.000000000008,
          -1701.5000000000086,
          -1731.5000000000098,
          -1673.400000000011,
          -1710.000000000011,
          -1750.200000000011,
          -1768.8000000000116,
          -1798.0000000000118,
          -1771.7000000000112,
          -1816.2000000000105,
          -1879.0000000000105,
          -1871.400000000011,
          -1856.400000000012,
          -1892.5000000000123,
          -1921.7000000000126,
          -1941.800000000012,
          -1934.6000000000117,
          -1971.8000000000118,
          -1975.6000000000115,
          -1993.0000000000123,
          -1994.7000000000132,
          -2040.8000000000131,
          -2043.0000000000123,
          -2056.100000000012,
          -2042.8000000000127,
          -2007.4000000000128,
          -2044.0000000000127,
          -2068.8000000000134,
          -2083.200000000014,
          -2069.200000000014,
          -2333.9000000000146,
          -2239.8000000000156,
          -2281.2000000000157,
          -2294.800000000015,
          -2287.4000000000156,
          -2295.8000000000156,
          -2351.1000000000154,
          -2395.2000000000157,
          -2337.2000000000157,
          -2365.000000000015,
          -2316.4000000000146,
          -2299.000000000014,
          -2354.0000000000136,
          -2146.2000000000135,
          -2031.4000000000124,
          -2073.600000000012,
          -2104.700000000013,
          -2160.4000000000133,
          -2109.600000000012,
          -2107.200000000012,
          -2104.400000000013,
          -2115.1000000000126,
          -2107.9000000000124,
          -1865.8000000000131,
          -1845.0000000000132,
          -1873.3000000000134,
          -1877.7000000000144,
          -1891.800000000015,
          -1800.0000000000143,
          -1677.1000000000145,
          -1416.800000000015,
          -1405.3000000000154,
          -1418.500000000016,
          -1354.8000000000159,
          -1355.2000000000164,
          -1373.7000000000166
         ]
        }
       ],
       "layout": {
        "font": {
         "color": "#e1e1e1",
         "size": 10
        },
        "height": 400,
        "margin": {
         "b": 15,
         "l": 15,
         "t": 10
        },
        "paper_bgcolor": "#1e1e1e",
        "plot_bgcolor": "#1e1e1e",
        "template": {
         "data": {
          "bar": [
           {
            "error_x": {
             "color": "#2a3f5f"
            },
            "error_y": {
             "color": "#2a3f5f"
            },
            "marker": {
             "line": {
              "color": "#E5ECF6",
              "width": 0.5
             },
             "pattern": {
              "fillmode": "overlay",
              "size": 10,
              "solidity": 0.2
             }
            },
            "type": "bar"
           }
          ],
          "barpolar": [
           {
            "marker": {
             "line": {
              "color": "#E5ECF6",
              "width": 0.5
             },
             "pattern": {
              "fillmode": "overlay",
              "size": 10,
              "solidity": 0.2
             }
            },
            "type": "barpolar"
           }
          ],
          "carpet": [
           {
            "aaxis": {
             "endlinecolor": "#2a3f5f",
             "gridcolor": "white",
             "linecolor": "white",
             "minorgridcolor": "white",
             "startlinecolor": "#2a3f5f"
            },
            "baxis": {
             "endlinecolor": "#2a3f5f",
             "gridcolor": "white",
             "linecolor": "white",
             "minorgridcolor": "white",
             "startlinecolor": "#2a3f5f"
            },
            "type": "carpet"
           }
          ],
          "choropleth": [
           {
            "colorbar": {
             "outlinewidth": 0,
             "ticks": ""
            },
            "type": "choropleth"
           }
          ],
          "contour": [
           {
            "colorbar": {
             "outlinewidth": 0,
             "ticks": ""
            },
            "colorscale": [
             [
              0,
              "#0d0887"
             ],
             [
              0.1111111111111111,
              "#46039f"
             ],
             [
              0.2222222222222222,
              "#7201a8"
             ],
             [
              0.3333333333333333,
              "#9c179e"
             ],
             [
              0.4444444444444444,
              "#bd3786"
             ],
             [
              0.5555555555555556,
              "#d8576b"
             ],
             [
              0.6666666666666666,
              "#ed7953"
             ],
             [
              0.7777777777777778,
              "#fb9f3a"
             ],
             [
              0.8888888888888888,
              "#fdca26"
             ],
             [
              1,
              "#f0f921"
             ]
            ],
            "type": "contour"
           }
          ],
          "contourcarpet": [
           {
            "colorbar": {
             "outlinewidth": 0,
             "ticks": ""
            },
            "type": "contourcarpet"
           }
          ],
          "heatmap": [
           {
            "colorbar": {
             "outlinewidth": 0,
             "ticks": ""
            },
            "colorscale": [
             [
              0,
              "#0d0887"
             ],
             [
              0.1111111111111111,
              "#46039f"
             ],
             [
              0.2222222222222222,
              "#7201a8"
             ],
             [
              0.3333333333333333,
              "#9c179e"
             ],
             [
              0.4444444444444444,
              "#bd3786"
             ],
             [
              0.5555555555555556,
              "#d8576b"
             ],
             [
              0.6666666666666666,
              "#ed7953"
             ],
             [
              0.7777777777777778,
              "#fb9f3a"
             ],
             [
              0.8888888888888888,
              "#fdca26"
             ],
             [
              1,
              "#f0f921"
             ]
            ],
            "type": "heatmap"
           }
          ],
          "heatmapgl": [
           {
            "colorbar": {
             "outlinewidth": 0,
             "ticks": ""
            },
            "colorscale": [
             [
              0,
              "#0d0887"
             ],
             [
              0.1111111111111111,
              "#46039f"
             ],
             [
              0.2222222222222222,
              "#7201a8"
             ],
             [
              0.3333333333333333,
              "#9c179e"
             ],
             [
              0.4444444444444444,
              "#bd3786"
             ],
             [
              0.5555555555555556,
              "#d8576b"
             ],
             [
              0.6666666666666666,
              "#ed7953"
             ],
             [
              0.7777777777777778,
              "#fb9f3a"
             ],
             [
              0.8888888888888888,
              "#fdca26"
             ],
             [
              1,
              "#f0f921"
             ]
            ],
            "type": "heatmapgl"
           }
          ],
          "histogram": [
           {
            "marker": {
             "pattern": {
              "fillmode": "overlay",
              "size": 10,
              "solidity": 0.2
             }
            },
            "type": "histogram"
           }
          ],
          "histogram2d": [
           {
            "colorbar": {
             "outlinewidth": 0,
             "ticks": ""
            },
            "colorscale": [
             [
              0,
              "#0d0887"
             ],
             [
              0.1111111111111111,
              "#46039f"
             ],
             [
              0.2222222222222222,
              "#7201a8"
             ],
             [
              0.3333333333333333,
              "#9c179e"
             ],
             [
              0.4444444444444444,
              "#bd3786"
             ],
             [
              0.5555555555555556,
              "#d8576b"
             ],
             [
              0.6666666666666666,
              "#ed7953"
             ],
             [
              0.7777777777777778,
              "#fb9f3a"
             ],
             [
              0.8888888888888888,
              "#fdca26"
             ],
             [
              1,
              "#f0f921"
             ]
            ],
            "type": "histogram2d"
           }
          ],
          "histogram2dcontour": [
           {
            "colorbar": {
             "outlinewidth": 0,
             "ticks": ""
            },
            "colorscale": [
             [
              0,
              "#0d0887"
             ],
             [
              0.1111111111111111,
              "#46039f"
             ],
             [
              0.2222222222222222,
              "#7201a8"
             ],
             [
              0.3333333333333333,
              "#9c179e"
             ],
             [
              0.4444444444444444,
              "#bd3786"
             ],
             [
              0.5555555555555556,
              "#d8576b"
             ],
             [
              0.6666666666666666,
              "#ed7953"
             ],
             [
              0.7777777777777778,
              "#fb9f3a"
             ],
             [
              0.8888888888888888,
              "#fdca26"
             ],
             [
              1,
              "#f0f921"
             ]
            ],
            "type": "histogram2dcontour"
           }
          ],
          "mesh3d": [
           {
            "colorbar": {
             "outlinewidth": 0,
             "ticks": ""
            },
            "type": "mesh3d"
           }
          ],
          "parcoords": [
           {
            "line": {
             "colorbar": {
              "outlinewidth": 0,
              "ticks": ""
             }
            },
            "type": "parcoords"
           }
          ],
          "pie": [
           {
            "automargin": true,
            "type": "pie"
           }
          ],
          "scatter": [
           {
            "fillpattern": {
             "fillmode": "overlay",
             "size": 10,
             "solidity": 0.2
            },
            "type": "scatter"
           }
          ],
          "scatter3d": [
           {
            "line": {
             "colorbar": {
              "outlinewidth": 0,
              "ticks": ""
             }
            },
            "marker": {
             "colorbar": {
              "outlinewidth": 0,
              "ticks": ""
             }
            },
            "type": "scatter3d"
           }
          ],
          "scattercarpet": [
           {
            "marker": {
             "colorbar": {
              "outlinewidth": 0,
              "ticks": ""
             }
            },
            "type": "scattercarpet"
           }
          ],
          "scattergeo": [
           {
            "marker": {
             "colorbar": {
              "outlinewidth": 0,
              "ticks": ""
             }
            },
            "type": "scattergeo"
           }
          ],
          "scattergl": [
           {
            "marker": {
             "colorbar": {
              "outlinewidth": 0,
              "ticks": ""
             }
            },
            "type": "scattergl"
           }
          ],
          "scattermapbox": [
           {
            "marker": {
             "colorbar": {
              "outlinewidth": 0,
              "ticks": ""
             }
            },
            "type": "scattermapbox"
           }
          ],
          "scatterpolar": [
           {
            "marker": {
             "colorbar": {
              "outlinewidth": 0,
              "ticks": ""
             }
            },
            "type": "scatterpolar"
           }
          ],
          "scatterpolargl": [
           {
            "marker": {
             "colorbar": {
              "outlinewidth": 0,
              "ticks": ""
             }
            },
            "type": "scatterpolargl"
           }
          ],
          "scatterternary": [
           {
            "marker": {
             "colorbar": {
              "outlinewidth": 0,
              "ticks": ""
             }
            },
            "type": "scatterternary"
           }
          ],
          "surface": [
           {
            "colorbar": {
             "outlinewidth": 0,
             "ticks": ""
            },
            "colorscale": [
             [
              0,
              "#0d0887"
             ],
             [
              0.1111111111111111,
              "#46039f"
             ],
             [
              0.2222222222222222,
              "#7201a8"
             ],
             [
              0.3333333333333333,
              "#9c179e"
             ],
             [
              0.4444444444444444,
              "#bd3786"
             ],
             [
              0.5555555555555556,
              "#d8576b"
             ],
             [
              0.6666666666666666,
              "#ed7953"
             ],
             [
              0.7777777777777778,
              "#fb9f3a"
             ],
             [
              0.8888888888888888,
              "#fdca26"
             ],
             [
              1,
              "#f0f921"
             ]
            ],
            "type": "surface"
           }
          ],
          "table": [
           {
            "cells": {
             "fill": {
              "color": "#EBF0F8"
             },
             "line": {
              "color": "white"
             }
            },
            "header": {
             "fill": {
              "color": "#C8D4E3"
             },
             "line": {
              "color": "white"
             }
            },
            "type": "table"
           }
          ]
         },
         "layout": {
          "annotationdefaults": {
           "arrowcolor": "#2a3f5f",
           "arrowhead": 0,
           "arrowwidth": 1
          },
          "autotypenumbers": "strict",
          "coloraxis": {
           "colorbar": {
            "outlinewidth": 0,
            "ticks": ""
           }
          },
          "colorscale": {
           "diverging": [
            [
             0,
             "#8e0152"
            ],
            [
             0.1,
             "#c51b7d"
            ],
            [
             0.2,
             "#de77ae"
            ],
            [
             0.3,
             "#f1b6da"
            ],
            [
             0.4,
             "#fde0ef"
            ],
            [
             0.5,
             "#f7f7f7"
            ],
            [
             0.6,
             "#e6f5d0"
            ],
            [
             0.7,
             "#b8e186"
            ],
            [
             0.8,
             "#7fbc41"
            ],
            [
             0.9,
             "#4d9221"
            ],
            [
             1,
             "#276419"
            ]
           ],
           "sequential": [
            [
             0,
             "#0d0887"
            ],
            [
             0.1111111111111111,
             "#46039f"
            ],
            [
             0.2222222222222222,
             "#7201a8"
            ],
            [
             0.3333333333333333,
             "#9c179e"
            ],
            [
             0.4444444444444444,
             "#bd3786"
            ],
            [
             0.5555555555555556,
             "#d8576b"
            ],
            [
             0.6666666666666666,
             "#ed7953"
            ],
            [
             0.7777777777777778,
             "#fb9f3a"
            ],
            [
             0.8888888888888888,
             "#fdca26"
            ],
            [
             1,
             "#f0f921"
            ]
           ],
           "sequentialminus": [
            [
             0,
             "#0d0887"
            ],
            [
             0.1111111111111111,
             "#46039f"
            ],
            [
             0.2222222222222222,
             "#7201a8"
            ],
            [
             0.3333333333333333,
             "#9c179e"
            ],
            [
             0.4444444444444444,
             "#bd3786"
            ],
            [
             0.5555555555555556,
             "#d8576b"
            ],
            [
             0.6666666666666666,
             "#ed7953"
            ],
            [
             0.7777777777777778,
             "#fb9f3a"
            ],
            [
             0.8888888888888888,
             "#fdca26"
            ],
            [
             1,
             "#f0f921"
            ]
           ]
          },
          "colorway": [
           "#636efa",
           "#EF553B",
           "#00cc96",
           "#ab63fa",
           "#FFA15A",
           "#19d3f3",
           "#FF6692",
           "#B6E880",
           "#FF97FF",
           "#FECB52"
          ],
          "font": {
           "color": "#2a3f5f"
          },
          "geo": {
           "bgcolor": "white",
           "lakecolor": "white",
           "landcolor": "#E5ECF6",
           "showlakes": true,
           "showland": true,
           "subunitcolor": "white"
          },
          "hoverlabel": {
           "align": "left"
          },
          "hovermode": "closest",
          "mapbox": {
           "style": "light"
          },
          "paper_bgcolor": "white",
          "plot_bgcolor": "#E5ECF6",
          "polar": {
           "angularaxis": {
            "gridcolor": "white",
            "linecolor": "white",
            "ticks": ""
           },
           "bgcolor": "#E5ECF6",
           "radialaxis": {
            "gridcolor": "white",
            "linecolor": "white",
            "ticks": ""
           }
          },
          "scene": {
           "xaxis": {
            "backgroundcolor": "#E5ECF6",
            "gridcolor": "white",
            "gridwidth": 2,
            "linecolor": "white",
            "showbackground": true,
            "ticks": "",
            "zerolinecolor": "white"
           },
           "yaxis": {
            "backgroundcolor": "#E5ECF6",
            "gridcolor": "white",
            "gridwidth": 2,
            "linecolor": "white",
            "showbackground": true,
            "ticks": "",
            "zerolinecolor": "white"
           },
           "zaxis": {
            "backgroundcolor": "#E5ECF6",
            "gridcolor": "white",
            "gridwidth": 2,
            "linecolor": "white",
            "showbackground": true,
            "ticks": "",
            "zerolinecolor": "white"
           }
          },
          "shapedefaults": {
           "line": {
            "color": "#2a3f5f"
           }
          },
          "ternary": {
           "aaxis": {
            "gridcolor": "white",
            "linecolor": "white",
            "ticks": ""
           },
           "baxis": {
            "gridcolor": "white",
            "linecolor": "white",
            "ticks": ""
           },
           "bgcolor": "#E5ECF6",
           "caxis": {
            "gridcolor": "white",
            "linecolor": "white",
            "ticks": ""
           }
          },
          "title": {
           "x": 0.05
          },
          "xaxis": {
           "automargin": true,
           "gridcolor": "white",
           "linecolor": "white",
           "ticks": "",
           "title": {
            "standoff": 15
           },
           "zerolinecolor": "white",
           "zerolinewidth": 2
          },
          "yaxis": {
           "automargin": true,
           "gridcolor": "white",
           "linecolor": "white",
           "ticks": "",
           "title": {
            "standoff": 15
           },
           "zerolinecolor": "white",
           "zerolinewidth": 2
          }
         }
        },
        "title": {
         "text": "NZD_JPY_MA_8_16"
        },
        "width": 1000,
        "xaxis": {
         "linecolor": "#3a4a54",
         "linewidth": 1,
         "showgrid": false,
         "zeroline": false
        },
        "yaxis": {
         "linecolor": "#3a4a54",
         "linewidth": 1,
         "showgrid": false,
         "zeroline": false
        }
       }
      }
     },
     "metadata": {},
     "output_type": "display_data"
    }
   ],
   "source": [
    "c = 'MA_8_16'\n",
    "for p in our_pairs:\n",
    "    temp_df = all_trades[(all_trades.CROSS==c)&(all_trades.PAIR==p)].copy()\n",
    "    temp_df['CUM_GAIN'] = temp_df.GAIN.cumsum()\n",
    "    plot_line(temp_df, p + \"_\" +c)"
   ]
  },
  {
   "cell_type": "code",
   "execution_count": null,
   "metadata": {},
   "outputs": [],
   "source": [
    "for c in crosses:\n",
    "    temp_"
   ]
  },
  {
   "cell_type": "markdown",
   "metadata": {},
   "source": []
  }
 ],
 "metadata": {
  "kernelspec": {
   "display_name": "venv",
   "language": "python",
   "name": "python3"
  },
  "language_info": {
   "codemirror_mode": {
    "name": "ipython",
    "version": 3
   },
   "file_extension": ".py",
   "mimetype": "text/x-python",
   "name": "python",
   "nbconvert_exporter": "python",
   "pygments_lexer": "ipython3",
   "version": "3.11.1 (tags/v3.11.1:a7a450f, Dec  6 2022, 19:58:39) [MSC v.1934 64 bit (AMD64)]"
  },
  "orig_nbformat": 4,
  "vscode": {
   "interpreter": {
    "hash": "fda0f0fb60ecb5fc85efacd84e1859512479306cf791e683553414edd7237eac"
   }
  }
 },
 "nbformat": 4,
 "nbformat_minor": 2
}
